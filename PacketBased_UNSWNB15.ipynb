{
  "nbformat": 4,
  "nbformat_minor": 0,
  "metadata": {
    "colab": {
      "name": "PacketBased_UNSWNB15.ipynb",
      "provenance": [],
      "collapsed_sections": [
        "a6kzdRYts9pR",
        "0MubnN3ig1hD",
        "nEaQW_mOg1hE",
        "KQT-DmoRqvBI",
        "nBSy6K0Y3V4l",
        "pcS4DUx4ZzX2",
        "KzmxuWO4oPux"
      ]
    },
    "kernelspec": {
      "name": "python3",
      "display_name": "Python 3"
    },
    "language_info": {
      "name": "python"
    }
  },
  "cells": [
    {
      "cell_type": "markdown",
      "source": [
        "# **PACKET BASED INTRUSION DETECTION ON UNSW-NB15 DATASET**"
      ],
      "metadata": {
        "id": "L3zbay1Lh_bx"
      }
    },
    {
      "cell_type": "markdown",
      "source": [
        "## **Environment Setup**"
      ],
      "metadata": {
        "id": "rH4FCgA3AT-Q"
      }
    },
    {
      "cell_type": "code",
      "execution_count": 1,
      "metadata": {
        "id": "_xZEtDi_-OTB",
        "colab": {
          "base_uri": "https://localhost:8080/"
        },
        "outputId": "bbb05aef-a852-4cf4-c037-21bf4faeaa73"
      },
      "outputs": [
        {
          "output_type": "stream",
          "name": "stdout",
          "text": [
            "Mounted at /content/drive\n"
          ]
        }
      ],
      "source": [
        "from google.colab import drive\n",
        "drive.mount(\"/content/drive\")"
      ]
    },
    {
      "cell_type": "markdown",
      "source": [
        "**Importing Libraries**"
      ],
      "metadata": {
        "id": "HTKhwdNrto_Q"
      }
    },
    {
      "cell_type": "code",
      "source": [
        "# Ignore warnings\n",
        "import warnings\n",
        "warnings.simplefilter(action='ignore', category=FutureWarning)\n",
        "warnings.filterwarnings('ignore')\n",
        "\n",
        "import numpy as np\n",
        "import matplotlib.pyplot as plt\n",
        "import pandas as pd\n",
        "import seaborn as sns\n",
        "import imblearn\n",
        "import sklearn\n",
        "%matplotlib inline\n",
        "from sklearn import preprocessing\n",
        "from sklearn.preprocessing import StandardScaler"
      ],
      "metadata": {
        "id": "yj8P28Lq-XpO"
      },
      "execution_count": 2,
      "outputs": []
    },
    {
      "cell_type": "markdown",
      "source": [
        "## **Load Data**\n",
        "Datasets with 2 different CSV files, each contains same type of attack data at different times."
      ],
      "metadata": {
        "id": "a6kzdRYts9pR"
      }
    },
    {
      "cell_type": "code",
      "source": [
        "\n",
        "# Load UNSW_NB15 Train dataset\n",
        "UTrain = pd.read_csv('/content/drive/MyDrive/2117493_PROJECT/NIDS/UNSW-NB15 /Datasets/UNSW_NB15_training-set.csv')\n",
        "\n",
        "# Load UNSW_NB15 Test dataset\n",
        "UTest = pd.read_csv('/content/drive/MyDrive/2117493_PROJECT/NIDS/UNSW-NB15 /Datasets/ UNSW_NB15_testing-set.csv')\n",
        "\n",
        "\n",
        "UTrain.shape, UTest.shape"
      ],
      "metadata": {
        "colab": {
          "base_uri": "https://localhost:8080/"
        },
        "outputId": "d9945e38-578b-45d6-bb50-0af272d15521",
        "id": "48rUfwN1s9pS"
      },
      "execution_count": 3,
      "outputs": [
        {
          "output_type": "execute_result",
          "data": {
            "text/plain": [
              "((175341, 45), (82332, 45))"
            ]
          },
          "metadata": {},
          "execution_count": 3
        }
      ]
    },
    {
      "cell_type": "code",
      "source": [
        "combinedData = pd.concat([UTrain, UTest]).drop(['id'],axis=1)"
      ],
      "metadata": {
        "id": "MMle8L_pf8WK"
      },
      "execution_count": 4,
      "outputs": []
    },
    {
      "cell_type": "code",
      "source": [
        "combinedData.tail(3)"
      ],
      "metadata": {
        "colab": {
          "base_uri": "https://localhost:8080/",
          "height": 237
        },
        "outputId": "386855c2-6970-4d12-c3a8-03b764fbefc5",
        "id": "UImIgGIMf8WK"
      },
      "execution_count": 5,
      "outputs": [
        {
          "output_type": "execute_result",
          "data": {
            "text/plain": [
              "            dur proto service state  spkts  dpkts  sbytes  dbytes  \\\n",
              "82329  0.000000   arp       -   INT      1      0      46       0   \n",
              "82330  0.000000   arp       -   INT      1      0      46       0   \n",
              "82331  0.000009   udp       -   INT      2      0     104       0   \n",
              "\n",
              "              rate  sttl  ...  ct_dst_sport_ltm  ct_dst_src_ltm  is_ftp_login  \\\n",
              "82329       0.0000     0  ...                 1               1             0   \n",
              "82330       0.0000     0  ...                 1               1             0   \n",
              "82331  111111.1072   254  ...                 1               1             0   \n",
              "\n",
              "       ct_ftp_cmd  ct_flw_http_mthd  ct_src_ltm  ct_srv_dst  is_sm_ips_ports  \\\n",
              "82329           0                 0           1           1                1   \n",
              "82330           0                 0           1           1                1   \n",
              "82331           0                 0           1           1                0   \n",
              "\n",
              "       attack_cat  label  \n",
              "82329      Normal      0  \n",
              "82330      Normal      0  \n",
              "82331      Normal      0  \n",
              "\n",
              "[3 rows x 44 columns]"
            ],
            "text/html": [
              "\n",
              "  <div id=\"df-41be5fd6-ad6b-4f53-9042-1742c85ee10e\">\n",
              "    <div class=\"colab-df-container\">\n",
              "      <div>\n",
              "<style scoped>\n",
              "    .dataframe tbody tr th:only-of-type {\n",
              "        vertical-align: middle;\n",
              "    }\n",
              "\n",
              "    .dataframe tbody tr th {\n",
              "        vertical-align: top;\n",
              "    }\n",
              "\n",
              "    .dataframe thead th {\n",
              "        text-align: right;\n",
              "    }\n",
              "</style>\n",
              "<table border=\"1\" class=\"dataframe\">\n",
              "  <thead>\n",
              "    <tr style=\"text-align: right;\">\n",
              "      <th></th>\n",
              "      <th>dur</th>\n",
              "      <th>proto</th>\n",
              "      <th>service</th>\n",
              "      <th>state</th>\n",
              "      <th>spkts</th>\n",
              "      <th>dpkts</th>\n",
              "      <th>sbytes</th>\n",
              "      <th>dbytes</th>\n",
              "      <th>rate</th>\n",
              "      <th>sttl</th>\n",
              "      <th>...</th>\n",
              "      <th>ct_dst_sport_ltm</th>\n",
              "      <th>ct_dst_src_ltm</th>\n",
              "      <th>is_ftp_login</th>\n",
              "      <th>ct_ftp_cmd</th>\n",
              "      <th>ct_flw_http_mthd</th>\n",
              "      <th>ct_src_ltm</th>\n",
              "      <th>ct_srv_dst</th>\n",
              "      <th>is_sm_ips_ports</th>\n",
              "      <th>attack_cat</th>\n",
              "      <th>label</th>\n",
              "    </tr>\n",
              "  </thead>\n",
              "  <tbody>\n",
              "    <tr>\n",
              "      <th>82329</th>\n",
              "      <td>0.000000</td>\n",
              "      <td>arp</td>\n",
              "      <td>-</td>\n",
              "      <td>INT</td>\n",
              "      <td>1</td>\n",
              "      <td>0</td>\n",
              "      <td>46</td>\n",
              "      <td>0</td>\n",
              "      <td>0.0000</td>\n",
              "      <td>0</td>\n",
              "      <td>...</td>\n",
              "      <td>1</td>\n",
              "      <td>1</td>\n",
              "      <td>0</td>\n",
              "      <td>0</td>\n",
              "      <td>0</td>\n",
              "      <td>1</td>\n",
              "      <td>1</td>\n",
              "      <td>1</td>\n",
              "      <td>Normal</td>\n",
              "      <td>0</td>\n",
              "    </tr>\n",
              "    <tr>\n",
              "      <th>82330</th>\n",
              "      <td>0.000000</td>\n",
              "      <td>arp</td>\n",
              "      <td>-</td>\n",
              "      <td>INT</td>\n",
              "      <td>1</td>\n",
              "      <td>0</td>\n",
              "      <td>46</td>\n",
              "      <td>0</td>\n",
              "      <td>0.0000</td>\n",
              "      <td>0</td>\n",
              "      <td>...</td>\n",
              "      <td>1</td>\n",
              "      <td>1</td>\n",
              "      <td>0</td>\n",
              "      <td>0</td>\n",
              "      <td>0</td>\n",
              "      <td>1</td>\n",
              "      <td>1</td>\n",
              "      <td>1</td>\n",
              "      <td>Normal</td>\n",
              "      <td>0</td>\n",
              "    </tr>\n",
              "    <tr>\n",
              "      <th>82331</th>\n",
              "      <td>0.000009</td>\n",
              "      <td>udp</td>\n",
              "      <td>-</td>\n",
              "      <td>INT</td>\n",
              "      <td>2</td>\n",
              "      <td>0</td>\n",
              "      <td>104</td>\n",
              "      <td>0</td>\n",
              "      <td>111111.1072</td>\n",
              "      <td>254</td>\n",
              "      <td>...</td>\n",
              "      <td>1</td>\n",
              "      <td>1</td>\n",
              "      <td>0</td>\n",
              "      <td>0</td>\n",
              "      <td>0</td>\n",
              "      <td>1</td>\n",
              "      <td>1</td>\n",
              "      <td>0</td>\n",
              "      <td>Normal</td>\n",
              "      <td>0</td>\n",
              "    </tr>\n",
              "  </tbody>\n",
              "</table>\n",
              "<p>3 rows × 44 columns</p>\n",
              "</div>\n",
              "      <button class=\"colab-df-convert\" onclick=\"convertToInteractive('df-41be5fd6-ad6b-4f53-9042-1742c85ee10e')\"\n",
              "              title=\"Convert this dataframe to an interactive table.\"\n",
              "              style=\"display:none;\">\n",
              "        \n",
              "  <svg xmlns=\"http://www.w3.org/2000/svg\" height=\"24px\"viewBox=\"0 0 24 24\"\n",
              "       width=\"24px\">\n",
              "    <path d=\"M0 0h24v24H0V0z\" fill=\"none\"/>\n",
              "    <path d=\"M18.56 5.44l.94 2.06.94-2.06 2.06-.94-2.06-.94-.94-2.06-.94 2.06-2.06.94zm-11 1L8.5 8.5l.94-2.06 2.06-.94-2.06-.94L8.5 2.5l-.94 2.06-2.06.94zm10 10l.94 2.06.94-2.06 2.06-.94-2.06-.94-.94-2.06-.94 2.06-2.06.94z\"/><path d=\"M17.41 7.96l-1.37-1.37c-.4-.4-.92-.59-1.43-.59-.52 0-1.04.2-1.43.59L10.3 9.45l-7.72 7.72c-.78.78-.78 2.05 0 2.83L4 21.41c.39.39.9.59 1.41.59.51 0 1.02-.2 1.41-.59l7.78-7.78 2.81-2.81c.8-.78.8-2.07 0-2.86zM5.41 20L4 18.59l7.72-7.72 1.47 1.35L5.41 20z\"/>\n",
              "  </svg>\n",
              "      </button>\n",
              "      \n",
              "  <style>\n",
              "    .colab-df-container {\n",
              "      display:flex;\n",
              "      flex-wrap:wrap;\n",
              "      gap: 12px;\n",
              "    }\n",
              "\n",
              "    .colab-df-convert {\n",
              "      background-color: #E8F0FE;\n",
              "      border: none;\n",
              "      border-radius: 50%;\n",
              "      cursor: pointer;\n",
              "      display: none;\n",
              "      fill: #1967D2;\n",
              "      height: 32px;\n",
              "      padding: 0 0 0 0;\n",
              "      width: 32px;\n",
              "    }\n",
              "\n",
              "    .colab-df-convert:hover {\n",
              "      background-color: #E2EBFA;\n",
              "      box-shadow: 0px 1px 2px rgba(60, 64, 67, 0.3), 0px 1px 3px 1px rgba(60, 64, 67, 0.15);\n",
              "      fill: #174EA6;\n",
              "    }\n",
              "\n",
              "    [theme=dark] .colab-df-convert {\n",
              "      background-color: #3B4455;\n",
              "      fill: #D2E3FC;\n",
              "    }\n",
              "\n",
              "    [theme=dark] .colab-df-convert:hover {\n",
              "      background-color: #434B5C;\n",
              "      box-shadow: 0px 1px 3px 1px rgba(0, 0, 0, 0.15);\n",
              "      filter: drop-shadow(0px 1px 2px rgba(0, 0, 0, 0.3));\n",
              "      fill: #FFFFFF;\n",
              "    }\n",
              "  </style>\n",
              "\n",
              "      <script>\n",
              "        const buttonEl =\n",
              "          document.querySelector('#df-41be5fd6-ad6b-4f53-9042-1742c85ee10e button.colab-df-convert');\n",
              "        buttonEl.style.display =\n",
              "          google.colab.kernel.accessAllowed ? 'block' : 'none';\n",
              "\n",
              "        async function convertToInteractive(key) {\n",
              "          const element = document.querySelector('#df-41be5fd6-ad6b-4f53-9042-1742c85ee10e');\n",
              "          const dataTable =\n",
              "            await google.colab.kernel.invokeFunction('convertToInteractive',\n",
              "                                                     [key], {});\n",
              "          if (!dataTable) return;\n",
              "\n",
              "          const docLinkHtml = 'Like what you see? Visit the ' +\n",
              "            '<a target=\"_blank\" href=https://colab.research.google.com/notebooks/data_table.ipynb>data table notebook</a>'\n",
              "            + ' to learn more about interactive tables.';\n",
              "          element.innerHTML = '';\n",
              "          dataTable['output_type'] = 'display_data';\n",
              "          await google.colab.output.renderOutput(dataTable, element);\n",
              "          const docLink = document.createElement('div');\n",
              "          docLink.innerHTML = docLinkHtml;\n",
              "          element.appendChild(docLink);\n",
              "        }\n",
              "      </script>\n",
              "    </div>\n",
              "  </div>\n",
              "  "
            ]
          },
          "metadata": {},
          "execution_count": 5
        }
      ]
    },
    {
      "cell_type": "code",
      "source": [
        "combinedData.shape"
      ],
      "metadata": {
        "colab": {
          "base_uri": "https://localhost:8080/"
        },
        "outputId": "9bdeee06-c77a-4b2d-b660-7d94104e76d4",
        "id": "LFszdyY3f8WL"
      },
      "execution_count": 6,
      "outputs": [
        {
          "output_type": "execute_result",
          "data": {
            "text/plain": [
              "(257673, 44)"
            ]
          },
          "metadata": {},
          "execution_count": 6
        }
      ]
    },
    {
      "cell_type": "code",
      "source": [
        "combinedData.dtypes.value_counts()"
      ],
      "metadata": {
        "colab": {
          "base_uri": "https://localhost:8080/"
        },
        "outputId": "e6e81db6-1f22-4d48-86ee-91c720ec2bdc",
        "id": "jHMF0MHJs9pV"
      },
      "execution_count": 7,
      "outputs": [
        {
          "output_type": "execute_result",
          "data": {
            "text/plain": [
              "int64      29\n",
              "float64    11\n",
              "object      4\n",
              "dtype: int64"
            ]
          },
          "metadata": {},
          "execution_count": 7
        }
      ]
    },
    {
      "cell_type": "markdown",
      "source": [
        "Some general info about the dataset. It contains roughly 175341 records across 45 columns. Data consists of mostly int64 and float64 types and  four object type."
      ],
      "metadata": {
        "id": "CqyvzlTks9pV"
      }
    },
    {
      "cell_type": "markdown",
      "source": [
        "## **Data Cleaning**\n",
        "This section contains data cleaning code. We go through the process of renaming columns, removing NaN to get the data ready for visualization and model training."
      ],
      "metadata": {
        "id": "0MubnN3ig1hD"
      }
    },
    {
      "cell_type": "markdown",
      "metadata": {
        "heading_collapsed": true,
        "hidden": true,
        "id": "nEaQW_mOg1hE"
      },
      "source": [
        "### Renaming columns"
      ]
    },
    {
      "cell_type": "code",
      "execution_count": 8,
      "metadata": {
        "hidden": true,
        "id": "qdVGnC9sg1hE"
      },
      "outputs": [],
      "source": [
        "# Removing whitespaces in column names.\n",
        "attacks = [col.replace(' ', '') for col in combinedData.columns]\n",
        "combinedData.columns = attacks"
      ]
    },
    {
      "cell_type": "code",
      "execution_count": 9,
      "metadata": {
        "hidden": true,
        "outputId": "6c0a3fe4-6a2f-440b-a806-84b8ded02d8a",
        "colab": {
          "base_uri": "https://localhost:8080/"
        },
        "id": "92X45aM_g1hE"
      },
      "outputs": [
        {
          "output_type": "execute_result",
          "data": {
            "text/plain": [
              "array(['Normal', 'Backdoor', 'Analysis', 'Fuzzers', 'Shellcode',\n",
              "       'Reconnaissance', 'Exploits', 'DoS', 'Worms', 'Generic'],\n",
              "      dtype=object)"
            ]
          },
          "metadata": {},
          "execution_count": 9
        }
      ],
      "source": [
        "# lets see that 'subclass' column contains some wierd characters. \n",
        "combinedData[\"attack_cat\"].unique()"
      ]
    },
    {
      "cell_type": "markdown",
      "metadata": {
        "heading_collapsed": true,
        "hidden": true,
        "id": "TEZ5Hrz9g1hE"
      },
      "source": [
        "### Removing NULL values"
      ]
    },
    {
      "cell_type": "markdown",
      "source": [
        "Checking for any null values in dataset and dropping such values so that our models receive correct dataset in input for training"
      ],
      "metadata": {
        "id": "3knh_x-fHSkn"
      }
    },
    {
      "cell_type": "code",
      "execution_count": 10,
      "metadata": {
        "hidden": true,
        "outputId": "586c859a-a4ba-4df9-81c2-3b06192c9257",
        "colab": {
          "base_uri": "https://localhost:8080/"
        },
        "id": "W7md9vTng1hF"
      },
      "outputs": [
        {
          "output_type": "execute_result",
          "data": {
            "text/plain": [
              "False"
            ]
          },
          "metadata": {},
          "execution_count": 10
        }
      ],
      "source": [
        "# Checking if there are any NULL values in the dataset.\n",
        "combinedData.isnull().values.any()"
      ]
    },
    {
      "cell_type": "code",
      "execution_count": 11,
      "metadata": {
        "hidden": true,
        "outputId": "814d4da1-4753-43bb-eaa2-6ae7b79fbe51",
        "colab": {
          "base_uri": "https://localhost:8080/"
        },
        "id": "N7HNyiYTg1hF"
      },
      "outputs": [
        {
          "output_type": "execute_result",
          "data": {
            "text/plain": [
              "[]"
            ]
          },
          "metadata": {},
          "execution_count": 11
        }
      ],
      "source": [
        "# Checking which column/s contain NULL values.\n",
        "[col for col in combinedData if combinedData[col].isnull().values.any()]"
      ]
    },
    {
      "cell_type": "markdown",
      "source": [
        "checking for any values containing - in service column"
      ],
      "metadata": {
        "id": "gGUsnC5JHuv4"
      }
    },
    {
      "cell_type": "code",
      "source": [
        "combinedData[combinedData['service']=='-']"
      ],
      "metadata": {
        "id": "Xuu9Y3mrqoUP",
        "colab": {
          "base_uri": "https://localhost:8080/",
          "height": 488
        },
        "outputId": "2dd4826e-afda-4660-a96b-931228f8e500"
      },
      "execution_count": 12,
      "outputs": [
        {
          "output_type": "execute_result",
          "data": {
            "text/plain": [
              "            dur proto service state  spkts  dpkts  sbytes  dbytes  \\\n",
              "0      0.121478   tcp       -   FIN      6      4     258     172   \n",
              "1      0.649902   tcp       -   FIN     14     38     734   42014   \n",
              "2      1.623129   tcp       -   FIN      8     16     364   13186   \n",
              "4      0.449454   tcp       -   FIN     10      6     534     268   \n",
              "5      0.380537   tcp       -   FIN     10      6     534     268   \n",
              "...         ...   ...     ...   ...    ...    ...     ...     ...   \n",
              "82327  0.000005   udp       -   INT      2      0     104       0   \n",
              "82328  1.106101   tcp       -   FIN     20      8   18062     354   \n",
              "82329  0.000000   arp       -   INT      1      0      46       0   \n",
              "82330  0.000000   arp       -   INT      1      0      46       0   \n",
              "82331  0.000009   udp       -   INT      2      0     104       0   \n",
              "\n",
              "                rate  sttl  ...  ct_dst_sport_ltm  ct_dst_src_ltm  \\\n",
              "0          74.087490   252  ...                 1               1   \n",
              "1          78.473372    62  ...                 1               2   \n",
              "2          14.170161    62  ...                 1               3   \n",
              "4          33.373826   254  ...                 1              40   \n",
              "5          39.417980   254  ...                 1              40   \n",
              "...              ...   ...  ...               ...             ...   \n",
              "82327  200000.005100   254  ...                 1               2   \n",
              "82328      24.410067   254  ...                 1               1   \n",
              "82329       0.000000     0  ...                 1               1   \n",
              "82330       0.000000     0  ...                 1               1   \n",
              "82331  111111.107200   254  ...                 1               1   \n",
              "\n",
              "       is_ftp_login  ct_ftp_cmd  ct_flw_http_mthd  ct_src_ltm  ct_srv_dst  \\\n",
              "0                 0           0                 0           1           1   \n",
              "1                 0           0                 0           1           6   \n",
              "2                 0           0                 0           2           6   \n",
              "4                 0           0                 0           2          39   \n",
              "5                 0           0                 0           2          39   \n",
              "...             ...         ...               ...         ...         ...   \n",
              "82327             0           0                 0           2           1   \n",
              "82328             0           0                 0           3           2   \n",
              "82329             0           0                 0           1           1   \n",
              "82330             0           0                 0           1           1   \n",
              "82331             0           0                 0           1           1   \n",
              "\n",
              "       is_sm_ips_ports  attack_cat  label  \n",
              "0                    0      Normal      0  \n",
              "1                    0      Normal      0  \n",
              "2                    0      Normal      0  \n",
              "4                    0      Normal      0  \n",
              "5                    0      Normal      0  \n",
              "...                ...         ...    ...  \n",
              "82327                0      Normal      0  \n",
              "82328                0      Normal      0  \n",
              "82329                1      Normal      0  \n",
              "82330                1      Normal      0  \n",
              "82331                0      Normal      0  \n",
              "\n",
              "[141321 rows x 44 columns]"
            ],
            "text/html": [
              "\n",
              "  <div id=\"df-0c4e68ad-e167-49cc-8fe4-eeae687f560c\">\n",
              "    <div class=\"colab-df-container\">\n",
              "      <div>\n",
              "<style scoped>\n",
              "    .dataframe tbody tr th:only-of-type {\n",
              "        vertical-align: middle;\n",
              "    }\n",
              "\n",
              "    .dataframe tbody tr th {\n",
              "        vertical-align: top;\n",
              "    }\n",
              "\n",
              "    .dataframe thead th {\n",
              "        text-align: right;\n",
              "    }\n",
              "</style>\n",
              "<table border=\"1\" class=\"dataframe\">\n",
              "  <thead>\n",
              "    <tr style=\"text-align: right;\">\n",
              "      <th></th>\n",
              "      <th>dur</th>\n",
              "      <th>proto</th>\n",
              "      <th>service</th>\n",
              "      <th>state</th>\n",
              "      <th>spkts</th>\n",
              "      <th>dpkts</th>\n",
              "      <th>sbytes</th>\n",
              "      <th>dbytes</th>\n",
              "      <th>rate</th>\n",
              "      <th>sttl</th>\n",
              "      <th>...</th>\n",
              "      <th>ct_dst_sport_ltm</th>\n",
              "      <th>ct_dst_src_ltm</th>\n",
              "      <th>is_ftp_login</th>\n",
              "      <th>ct_ftp_cmd</th>\n",
              "      <th>ct_flw_http_mthd</th>\n",
              "      <th>ct_src_ltm</th>\n",
              "      <th>ct_srv_dst</th>\n",
              "      <th>is_sm_ips_ports</th>\n",
              "      <th>attack_cat</th>\n",
              "      <th>label</th>\n",
              "    </tr>\n",
              "  </thead>\n",
              "  <tbody>\n",
              "    <tr>\n",
              "      <th>0</th>\n",
              "      <td>0.121478</td>\n",
              "      <td>tcp</td>\n",
              "      <td>-</td>\n",
              "      <td>FIN</td>\n",
              "      <td>6</td>\n",
              "      <td>4</td>\n",
              "      <td>258</td>\n",
              "      <td>172</td>\n",
              "      <td>74.087490</td>\n",
              "      <td>252</td>\n",
              "      <td>...</td>\n",
              "      <td>1</td>\n",
              "      <td>1</td>\n",
              "      <td>0</td>\n",
              "      <td>0</td>\n",
              "      <td>0</td>\n",
              "      <td>1</td>\n",
              "      <td>1</td>\n",
              "      <td>0</td>\n",
              "      <td>Normal</td>\n",
              "      <td>0</td>\n",
              "    </tr>\n",
              "    <tr>\n",
              "      <th>1</th>\n",
              "      <td>0.649902</td>\n",
              "      <td>tcp</td>\n",
              "      <td>-</td>\n",
              "      <td>FIN</td>\n",
              "      <td>14</td>\n",
              "      <td>38</td>\n",
              "      <td>734</td>\n",
              "      <td>42014</td>\n",
              "      <td>78.473372</td>\n",
              "      <td>62</td>\n",
              "      <td>...</td>\n",
              "      <td>1</td>\n",
              "      <td>2</td>\n",
              "      <td>0</td>\n",
              "      <td>0</td>\n",
              "      <td>0</td>\n",
              "      <td>1</td>\n",
              "      <td>6</td>\n",
              "      <td>0</td>\n",
              "      <td>Normal</td>\n",
              "      <td>0</td>\n",
              "    </tr>\n",
              "    <tr>\n",
              "      <th>2</th>\n",
              "      <td>1.623129</td>\n",
              "      <td>tcp</td>\n",
              "      <td>-</td>\n",
              "      <td>FIN</td>\n",
              "      <td>8</td>\n",
              "      <td>16</td>\n",
              "      <td>364</td>\n",
              "      <td>13186</td>\n",
              "      <td>14.170161</td>\n",
              "      <td>62</td>\n",
              "      <td>...</td>\n",
              "      <td>1</td>\n",
              "      <td>3</td>\n",
              "      <td>0</td>\n",
              "      <td>0</td>\n",
              "      <td>0</td>\n",
              "      <td>2</td>\n",
              "      <td>6</td>\n",
              "      <td>0</td>\n",
              "      <td>Normal</td>\n",
              "      <td>0</td>\n",
              "    </tr>\n",
              "    <tr>\n",
              "      <th>4</th>\n",
              "      <td>0.449454</td>\n",
              "      <td>tcp</td>\n",
              "      <td>-</td>\n",
              "      <td>FIN</td>\n",
              "      <td>10</td>\n",
              "      <td>6</td>\n",
              "      <td>534</td>\n",
              "      <td>268</td>\n",
              "      <td>33.373826</td>\n",
              "      <td>254</td>\n",
              "      <td>...</td>\n",
              "      <td>1</td>\n",
              "      <td>40</td>\n",
              "      <td>0</td>\n",
              "      <td>0</td>\n",
              "      <td>0</td>\n",
              "      <td>2</td>\n",
              "      <td>39</td>\n",
              "      <td>0</td>\n",
              "      <td>Normal</td>\n",
              "      <td>0</td>\n",
              "    </tr>\n",
              "    <tr>\n",
              "      <th>5</th>\n",
              "      <td>0.380537</td>\n",
              "      <td>tcp</td>\n",
              "      <td>-</td>\n",
              "      <td>FIN</td>\n",
              "      <td>10</td>\n",
              "      <td>6</td>\n",
              "      <td>534</td>\n",
              "      <td>268</td>\n",
              "      <td>39.417980</td>\n",
              "      <td>254</td>\n",
              "      <td>...</td>\n",
              "      <td>1</td>\n",
              "      <td>40</td>\n",
              "      <td>0</td>\n",
              "      <td>0</td>\n",
              "      <td>0</td>\n",
              "      <td>2</td>\n",
              "      <td>39</td>\n",
              "      <td>0</td>\n",
              "      <td>Normal</td>\n",
              "      <td>0</td>\n",
              "    </tr>\n",
              "    <tr>\n",
              "      <th>...</th>\n",
              "      <td>...</td>\n",
              "      <td>...</td>\n",
              "      <td>...</td>\n",
              "      <td>...</td>\n",
              "      <td>...</td>\n",
              "      <td>...</td>\n",
              "      <td>...</td>\n",
              "      <td>...</td>\n",
              "      <td>...</td>\n",
              "      <td>...</td>\n",
              "      <td>...</td>\n",
              "      <td>...</td>\n",
              "      <td>...</td>\n",
              "      <td>...</td>\n",
              "      <td>...</td>\n",
              "      <td>...</td>\n",
              "      <td>...</td>\n",
              "      <td>...</td>\n",
              "      <td>...</td>\n",
              "      <td>...</td>\n",
              "      <td>...</td>\n",
              "    </tr>\n",
              "    <tr>\n",
              "      <th>82327</th>\n",
              "      <td>0.000005</td>\n",
              "      <td>udp</td>\n",
              "      <td>-</td>\n",
              "      <td>INT</td>\n",
              "      <td>2</td>\n",
              "      <td>0</td>\n",
              "      <td>104</td>\n",
              "      <td>0</td>\n",
              "      <td>200000.005100</td>\n",
              "      <td>254</td>\n",
              "      <td>...</td>\n",
              "      <td>1</td>\n",
              "      <td>2</td>\n",
              "      <td>0</td>\n",
              "      <td>0</td>\n",
              "      <td>0</td>\n",
              "      <td>2</td>\n",
              "      <td>1</td>\n",
              "      <td>0</td>\n",
              "      <td>Normal</td>\n",
              "      <td>0</td>\n",
              "    </tr>\n",
              "    <tr>\n",
              "      <th>82328</th>\n",
              "      <td>1.106101</td>\n",
              "      <td>tcp</td>\n",
              "      <td>-</td>\n",
              "      <td>FIN</td>\n",
              "      <td>20</td>\n",
              "      <td>8</td>\n",
              "      <td>18062</td>\n",
              "      <td>354</td>\n",
              "      <td>24.410067</td>\n",
              "      <td>254</td>\n",
              "      <td>...</td>\n",
              "      <td>1</td>\n",
              "      <td>1</td>\n",
              "      <td>0</td>\n",
              "      <td>0</td>\n",
              "      <td>0</td>\n",
              "      <td>3</td>\n",
              "      <td>2</td>\n",
              "      <td>0</td>\n",
              "      <td>Normal</td>\n",
              "      <td>0</td>\n",
              "    </tr>\n",
              "    <tr>\n",
              "      <th>82329</th>\n",
              "      <td>0.000000</td>\n",
              "      <td>arp</td>\n",
              "      <td>-</td>\n",
              "      <td>INT</td>\n",
              "      <td>1</td>\n",
              "      <td>0</td>\n",
              "      <td>46</td>\n",
              "      <td>0</td>\n",
              "      <td>0.000000</td>\n",
              "      <td>0</td>\n",
              "      <td>...</td>\n",
              "      <td>1</td>\n",
              "      <td>1</td>\n",
              "      <td>0</td>\n",
              "      <td>0</td>\n",
              "      <td>0</td>\n",
              "      <td>1</td>\n",
              "      <td>1</td>\n",
              "      <td>1</td>\n",
              "      <td>Normal</td>\n",
              "      <td>0</td>\n",
              "    </tr>\n",
              "    <tr>\n",
              "      <th>82330</th>\n",
              "      <td>0.000000</td>\n",
              "      <td>arp</td>\n",
              "      <td>-</td>\n",
              "      <td>INT</td>\n",
              "      <td>1</td>\n",
              "      <td>0</td>\n",
              "      <td>46</td>\n",
              "      <td>0</td>\n",
              "      <td>0.000000</td>\n",
              "      <td>0</td>\n",
              "      <td>...</td>\n",
              "      <td>1</td>\n",
              "      <td>1</td>\n",
              "      <td>0</td>\n",
              "      <td>0</td>\n",
              "      <td>0</td>\n",
              "      <td>1</td>\n",
              "      <td>1</td>\n",
              "      <td>1</td>\n",
              "      <td>Normal</td>\n",
              "      <td>0</td>\n",
              "    </tr>\n",
              "    <tr>\n",
              "      <th>82331</th>\n",
              "      <td>0.000009</td>\n",
              "      <td>udp</td>\n",
              "      <td>-</td>\n",
              "      <td>INT</td>\n",
              "      <td>2</td>\n",
              "      <td>0</td>\n",
              "      <td>104</td>\n",
              "      <td>0</td>\n",
              "      <td>111111.107200</td>\n",
              "      <td>254</td>\n",
              "      <td>...</td>\n",
              "      <td>1</td>\n",
              "      <td>1</td>\n",
              "      <td>0</td>\n",
              "      <td>0</td>\n",
              "      <td>0</td>\n",
              "      <td>1</td>\n",
              "      <td>1</td>\n",
              "      <td>0</td>\n",
              "      <td>Normal</td>\n",
              "      <td>0</td>\n",
              "    </tr>\n",
              "  </tbody>\n",
              "</table>\n",
              "<p>141321 rows × 44 columns</p>\n",
              "</div>\n",
              "      <button class=\"colab-df-convert\" onclick=\"convertToInteractive('df-0c4e68ad-e167-49cc-8fe4-eeae687f560c')\"\n",
              "              title=\"Convert this dataframe to an interactive table.\"\n",
              "              style=\"display:none;\">\n",
              "        \n",
              "  <svg xmlns=\"http://www.w3.org/2000/svg\" height=\"24px\"viewBox=\"0 0 24 24\"\n",
              "       width=\"24px\">\n",
              "    <path d=\"M0 0h24v24H0V0z\" fill=\"none\"/>\n",
              "    <path d=\"M18.56 5.44l.94 2.06.94-2.06 2.06-.94-2.06-.94-.94-2.06-.94 2.06-2.06.94zm-11 1L8.5 8.5l.94-2.06 2.06-.94-2.06-.94L8.5 2.5l-.94 2.06-2.06.94zm10 10l.94 2.06.94-2.06 2.06-.94-2.06-.94-.94-2.06-.94 2.06-2.06.94z\"/><path d=\"M17.41 7.96l-1.37-1.37c-.4-.4-.92-.59-1.43-.59-.52 0-1.04.2-1.43.59L10.3 9.45l-7.72 7.72c-.78.78-.78 2.05 0 2.83L4 21.41c.39.39.9.59 1.41.59.51 0 1.02-.2 1.41-.59l7.78-7.78 2.81-2.81c.8-.78.8-2.07 0-2.86zM5.41 20L4 18.59l7.72-7.72 1.47 1.35L5.41 20z\"/>\n",
              "  </svg>\n",
              "      </button>\n",
              "      \n",
              "  <style>\n",
              "    .colab-df-container {\n",
              "      display:flex;\n",
              "      flex-wrap:wrap;\n",
              "      gap: 12px;\n",
              "    }\n",
              "\n",
              "    .colab-df-convert {\n",
              "      background-color: #E8F0FE;\n",
              "      border: none;\n",
              "      border-radius: 50%;\n",
              "      cursor: pointer;\n",
              "      display: none;\n",
              "      fill: #1967D2;\n",
              "      height: 32px;\n",
              "      padding: 0 0 0 0;\n",
              "      width: 32px;\n",
              "    }\n",
              "\n",
              "    .colab-df-convert:hover {\n",
              "      background-color: #E2EBFA;\n",
              "      box-shadow: 0px 1px 2px rgba(60, 64, 67, 0.3), 0px 1px 3px 1px rgba(60, 64, 67, 0.15);\n",
              "      fill: #174EA6;\n",
              "    }\n",
              "\n",
              "    [theme=dark] .colab-df-convert {\n",
              "      background-color: #3B4455;\n",
              "      fill: #D2E3FC;\n",
              "    }\n",
              "\n",
              "    [theme=dark] .colab-df-convert:hover {\n",
              "      background-color: #434B5C;\n",
              "      box-shadow: 0px 1px 3px 1px rgba(0, 0, 0, 0.15);\n",
              "      filter: drop-shadow(0px 1px 2px rgba(0, 0, 0, 0.3));\n",
              "      fill: #FFFFFF;\n",
              "    }\n",
              "  </style>\n",
              "\n",
              "      <script>\n",
              "        const buttonEl =\n",
              "          document.querySelector('#df-0c4e68ad-e167-49cc-8fe4-eeae687f560c button.colab-df-convert');\n",
              "        buttonEl.style.display =\n",
              "          google.colab.kernel.accessAllowed ? 'block' : 'none';\n",
              "\n",
              "        async function convertToInteractive(key) {\n",
              "          const element = document.querySelector('#df-0c4e68ad-e167-49cc-8fe4-eeae687f560c');\n",
              "          const dataTable =\n",
              "            await google.colab.kernel.invokeFunction('convertToInteractive',\n",
              "                                                     [key], {});\n",
              "          if (!dataTable) return;\n",
              "\n",
              "          const docLinkHtml = 'Like what you see? Visit the ' +\n",
              "            '<a target=\"_blank\" href=https://colab.research.google.com/notebooks/data_table.ipynb>data table notebook</a>'\n",
              "            + ' to learn more about interactive tables.';\n",
              "          element.innerHTML = '';\n",
              "          dataTable['output_type'] = 'display_data';\n",
              "          await google.colab.output.renderOutput(dataTable, element);\n",
              "          const docLink = document.createElement('div');\n",
              "          docLink.innerHTML = docLinkHtml;\n",
              "          element.appendChild(docLink);\n",
              "        }\n",
              "      </script>\n",
              "    </div>\n",
              "  </div>\n",
              "  "
            ]
          },
          "metadata": {},
          "execution_count": 12
        }
      ]
    },
    {
      "cell_type": "markdown",
      "source": [
        "replacing - values with nan for service column"
      ],
      "metadata": {
        "id": "qa7B5BybH2Sj"
      }
    },
    {
      "cell_type": "code",
      "source": [
        "combinedData['service'].replace('-',np.nan,inplace=True)"
      ],
      "metadata": {
        "id": "lkpYqZv4qdJt"
      },
      "execution_count": 13,
      "outputs": []
    },
    {
      "cell_type": "markdown",
      "source": [
        "finding totoal nan values in dataset again"
      ],
      "metadata": {
        "id": "nBQq4mmIH6J2"
      }
    },
    {
      "cell_type": "code",
      "source": [
        "combinedData.isnull().sum()"
      ],
      "metadata": {
        "id": "Bc-sKDOtqfD7",
        "colab": {
          "base_uri": "https://localhost:8080/"
        },
        "outputId": "dedde04f-3183-4764-f7bb-a10e2c2eee47"
      },
      "execution_count": 14,
      "outputs": [
        {
          "output_type": "execute_result",
          "data": {
            "text/plain": [
              "dur                       0\n",
              "proto                     0\n",
              "service              141321\n",
              "state                     0\n",
              "spkts                     0\n",
              "dpkts                     0\n",
              "sbytes                    0\n",
              "dbytes                    0\n",
              "rate                      0\n",
              "sttl                      0\n",
              "dttl                      0\n",
              "sload                     0\n",
              "dload                     0\n",
              "sloss                     0\n",
              "dloss                     0\n",
              "sinpkt                    0\n",
              "dinpkt                    0\n",
              "sjit                      0\n",
              "djit                      0\n",
              "swin                      0\n",
              "stcpb                     0\n",
              "dtcpb                     0\n",
              "dwin                      0\n",
              "tcprtt                    0\n",
              "synack                    0\n",
              "ackdat                    0\n",
              "smean                     0\n",
              "dmean                     0\n",
              "trans_depth               0\n",
              "response_body_len         0\n",
              "ct_srv_src                0\n",
              "ct_state_ttl              0\n",
              "ct_dst_ltm                0\n",
              "ct_src_dport_ltm          0\n",
              "ct_dst_sport_ltm          0\n",
              "ct_dst_src_ltm            0\n",
              "is_ftp_login              0\n",
              "ct_ftp_cmd                0\n",
              "ct_flw_http_mthd          0\n",
              "ct_src_ltm                0\n",
              "ct_srv_dst                0\n",
              "is_sm_ips_ports           0\n",
              "attack_cat                0\n",
              "label                     0\n",
              "dtype: int64"
            ]
          },
          "metadata": {},
          "execution_count": 14
        }
      ]
    },
    {
      "cell_type": "markdown",
      "source": [
        "Dataset shape before removing nan values"
      ],
      "metadata": {
        "id": "S_zwIuWLIGSI"
      }
    },
    {
      "cell_type": "code",
      "source": [
        "combinedData.shape"
      ],
      "metadata": {
        "id": "MaHGkOF0q1Vj",
        "colab": {
          "base_uri": "https://localhost:8080/"
        },
        "outputId": "54ad4dd1-af8c-49e1-8754-198bdbd9506b"
      },
      "execution_count": 15,
      "outputs": [
        {
          "output_type": "execute_result",
          "data": {
            "text/plain": [
              "(257673, 44)"
            ]
          },
          "metadata": {},
          "execution_count": 15
        }
      ]
    },
    {
      "cell_type": "markdown",
      "source": [
        "Removing rows with nan values from dataset"
      ],
      "metadata": {
        "id": "e51a8410H-sF"
      }
    },
    {
      "cell_type": "code",
      "source": [
        "combinedData.dropna(inplace=True)"
      ],
      "metadata": {
        "id": "mByrz54Iq385"
      },
      "execution_count": 16,
      "outputs": []
    },
    {
      "cell_type": "markdown",
      "source": [
        "Dataset shape after removing nan values"
      ],
      "metadata": {
        "id": "qC1ctwKOIJso"
      }
    },
    {
      "cell_type": "code",
      "source": [
        "combinedData.shape"
      ],
      "metadata": {
        "id": "BHn6xSj2q6a6",
        "colab": {
          "base_uri": "https://localhost:8080/"
        },
        "outputId": "89267c6b-30c1-436f-e611-c13ccb10c63e"
      },
      "execution_count": 17,
      "outputs": [
        {
          "output_type": "execute_result",
          "data": {
            "text/plain": [
              "(116352, 44)"
            ]
          },
          "metadata": {},
          "execution_count": 17
        }
      ]
    },
    {
      "cell_type": "code",
      "execution_count": 18,
      "metadata": {
        "hidden": true,
        "scrolled": true,
        "outputId": "9a122bf0-4662-431f-911f-0e547261b8be",
        "colab": {
          "base_uri": "https://localhost:8080/"
        },
        "id": "676VLqsdg1hG"
      },
      "outputs": [
        {
          "output_type": "execute_result",
          "data": {
            "text/plain": [
              "False"
            ]
          },
          "metadata": {},
          "execution_count": 18
        }
      ],
      "source": [
        "combinedData.isnull().any().any()"
      ]
    },
    {
      "cell_type": "markdown",
      "source": [
        "Dropping 'label' column in packet based approach as we need attack category and there is no need of 'label' category"
      ],
      "metadata": {
        "id": "KL7OjjasIPWR"
      }
    },
    {
      "cell_type": "code",
      "source": [
        "#for packet based approachwe need attack category and  no need of label category, \n",
        "combinedData.drop(['label'],axis=1,inplace=True)\n",
        "combinedData.shape"
      ],
      "metadata": {
        "id": "RyRB0g5IERRc",
        "colab": {
          "base_uri": "https://localhost:8080/"
        },
        "outputId": "e2f9f0ec-e656-4a22-89ae-1ee6f1b3e74f"
      },
      "execution_count": 19,
      "outputs": [
        {
          "output_type": "execute_result",
          "data": {
            "text/plain": [
              "(116352, 43)"
            ]
          },
          "metadata": {},
          "execution_count": 19
        }
      ]
    },
    {
      "cell_type": "markdown",
      "source": [
        "## **Data Visualization**"
      ],
      "metadata": {
        "id": "8KEl-9VP15wT"
      }
    },
    {
      "cell_type": "markdown",
      "source": [
        "This section is performing data visualization for understanding the dataset in an artistic manner"
      ],
      "metadata": {
        "id": "vKWCuhqnId-w"
      }
    },
    {
      "cell_type": "code",
      "source": [
        "# There are 8 different type of attacks apart from normal in Dataset \n",
        "print(combinedData['attack_cat'].unique())\n",
        "len(combinedData['attack_cat'].unique())"
      ],
      "metadata": {
        "colab": {
          "base_uri": "https://localhost:8080/"
        },
        "id": "FhB6fespLtEv",
        "outputId": "c9ef14b2-d1ae-41a6-a3e4-5eff1aa9f150"
      },
      "execution_count": 20,
      "outputs": [
        {
          "output_type": "stream",
          "name": "stdout",
          "text": [
            "['Normal' 'Backdoor' 'Fuzzers' 'Reconnaissance' 'Exploits' 'Analysis'\n",
            " 'DoS' 'Worms' 'Generic']\n"
          ]
        },
        {
          "output_type": "execute_result",
          "data": {
            "text/plain": [
              "9"
            ]
          },
          "metadata": {},
          "execution_count": 20
        }
      ]
    },
    {
      "cell_type": "markdown",
      "source": [
        "Visualizing dataset to find out which attack type has more impact"
      ],
      "metadata": {
        "id": "fDAuV2bYIplI"
      }
    },
    {
      "cell_type": "code",
      "source": [
        "combinedData['attack_cat'].value_counts()"
      ],
      "metadata": {
        "colab": {
          "base_uri": "https://localhost:8080/"
        },
        "id": "Pyz_qBan2SK5",
        "outputId": "e194cf04-0ef1-4479-8135-a4bc1a79a14b"
      },
      "execution_count": 21,
      "outputs": [
        {
          "output_type": "execute_result",
          "data": {
            "text/plain": [
              "Generic           57956\n",
              "Normal            29113\n",
              "Exploits          21480\n",
              "DoS                2508\n",
              "Fuzzers            2266\n",
              "Reconnaissance     2207\n",
              "Analysis            564\n",
              "Worms               148\n",
              "Backdoor            110\n",
              "Name: attack_cat, dtype: int64"
            ]
          },
          "metadata": {},
          "execution_count": 21
        }
      ]
    },
    {
      "cell_type": "markdown",
      "source": [
        "Creating new dataframe for multi class labels and encoding the labels with integers (0 - 8)"
      ],
      "metadata": {
        "id": "soDPTS9PI11h"
      }
    },
    {
      "cell_type": "code",
      "metadata": {
        "id": "OeEwNsMzJYSN"
      },
      "source": [
        "# creating a dataframe with multi-class labels ()\n",
        "multi_data = combinedData.copy()\n",
        "multi_label = pd.DataFrame(multi_data.attack_cat)"
      ],
      "execution_count": 22,
      "outputs": []
    },
    {
      "cell_type": "code",
      "metadata": {
        "id": "b2U716KRVxsG"
      },
      "source": [
        "# label encoding (0,1,2,3,4,5,6,7,8) multi-class labels ('Normal' 'Backdoor' 'Fuzzers' 'Reconnaissance' 'Exploits' 'Analysis' 'DoS' 'Worms' 'Generic')\n",
        "le2 = preprocessing.LabelEncoder()\n",
        "enc_label = multi_label.apply(le2.fit_transform)\n",
        "multi_data['intrusion'] = enc_label"
      ],
      "execution_count": 23,
      "outputs": []
    },
    {
      "cell_type": "code",
      "metadata": {
        "id": "9rqlHJotuBlF"
      },
      "source": [
        "np.save(\"/content/drive/MyDrive/2117493_PROJECT/NIDS/UNSW-NB15 /Labels/le_classes.npy\",le2.classes_,allow_pickle=True)"
      ],
      "execution_count": 24,
      "outputs": []
    },
    {
      "cell_type": "markdown",
      "source": [
        "Visualizing multi class labels using Pie Chart"
      ],
      "metadata": {
        "id": "x61ECUJNJiCr"
      }
    },
    {
      "cell_type": "code",
      "source": [
        "#lets see which attack is having more impact on dataset\n",
        "plt.figure(figsize=(7,5))\n",
        "g = sns.countplot( data = multi_data, x = 'attack_cat', palette=\"tab10\")\n",
        "g.set_yscale(\"log\")\n",
        "g.set_xticklabels(g.get_xticklabels(), rotation=75, ha=\"right\")\n",
        "plt.savefig('/content/drive/MyDrive/2117493_PROJECT/NIDS/UNSW-NB15 /Images/various_attacks.png')\n",
        "plt.show()"
      ],
      "metadata": {
        "colab": {
          "base_uri": "https://localhost:8080/",
          "height": 405
        },
        "id": "JiF9i1Q70Eti",
        "outputId": "362703a1-b1a7-4d89-daff-6e398b63f4c3"
      },
      "execution_count": 25,
      "outputs": [
        {
          "output_type": "display_data",
          "data": {
            "text/plain": [
              "<Figure size 504x360 with 1 Axes>"
            ],
            "image/png": "[encoded data removed]"
          },
          "metadata": {
            "needs_background": "light"
          }
        }
      ]
    },
    {
      "cell_type": "markdown",
      "source": [
        "## **Function to encode string features**"
      ],
      "metadata": {
        "id": "KQT-DmoRqvBI"
      }
    },
    {
      "cell_type": "markdown",
      "source": [
        "This section is performing the encoding of string features which is required for nerual network training. As we majority of features in numerical form, we want the string features to have some numerical values so that neural network can train on all features including string features."
      ],
      "metadata": {
        "id": "liqoIHUU0Xep"
      }
    },
    {
      "cell_type": "markdown",
      "source": [
        "Separating Features and target for Model training"
      ],
      "metadata": {
        "id": "2dj4uKEn7Obc"
      }
    },
    {
      "cell_type": "code",
      "metadata": {
        "id": "FhvS9DaPXhtf",
        "outputId": "cf3efa3e-186b-4f48-9b68-ef901b99ba5b",
        "colab": {
          "base_uri": "https://localhost:8080/"
        },
        "tags": []
      },
      "source": [
        "XX = combinedData.iloc[:,:-1].values\n",
        "YY = combinedData.iloc[:,-1].values\n",
        "YY = YY.reshape(-1,1)\n",
        "print([XX.shape, YY.shape])\n",
        "YY"
      ],
      "execution_count": 26,
      "outputs": [
        {
          "output_type": "stream",
          "name": "stdout",
          "text": [
            "[(116352, 42), (116352, 1)]\n"
          ]
        },
        {
          "output_type": "execute_result",
          "data": {
            "text/plain": [
              "array([['Normal'],\n",
              "       ['Normal'],\n",
              "       ['Normal'],\n",
              "       ...,\n",
              "       ['Normal'],\n",
              "       ['Normal'],\n",
              "       ['Normal']], dtype=object)"
            ]
          },
          "metadata": {},
          "execution_count": 26
        }
      ]
    },
    {
      "cell_type": "markdown",
      "source": [
        "Visualizing string features"
      ],
      "metadata": {
        "id": "JOwEhUep01Hk"
      }
    },
    {
      "cell_type": "code",
      "source": [
        "combinedData.head()"
      ],
      "metadata": {
        "colab": {
          "base_uri": "https://localhost:8080/",
          "height": 299
        },
        "id": "zJDe25vJqmBR",
        "outputId": "634bc953-dd72-4bb4-a965-d6d3cf4f6dd2"
      },
      "execution_count": 27,
      "outputs": [
        {
          "output_type": "execute_result",
          "data": {
            "text/plain": [
              "         dur proto service state  spkts  dpkts  sbytes  dbytes           rate  \\\n",
              "3   1.681642   tcp     ftp   FIN     12     12     628     770      13.677108   \n",
              "11  2.093085   tcp    smtp   FIN     62     28   56329    2212      42.520967   \n",
              "15  0.000002   udp    snmp   INT      2      0     138       0  500000.001300   \n",
              "17  0.393556   tcp    http   FIN     10      8     860    1096      43.195886   \n",
              "21  0.338017   tcp    http   FIN     10      6     998     268      44.376468   \n",
              "\n",
              "    sttl  ...  ct_src_dport_ltm  ct_dst_sport_ltm  ct_dst_src_ltm  \\\n",
              "3     62  ...                 1                 1               3   \n",
              "11    62  ...                 1                 1               2   \n",
              "15   254  ...                 1                 1               4   \n",
              "17    62  ...                 1                 1               2   \n",
              "21   254  ...                 1                 1               1   \n",
              "\n",
              "    is_ftp_login  ct_ftp_cmd  ct_flw_http_mthd  ct_src_ltm  ct_srv_dst  \\\n",
              "3              1           1                 0           2           1   \n",
              "11             0           0                 0           1           1   \n",
              "15             0           0                 0           2           1   \n",
              "17             0           0                 1           1           3   \n",
              "21             0           0                 1           2           3   \n",
              "\n",
              "    is_sm_ips_ports  attack_cat  \n",
              "3                 0      Normal  \n",
              "11                0      Normal  \n",
              "15                0      Normal  \n",
              "17                0      Normal  \n",
              "21                0      Normal  \n",
              "\n",
              "[5 rows x 43 columns]"
            ],
            "text/html": [
              "\n",
              "  <div id=\"df-58f3dc87-728c-47fb-a920-c834fa0dc224\">\n",
              "    <div class=\"colab-df-container\">\n",
              "      <div>\n",
              "<style scoped>\n",
              "    .dataframe tbody tr th:only-of-type {\n",
              "        vertical-align: middle;\n",
              "    }\n",
              "\n",
              "    .dataframe tbody tr th {\n",
              "        vertical-align: top;\n",
              "    }\n",
              "\n",
              "    .dataframe thead th {\n",
              "        text-align: right;\n",
              "    }\n",
              "</style>\n",
              "<table border=\"1\" class=\"dataframe\">\n",
              "  <thead>\n",
              "    <tr style=\"text-align: right;\">\n",
              "      <th></th>\n",
              "      <th>dur</th>\n",
              "      <th>proto</th>\n",
              "      <th>service</th>\n",
              "      <th>state</th>\n",
              "      <th>spkts</th>\n",
              "      <th>dpkts</th>\n",
              "      <th>sbytes</th>\n",
              "      <th>dbytes</th>\n",
              "      <th>rate</th>\n",
              "      <th>sttl</th>\n",
              "      <th>...</th>\n",
              "      <th>ct_src_dport_ltm</th>\n",
              "      <th>ct_dst_sport_ltm</th>\n",
              "      <th>ct_dst_src_ltm</th>\n",
              "      <th>is_ftp_login</th>\n",
              "      <th>ct_ftp_cmd</th>\n",
              "      <th>ct_flw_http_mthd</th>\n",
              "      <th>ct_src_ltm</th>\n",
              "      <th>ct_srv_dst</th>\n",
              "      <th>is_sm_ips_ports</th>\n",
              "      <th>attack_cat</th>\n",
              "    </tr>\n",
              "  </thead>\n",
              "  <tbody>\n",
              "    <tr>\n",
              "      <th>3</th>\n",
              "      <td>1.681642</td>\n",
              "      <td>tcp</td>\n",
              "      <td>ftp</td>\n",
              "      <td>FIN</td>\n",
              "      <td>12</td>\n",
              "      <td>12</td>\n",
              "      <td>628</td>\n",
              "      <td>770</td>\n",
              "      <td>13.677108</td>\n",
              "      <td>62</td>\n",
              "      <td>...</td>\n",
              "      <td>1</td>\n",
              "      <td>1</td>\n",
              "      <td>3</td>\n",
              "      <td>1</td>\n",
              "      <td>1</td>\n",
              "      <td>0</td>\n",
              "      <td>2</td>\n",
              "      <td>1</td>\n",
              "      <td>0</td>\n",
              "      <td>Normal</td>\n",
              "    </tr>\n",
              "    <tr>\n",
              "      <th>11</th>\n",
              "      <td>2.093085</td>\n",
              "      <td>tcp</td>\n",
              "      <td>smtp</td>\n",
              "      <td>FIN</td>\n",
              "      <td>62</td>\n",
              "      <td>28</td>\n",
              "      <td>56329</td>\n",
              "      <td>2212</td>\n",
              "      <td>42.520967</td>\n",
              "      <td>62</td>\n",
              "      <td>...</td>\n",
              "      <td>1</td>\n",
              "      <td>1</td>\n",
              "      <td>2</td>\n",
              "      <td>0</td>\n",
              "      <td>0</td>\n",
              "      <td>0</td>\n",
              "      <td>1</td>\n",
              "      <td>1</td>\n",
              "      <td>0</td>\n",
              "      <td>Normal</td>\n",
              "    </tr>\n",
              "    <tr>\n",
              "      <th>15</th>\n",
              "      <td>0.000002</td>\n",
              "      <td>udp</td>\n",
              "      <td>snmp</td>\n",
              "      <td>INT</td>\n",
              "      <td>2</td>\n",
              "      <td>0</td>\n",
              "      <td>138</td>\n",
              "      <td>0</td>\n",
              "      <td>500000.001300</td>\n",
              "      <td>254</td>\n",
              "      <td>...</td>\n",
              "      <td>1</td>\n",
              "      <td>1</td>\n",
              "      <td>4</td>\n",
              "      <td>0</td>\n",
              "      <td>0</td>\n",
              "      <td>0</td>\n",
              "      <td>2</td>\n",
              "      <td>1</td>\n",
              "      <td>0</td>\n",
              "      <td>Normal</td>\n",
              "    </tr>\n",
              "    <tr>\n",
              "      <th>17</th>\n",
              "      <td>0.393556</td>\n",
              "      <td>tcp</td>\n",
              "      <td>http</td>\n",
              "      <td>FIN</td>\n",
              "      <td>10</td>\n",
              "      <td>8</td>\n",
              "      <td>860</td>\n",
              "      <td>1096</td>\n",
              "      <td>43.195886</td>\n",
              "      <td>62</td>\n",
              "      <td>...</td>\n",
              "      <td>1</td>\n",
              "      <td>1</td>\n",
              "      <td>2</td>\n",
              "      <td>0</td>\n",
              "      <td>0</td>\n",
              "      <td>1</td>\n",
              "      <td>1</td>\n",
              "      <td>3</td>\n",
              "      <td>0</td>\n",
              "      <td>Normal</td>\n",
              "    </tr>\n",
              "    <tr>\n",
              "      <th>21</th>\n",
              "      <td>0.338017</td>\n",
              "      <td>tcp</td>\n",
              "      <td>http</td>\n",
              "      <td>FIN</td>\n",
              "      <td>10</td>\n",
              "      <td>6</td>\n",
              "      <td>998</td>\n",
              "      <td>268</td>\n",
              "      <td>44.376468</td>\n",
              "      <td>254</td>\n",
              "      <td>...</td>\n",
              "      <td>1</td>\n",
              "      <td>1</td>\n",
              "      <td>1</td>\n",
              "      <td>0</td>\n",
              "      <td>0</td>\n",
              "      <td>1</td>\n",
              "      <td>2</td>\n",
              "      <td>3</td>\n",
              "      <td>0</td>\n",
              "      <td>Normal</td>\n",
              "    </tr>\n",
              "  </tbody>\n",
              "</table>\n",
              "<p>5 rows × 43 columns</p>\n",
              "</div>\n",
              "      <button class=\"colab-df-convert\" onclick=\"convertToInteractive('df-58f3dc87-728c-47fb-a920-c834fa0dc224')\"\n",
              "              title=\"Convert this dataframe to an interactive table.\"\n",
              "              style=\"display:none;\">\n",
              "        \n",
              "  <svg xmlns=\"http://www.w3.org/2000/svg\" height=\"24px\"viewBox=\"0 0 24 24\"\n",
              "       width=\"24px\">\n",
              "    <path d=\"M0 0h24v24H0V0z\" fill=\"none\"/>\n",
              "    <path d=\"M18.56 5.44l.94 2.06.94-2.06 2.06-.94-2.06-.94-.94-2.06-.94 2.06-2.06.94zm-11 1L8.5 8.5l.94-2.06 2.06-.94-2.06-.94L8.5 2.5l-.94 2.06-2.06.94zm10 10l.94 2.06.94-2.06 2.06-.94-2.06-.94-.94-2.06-.94 2.06-2.06.94z\"/><path d=\"M17.41 7.96l-1.37-1.37c-.4-.4-.92-.59-1.43-.59-.52 0-1.04.2-1.43.59L10.3 9.45l-7.72 7.72c-.78.78-.78 2.05 0 2.83L4 21.41c.39.39.9.59 1.41.59.51 0 1.02-.2 1.41-.59l7.78-7.78 2.81-2.81c.8-.78.8-2.07 0-2.86zM5.41 20L4 18.59l7.72-7.72 1.47 1.35L5.41 20z\"/>\n",
              "  </svg>\n",
              "      </button>\n",
              "      \n",
              "  <style>\n",
              "    .colab-df-container {\n",
              "      display:flex;\n",
              "      flex-wrap:wrap;\n",
              "      gap: 12px;\n",
              "    }\n",
              "\n",
              "    .colab-df-convert {\n",
              "      background-color: #E8F0FE;\n",
              "      border: none;\n",
              "      border-radius: 50%;\n",
              "      cursor: pointer;\n",
              "      display: none;\n",
              "      fill: #1967D2;\n",
              "      height: 32px;\n",
              "      padding: 0 0 0 0;\n",
              "      width: 32px;\n",
              "    }\n",
              "\n",
              "    .colab-df-convert:hover {\n",
              "      background-color: #E2EBFA;\n",
              "      box-shadow: 0px 1px 2px rgba(60, 64, 67, 0.3), 0px 1px 3px 1px rgba(60, 64, 67, 0.15);\n",
              "      fill: #174EA6;\n",
              "    }\n",
              "\n",
              "    [theme=dark] .colab-df-convert {\n",
              "      background-color: #3B4455;\n",
              "      fill: #D2E3FC;\n",
              "    }\n",
              "\n",
              "    [theme=dark] .colab-df-convert:hover {\n",
              "      background-color: #434B5C;\n",
              "      box-shadow: 0px 1px 3px 1px rgba(0, 0, 0, 0.15);\n",
              "      filter: drop-shadow(0px 1px 2px rgba(0, 0, 0, 0.3));\n",
              "      fill: #FFFFFF;\n",
              "    }\n",
              "  </style>\n",
              "\n",
              "      <script>\n",
              "        const buttonEl =\n",
              "          document.querySelector('#df-58f3dc87-728c-47fb-a920-c834fa0dc224 button.colab-df-convert');\n",
              "        buttonEl.style.display =\n",
              "          google.colab.kernel.accessAllowed ? 'block' : 'none';\n",
              "\n",
              "        async function convertToInteractive(key) {\n",
              "          const element = document.querySelector('#df-58f3dc87-728c-47fb-a920-c834fa0dc224');\n",
              "          const dataTable =\n",
              "            await google.colab.kernel.invokeFunction('convertToInteractive',\n",
              "                                                     [key], {});\n",
              "          if (!dataTable) return;\n",
              "\n",
              "          const docLinkHtml = 'Like what you see? Visit the ' +\n",
              "            '<a target=\"_blank\" href=https://colab.research.google.com/notebooks/data_table.ipynb>data table notebook</a>'\n",
              "            + ' to learn more about interactive tables.';\n",
              "          element.innerHTML = '';\n",
              "          dataTable['output_type'] = 'display_data';\n",
              "          await google.colab.output.renderOutput(dataTable, element);\n",
              "          const docLink = document.createElement('div');\n",
              "          docLink.innerHTML = docLinkHtml;\n",
              "          element.appendChild(docLink);\n",
              "        }\n",
              "      </script>\n",
              "    </div>\n",
              "  </div>\n",
              "  "
            ]
          },
          "metadata": {},
          "execution_count": 27
        }
      ]
    },
    {
      "cell_type": "markdown",
      "source": [
        "Performing encoding of string features"
      ],
      "metadata": {
        "id": "YQMWnrrW0wzn"
      }
    },
    {
      "cell_type": "code",
      "metadata": {
        "id": "koRKSD7crgv9",
        "outputId": "05d5b165-5448-49b0-c51b-62bfbb224ff9",
        "colab": {
          "base_uri": "https://localhost:8080/"
        }
      },
      "source": [
        "from sklearn.preprocessing import LabelEncoder, OneHotEncoder\n",
        "encoder = LabelEncoder()\n",
        "ohe = OneHotEncoder()\n",
        "\n",
        "XX[:,1] = encoder.fit_transform(XX[:,1])\n",
        "XX[:,2] = encoder.fit_transform(XX[:,2])\n",
        "XX[:,3] = encoder.fit_transform(XX[:,3])\n",
        "\n",
        "yy = encoder.fit_transform(YY).reshape(-1,1)\n",
        "YY = ohe.fit_transform(yy).toarray()\n",
        "XX.shape, YY.shape\n",
        "YY"
      ],
      "execution_count": 28,
      "outputs": [
        {
          "output_type": "execute_result",
          "data": {
            "text/plain": [
              "array([[0., 0., 0., ..., 1., 0., 0.],\n",
              "       [0., 0., 0., ..., 1., 0., 0.],\n",
              "       [0., 0., 0., ..., 1., 0., 0.],\n",
              "       ...,\n",
              "       [0., 0., 0., ..., 1., 0., 0.],\n",
              "       [0., 0., 0., ..., 1., 0., 0.],\n",
              "       [0., 0., 0., ..., 1., 0., 0.]])"
            ]
          },
          "metadata": {},
          "execution_count": 28
        }
      ]
    },
    {
      "cell_type": "code",
      "source": [
        "combinedData.columns"
      ],
      "metadata": {
        "id": "YljomNC-tbwA",
        "colab": {
          "base_uri": "https://localhost:8080/"
        },
        "outputId": "e741f911-ef2f-43cc-96b0-eef695934c2a"
      },
      "execution_count": 29,
      "outputs": [
        {
          "output_type": "execute_result",
          "data": {
            "text/plain": [
              "Index(['dur', 'proto', 'service', 'state', 'spkts', 'dpkts', 'sbytes',\n",
              "       'dbytes', 'rate', 'sttl', 'dttl', 'sload', 'dload', 'sloss', 'dloss',\n",
              "       'sinpkt', 'dinpkt', 'sjit', 'djit', 'swin', 'stcpb', 'dtcpb', 'dwin',\n",
              "       'tcprtt', 'synack', 'ackdat', 'smean', 'dmean', 'trans_depth',\n",
              "       'response_body_len', 'ct_srv_src', 'ct_state_ttl', 'ct_dst_ltm',\n",
              "       'ct_src_dport_ltm', 'ct_dst_sport_ltm', 'ct_dst_src_ltm',\n",
              "       'is_ftp_login', 'ct_ftp_cmd', 'ct_flw_http_mthd', 'ct_src_ltm',\n",
              "       'ct_srv_dst', 'is_sm_ips_ports', 'attack_cat'],\n",
              "      dtype='object')"
            ]
          },
          "metadata": {},
          "execution_count": 29
        }
      ]
    },
    {
      "cell_type": "code",
      "metadata": {
        "id": "dMzYMjnEUX6d"
      },
      "source": [
        "cols_ = ['dur', 'proto', 'service', 'state', 'spkts', 'dpkts', 'sbytes',\n",
        "       'dbytes', 'rate', 'sttl', 'dttl', 'sload', 'dload', 'sloss', 'dloss',\n",
        "       'sinpkt', 'dinpkt', 'sjit', 'djit', 'swin', 'stcpb', 'dtcpb', 'dwin',\n",
        "       'tcprtt', 'synack', 'ackdat', 'smean', 'dmean', 'trans_depth',\n",
        "       'response_body_len', 'ct_srv_src', 'ct_state_ttl', 'ct_dst_ltm',\n",
        "       'ct_src_dport_ltm', 'ct_dst_sport_ltm', 'ct_dst_src_ltm',\n",
        "       'is_ftp_login', 'ct_ftp_cmd', 'ct_flw_http_mthd', 'ct_src_ltm',\n",
        "       'ct_srv_dst', 'is_sm_ips_ports']"
      ],
      "execution_count": 30,
      "outputs": []
    },
    {
      "cell_type": "code",
      "metadata": {
        "id": "YPNZm0CaX38K",
        "outputId": "12487354-5715-4247-8add-71c5e8e7aa60",
        "colab": {
          "base_uri": "https://localhost:8080/",
          "height": 424
        }
      },
      "source": [
        "dataX = pd.DataFrame(XX,columns=cols_)\n",
        "dataY = pd.DataFrame(yy)\n",
        "dataY"
      ],
      "execution_count": 31,
      "outputs": [
        {
          "output_type": "execute_result",
          "data": {
            "text/plain": [
              "        0\n",
              "0       6\n",
              "1       6\n",
              "2       6\n",
              "3       6\n",
              "4       6\n",
              "...    ..\n",
              "116347  6\n",
              "116348  6\n",
              "116349  6\n",
              "116350  6\n",
              "116351  6\n",
              "\n",
              "[116352 rows x 1 columns]"
            ],
            "text/html": [
              "\n",
              "  <div id=\"df-1ff58dc0-11d6-4465-92d4-9e9ee7e0132f\">\n",
              "    <div class=\"colab-df-container\">\n",
              "      <div>\n",
              "<style scoped>\n",
              "    .dataframe tbody tr th:only-of-type {\n",
              "        vertical-align: middle;\n",
              "    }\n",
              "\n",
              "    .dataframe tbody tr th {\n",
              "        vertical-align: top;\n",
              "    }\n",
              "\n",
              "    .dataframe thead th {\n",
              "        text-align: right;\n",
              "    }\n",
              "</style>\n",
              "<table border=\"1\" class=\"dataframe\">\n",
              "  <thead>\n",
              "    <tr style=\"text-align: right;\">\n",
              "      <th></th>\n",
              "      <th>0</th>\n",
              "    </tr>\n",
              "  </thead>\n",
              "  <tbody>\n",
              "    <tr>\n",
              "      <th>0</th>\n",
              "      <td>6</td>\n",
              "    </tr>\n",
              "    <tr>\n",
              "      <th>1</th>\n",
              "      <td>6</td>\n",
              "    </tr>\n",
              "    <tr>\n",
              "      <th>2</th>\n",
              "      <td>6</td>\n",
              "    </tr>\n",
              "    <tr>\n",
              "      <th>3</th>\n",
              "      <td>6</td>\n",
              "    </tr>\n",
              "    <tr>\n",
              "      <th>4</th>\n",
              "      <td>6</td>\n",
              "    </tr>\n",
              "    <tr>\n",
              "      <th>...</th>\n",
              "      <td>...</td>\n",
              "    </tr>\n",
              "    <tr>\n",
              "      <th>116347</th>\n",
              "      <td>6</td>\n",
              "    </tr>\n",
              "    <tr>\n",
              "      <th>116348</th>\n",
              "      <td>6</td>\n",
              "    </tr>\n",
              "    <tr>\n",
              "      <th>116349</th>\n",
              "      <td>6</td>\n",
              "    </tr>\n",
              "    <tr>\n",
              "      <th>116350</th>\n",
              "      <td>6</td>\n",
              "    </tr>\n",
              "    <tr>\n",
              "      <th>116351</th>\n",
              "      <td>6</td>\n",
              "    </tr>\n",
              "  </tbody>\n",
              "</table>\n",
              "<p>116352 rows × 1 columns</p>\n",
              "</div>\n",
              "      <button class=\"colab-df-convert\" onclick=\"convertToInteractive('df-1ff58dc0-11d6-4465-92d4-9e9ee7e0132f')\"\n",
              "              title=\"Convert this dataframe to an interactive table.\"\n",
              "              style=\"display:none;\">\n",
              "        \n",
              "  <svg xmlns=\"http://www.w3.org/2000/svg\" height=\"24px\"viewBox=\"0 0 24 24\"\n",
              "       width=\"24px\">\n",
              "    <path d=\"M0 0h24v24H0V0z\" fill=\"none\"/>\n",
              "    <path d=\"M18.56 5.44l.94 2.06.94-2.06 2.06-.94-2.06-.94-.94-2.06-.94 2.06-2.06.94zm-11 1L8.5 8.5l.94-2.06 2.06-.94-2.06-.94L8.5 2.5l-.94 2.06-2.06.94zm10 10l.94 2.06.94-2.06 2.06-.94-2.06-.94-.94-2.06-.94 2.06-2.06.94z\"/><path d=\"M17.41 7.96l-1.37-1.37c-.4-.4-.92-.59-1.43-.59-.52 0-1.04.2-1.43.59L10.3 9.45l-7.72 7.72c-.78.78-.78 2.05 0 2.83L4 21.41c.39.39.9.59 1.41.59.51 0 1.02-.2 1.41-.59l7.78-7.78 2.81-2.81c.8-.78.8-2.07 0-2.86zM5.41 20L4 18.59l7.72-7.72 1.47 1.35L5.41 20z\"/>\n",
              "  </svg>\n",
              "      </button>\n",
              "      \n",
              "  <style>\n",
              "    .colab-df-container {\n",
              "      display:flex;\n",
              "      flex-wrap:wrap;\n",
              "      gap: 12px;\n",
              "    }\n",
              "\n",
              "    .colab-df-convert {\n",
              "      background-color: #E8F0FE;\n",
              "      border: none;\n",
              "      border-radius: 50%;\n",
              "      cursor: pointer;\n",
              "      display: none;\n",
              "      fill: #1967D2;\n",
              "      height: 32px;\n",
              "      padding: 0 0 0 0;\n",
              "      width: 32px;\n",
              "    }\n",
              "\n",
              "    .colab-df-convert:hover {\n",
              "      background-color: #E2EBFA;\n",
              "      box-shadow: 0px 1px 2px rgba(60, 64, 67, 0.3), 0px 1px 3px 1px rgba(60, 64, 67, 0.15);\n",
              "      fill: #174EA6;\n",
              "    }\n",
              "\n",
              "    [theme=dark] .colab-df-convert {\n",
              "      background-color: #3B4455;\n",
              "      fill: #D2E3FC;\n",
              "    }\n",
              "\n",
              "    [theme=dark] .colab-df-convert:hover {\n",
              "      background-color: #434B5C;\n",
              "      box-shadow: 0px 1px 3px 1px rgba(0, 0, 0, 0.15);\n",
              "      filter: drop-shadow(0px 1px 2px rgba(0, 0, 0, 0.3));\n",
              "      fill: #FFFFFF;\n",
              "    }\n",
              "  </style>\n",
              "\n",
              "      <script>\n",
              "        const buttonEl =\n",
              "          document.querySelector('#df-1ff58dc0-11d6-4465-92d4-9e9ee7e0132f button.colab-df-convert');\n",
              "        buttonEl.style.display =\n",
              "          google.colab.kernel.accessAllowed ? 'block' : 'none';\n",
              "\n",
              "        async function convertToInteractive(key) {\n",
              "          const element = document.querySelector('#df-1ff58dc0-11d6-4465-92d4-9e9ee7e0132f');\n",
              "          const dataTable =\n",
              "            await google.colab.kernel.invokeFunction('convertToInteractive',\n",
              "                                                     [key], {});\n",
              "          if (!dataTable) return;\n",
              "\n",
              "          const docLinkHtml = 'Like what you see? Visit the ' +\n",
              "            '<a target=\"_blank\" href=https://colab.research.google.com/notebooks/data_table.ipynb>data table notebook</a>'\n",
              "            + ' to learn more about interactive tables.';\n",
              "          element.innerHTML = '';\n",
              "          dataTable['output_type'] = 'display_data';\n",
              "          await google.colab.output.renderOutput(dataTable, element);\n",
              "          const docLink = document.createElement('div');\n",
              "          docLink.innerHTML = docLinkHtml;\n",
              "          element.appendChild(docLink);\n",
              "        }\n",
              "      </script>\n",
              "    </div>\n",
              "  </div>\n",
              "  "
            ]
          },
          "metadata": {},
          "execution_count": 31
        }
      ]
    },
    {
      "cell_type": "markdown",
      "metadata": {
        "id": "D9RC0jQyTM6d"
      },
      "source": [
        "## **Feature Selection**\n",
        "Since there is such a large number of features, it is possible that some features are redundant. Let us print a correlation matrix"
      ]
    },
    {
      "cell_type": "code",
      "metadata": {
        "outputId": "a22699c8-ce57-4c39-f0ee-db6fac8c4b74",
        "colab": {
          "base_uri": "https://localhost:8080/"
        },
        "id": "18Wb4wDiKHUs"
      },
      "source": [
        "from sklearn.feature_selection import RFE\n",
        "from sklearn.tree import DecisionTreeClassifier\n",
        "import itertools    \n",
        "\n",
        "model_ = DecisionTreeClassifier()\n",
        "\n",
        "# create RFE model and select 15 attributes\n",
        "rec = RFE(model_, n_features_to_select = 15)\n",
        "rec = rec.fit(dataX, dataY)\n",
        "\n",
        "# summarize the selection of the attributes\n",
        "featuresMap = [(x, n) for x, n in itertools.zip_longest(rec.get_support(), dataX.columns)]\n",
        "selectedFeatures = [n for x, n in featuresMap if x == True]\n",
        "\n",
        "print(selectedFeatures)"
      ],
      "execution_count": 32,
      "outputs": [
        {
          "output_type": "stream",
          "name": "stdout",
          "text": [
            "['dpkts', 'sbytes', 'dbytes', 'sttl', 'sload', 'dinpkt', 'sjit', 'stcpb', 'dtcpb', 'tcprtt', 'synack', 'ackdat', 'smean', 'dmean', 'ct_srv_dst']\n"
          ]
        }
      ]
    },
    {
      "cell_type": "markdown",
      "source": [
        "Selecting Features"
      ],
      "metadata": {
        "id": "h5Gg76_IKr3G"
      }
    },
    {
      "cell_type": "code",
      "metadata": {
        "outputId": "9273b708-7fbb-4815-e08e-2e5c03207686",
        "colab": {
          "base_uri": "https://localhost:8080/",
          "height": 241
        },
        "id": "0OQepJAuKHUs"
      },
      "source": [
        "Xdata = dataX[selectedFeatures]\n",
        "X = Xdata[selectedFeatures]\n",
        "print('15 selected features \\n')\n",
        "X.head()"
      ],
      "execution_count": 59,
      "outputs": [
        {
          "output_type": "stream",
          "name": "stdout",
          "text": [
            "15 selected features \n",
            "\n"
          ]
        },
        {
          "output_type": "execute_result",
          "data": {
            "text/plain": [
              "  dpkts sbytes dbytes sttl        sload     dinpkt         sjit       stcpb  \\\n",
              "0    12    628    770   62  2740.178955  90.235726   259.080172  1107119177   \n",
              "1    28  56329   2212   62   211825.125  75.092445  3253.278833  1824722662   \n",
              "2     0    138      0  254  276000000.0        0.0          0.0           0   \n",
              "3     8    860   1096   62  15733.46582  47.669145  2124.837873  3882971404   \n",
              "4     6    998    268  254  21277.03711  56.579801   1928.55071  2665974075   \n",
              "\n",
              "        dtcpb    tcprtt    synack    ackdat smean dmean ct_srv_dst  \n",
              "0  1047442890       0.0       0.0       0.0    52    64          1  \n",
              "1   860716719   0.13114  0.052852  0.078288   909    79          1  \n",
              "2           0       0.0       0.0       0.0    69     0          1  \n",
              "3  3084071099  0.120313  0.059201  0.061112    86   137          3  \n",
              "4  3521361798  0.154433  0.055109  0.099324   100    45          3  "
            ],
            "text/html": [
              "\n",
              "  <div id=\"df-07acebc6-3e56-403b-aae8-43cdacbf5c77\">\n",
              "    <div class=\"colab-df-container\">\n",
              "      <div>\n",
              "<style scoped>\n",
              "    .dataframe tbody tr th:only-of-type {\n",
              "        vertical-align: middle;\n",
              "    }\n",
              "\n",
              "    .dataframe tbody tr th {\n",
              "        vertical-align: top;\n",
              "    }\n",
              "\n",
              "    .dataframe thead th {\n",
              "        text-align: right;\n",
              "    }\n",
              "</style>\n",
              "<table border=\"1\" class=\"dataframe\">\n",
              "  <thead>\n",
              "    <tr style=\"text-align: right;\">\n",
              "      <th></th>\n",
              "      <th>dpkts</th>\n",
              "      <th>sbytes</th>\n",
              "      <th>dbytes</th>\n",
              "      <th>sttl</th>\n",
              "      <th>sload</th>\n",
              "      <th>dinpkt</th>\n",
              "      <th>sjit</th>\n",
              "      <th>stcpb</th>\n",
              "      <th>dtcpb</th>\n",
              "      <th>tcprtt</th>\n",
              "      <th>synack</th>\n",
              "      <th>ackdat</th>\n",
              "      <th>smean</th>\n",
              "      <th>dmean</th>\n",
              "      <th>ct_srv_dst</th>\n",
              "    </tr>\n",
              "  </thead>\n",
              "  <tbody>\n",
              "    <tr>\n",
              "      <th>0</th>\n",
              "      <td>12</td>\n",
              "      <td>628</td>\n",
              "      <td>770</td>\n",
              "      <td>62</td>\n",
              "      <td>2740.178955</td>\n",
              "      <td>90.235726</td>\n",
              "      <td>259.080172</td>\n",
              "      <td>1107119177</td>\n",
              "      <td>1047442890</td>\n",
              "      <td>0.0</td>\n",
              "      <td>0.0</td>\n",
              "      <td>0.0</td>\n",
              "      <td>52</td>\n",
              "      <td>64</td>\n",
              "      <td>1</td>\n",
              "    </tr>\n",
              "    <tr>\n",
              "      <th>1</th>\n",
              "      <td>28</td>\n",
              "      <td>56329</td>\n",
              "      <td>2212</td>\n",
              "      <td>62</td>\n",
              "      <td>211825.125</td>\n",
              "      <td>75.092445</td>\n",
              "      <td>3253.278833</td>\n",
              "      <td>1824722662</td>\n",
              "      <td>860716719</td>\n",
              "      <td>0.13114</td>\n",
              "      <td>0.052852</td>\n",
              "      <td>0.078288</td>\n",
              "      <td>909</td>\n",
              "      <td>79</td>\n",
              "      <td>1</td>\n",
              "    </tr>\n",
              "    <tr>\n",
              "      <th>2</th>\n",
              "      <td>0</td>\n",
              "      <td>138</td>\n",
              "      <td>0</td>\n",
              "      <td>254</td>\n",
              "      <td>276000000.0</td>\n",
              "      <td>0.0</td>\n",
              "      <td>0.0</td>\n",
              "      <td>0</td>\n",
              "      <td>0</td>\n",
              "      <td>0.0</td>\n",
              "      <td>0.0</td>\n",
              "      <td>0.0</td>\n",
              "      <td>69</td>\n",
              "      <td>0</td>\n",
              "      <td>1</td>\n",
              "    </tr>\n",
              "    <tr>\n",
              "      <th>3</th>\n",
              "      <td>8</td>\n",
              "      <td>860</td>\n",
              "      <td>1096</td>\n",
              "      <td>62</td>\n",
              "      <td>15733.46582</td>\n",
              "      <td>47.669145</td>\n",
              "      <td>2124.837873</td>\n",
              "      <td>3882971404</td>\n",
              "      <td>3084071099</td>\n",
              "      <td>0.120313</td>\n",
              "      <td>0.059201</td>\n",
              "      <td>0.061112</td>\n",
              "      <td>86</td>\n",
              "      <td>137</td>\n",
              "      <td>3</td>\n",
              "    </tr>\n",
              "    <tr>\n",
              "      <th>4</th>\n",
              "      <td>6</td>\n",
              "      <td>998</td>\n",
              "      <td>268</td>\n",
              "      <td>254</td>\n",
              "      <td>21277.03711</td>\n",
              "      <td>56.579801</td>\n",
              "      <td>1928.55071</td>\n",
              "      <td>2665974075</td>\n",
              "      <td>3521361798</td>\n",
              "      <td>0.154433</td>\n",
              "      <td>0.055109</td>\n",
              "      <td>0.099324</td>\n",
              "      <td>100</td>\n",
              "      <td>45</td>\n",
              "      <td>3</td>\n",
              "    </tr>\n",
              "  </tbody>\n",
              "</table>\n",
              "</div>\n",
              "      <button class=\"colab-df-convert\" onclick=\"convertToInteractive('df-07acebc6-3e56-403b-aae8-43cdacbf5c77')\"\n",
              "              title=\"Convert this dataframe to an interactive table.\"\n",
              "              style=\"display:none;\">\n",
              "        \n",
              "  <svg xmlns=\"http://www.w3.org/2000/svg\" height=\"24px\"viewBox=\"0 0 24 24\"\n",
              "       width=\"24px\">\n",
              "    <path d=\"M0 0h24v24H0V0z\" fill=\"none\"/>\n",
              "    <path d=\"M18.56 5.44l.94 2.06.94-2.06 2.06-.94-2.06-.94-.94-2.06-.94 2.06-2.06.94zm-11 1L8.5 8.5l.94-2.06 2.06-.94-2.06-.94L8.5 2.5l-.94 2.06-2.06.94zm10 10l.94 2.06.94-2.06 2.06-.94-2.06-.94-.94-2.06-.94 2.06-2.06.94z\"/><path d=\"M17.41 7.96l-1.37-1.37c-.4-.4-.92-.59-1.43-.59-.52 0-1.04.2-1.43.59L10.3 9.45l-7.72 7.72c-.78.78-.78 2.05 0 2.83L4 21.41c.39.39.9.59 1.41.59.51 0 1.02-.2 1.41-.59l7.78-7.78 2.81-2.81c.8-.78.8-2.07 0-2.86zM5.41 20L4 18.59l7.72-7.72 1.47 1.35L5.41 20z\"/>\n",
              "  </svg>\n",
              "      </button>\n",
              "      \n",
              "  <style>\n",
              "    .colab-df-container {\n",
              "      display:flex;\n",
              "      flex-wrap:wrap;\n",
              "      gap: 12px;\n",
              "    }\n",
              "\n",
              "    .colab-df-convert {\n",
              "      background-color: #E8F0FE;\n",
              "      border: none;\n",
              "      border-radius: 50%;\n",
              "      cursor: pointer;\n",
              "      display: none;\n",
              "      fill: #1967D2;\n",
              "      height: 32px;\n",
              "      padding: 0 0 0 0;\n",
              "      width: 32px;\n",
              "    }\n",
              "\n",
              "    .colab-df-convert:hover {\n",
              "      background-color: #E2EBFA;\n",
              "      box-shadow: 0px 1px 2px rgba(60, 64, 67, 0.3), 0px 1px 3px 1px rgba(60, 64, 67, 0.15);\n",
              "      fill: #174EA6;\n",
              "    }\n",
              "\n",
              "    [theme=dark] .colab-df-convert {\n",
              "      background-color: #3B4455;\n",
              "      fill: #D2E3FC;\n",
              "    }\n",
              "\n",
              "    [theme=dark] .colab-df-convert:hover {\n",
              "      background-color: #434B5C;\n",
              "      box-shadow: 0px 1px 3px 1px rgba(0, 0, 0, 0.15);\n",
              "      filter: drop-shadow(0px 1px 2px rgba(0, 0, 0, 0.3));\n",
              "      fill: #FFFFFF;\n",
              "    }\n",
              "  </style>\n",
              "\n",
              "      <script>\n",
              "        const buttonEl =\n",
              "          document.querySelector('#df-07acebc6-3e56-403b-aae8-43cdacbf5c77 button.colab-df-convert');\n",
              "        buttonEl.style.display =\n",
              "          google.colab.kernel.accessAllowed ? 'block' : 'none';\n",
              "\n",
              "        async function convertToInteractive(key) {\n",
              "          const element = document.querySelector('#df-07acebc6-3e56-403b-aae8-43cdacbf5c77');\n",
              "          const dataTable =\n",
              "            await google.colab.kernel.invokeFunction('convertToInteractive',\n",
              "                                                     [key], {});\n",
              "          if (!dataTable) return;\n",
              "\n",
              "          const docLinkHtml = 'Like what you see? Visit the ' +\n",
              "            '<a target=\"_blank\" href=https://colab.research.google.com/notebooks/data_table.ipynb>data table notebook</a>'\n",
              "            + ' to learn more about interactive tables.';\n",
              "          element.innerHTML = '';\n",
              "          dataTable['output_type'] = 'display_data';\n",
              "          await google.colab.output.renderOutput(dataTable, element);\n",
              "          const docLink = document.createElement('div');\n",
              "          docLink.innerHTML = docLinkHtml;\n",
              "          element.appendChild(docLink);\n",
              "        }\n",
              "      </script>\n",
              "    </div>\n",
              "  </div>\n",
              "  "
            ]
          },
          "metadata": {},
          "execution_count": 59
        }
      ]
    },
    {
      "cell_type": "markdown",
      "source": [
        "## **Over Sampling**"
      ],
      "metadata": {
        "id": "WQSmlWw3GBSp"
      }
    },
    {
      "cell_type": "code",
      "source": [
        "from imblearn.over_sampling import SMOTE\n",
        "sm = SMOTE()\n",
        "Xres, Yres = sm.fit_resample(Xdata, dataY)"
      ],
      "metadata": {
        "id": "EhMOCr31GAzC"
      },
      "execution_count": 34,
      "outputs": []
    },
    {
      "cell_type": "markdown",
      "metadata": {
        "id": "VrYgY8oC_udy"
      },
      "source": [
        "## **Dataset Splitting**\n",
        "The next step is to split training and testing data. For this we will use sklearn function train_test_split(). This step is important so we can have representative data for evaluating our model. Both train and test samples should contain similar data variance."
      ]
    },
    {
      "cell_type": "code",
      "source": [
        "from sklearn.model_selection import train_test_split\n",
        "# The next step is to split training and testing data. For this we will use sklearn function train_test_split().\n",
        "i_train, i_test, j_train, j_test = train_test_split(Xres, Yres, train_size=0.7,test_size=0.3,  random_state = 1, shuffle=True)"
      ],
      "metadata": {
        "id": "dvOlpcwudcvS"
      },
      "execution_count": 35,
      "outputs": []
    },
    {
      "cell_type": "code",
      "source": [
        "i_train.shape, j_train.shape, i_test.shape, j_test.shape    # test is larger... good "
      ],
      "metadata": {
        "id": "VpdDLHfXd-7y",
        "colab": {
          "base_uri": "https://localhost:8080/"
        },
        "outputId": "4aec3951-7d2a-45da-8402-38d11cac0a77"
      },
      "execution_count": 36,
      "outputs": [
        {
          "output_type": "execute_result",
          "data": {
            "text/plain": [
              "((365122, 15), (365122, 1), (156482, 15), (156482, 1))"
            ]
          },
          "metadata": {},
          "execution_count": 36
        }
      ]
    },
    {
      "cell_type": "markdown",
      "source": [
        "## **Scaling Numerical Attributes**\n",
        "The next few cells contain the code for scaling the data into the size adequate for the Models."
      ],
      "metadata": {
        "id": "nBSy6K0Y3V4l"
      }
    },
    {
      "cell_type": "code",
      "source": [
        "# ?? why transformation here\n",
        "from sklearn.preprocessing import StandardScaler\n",
        "sc = StandardScaler()\n",
        "i_train = sc.fit_transform(i_train)\n",
        "i_test = sc.transform(i_test)\n",
        "i_train.shape, i_test.shape"
      ],
      "metadata": {
        "id": "Y__daF--RDkO",
        "colab": {
          "base_uri": "https://localhost:8080/"
        },
        "outputId": "6c1e6b2f-9b7a-4c2f-f9f6-3cb5ba3938ac"
      },
      "execution_count": 37,
      "outputs": [
        {
          "output_type": "execute_result",
          "data": {
            "text/plain": [
              "((365122, 15), (156482, 15))"
            ]
          },
          "metadata": {},
          "execution_count": 37
        }
      ]
    },
    {
      "cell_type": "markdown",
      "metadata": {
        "id": "55PvMleYZzX0"
      },
      "source": [
        "## **Machine-Learning model training**"
      ]
    },
    {
      "cell_type": "markdown",
      "source": [
        "importing required libraries for ml model"
      ],
      "metadata": {
        "id": "AnzG8Ukhj41u"
      }
    },
    {
      "cell_type": "code",
      "source": [
        "from sklearn.ensemble import RandomForestClassifier,ExtraTreesClassifier\n",
        "import xgboost as xgb\n",
        "from sklearn.metrics import classification_report,confusion_matrix,accuracy_score,precision_recall_fscore_support\n",
        "from sklearn.metrics import f1_score,roc_auc_score\n",
        "from sklearn.metrics import classification_report, confusion_matrix, ConfusionMatrixDisplay\n",
        "from sklearn.metrics import plot_confusion_matrix\n",
        "from sklearn.metrics import (precision_score, recall_score,f1_score, accuracy_score,mean_squared_error,mean_absolute_error,roc_auc_score,cohen_kappa_score)\n",
        "import sklearn.metrics as metrics"
      ],
      "metadata": {
        "id": "3ODwIioD4Myg"
      },
      "execution_count": 38,
      "outputs": []
    },
    {
      "cell_type": "markdown",
      "metadata": {
        "id": "J-M5MpS3ZzX0"
      },
      "source": [
        "### Training four base learners: decision tree, random forest, XGBoost"
      ]
    },
    {
      "cell_type": "markdown",
      "metadata": {
        "id": "_Stk3cifZzX4"
      },
      "source": [
        "#### Apply DT"
      ]
    },
    {
      "cell_type": "markdown",
      "source": [
        "Training Decision Tree"
      ],
      "metadata": {
        "id": "Px795IePkLBA"
      }
    },
    {
      "cell_type": "code",
      "execution_count": 39,
      "metadata": {
        "id": "8NF2W2VOZzX4",
        "outputId": "39bee148-82e2-4c38-e41f-3a5c626be8cc",
        "colab": {
          "base_uri": "https://localhost:8080/",
          "height": 0
        }
      },
      "outputs": [
        {
          "output_type": "stream",
          "name": "stdout",
          "text": [
            "Accuracy of Decision Tree: 0.9335898058562646\n",
            "                precision    recall  f1-score   support\n",
            "\n",
            "      Analysis       0.97      0.99      0.98     17431\n",
            "      Backdoor       0.98      0.99      0.99     17392\n",
            "           DoS       0.80      0.82      0.81     17466\n",
            "      Exploits       0.80      0.76      0.78     17378\n",
            "       Fuzzers       0.96      0.96      0.96     17631\n",
            "       Generic       0.99      0.99      0.99     17445\n",
            "        Normal       0.95      0.94      0.95     17426\n",
            "Reconnaissance       0.94      0.95      0.95     17178\n",
            "         Worms       0.99      1.00      0.99     17135\n",
            "\n",
            "      accuracy                           0.93    156482\n",
            "     macro avg       0.93      0.93      0.93    156482\n",
            "  weighted avg       0.93      0.93      0.93    156482\n",
            "\n"
          ]
        },
        {
          "output_type": "display_data",
          "data": {
            "text/plain": [
              "<Figure size 576x432 with 2 Axes>"
            ],
            "image/png": "[encoded data removed]"
          },
          "metadata": {
            "needs_background": "light"
          }
        }
      ],
      "source": [
        "##@title  { vertical-output: true, form-width: \"45%\", display-mode: \"both\" }\n",
        "dt = DecisionTreeClassifier(random_state = 0)\n",
        "dt.fit(i_train, j_train) \n",
        "\n",
        "y_predict=dt.predict(i_test)\n",
        "y_true=j_test\n",
        "\n",
        "dt_score=dt.score(i_test, j_test)\n",
        "print('Accuracy of Decision Tree: '+ str(dt_score))\n",
        "cr = print(metrics.classification_report(y_true, y_predict, target_names=le2.classes_))\n",
        "\n",
        "cm=confusion_matrix(y_true,y_predict)\n",
        "f,ax=plt.subplots(figsize=(8,6))\n",
        "sns.heatmap(cm,annot=True,linewidth=0.1,linecolor=\"k\",fmt=\".0f\",ax=ax, cmap = 'viridis')\n",
        "plt.xlabel(\"y_pred\")\n",
        "plt.ylabel(\"y_true\")\n",
        "plt.show()"
      ]
    },
    {
      "cell_type": "markdown",
      "metadata": {
        "id": "pcS4DUx4ZzX2"
      },
      "source": [
        "#### Apply RF"
      ]
    },
    {
      "cell_type": "markdown",
      "source": [
        "Training Random Forest"
      ],
      "metadata": {
        "id": "Zm0YUVFgkN7s"
      }
    },
    {
      "cell_type": "code",
      "execution_count": 40,
      "metadata": {
        "id": "Q3YU2hGdZzX3",
        "outputId": "1aa30d16-47d7-47eb-afcf-74f554f0a5bb",
        "colab": {
          "base_uri": "https://localhost:8080/",
          "height": 0
        }
      },
      "outputs": [
        {
          "output_type": "stream",
          "name": "stdout",
          "text": [
            "Accuracy of Random Forest: 0.9599059316726525\n",
            "                precision    recall  f1-score   support\n",
            "\n",
            "      Analysis       0.97      1.00      0.99     17431\n",
            "      Backdoor       0.99      1.00      1.00     17392\n",
            "           DoS       0.87      0.92      0.89     17466\n",
            "      Exploits       0.91      0.82      0.86     17378\n",
            "       Fuzzers       0.97      0.99      0.98     17631\n",
            "       Generic       1.00      0.99      0.99     17445\n",
            "        Normal       0.99      0.94      0.97     17426\n",
            "Reconnaissance       0.94      0.98      0.96     17178\n",
            "         Worms       0.99      1.00      1.00     17135\n",
            "\n",
            "      accuracy                           0.96    156482\n",
            "     macro avg       0.96      0.96      0.96    156482\n",
            "  weighted avg       0.96      0.96      0.96    156482\n",
            "\n"
          ]
        },
        {
          "output_type": "display_data",
          "data": {
            "text/plain": [
              "<Figure size 576x432 with 2 Axes>"
            ],
            "image/png": "[encoded data removed]"
          },
          "metadata": {
            "needs_background": "light"
          }
        }
      ],
      "source": [
        "##@title  { vertical-output: true, display-mode: \"both\" }\n",
        "rf = RandomForestClassifier(random_state = 0)\n",
        "rf.fit(i_train, j_train) \n",
        "\n",
        "y_predict=rf.predict(i_test)\n",
        "y_true=j_test\n",
        "\n",
        "rf_score=rf.score(i_test, j_test)\n",
        "print('Accuracy of Random Forest: '+ str(rf_score))\n",
        "cr = print(metrics.classification_report(y_true, y_predict, target_names=le2.classes_))\n",
        "\n",
        "cm=confusion_matrix(y_true,y_predict)\n",
        "f,ax=plt.subplots(figsize=(8,6))\n",
        "sns.heatmap(cm,annot=True,linewidth=0.1,linecolor=\"k\",fmt=\".0f\",ax=ax, cmap = 'viridis')\n",
        "plt.xlabel(\"y_pred\")\n",
        "plt.ylabel(\"y_true\")\n",
        "plt.show()"
      ]
    },
    {
      "cell_type": "markdown",
      "metadata": {
        "id": "MG74uQhVZzX0"
      },
      "source": [
        "#### Apply XGBoost"
      ]
    },
    {
      "cell_type": "markdown",
      "source": [
        "Training XGBoost"
      ],
      "metadata": {
        "id": "c-BrcaAxkVkH"
      }
    },
    {
      "cell_type": "code",
      "execution_count": 41,
      "metadata": {
        "id": "CW2naZjoZzX0",
        "outputId": "3b4a9483-2b44-434f-d3e8-95a1976a573f",
        "colab": {
          "base_uri": "https://localhost:8080/",
          "height": 0
        }
      },
      "outputs": [
        {
          "output_type": "stream",
          "name": "stdout",
          "text": [
            "                precision    recall  f1-score   support\n",
            "\n",
            "      Analysis       0.89      0.95      0.92     17431\n",
            "      Backdoor       0.73      0.42      0.53     17392\n",
            "           DoS       0.45      0.42      0.43     17466\n",
            "      Exploits       0.60      0.65      0.62     17378\n",
            "       Fuzzers       0.79      0.91      0.84     17631\n",
            "       Generic       1.00      0.99      0.99     17445\n",
            "        Normal       1.00      0.85      0.92     17426\n",
            "Reconnaissance       0.76      0.91      0.83     17178\n",
            "         Worms       0.75      0.87      0.81     17135\n",
            "\n",
            "      accuracy                           0.77    156482\n",
            "     macro avg       0.77      0.77      0.77    156482\n",
            "  weighted avg       0.77      0.77      0.77    156482\n",
            "\n"
          ]
        },
        {
          "output_type": "display_data",
          "data": {
            "text/plain": [
              "<Figure size 576x432 with 2 Axes>"
            ],
            "image/png": "[encoded data removed]"
          },
          "metadata": {
            "needs_background": "light"
          }
        }
      ],
      "source": [
        "##@title  { vertical-output: true, display-mode: \"both\" }\n",
        "xg = xgb.XGBClassifier(n_estimators = 10)\n",
        "xg.fit(i_train,j_train)\n",
        "\n",
        "y_predict=xg.predict(i_test)\n",
        "y_true=j_test\n",
        "\n",
        "xg_score=xg.score(i_test, j_test)\n",
        "cr = print(metrics.classification_report(y_true, y_predict, target_names=le2.classes_))\n",
        "\n",
        "cm=confusion_matrix(y_true,y_predict)\n",
        "f,ax=plt.subplots(figsize=(8,6))\n",
        "sns.heatmap(cm,annot=True,linewidth=0.1,linecolor=\"k\",fmt=\".0f\",ax=ax, cmap = 'viridis')\n",
        "plt.xlabel(\"y_pred\")\n",
        "plt.ylabel(\"y_true\")\n",
        "plt.show()"
      ]
    },
    {
      "cell_type": "markdown",
      "metadata": {
        "id": "Jk3R1A0lzCwa"
      },
      "source": [
        "## **Deep-Learning Model Training**\n",
        "In this stage we go by explaning parts of the network and its hyperparameters."
      ]
    },
    {
      "cell_type": "markdown",
      "source": [
        "### Bi-directional LSTM Model\n"
      ],
      "metadata": {
        "id": "dcpw0_UEghD2"
      }
    },
    {
      "cell_type": "code",
      "execution_count": 42,
      "metadata": {
        "id": "RRlD8kRFlk7C"
      },
      "outputs": [],
      "source": [
        "#importing lobraries\n",
        "import keras\n",
        "from keras.models import Sequential,Model\n",
        "from tensorflow.keras.layers import Input, Dense,Dropout, BatchNormalization, Activation, Bidirectional, LSTM\n",
        "import tensorflow as tf\n",
        "from tensorflow import keras\n",
        "from tensorflow.keras import Model\n",
        "\n",
        "from tensorflow.keras.utils import plot_model\n",
        "from IPython.core.display import Image"
      ]
    },
    {
      "cell_type": "code",
      "source": [
        "from imblearn.over_sampling import SMOTE\n",
        "sm = SMOTE()\n",
        "x_res, y_res = sm.fit_resample(X,YY)"
      ],
      "metadata": {
        "id": "xZcEa4eavg_X"
      },
      "execution_count": 43,
      "outputs": []
    },
    {
      "cell_type": "code",
      "source": [
        "from sklearn.model_selection import train_test_split\n",
        "Xtrain, Xtest, Ytrain, Ytest = train_test_split(x_res, y_res,  train_size=0.7, test_size=0.3,  random_state = 1, shuffle=True)\n",
        "print([Xtrain.shape, Xtest.shape, Ytrain.shape, Ytest.shape])"
      ],
      "metadata": {
        "colab": {
          "base_uri": "https://localhost:8080/"
        },
        "id": "0Qru8BxObAHV",
        "outputId": "e5ba5a30-dcd1-4618-c1c1-a9e60666f348"
      },
      "execution_count": 44,
      "outputs": [
        {
          "output_type": "stream",
          "name": "stdout",
          "text": [
            "[(365122, 15), (156482, 15), (365122, 9), (156482, 9)]\n"
          ]
        }
      ]
    },
    {
      "cell_type": "code",
      "source": [
        "from sklearn.preprocessing import StandardScaler\n",
        "sc = StandardScaler()\n",
        "Xtrain = sc.fit_transform(Xtrain)\n",
        "Xtest = sc.transform(Xtest)\n",
        "Xtrain.shape, Xtest.shape"
      ],
      "metadata": {
        "colab": {
          "base_uri": "https://localhost:8080/"
        },
        "id": "eplVz8MXIR5e",
        "outputId": "31a8c4fc-d9c9-40ca-c71d-c4c88b5fec99"
      },
      "execution_count": 45,
      "outputs": [
        {
          "output_type": "execute_result",
          "data": {
            "text/plain": [
              "((365122, 15), (156482, 15))"
            ]
          },
          "metadata": {},
          "execution_count": 45
        }
      ]
    },
    {
      "cell_type": "markdown",
      "source": [
        "### Reshaping our data into 3D, which is required format of LSTM input"
      ],
      "metadata": {
        "id": "KzmxuWO4oPux"
      }
    },
    {
      "cell_type": "code",
      "source": [
        "Xtrain = Xtrain.reshape(Xtrain.shape[0],Xtrain.shape[1], 1)\n",
        "Xtest = Xtest.reshape(Xtest.shape[0],Xtest.shape[1], 1)\n",
        "Xtrain.shape, Xtest.shape"
      ],
      "metadata": {
        "id": "yozlfZMtJqq1",
        "colab": {
          "base_uri": "https://localhost:8080/"
        },
        "outputId": "44d3e92c-b992-49ab-dedd-3ecd5e9c75cd"
      },
      "execution_count": 46,
      "outputs": [
        {
          "output_type": "execute_result",
          "data": {
            "text/plain": [
              "((365122, 15, 1), (156482, 15, 1))"
            ]
          },
          "metadata": {},
          "execution_count": 46
        }
      ]
    },
    {
      "cell_type": "markdown",
      "source": [
        "### Structure of our BiLSTM"
      ],
      "metadata": {
        "id": "N0k8BJRd4CE3"
      }
    },
    {
      "cell_type": "code",
      "source": [
        "timesteps = 30"
      ],
      "metadata": {
        "id": "vKQ6ALbNhBGS"
      },
      "execution_count": 47,
      "outputs": []
    },
    {
      "cell_type": "code",
      "source": [
        "blstm_model = tf.keras.Sequential()\n",
        "blstm_model.add(Bidirectional(LSTM(60, return_sequences=True, activation= 'relu', input_shape=(Xtrain.shape[1], timesteps, 1))))\n",
        "blstm_model.add(Bidirectional(LSTM(60,return_sequences= False, activation= 'relu')))\n",
        "blstm_model.add(tf.keras.layers.Dropout(0.2))\n",
        "blstm_model.add(Dense(9, activation= 'softmax'))\n",
        "blstm_model.compile(optimizer='adam', loss = 'categorical_crossentropy', metrics=['accuracy'])\n",
        "history2 = blstm_model.fit(Xtrain, Ytrain,  epochs=10, validation_split=0.3, batch_size=700).history\n",
        "#model.summary()"
      ],
      "metadata": {
        "colab": {
          "base_uri": "https://localhost:8080/"
        },
        "id": "Y1hIvdu5PloF",
        "outputId": "1c216367-a7e5-41fd-bb02-62c43be6055c"
      },
      "execution_count": 48,
      "outputs": [
        {
          "output_type": "stream",
          "name": "stdout",
          "text": [
            "Epoch 1/10\n",
            "366/366 [==============================] - 130s 340ms/step - loss: 1.2569 - accuracy: 0.5250 - val_loss: 0.9427 - val_accuracy: 0.6602\n",
            "Epoch 2/10\n",
            "366/366 [==============================] - 123s 336ms/step - loss: 0.8783 - accuracy: 0.6849 - val_loss: 0.8159 - val_accuracy: 0.7062\n",
            "Epoch 3/10\n",
            "366/366 [==============================] - 124s 338ms/step - loss: 0.7450 - accuracy: 0.7366 - val_loss: 0.7014 - val_accuracy: 0.7493\n",
            "Epoch 4/10\n",
            "366/366 [==============================] - 124s 338ms/step - loss: 0.6785 - accuracy: 0.7599 - val_loss: 0.6201 - val_accuracy: 0.7799\n",
            "Epoch 5/10\n",
            "366/366 [==============================] - 123s 336ms/step - loss: 0.6310 - accuracy: 0.7766 - val_loss: 0.6121 - val_accuracy: 0.7869\n",
            "Epoch 6/10\n",
            "366/366 [==============================] - 123s 337ms/step - loss: 0.5981 - accuracy: 0.7868 - val_loss: 0.6448 - val_accuracy: 0.7667\n",
            "Epoch 7/10\n",
            "366/366 [==============================] - 125s 343ms/step - loss: 0.5734 - accuracy: 0.7961 - val_loss: 0.5612 - val_accuracy: 0.8000\n",
            "Epoch 8/10\n",
            "366/366 [==============================] - 123s 337ms/step - loss: 0.5502 - accuracy: 0.8042 - val_loss: 0.5468 - val_accuracy: 0.8071\n",
            "Epoch 9/10\n",
            "366/366 [==============================] - 123s 336ms/step - loss: 0.5283 - accuracy: 0.8117 - val_loss: 0.5092 - val_accuracy: 0.8196\n",
            "Epoch 10/10\n",
            "366/366 [==============================] - 137s 374ms/step - loss: 0.5135 - accuracy: 0.8176 - val_loss: 0.4858 - val_accuracy: 0.8270\n"
          ]
        }
      ]
    },
    {
      "cell_type": "code",
      "source": [
        "plot_model(blstm_model, to_file='model.png', show_shapes=True, show_layer_names=False, rankdir='TB', expand_nested=False, dpi=80)"
      ],
      "metadata": {
        "id": "TfIyOZ9UsHkT",
        "colab": {
          "base_uri": "https://localhost:8080/",
          "height": 447
        },
        "outputId": "e41c6ff8-2224-4ee0-d693-3082d7c44860"
      },
      "execution_count": 49,
      "outputs": [
        {
          "output_type": "execute_result",
          "data": {
            "text/plain": [
              "<IPython.core.display.Image object>"
            ],
            "image/png": "[encoded data removed]"
          },
          "metadata": {},
          "execution_count": 49
        }
      ]
    },
    {
      "cell_type": "markdown",
      "source": [
        "Evaluating our trained BiLSTM"
      ],
      "metadata": {
        "id": "u-J6ncH1pUMR"
      }
    },
    {
      "cell_type": "code",
      "source": [
        "##@title  { vertical-output: true, form-width: \"45%\", display-mode: \"both\" }\n",
        "#We now predict the output for our test dataset. If the prediction is greater than 0.5 then the output is 1 else the output is 0\n",
        "blstm_score = blstm_model.evaluate(Xtest, Ytest)\n",
        "y_pred=blstm_model.predict(Xtest)\n",
        "b_predict=np.argmax(y_pred, axis=1)\n",
        "b_test=np.argmax(Ytest, axis=1)\n",
        "\n",
        "\n",
        "print('Accuracy of BLSTM: '+ str(blstm_score[1]))\n",
        "\n",
        "precision,recall,fscore,none= precision_recall_fscore_support(b_test,np.round(b_predict), average='weighted') \n",
        "print('Precision of BLSTM: '+(str(precision)))\n",
        "print('Recall of BLSTM: '+(str(recall)))\n",
        "print('F1-score of BLSTM: '+(str(fscore)))\n",
        "print(metrics.classification_report(b_test, np.round(b_predict), target_names=le2.classes_))\n",
        "\n",
        "cm=confusion_matrix(b_test, np.round(b_predict))\n",
        "f,ax=plt.subplots(figsize=(8,6))\n",
        "sns.heatmap(cm,annot=True,linewidth=0.5,linecolor=\"k\",fmt=\".0f\",ax=ax, cmap = 'viridis')\n",
        "plt.xlabel(\"y_pred\")\n",
        "plt.ylabel(\"y_test\")\n",
        "plt.show()"
      ],
      "metadata": {
        "id": "WBgG61hTC6dG",
        "colab": {
          "base_uri": "https://localhost:8080/",
          "height": 754
        },
        "outputId": "5742d426-dc42-4346-c85e-72963d23905b"
      },
      "execution_count": 50,
      "outputs": [
        {
          "output_type": "stream",
          "name": "stdout",
          "text": [
            "4891/4891 [==============================] - 46s 9ms/step - loss: 0.4881 - accuracy: 0.8261\n",
            "Accuracy of BLSTM: 0.8261397480964661\n",
            "Precision of BLSTM: 0.8267599540840296\n",
            "Recall of BLSTM: 0.8261397477026111\n",
            "F1-score of BLSTM: 0.823854556436268\n",
            "                precision    recall  f1-score   support\n",
            "\n",
            "      Analysis       0.86      0.96      0.91     17431\n",
            "      Backdoor       0.81      0.73      0.77     17392\n",
            "           DoS       0.57      0.57      0.57     17466\n",
            "      Exploits       0.68      0.58      0.63     17378\n",
            "       Fuzzers       0.91      0.89      0.90     17631\n",
            "       Generic       1.00      0.99      0.99     17445\n",
            "        Normal       1.00      0.85      0.92     17426\n",
            "Reconnaissance       0.80      0.91      0.85     17178\n",
            "         Worms       0.81      0.96      0.88     17135\n",
            "\n",
            "      accuracy                           0.83    156482\n",
            "     macro avg       0.83      0.83      0.82    156482\n",
            "  weighted avg       0.83      0.83      0.82    156482\n",
            "\n"
          ]
        },
        {
          "output_type": "display_data",
          "data": {
            "text/plain": [
              "<Figure size 576x432 with 2 Axes>"
            ],
            "image/png": "[encoded data removed]"
          },
          "metadata": {
            "needs_background": "light"
          }
        }
      ]
    },
    {
      "cell_type": "markdown",
      "source": [
        "### Accuracy Curve of our trained BiLSTM"
      ],
      "metadata": {
        "id": "94fzYqVApc_K"
      }
    },
    {
      "cell_type": "code",
      "source": [
        "#@title  { vertical-output: true, form-width: \"45%\", display-mode: \"both\" }\n",
        "# Plot of accuracy vs epoch of train and test dataset\n",
        "\n",
        "plt.figure(figsize=(7,4))\n",
        "plt.plot(history2['accuracy'], 'violet')\n",
        "plt.plot(history2['val_accuracy'],'cyan')\n",
        "\n",
        "plt.title('Accuracy Curve of BiLSTM model')\n",
        "\n",
        "plt.ylabel('accuracy')\n",
        "plt.xlabel('epoch')\n",
        "plt.grid(False)\n",
        "plt.legend(['train', 'test'], loc='upper left');"
      ],
      "metadata": {
        "id": "AUjw7UZuZkYQ",
        "colab": {
          "base_uri": "https://localhost:8080/",
          "height": 295
        },
        "outputId": "18d127d6-4cff-4c09-c48b-adac0cff82ba"
      },
      "execution_count": 51,
      "outputs": [
        {
          "output_type": "display_data",
          "data": {
            "text/plain": [
              "<Figure size 504x288 with 1 Axes>"
            ],
            "image/png": "[encoded data removed]"
          },
          "metadata": {
            "needs_background": "light"
          }
        }
      ]
    },
    {
      "cell_type": "markdown",
      "source": [
        "### Loss Curve of our trained BiLSTM"
      ],
      "metadata": {
        "id": "jEQX7v1SplEX"
      }
    },
    {
      "cell_type": "code",
      "source": [
        "#@title  { vertical-output: true, form-width: \"45%\", display-mode: \"both\" }\n",
        "# Plot of loss vs epoch of train and test dataset\n",
        "\n",
        "plt.figure(figsize=(7,4))\n",
        "plt.plot(history2['loss'], 'violet')\n",
        "plt.plot(history2['val_loss'], 'cyan')\n",
        "\n",
        "plt.title('Loss Curve of BLSTM model')\n",
        "\n",
        "plt.ylabel('loss')\n",
        "plt.xlabel('epoch')\n",
        "plt.grid(False)\n",
        "plt.legend(['train', 'test'], loc='upper right');"
      ],
      "metadata": {
        "id": "3vB-FWf_Z_Xx",
        "colab": {
          "base_uri": "https://localhost:8080/",
          "height": 295
        },
        "outputId": "08d1b94d-6efe-4ae5-9956-7f4504ea76d0"
      },
      "execution_count": 52,
      "outputs": [
        {
          "output_type": "display_data",
          "data": {
            "text/plain": [
              "<Figure size 504x288 with 1 Axes>"
            ],
            "image/png": "[encoded data removed]"
          },
          "metadata": {
            "needs_background": "light"
          }
        }
      ]
    },
    {
      "cell_type": "markdown",
      "source": [
        "## **Models Comparision**\n",
        "The table below tabulates all the score accuracies from each model for a clear comparision."
      ],
      "metadata": {
        "id": "S2M7eXkDQfk_"
      }
    },
    {
      "cell_type": "code",
      "source": [
        "result = pd.DataFrame({ 'Classifiers': ['DecisionTree Classifier', 'RandomForest Classifier','GradientBoosting Classifier', 'Bidirectional LSTM'],\n",
        "                         'Score': [dt_score, rf_score, xg_score, blstm_score[1]]})\n",
        "\n",
        "result"
      ],
      "metadata": {
        "id": "8fpIvHtQ9PIk",
        "colab": {
          "base_uri": "https://localhost:8080/",
          "height": 175
        },
        "outputId": "5848cbd2-3eb0-4bb2-fe0f-7e67c7d6614e"
      },
      "execution_count": 53,
      "outputs": [
        {
          "output_type": "execute_result",
          "data": {
            "text/plain": [
              "                   Classifiers     Score\n",
              "0      DecisionTree Classifier  0.933590\n",
              "1      RandomForest Classifier  0.959906\n",
              "2  GradientBoosting Classifier  0.773354\n",
              "3           Bidirectional LSTM  0.826140"
            ],
            "text/html": [
              "\n",
              "  <div id=\"df-5e366d6e-0926-4224-824c-6bef5152e959\">\n",
              "    <div class=\"colab-df-container\">\n",
              "      <div>\n",
              "<style scoped>\n",
              "    .dataframe tbody tr th:only-of-type {\n",
              "        vertical-align: middle;\n",
              "    }\n",
              "\n",
              "    .dataframe tbody tr th {\n",
              "        vertical-align: top;\n",
              "    }\n",
              "\n",
              "    .dataframe thead th {\n",
              "        text-align: right;\n",
              "    }\n",
              "</style>\n",
              "<table border=\"1\" class=\"dataframe\">\n",
              "  <thead>\n",
              "    <tr style=\"text-align: right;\">\n",
              "      <th></th>\n",
              "      <th>Classifiers</th>\n",
              "      <th>Score</th>\n",
              "    </tr>\n",
              "  </thead>\n",
              "  <tbody>\n",
              "    <tr>\n",
              "      <th>0</th>\n",
              "      <td>DecisionTree Classifier</td>\n",
              "      <td>0.933590</td>\n",
              "    </tr>\n",
              "    <tr>\n",
              "      <th>1</th>\n",
              "      <td>RandomForest Classifier</td>\n",
              "      <td>0.959906</td>\n",
              "    </tr>\n",
              "    <tr>\n",
              "      <th>2</th>\n",
              "      <td>GradientBoosting Classifier</td>\n",
              "      <td>0.773354</td>\n",
              "    </tr>\n",
              "    <tr>\n",
              "      <th>3</th>\n",
              "      <td>Bidirectional LSTM</td>\n",
              "      <td>0.826140</td>\n",
              "    </tr>\n",
              "  </tbody>\n",
              "</table>\n",
              "</div>\n",
              "      <button class=\"colab-df-convert\" onclick=\"convertToInteractive('df-5e366d6e-0926-4224-824c-6bef5152e959')\"\n",
              "              title=\"Convert this dataframe to an interactive table.\"\n",
              "              style=\"display:none;\">\n",
              "        \n",
              "  <svg xmlns=\"http://www.w3.org/2000/svg\" height=\"24px\"viewBox=\"0 0 24 24\"\n",
              "       width=\"24px\">\n",
              "    <path d=\"M0 0h24v24H0V0z\" fill=\"none\"/>\n",
              "    <path d=\"M18.56 5.44l.94 2.06.94-2.06 2.06-.94-2.06-.94-.94-2.06-.94 2.06-2.06.94zm-11 1L8.5 8.5l.94-2.06 2.06-.94-2.06-.94L8.5 2.5l-.94 2.06-2.06.94zm10 10l.94 2.06.94-2.06 2.06-.94-2.06-.94-.94-2.06-.94 2.06-2.06.94z\"/><path d=\"M17.41 7.96l-1.37-1.37c-.4-.4-.92-.59-1.43-.59-.52 0-1.04.2-1.43.59L10.3 9.45l-7.72 7.72c-.78.78-.78 2.05 0 2.83L4 21.41c.39.39.9.59 1.41.59.51 0 1.02-.2 1.41-.59l7.78-7.78 2.81-2.81c.8-.78.8-2.07 0-2.86zM5.41 20L4 18.59l7.72-7.72 1.47 1.35L5.41 20z\"/>\n",
              "  </svg>\n",
              "      </button>\n",
              "      \n",
              "  <style>\n",
              "    .colab-df-container {\n",
              "      display:flex;\n",
              "      flex-wrap:wrap;\n",
              "      gap: 12px;\n",
              "    }\n",
              "\n",
              "    .colab-df-convert {\n",
              "      background-color: #E8F0FE;\n",
              "      border: none;\n",
              "      border-radius: 50%;\n",
              "      cursor: pointer;\n",
              "      display: none;\n",
              "      fill: #1967D2;\n",
              "      height: 32px;\n",
              "      padding: 0 0 0 0;\n",
              "      width: 32px;\n",
              "    }\n",
              "\n",
              "    .colab-df-convert:hover {\n",
              "      background-color: #E2EBFA;\n",
              "      box-shadow: 0px 1px 2px rgba(60, 64, 67, 0.3), 0px 1px 3px 1px rgba(60, 64, 67, 0.15);\n",
              "      fill: #174EA6;\n",
              "    }\n",
              "\n",
              "    [theme=dark] .colab-df-convert {\n",
              "      background-color: #3B4455;\n",
              "      fill: #D2E3FC;\n",
              "    }\n",
              "\n",
              "    [theme=dark] .colab-df-convert:hover {\n",
              "      background-color: #434B5C;\n",
              "      box-shadow: 0px 1px 3px 1px rgba(0, 0, 0, 0.15);\n",
              "      filter: drop-shadow(0px 1px 2px rgba(0, 0, 0, 0.3));\n",
              "      fill: #FFFFFF;\n",
              "    }\n",
              "  </style>\n",
              "\n",
              "      <script>\n",
              "        const buttonEl =\n",
              "          document.querySelector('#df-5e366d6e-0926-4224-824c-6bef5152e959 button.colab-df-convert');\n",
              "        buttonEl.style.display =\n",
              "          google.colab.kernel.accessAllowed ? 'block' : 'none';\n",
              "\n",
              "        async function convertToInteractive(key) {\n",
              "          const element = document.querySelector('#df-5e366d6e-0926-4224-824c-6bef5152e959');\n",
              "          const dataTable =\n",
              "            await google.colab.kernel.invokeFunction('convertToInteractive',\n",
              "                                                     [key], {});\n",
              "          if (!dataTable) return;\n",
              "\n",
              "          const docLinkHtml = 'Like what you see? Visit the ' +\n",
              "            '<a target=\"_blank\" href=https://colab.research.google.com/notebooks/data_table.ipynb>data table notebook</a>'\n",
              "            + ' to learn more about interactive tables.';\n",
              "          element.innerHTML = '';\n",
              "          dataTable['output_type'] = 'display_data';\n",
              "          await google.colab.output.renderOutput(dataTable, element);\n",
              "          const docLink = document.createElement('div');\n",
              "          docLink.innerHTML = docLinkHtml;\n",
              "          element.appendChild(docLink);\n",
              "        }\n",
              "      </script>\n",
              "    </div>\n",
              "  </div>\n",
              "  "
            ]
          },
          "metadata": {},
          "execution_count": 53
        }
      ]
    },
    {
      "cell_type": "code",
      "source": [
        "chart = pd.DataFrame({ 'Classifiers': ['DecisionTree', 'RandomForest','GradientBoosting', 'Bidirectional LSTM'],\n",
        "                         'Score': [dt_score, rf_score, xg_score, blstm_score[1]]})\n",
        "plt.figure(figsize=(8,6))\n",
        "ax=sns.barplot(data = chart, x = 'Classifiers', y = 'Score', palette='Set1')\n",
        "ax.set_xticklabels(ax.get_xticklabels(), )\n",
        "plt.title('PBID - UNSWNB15 \\n ', fontsize=12)\n",
        "#plt.legend([],[], frameon=True)\n",
        "plt.show()"
      ],
      "metadata": {
        "id": "vi77ozCTD-5q",
        "colab": {
          "base_uri": "https://localhost:8080/",
          "height": 419
        },
        "outputId": "600b7b6c-d5c0-468c-a427-2795eea7cfe7"
      },
      "execution_count": 54,
      "outputs": [
        {
          "output_type": "display_data",
          "data": {
            "text/plain": [
              "<Figure size 576x432 with 1 Axes>"
            ],
            "image/png": "[encoded data removed]"
          },
          "metadata": {
            "needs_background": "light"
          }
        }
      ]
    },
    {
      "cell_type": "markdown",
      "source": [
        "From these tested models, the results table shows that Random Forest classifier boast a 94% accuracy. \n",
        "The Deep Learning Models are even not far behind which had 92% around for  BLSTM.\n",
        "\n",
        "In conclusion, the Random Forest classifier out performs all the models in detecting intrusion on the network. DecisionTree classifier are a close second in detecting intrusions and giving reliable predictions.\n",
        "\n",
        "Finally To evaluate more about these models, the ROC curve and Calibration plots for multi-class classification need to be implemented."
      ],
      "metadata": {
        "id": "-folaOMH8U-_"
      }
    },
    {
      "cell_type": "markdown",
      "source": [
        "### **Performance Test**\n",
        "\n",
        "As our problem is about detecting intrusions. So what we require is more recall than precision of our model. Let's explain this, recall is important where false negative is more important than false positive. Here as false negative case ( means a real instrusion not detected ) is costly and we cannot afford to let go the intrusion undetected. And precision is important where false positive is more imporant than false negative.\n",
        "\n",
        "So the class which has more recall is class 3, as it has more recall and precision than other clasess as observed from figure below."
      ],
      "metadata": {
        "id": "zfxahmQHXdeo"
      }
    },
    {
      "cell_type": "markdown",
      "source": [
        "Importing required libraries\n",
        "\n",
        "Separating features and target\n",
        "\n",
        "and training one vs rest classifier\n"
      ],
      "metadata": {
        "id": "b6VUWKdHrBKa"
      }
    },
    {
      "cell_type": "markdown",
      "source": [
        "## **Plot the ROC Curve**"
      ],
      "metadata": {
        "id": "tpKu29bUr8XL"
      }
    },
    {
      "cell_type": "markdown",
      "source": [
        ""
      ],
      "metadata": {
        "id": "MJQ51KsrvhJ-"
      }
    },
    {
      "cell_type": "markdown",
      "source": [
        "Basically, ROC curve is an evaluation technique for classification problems. It plots sensivity against specificity. Senstivity is another name for recall which is true positive rate and specificity is false negative rate.\n",
        "\n",
        "We desire to maximize these two values. If we maximize senstivity, the specificity lowers and vice versa. It depends on scenario which one to prefer."
      ],
      "metadata": {
        "id": "4DdFcs-GBH97"
      }
    },
    {
      "cell_type": "code",
      "source": [
        "from sklearn.multiclass import OneVsRestClassifier\n",
        "from sklearn.ensemble import RandomForestClassifier\n",
        "from sklearn.metrics import roc_curve,auc"
      ],
      "metadata": {
        "id": "pWoxKISLr2Yz"
      },
      "execution_count": 55,
      "outputs": []
    },
    {
      "cell_type": "code",
      "source": [
        "X_train, X_test, y_train, y_test = train_test_split(Xdata, dataY, train_size=0.7,test_size=0.3,  random_state = 1, shuffle=True)\n",
        "classes=le2.classes_"
      ],
      "metadata": {
        "id": "M336bCURsTI1"
      },
      "execution_count": 56,
      "outputs": []
    },
    {
      "cell_type": "code",
      "source": [
        "RF=OneVsRestClassifier(RandomForestClassifier(max_features=0.2))\n",
        "RF.fit(X_train,y_train)\n",
        "y_pred =RF.predict(X_test)\n",
        "pred_prob = RF.predict_proba(X_test)"
      ],
      "metadata": {
        "id": "P0CbTSFpsDYi"
      },
      "execution_count": 57,
      "outputs": []
    },
    {
      "cell_type": "code",
      "source": [
        "from sklearn.preprocessing import label_binarize\n",
        "#binarize the y_values\n",
        "\n",
        "y_test_binarized=label_binarize(y_test,classes=np.unique(y_test))\n",
        "\n",
        "# roc curve for classes\n",
        "fpr = {}\n",
        "tpr = {}\n",
        "thresh ={}\n",
        "roc_auc = dict()\n",
        "\n",
        "n_class = classes.shape[0]\n",
        "\n",
        "for i in range(n_class):    \n",
        "    fpr[i], tpr[i], thresh[i] = roc_curve(y_test_binarized[:,i], pred_prob[:,i])\n",
        "    roc_auc[i] = auc(fpr[i], tpr[i])\n",
        "    \n",
        "    # plotting    \n",
        "    plt.plot(fpr[i], tpr[i], \n",
        "             label='%s(AUC=%0.2f)'%(classes[i],roc_auc[i]))\n",
        "\n",
        "plt.plot([0,1],[0,1],'b--')\n",
        "plt.xlim([0,1])\n",
        "plt.ylim([0,1.05])\n",
        "plt.title('PBID ROC curve - UNSWNB15')\n",
        "plt.xlabel('False Positive Rate')\n",
        "plt.ylabel('True Positive rate')\n",
        "plt.legend(loc='lower right')\n",
        "plt.grid(False)\n",
        "plt.show()"
      ],
      "metadata": {
        "id": "v9NJvvALsdpc",
        "colab": {
          "base_uri": "https://localhost:8080/",
          "height": 295
        },
        "outputId": "70951e9a-b0da-4d82-da9a-c9fee6a7b85c"
      },
      "execution_count": 58,
      "outputs": [
        {
          "output_type": "display_data",
          "data": {
            "text/plain": [
              "<Figure size 432x288 with 1 Axes>"
            ],
            "image/png": "[encoded data removed]"
          },
          "metadata": {
            "needs_background": "light"
          }
        }
      ]
    }
  ]
}