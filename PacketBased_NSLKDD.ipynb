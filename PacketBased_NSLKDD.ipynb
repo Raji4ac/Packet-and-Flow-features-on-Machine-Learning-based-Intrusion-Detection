{
  "nbformat": 4,
  "nbformat_minor": 0,
  "metadata": {
    "colab": {
      "name": "PacketBased_NSLKDD.ipynb",
      "provenance": [],
      "collapsed_sections": [
        "rH4FCgA3AT-Q",
        "0sMotdVEFWss",
        "IxuIBJ8MAk4U",
        "PHp3eLGaAk4V",
        "nBSy6K0Y3V4l"
      ]
    },
    "kernelspec": {
      "name": "python3",
      "display_name": "Python 3"
    },
    "language_info": {
      "name": "python"
    }
  },
  "cells": [
    {
      "cell_type": "markdown",
      "source": [
        "# **PACKET BASED INTRUSION DETECTION ON NSL-KDD DATASET**"
      ],
      "metadata": {
        "id": "L3zbay1Lh_bx"
      }
    },
    {
      "cell_type": "markdown",
      "source": [
        "## **Environment Setup**"
      ],
      "metadata": {
        "id": "rH4FCgA3AT-Q"
      }
    },
    {
      "cell_type": "code",
      "execution_count": 1,
      "metadata": {
        "id": "_xZEtDi_-OTB",
        "colab": {
          "base_uri": "https://localhost:8080/"
        },
        "outputId": "08f2aa3d-dc0e-4a72-882c-a8b2d6540f5a"
      },
      "outputs": [
        {
          "output_type": "stream",
          "name": "stdout",
          "text": [
            "Mounted at /content/drive\n"
          ]
        }
      ],
      "source": [
        "from google.colab import drive\n",
        "drive.mount(\"/content/drive\")"
      ]
    },
    {
      "cell_type": "markdown",
      "source": [
        "**Importing Libraries**"
      ],
      "metadata": {
        "id": "HTKhwdNrto_Q"
      }
    },
    {
      "cell_type": "code",
      "source": [
        "# Ignore warnings\n",
        "import warnings\n",
        "warnings.simplefilter(action='ignore', category=FutureWarning)\n",
        "warnings.filterwarnings('ignore')\n",
        "\n",
        "import numpy as np\n",
        "import matplotlib.pyplot as plt\n",
        "import pandas as pd\n",
        "import seaborn as sns\n",
        "import imblearn\n",
        "import sklearn\n",
        "%matplotlib inline\n",
        "\n",
        "# importing required libraries for normalizing data\n",
        "from sklearn import preprocessing\n",
        "from sklearn.preprocessing import StandardScaler"
      ],
      "metadata": {
        "id": "yj8P28Lq-XpO"
      },
      "execution_count": 2,
      "outputs": []
    },
    {
      "cell_type": "markdown",
      "source": [
        "## **Load Data**\n",
        "Datasets with 3 different CSV files, each contains same type of attack data at different times."
      ],
      "metadata": {
        "id": "OdwzC9zoztPw"
      }
    },
    {
      "cell_type": "code",
      "source": [
        "features = ['duration', 'protocol_type', 'service', 'flag', 'src_bytes',\n",
        "          'dst_bytes', 'land', 'wrong_fragment', 'urgent', 'hot',\n",
        "          'num_failed_logins', 'logged_in', 'num_compromised', 'root_shell',\n",
        "          'su_attempted', 'num_root', 'num_file_creations', 'num_shells',\n",
        "          'num_access_files', 'num_outbound_cmds', 'is_host_login',\n",
        "          'is_guest_login', 'count', 'srv_count', 'serror_rate',\n",
        "          'srv_serror_rate', 'rerror_rate', 'srv_rerror_rate', 'same_srv_rate',\n",
        "          'diff_srv_rate', 'srv_diff_host_rate', 'dst_host_count',\n",
        "          'dst_host_srv_count', 'dst_host_same_srv_rate', 'dst_host_diff_srv_rate', 'dst_host_same_src_port_rate',\n",
        "          'dst_host_srv_diff_host_rate', 'dst_host_serror_rate',\n",
        "          'dst_host_srv_serror_rate', 'dst_host_rerror_rate',\n",
        "          'dst_host_srv_rerror_rate', 'attack_type', 'difficulty_level']"
      ],
      "metadata": {
        "id": "e4sbXDJwi3m4"
      },
      "execution_count": 3,
      "outputs": []
    },
    {
      "cell_type": "code",
      "source": [
        "# Load NSL_KDDTrain dataset\n",
        "kddTrain = pd.read_csv('/content/drive/MyDrive/2117493_PROJECT/NIDS/NSL-KDD/Datasets/KDDTrain+.txt', names=features)\n",
        "\n",
        "# Load NSL_KDDTest dataset\n",
        "kddTest = pd.read_csv('/content/drive/MyDrive/2117493_PROJECT/NIDS/NSL-KDD/Datasets/KDDTest+.txt', names=features)\n",
        "\n",
        "kddTrain.shape, kddTest.shape"
      ],
      "metadata": {
        "id": "fSCMjdMKVmS-",
        "colab": {
          "base_uri": "https://localhost:8080/"
        },
        "outputId": "3d1b8bdc-0830-4084-c6f3-1f7fa57b730a"
      },
      "execution_count": 4,
      "outputs": [
        {
          "output_type": "execute_result",
          "data": {
            "text/plain": [
              "((125973, 43), (22544, 43))"
            ]
          },
          "metadata": {},
          "execution_count": 4
        }
      ]
    },
    {
      "cell_type": "code",
      "source": [
        "# Combining all tables into one dataset. This is possilbe since all tables have the same columns,\n",
        "# as we checked in the cell above.\n",
        "combinedData = pd.concat([kddTrain, kddTest]).drop_duplicates(keep=False)\n",
        "combinedData.reset_index(drop=True, inplace = True)"
      ],
      "metadata": {
        "id": "_rSSSJq069RK"
      },
      "execution_count": 5,
      "outputs": []
    },
    {
      "cell_type": "code",
      "source": [
        "print('Data has {} rows & {} columns'.format(combinedData.shape[0],combinedData.shape[1]))"
      ],
      "metadata": {
        "colab": {
          "base_uri": "https://localhost:8080/"
        },
        "outputId": "ce02e861-20cc-43a8-e015-5c7d64e42263",
        "id": "rA0mbukxs9pU"
      },
      "execution_count": 6,
      "outputs": [
        {
          "output_type": "stream",
          "name": "stdout",
          "text": [
            "Data has 147297 rows & 43 columns\n"
          ]
        }
      ]
    },
    {
      "cell_type": "code",
      "source": [
        "combinedData.tail(3)"
      ],
      "metadata": {
        "colab": {
          "base_uri": "https://localhost:8080/",
          "height": 237
        },
        "outputId": "abd7cc40-1b9c-485e-b616-eb8062ba3dce",
        "id": "S6raL-Yws9pT"
      },
      "execution_count": 7,
      "outputs": [
        {
          "output_type": "execute_result",
          "data": {
            "text/plain": [
              "        duration protocol_type service flag  src_bytes  dst_bytes  land  \\\n",
              "147294         0           tcp    http   SF        317        938     0   \n",
              "147295         0           tcp    http   SF      54540       8314     0   \n",
              "147296         0           tcp  sunrpc  REJ          0          0     0   \n",
              "\n",
              "        wrong_fragment  urgent  hot  ...  dst_host_same_srv_rate  \\\n",
              "147294               0       0    0  ...                    1.00   \n",
              "147295               0       0    2  ...                    1.00   \n",
              "147296               0       0    0  ...                    0.08   \n",
              "\n",
              "        dst_host_diff_srv_rate  dst_host_same_src_port_rate  \\\n",
              "147294                    0.00                         0.01   \n",
              "147295                    0.00                         0.00   \n",
              "147296                    0.03                         0.00   \n",
              "\n",
              "        dst_host_srv_diff_host_rate  dst_host_serror_rate  \\\n",
              "147294                         0.01                  0.01   \n",
              "147295                         0.00                  0.00   \n",
              "147296                         0.00                  0.00   \n",
              "\n",
              "        dst_host_srv_serror_rate  dst_host_rerror_rate  \\\n",
              "147294                       0.0                  0.00   \n",
              "147295                       0.0                  0.07   \n",
              "147296                       0.0                  0.44   \n",
              "\n",
              "        dst_host_srv_rerror_rate  attack_type  difficulty_level  \n",
              "147294                      0.00       normal                21  \n",
              "147295                      0.07         back                15  \n",
              "147296                      1.00        mscan                14  \n",
              "\n",
              "[3 rows x 43 columns]"
            ],
            "text/html": [
              "\n",
              "  <div id=\"df-64e73002-cb4a-442d-9df1-5caa2424b891\">\n",
              "    <div class=\"colab-df-container\">\n",
              "      <div>\n",
              "<style scoped>\n",
              "    .dataframe tbody tr th:only-of-type {\n",
              "        vertical-align: middle;\n",
              "    }\n",
              "\n",
              "    .dataframe tbody tr th {\n",
              "        vertical-align: top;\n",
              "    }\n",
              "\n",
              "    .dataframe thead th {\n",
              "        text-align: right;\n",
              "    }\n",
              "</style>\n",
              "<table border=\"1\" class=\"dataframe\">\n",
              "  <thead>\n",
              "    <tr style=\"text-align: right;\">\n",
              "      <th></th>\n",
              "      <th>duration</th>\n",
              "      <th>protocol_type</th>\n",
              "      <th>service</th>\n",
              "      <th>flag</th>\n",
              "      <th>src_bytes</th>\n",
              "      <th>dst_bytes</th>\n",
              "      <th>land</th>\n",
              "      <th>wrong_fragment</th>\n",
              "      <th>urgent</th>\n",
              "      <th>hot</th>\n",
              "      <th>...</th>\n",
              "      <th>dst_host_same_srv_rate</th>\n",
              "      <th>dst_host_diff_srv_rate</th>\n",
              "      <th>dst_host_same_src_port_rate</th>\n",
              "      <th>dst_host_srv_diff_host_rate</th>\n",
              "      <th>dst_host_serror_rate</th>\n",
              "      <th>dst_host_srv_serror_rate</th>\n",
              "      <th>dst_host_rerror_rate</th>\n",
              "      <th>dst_host_srv_rerror_rate</th>\n",
              "      <th>attack_type</th>\n",
              "      <th>difficulty_level</th>\n",
              "    </tr>\n",
              "  </thead>\n",
              "  <tbody>\n",
              "    <tr>\n",
              "      <th>147294</th>\n",
              "      <td>0</td>\n",
              "      <td>tcp</td>\n",
              "      <td>http</td>\n",
              "      <td>SF</td>\n",
              "      <td>317</td>\n",
              "      <td>938</td>\n",
              "      <td>0</td>\n",
              "      <td>0</td>\n",
              "      <td>0</td>\n",
              "      <td>0</td>\n",
              "      <td>...</td>\n",
              "      <td>1.00</td>\n",
              "      <td>0.00</td>\n",
              "      <td>0.01</td>\n",
              "      <td>0.01</td>\n",
              "      <td>0.01</td>\n",
              "      <td>0.0</td>\n",
              "      <td>0.00</td>\n",
              "      <td>0.00</td>\n",
              "      <td>normal</td>\n",
              "      <td>21</td>\n",
              "    </tr>\n",
              "    <tr>\n",
              "      <th>147295</th>\n",
              "      <td>0</td>\n",
              "      <td>tcp</td>\n",
              "      <td>http</td>\n",
              "      <td>SF</td>\n",
              "      <td>54540</td>\n",
              "      <td>8314</td>\n",
              "      <td>0</td>\n",
              "      <td>0</td>\n",
              "      <td>0</td>\n",
              "      <td>2</td>\n",
              "      <td>...</td>\n",
              "      <td>1.00</td>\n",
              "      <td>0.00</td>\n",
              "      <td>0.00</td>\n",
              "      <td>0.00</td>\n",
              "      <td>0.00</td>\n",
              "      <td>0.0</td>\n",
              "      <td>0.07</td>\n",
              "      <td>0.07</td>\n",
              "      <td>back</td>\n",
              "      <td>15</td>\n",
              "    </tr>\n",
              "    <tr>\n",
              "      <th>147296</th>\n",
              "      <td>0</td>\n",
              "      <td>tcp</td>\n",
              "      <td>sunrpc</td>\n",
              "      <td>REJ</td>\n",
              "      <td>0</td>\n",
              "      <td>0</td>\n",
              "      <td>0</td>\n",
              "      <td>0</td>\n",
              "      <td>0</td>\n",
              "      <td>0</td>\n",
              "      <td>...</td>\n",
              "      <td>0.08</td>\n",
              "      <td>0.03</td>\n",
              "      <td>0.00</td>\n",
              "      <td>0.00</td>\n",
              "      <td>0.00</td>\n",
              "      <td>0.0</td>\n",
              "      <td>0.44</td>\n",
              "      <td>1.00</td>\n",
              "      <td>mscan</td>\n",
              "      <td>14</td>\n",
              "    </tr>\n",
              "  </tbody>\n",
              "</table>\n",
              "<p>3 rows × 43 columns</p>\n",
              "</div>\n",
              "      <button class=\"colab-df-convert\" onclick=\"convertToInteractive('df-64e73002-cb4a-442d-9df1-5caa2424b891')\"\n",
              "              title=\"Convert this dataframe to an interactive table.\"\n",
              "              style=\"display:none;\">\n",
              "        \n",
              "  <svg xmlns=\"http://www.w3.org/2000/svg\" height=\"24px\"viewBox=\"0 0 24 24\"\n",
              "       width=\"24px\">\n",
              "    <path d=\"M0 0h24v24H0V0z\" fill=\"none\"/>\n",
              "    <path d=\"M18.56 5.44l.94 2.06.94-2.06 2.06-.94-2.06-.94-.94-2.06-.94 2.06-2.06.94zm-11 1L8.5 8.5l.94-2.06 2.06-.94-2.06-.94L8.5 2.5l-.94 2.06-2.06.94zm10 10l.94 2.06.94-2.06 2.06-.94-2.06-.94-.94-2.06-.94 2.06-2.06.94z\"/><path d=\"M17.41 7.96l-1.37-1.37c-.4-.4-.92-.59-1.43-.59-.52 0-1.04.2-1.43.59L10.3 9.45l-7.72 7.72c-.78.78-.78 2.05 0 2.83L4 21.41c.39.39.9.59 1.41.59.51 0 1.02-.2 1.41-.59l7.78-7.78 2.81-2.81c.8-.78.8-2.07 0-2.86zM5.41 20L4 18.59l7.72-7.72 1.47 1.35L5.41 20z\"/>\n",
              "  </svg>\n",
              "      </button>\n",
              "      \n",
              "  <style>\n",
              "    .colab-df-container {\n",
              "      display:flex;\n",
              "      flex-wrap:wrap;\n",
              "      gap: 12px;\n",
              "    }\n",
              "\n",
              "    .colab-df-convert {\n",
              "      background-color: #E8F0FE;\n",
              "      border: none;\n",
              "      border-radius: 50%;\n",
              "      cursor: pointer;\n",
              "      display: none;\n",
              "      fill: #1967D2;\n",
              "      height: 32px;\n",
              "      padding: 0 0 0 0;\n",
              "      width: 32px;\n",
              "    }\n",
              "\n",
              "    .colab-df-convert:hover {\n",
              "      background-color: #E2EBFA;\n",
              "      box-shadow: 0px 1px 2px rgba(60, 64, 67, 0.3), 0px 1px 3px 1px rgba(60, 64, 67, 0.15);\n",
              "      fill: #174EA6;\n",
              "    }\n",
              "\n",
              "    [theme=dark] .colab-df-convert {\n",
              "      background-color: #3B4455;\n",
              "      fill: #D2E3FC;\n",
              "    }\n",
              "\n",
              "    [theme=dark] .colab-df-convert:hover {\n",
              "      background-color: #434B5C;\n",
              "      box-shadow: 0px 1px 3px 1px rgba(0, 0, 0, 0.15);\n",
              "      filter: drop-shadow(0px 1px 2px rgba(0, 0, 0, 0.3));\n",
              "      fill: #FFFFFF;\n",
              "    }\n",
              "  </style>\n",
              "\n",
              "      <script>\n",
              "        const buttonEl =\n",
              "          document.querySelector('#df-64e73002-cb4a-442d-9df1-5caa2424b891 button.colab-df-convert');\n",
              "        buttonEl.style.display =\n",
              "          google.colab.kernel.accessAllowed ? 'block' : 'none';\n",
              "\n",
              "        async function convertToInteractive(key) {\n",
              "          const element = document.querySelector('#df-64e73002-cb4a-442d-9df1-5caa2424b891');\n",
              "          const dataTable =\n",
              "            await google.colab.kernel.invokeFunction('convertToInteractive',\n",
              "                                                     [key], {});\n",
              "          if (!dataTable) return;\n",
              "\n",
              "          const docLinkHtml = 'Like what you see? Visit the ' +\n",
              "            '<a target=\"_blank\" href=https://colab.research.google.com/notebooks/data_table.ipynb>data table notebook</a>'\n",
              "            + ' to learn more about interactive tables.';\n",
              "          element.innerHTML = '';\n",
              "          dataTable['output_type'] = 'display_data';\n",
              "          await google.colab.output.renderOutput(dataTable, element);\n",
              "          const docLink = document.createElement('div');\n",
              "          docLink.innerHTML = docLinkHtml;\n",
              "          element.appendChild(docLink);\n",
              "        }\n",
              "      </script>\n",
              "    </div>\n",
              "  </div>\n",
              "  "
            ]
          },
          "metadata": {},
          "execution_count": 7
        }
      ]
    },
    {
      "cell_type": "code",
      "source": [
        "combinedData.dtypes.value_counts()"
      ],
      "metadata": {
        "colab": {
          "base_uri": "https://localhost:8080/"
        },
        "id": "guLSaVOahfnB",
        "outputId": "ce10b039-2293-45bf-941d-e98badce3a1e"
      },
      "execution_count": 8,
      "outputs": [
        {
          "output_type": "execute_result",
          "data": {
            "text/plain": [
              "int64      24\n",
              "float64    15\n",
              "object      4\n",
              "dtype: int64"
            ]
          },
          "metadata": {},
          "execution_count": 8
        }
      ]
    },
    {
      "cell_type": "markdown",
      "source": [
        "Some general info about the dataset. It contains roughly 148517 rows across 43 columns. Data consists of mostly int64 and float64 types, except 4 attributes of 'object' type."
      ],
      "metadata": {
        "id": "dFwpqXcBWQzc"
      }
    },
    {
      "cell_type": "markdown",
      "source": [
        "## **Data Cleaning**\n",
        "This section contains data cleaning code. We go through the process of renaming columns, removing NaN to get the data ready for visualization and model training."
      ],
      "metadata": {
        "id": "0sMotdVEFWss"
      }
    },
    {
      "cell_type": "markdown",
      "metadata": {
        "heading_collapsed": true,
        "hidden": true,
        "id": "IxuIBJ8MAk4U"
      },
      "source": [
        "### Renaming columns"
      ]
    },
    {
      "cell_type": "code",
      "execution_count": 9,
      "metadata": {
        "hidden": true,
        "id": "7cHn8lJRAk4U"
      },
      "outputs": [],
      "source": [
        "# Removing whitespaces in column names.\n",
        "attacks = [col.replace(' ', '') for col in combinedData.columns]\n",
        "combinedData.columns = attacks"
      ]
    },
    {
      "cell_type": "code",
      "execution_count": 10,
      "metadata": {
        "hidden": true,
        "id": "Xr2nps7ZAk4V",
        "outputId": "72a50d7d-f6d9-433f-f95f-66f555f6de86",
        "colab": {
          "base_uri": "https://localhost:8080/"
        }
      },
      "outputs": [
        {
          "output_type": "execute_result",
          "data": {
            "text/plain": [
              "array(['normal', 'neptune', 'warezclient', 'ipsweep', 'portsweep',\n",
              "       'teardrop', 'nmap', 'satan', 'smurf', 'pod', 'back',\n",
              "       'guess_passwd', 'ftp_write', 'multihop', 'rootkit',\n",
              "       'buffer_overflow', 'imap', 'warezmaster', 'phf', 'land',\n",
              "       'loadmodule', 'spy', 'perl', 'saint', 'mscan', 'apache2',\n",
              "       'snmpgetattack', 'processtable', 'httptunnel', 'ps', 'snmpguess',\n",
              "       'mailbomb', 'named', 'sendmail', 'xterm', 'worm', 'xlock',\n",
              "       'xsnoop', 'sqlattack', 'udpstorm'], dtype=object)"
            ]
          },
          "metadata": {},
          "execution_count": 10
        }
      ],
      "source": [
        "# lets see that 'subclass' column contains some wierd characters. \n",
        "combinedData[\"attack_type\"].unique()"
      ]
    },
    {
      "cell_type": "markdown",
      "metadata": {
        "heading_collapsed": true,
        "hidden": true,
        "id": "PHp3eLGaAk4V"
      },
      "source": [
        "### Removing NULL values"
      ]
    },
    {
      "cell_type": "code",
      "execution_count": 11,
      "metadata": {
        "hidden": true,
        "id": "MO8fZ6HoAk4W",
        "outputId": "f9f83acd-e13b-4506-bc2f-e49328f29bb8",
        "colab": {
          "base_uri": "https://localhost:8080/"
        }
      },
      "outputs": [
        {
          "output_type": "execute_result",
          "data": {
            "text/plain": [
              "False"
            ]
          },
          "metadata": {},
          "execution_count": 11
        }
      ],
      "source": [
        "# Checking if there are any NULL values in the dataset.\n",
        "combinedData.isnull().values.any()"
      ]
    },
    {
      "cell_type": "code",
      "execution_count": 12,
      "metadata": {
        "hidden": true,
        "id": "CYNJeH7FAk4W",
        "outputId": "9c4b37e6-3fd7-4dfc-df09-eda57c62d983",
        "colab": {
          "base_uri": "https://localhost:8080/"
        }
      },
      "outputs": [
        {
          "output_type": "execute_result",
          "data": {
            "text/plain": [
              "[]"
            ]
          },
          "metadata": {},
          "execution_count": 12
        }
      ],
      "source": [
        "# Checking which column/s contain NULL values.\n",
        "[col for col in combinedData if combinedData[col].isnull().values.any()]"
      ]
    },
    {
      "cell_type": "code",
      "execution_count": 13,
      "metadata": {
        "hidden": true,
        "scrolled": true,
        "id": "wBK37dgkAk4W",
        "outputId": "cc11f32c-b197-406d-fe64-e6b01be4e2a0",
        "colab": {
          "base_uri": "https://localhost:8080/"
        }
      },
      "outputs": [
        {
          "output_type": "stream",
          "name": "stdout",
          "text": [
            "0    147297\n",
            "Name: num_outbound_cmds, dtype: int64\n"
          ]
        }
      ],
      "source": [
        "# since num_outbound_cmds is a redundant colums, so remove it from dataset\n",
        "print(combinedData['num_outbound_cmds'].value_counts())\n",
        "combinedData.drop(['num_outbound_cmds'], axis=1, inplace=True)\n",
        "combinedData.drop(['difficulty_level'], axis=1, inplace=True)"
      ]
    },
    {
      "cell_type": "code",
      "execution_count": 14,
      "metadata": {
        "hidden": true,
        "scrolled": true,
        "id": "I2n-fsbiAk4X",
        "outputId": "7ea00d9c-7f8c-4860-a958-2ec650d44cf5",
        "colab": {
          "base_uri": "https://localhost:8080/"
        }
      },
      "outputs": [
        {
          "output_type": "execute_result",
          "data": {
            "text/plain": [
              "False"
            ]
          },
          "metadata": {},
          "execution_count": 14
        }
      ],
      "source": [
        "combinedData.isnull().any().any()"
      ]
    },
    {
      "cell_type": "code",
      "source": [
        ""
      ],
      "metadata": {
        "id": "VJgwaMxes5SD"
      },
      "execution_count": 14,
      "outputs": []
    },
    {
      "cell_type": "markdown",
      "source": [
        "## **Data Visualization**"
      ],
      "metadata": {
        "id": "8KEl-9VP15wT"
      }
    },
    {
      "cell_type": "code",
      "source": [
        "# There are 8 different type of attacks apart from normal in Dataset \n",
        "print(combinedData['attack_type'].unique())\n",
        "len(combinedData['attack_type'].unique())"
      ],
      "metadata": {
        "colab": {
          "base_uri": "https://localhost:8080/"
        },
        "id": "FhB6fespLtEv",
        "outputId": "24d9a793-2c72-4a43-9438-9b2bacb20741"
      },
      "execution_count": 15,
      "outputs": [
        {
          "output_type": "stream",
          "name": "stdout",
          "text": [
            "['normal' 'neptune' 'warezclient' 'ipsweep' 'portsweep' 'teardrop' 'nmap'\n",
            " 'satan' 'smurf' 'pod' 'back' 'guess_passwd' 'ftp_write' 'multihop'\n",
            " 'rootkit' 'buffer_overflow' 'imap' 'warezmaster' 'phf' 'land'\n",
            " 'loadmodule' 'spy' 'perl' 'saint' 'mscan' 'apache2' 'snmpgetattack'\n",
            " 'processtable' 'httptunnel' 'ps' 'snmpguess' 'mailbomb' 'named'\n",
            " 'sendmail' 'xterm' 'worm' 'xlock' 'xsnoop' 'sqlattack' 'udpstorm']\n"
          ]
        },
        {
          "output_type": "execute_result",
          "data": {
            "text/plain": [
              "40"
            ]
          },
          "metadata": {},
          "execution_count": 15
        }
      ]
    },
    {
      "cell_type": "code",
      "source": [
        "#lets see which attack is having more impact on dataset\n",
        "plt.figure(figsize=(15,4))\n",
        "g = sns.countplot( data = combinedData, x = 'attack_type', palette=\"Set1\")\n",
        "g.set_yscale(\"log\")\n",
        "g.set_xticklabels(g.get_xticklabels(), rotation=75, ha=\"right\")\n",
        "plt.savefig('/content/drive/MyDrive/2117493_PROJECT/NIDS/NSL-KDD/Images/various_attacks.png')\n",
        "plt.show()"
      ],
      "metadata": {
        "colab": {
          "base_uri": "https://localhost:8080/",
          "height": 349
        },
        "id": "4icOxX8zcBh6",
        "outputId": "439a5976-59f1-46be-97f8-f37b7f78804d"
      },
      "execution_count": 16,
      "outputs": [
        {
          "output_type": "display_data",
          "data": {
            "text/plain": [
              "<Figure size 1080x288 with 1 Axes>"
            ],
            "image/png": "[encoded data removed]"
          },
          "metadata": {
            "needs_background": "light"
          }
        }
      ]
    },
    {
      "cell_type": "code",
      "source": [
        "for i in range(len(combinedData['attack_type'])):\n",
        "      if combinedData['attack_type'][i] in ['apache2','back','land','neptune','mailbomb','pod','processtable','smurf','teardrop','udpstorm','worm']:\n",
        "        combinedData['attack_type'][i] = 'Dos'\n",
        "      elif combinedData['attack_type'][i] in ['buffer_overflow','loadmodule','perl','ps','rootkit','sqlattack','xterm']:\n",
        "        combinedData['attack_type'][i] = 'U2R'\n",
        "      elif combinedData['attack_type'][i] in ['ftp_write','guess_passwd','httptunnel','imap','multihop','named','phf','sendmail', 'snmpgetattack','snmpguess','spy','warezclient','warezmaster','xlock','xsnoop']:\n",
        "        combinedData['attack_type'][i] = 'R2L'\n",
        "      elif combinedData['attack_type'][i] in ['ipsweep','mscan','nmap','portsweep','saint','satan']:\n",
        "        combinedData['attack_type'][i] = 'Probe'\n",
        "\n",
        "combinedData['attack_type'].value_counts()"
      ],
      "metadata": {
        "colab": {
          "base_uri": "https://localhost:8080/"
        },
        "id": "2OND6Tgasj0U",
        "outputId": "079ab154-c426-4193-b2c6-14c89dafbd0d"
      },
      "execution_count": 17,
      "outputs": [
        {
          "output_type": "execute_result",
          "data": {
            "text/plain": [
              "normal    76880\n",
              "Dos       52587\n",
              "Probe     13831\n",
              "R2L        3880\n",
              "U2R         119\n",
              "Name: attack_type, dtype: int64"
            ]
          },
          "metadata": {},
          "execution_count": 17
        }
      ]
    },
    {
      "cell_type": "code",
      "metadata": {
        "id": "OeEwNsMzJYSN"
      },
      "source": [
        "# creating a dataframe with multi-class labels (Dos,Probe,R2L,U2R,normal)\n",
        "multi_data = combinedData.copy()\n",
        "multi_label = pd.DataFrame(multi_data.attack_type)"
      ],
      "execution_count": 18,
      "outputs": []
    },
    {
      "cell_type": "code",
      "metadata": {
        "id": "b2U716KRVxsG"
      },
      "source": [
        "# label encoding (0,1,2,3,4) multi-class labels (Dos,normal,Probe,R2L,U2R)\n",
        "le2 = preprocessing.LabelEncoder()\n",
        "enc_label = multi_label.apply(le2.fit_transform)\n",
        "multi_data['intrusion'] = enc_label"
      ],
      "execution_count": 19,
      "outputs": []
    },
    {
      "cell_type": "code",
      "metadata": {
        "id": "9rqlHJotuBlF"
      },
      "source": [
        "np.save(\"/content/drive/MyDrive/2117493_PROJECT/NIDS/UNSW-NB15 /Labels/Labels.npy\",le2.classes_,allow_pickle=True)"
      ],
      "execution_count": 20,
      "outputs": []
    },
    {
      "cell_type": "code",
      "source": [
        "#lets see which attack is having more impact on dataset\n",
        "plt.figure(figsize=(7,5))\n",
        "g = sns.countplot( data = multi_data, x = 'attack_type', palette=\"Set1\")\n",
        "g.set_yscale(\"log\")\n",
        "g.set_xticklabels(g.get_xticklabels())\n",
        "plt.savefig('/content/drive/MyDrive/2117493_PROJECT/NIDS/NSL-KDD/Images/attacks_grp.png')\n",
        "plt.show()"
      ],
      "metadata": {
        "colab": {
          "base_uri": "https://localhost:8080/",
          "height": 338
        },
        "id": "twVQ2a4PHfhs",
        "outputId": "56e16444-6c8a-4c5f-faf0-6ec27ae895c3"
      },
      "execution_count": 21,
      "outputs": [
        {
          "output_type": "display_data",
          "data": {
            "text/plain": [
              "<Figure size 504x360 with 1 Axes>"
            ],
            "image/png": "[encoded data removed]"
          },
          "metadata": {
            "needs_background": "light"
          }
        }
      ]
    },
    {
      "cell_type": "markdown",
      "metadata": {
        "id": "Sn6P3lTJr9lH"
      },
      "source": [
        "## **Encoding Categorical Attributes**"
      ]
    },
    {
      "cell_type": "markdown",
      "source": [
        "Separating Features and target for Model training"
      ],
      "metadata": {
        "id": "AhtEh3xzRQ5w"
      }
    },
    {
      "cell_type": "code",
      "metadata": {
        "id": "FhvS9DaPXhtf",
        "outputId": "3b866d74-3858-43e5-cc27-a31749a0ebcc",
        "colab": {
          "base_uri": "https://localhost:8080/"
        },
        "tags": []
      },
      "source": [
        "XX = combinedData.iloc[:,:-1].values\n",
        "YY = combinedData.iloc[:,-1].values\n",
        "YY = YY.reshape(-1,1)\n",
        "print([XX.shape, YY.shape])\n",
        "YY"
      ],
      "execution_count": 22,
      "outputs": [
        {
          "output_type": "stream",
          "name": "stdout",
          "text": [
            "[(147297, 40), (147297, 1)]\n"
          ]
        },
        {
          "output_type": "execute_result",
          "data": {
            "text/plain": [
              "array([['normal'],\n",
              "       ['normal'],\n",
              "       ['Dos'],\n",
              "       ...,\n",
              "       ['normal'],\n",
              "       ['Dos'],\n",
              "       ['Probe']], dtype=object)"
            ]
          },
          "metadata": {},
          "execution_count": 22
        }
      ]
    },
    {
      "cell_type": "markdown",
      "source": [
        "Visualizing string features"
      ],
      "metadata": {
        "id": "JOwEhUep01Hk"
      }
    },
    {
      "cell_type": "code",
      "source": [
        "combinedData.head()"
      ],
      "metadata": {
        "colab": {
          "base_uri": "https://localhost:8080/",
          "height": 299
        },
        "id": "zJDe25vJqmBR",
        "outputId": "371abcd2-9e3f-4a7a-c8ce-f544f314258e"
      },
      "execution_count": 23,
      "outputs": [
        {
          "output_type": "execute_result",
          "data": {
            "text/plain": [
              "   duration protocol_type   service flag  src_bytes  dst_bytes  land  \\\n",
              "0         0           tcp  ftp_data   SF        491          0     0   \n",
              "1         0           udp     other   SF        146          0     0   \n",
              "2         0           tcp   private   S0          0          0     0   \n",
              "3         0           tcp      http   SF        232       8153     0   \n",
              "4         0           tcp      http   SF        199        420     0   \n",
              "\n",
              "   wrong_fragment  urgent  hot  ...  dst_host_srv_count  \\\n",
              "0               0       0    0  ...                  25   \n",
              "1               0       0    0  ...                   1   \n",
              "2               0       0    0  ...                  26   \n",
              "3               0       0    0  ...                 255   \n",
              "4               0       0    0  ...                 255   \n",
              "\n",
              "   dst_host_same_srv_rate  dst_host_diff_srv_rate  \\\n",
              "0                    0.17                    0.03   \n",
              "1                    0.00                    0.60   \n",
              "2                    0.10                    0.05   \n",
              "3                    1.00                    0.00   \n",
              "4                    1.00                    0.00   \n",
              "\n",
              "   dst_host_same_src_port_rate  dst_host_srv_diff_host_rate  \\\n",
              "0                         0.17                         0.00   \n",
              "1                         0.88                         0.00   \n",
              "2                         0.00                         0.00   \n",
              "3                         0.03                         0.04   \n",
              "4                         0.00                         0.00   \n",
              "\n",
              "   dst_host_serror_rate  dst_host_srv_serror_rate  dst_host_rerror_rate  \\\n",
              "0                  0.00                      0.00                  0.05   \n",
              "1                  0.00                      0.00                  0.00   \n",
              "2                  1.00                      1.00                  0.00   \n",
              "3                  0.03                      0.01                  0.00   \n",
              "4                  0.00                      0.00                  0.00   \n",
              "\n",
              "   dst_host_srv_rerror_rate  attack_type  \n",
              "0                      0.00       normal  \n",
              "1                      0.00       normal  \n",
              "2                      0.00          Dos  \n",
              "3                      0.01       normal  \n",
              "4                      0.00       normal  \n",
              "\n",
              "[5 rows x 41 columns]"
            ],
            "text/html": [
              "\n",
              "  <div id=\"df-4f74ddf5-3b0c-4e85-9a45-b05d9baeca5c\">\n",
              "    <div class=\"colab-df-container\">\n",
              "      <div>\n",
              "<style scoped>\n",
              "    .dataframe tbody tr th:only-of-type {\n",
              "        vertical-align: middle;\n",
              "    }\n",
              "\n",
              "    .dataframe tbody tr th {\n",
              "        vertical-align: top;\n",
              "    }\n",
              "\n",
              "    .dataframe thead th {\n",
              "        text-align: right;\n",
              "    }\n",
              "</style>\n",
              "<table border=\"1\" class=\"dataframe\">\n",
              "  <thead>\n",
              "    <tr style=\"text-align: right;\">\n",
              "      <th></th>\n",
              "      <th>duration</th>\n",
              "      <th>protocol_type</th>\n",
              "      <th>service</th>\n",
              "      <th>flag</th>\n",
              "      <th>src_bytes</th>\n",
              "      <th>dst_bytes</th>\n",
              "      <th>land</th>\n",
              "      <th>wrong_fragment</th>\n",
              "      <th>urgent</th>\n",
              "      <th>hot</th>\n",
              "      <th>...</th>\n",
              "      <th>dst_host_srv_count</th>\n",
              "      <th>dst_host_same_srv_rate</th>\n",
              "      <th>dst_host_diff_srv_rate</th>\n",
              "      <th>dst_host_same_src_port_rate</th>\n",
              "      <th>dst_host_srv_diff_host_rate</th>\n",
              "      <th>dst_host_serror_rate</th>\n",
              "      <th>dst_host_srv_serror_rate</th>\n",
              "      <th>dst_host_rerror_rate</th>\n",
              "      <th>dst_host_srv_rerror_rate</th>\n",
              "      <th>attack_type</th>\n",
              "    </tr>\n",
              "  </thead>\n",
              "  <tbody>\n",
              "    <tr>\n",
              "      <th>0</th>\n",
              "      <td>0</td>\n",
              "      <td>tcp</td>\n",
              "      <td>ftp_data</td>\n",
              "      <td>SF</td>\n",
              "      <td>491</td>\n",
              "      <td>0</td>\n",
              "      <td>0</td>\n",
              "      <td>0</td>\n",
              "      <td>0</td>\n",
              "      <td>0</td>\n",
              "      <td>...</td>\n",
              "      <td>25</td>\n",
              "      <td>0.17</td>\n",
              "      <td>0.03</td>\n",
              "      <td>0.17</td>\n",
              "      <td>0.00</td>\n",
              "      <td>0.00</td>\n",
              "      <td>0.00</td>\n",
              "      <td>0.05</td>\n",
              "      <td>0.00</td>\n",
              "      <td>normal</td>\n",
              "    </tr>\n",
              "    <tr>\n",
              "      <th>1</th>\n",
              "      <td>0</td>\n",
              "      <td>udp</td>\n",
              "      <td>other</td>\n",
              "      <td>SF</td>\n",
              "      <td>146</td>\n",
              "      <td>0</td>\n",
              "      <td>0</td>\n",
              "      <td>0</td>\n",
              "      <td>0</td>\n",
              "      <td>0</td>\n",
              "      <td>...</td>\n",
              "      <td>1</td>\n",
              "      <td>0.00</td>\n",
              "      <td>0.60</td>\n",
              "      <td>0.88</td>\n",
              "      <td>0.00</td>\n",
              "      <td>0.00</td>\n",
              "      <td>0.00</td>\n",
              "      <td>0.00</td>\n",
              "      <td>0.00</td>\n",
              "      <td>normal</td>\n",
              "    </tr>\n",
              "    <tr>\n",
              "      <th>2</th>\n",
              "      <td>0</td>\n",
              "      <td>tcp</td>\n",
              "      <td>private</td>\n",
              "      <td>S0</td>\n",
              "      <td>0</td>\n",
              "      <td>0</td>\n",
              "      <td>0</td>\n",
              "      <td>0</td>\n",
              "      <td>0</td>\n",
              "      <td>0</td>\n",
              "      <td>...</td>\n",
              "      <td>26</td>\n",
              "      <td>0.10</td>\n",
              "      <td>0.05</td>\n",
              "      <td>0.00</td>\n",
              "      <td>0.00</td>\n",
              "      <td>1.00</td>\n",
              "      <td>1.00</td>\n",
              "      <td>0.00</td>\n",
              "      <td>0.00</td>\n",
              "      <td>Dos</td>\n",
              "    </tr>\n",
              "    <tr>\n",
              "      <th>3</th>\n",
              "      <td>0</td>\n",
              "      <td>tcp</td>\n",
              "      <td>http</td>\n",
              "      <td>SF</td>\n",
              "      <td>232</td>\n",
              "      <td>8153</td>\n",
              "      <td>0</td>\n",
              "      <td>0</td>\n",
              "      <td>0</td>\n",
              "      <td>0</td>\n",
              "      <td>...</td>\n",
              "      <td>255</td>\n",
              "      <td>1.00</td>\n",
              "      <td>0.00</td>\n",
              "      <td>0.03</td>\n",
              "      <td>0.04</td>\n",
              "      <td>0.03</td>\n",
              "      <td>0.01</td>\n",
              "      <td>0.00</td>\n",
              "      <td>0.01</td>\n",
              "      <td>normal</td>\n",
              "    </tr>\n",
              "    <tr>\n",
              "      <th>4</th>\n",
              "      <td>0</td>\n",
              "      <td>tcp</td>\n",
              "      <td>http</td>\n",
              "      <td>SF</td>\n",
              "      <td>199</td>\n",
              "      <td>420</td>\n",
              "      <td>0</td>\n",
              "      <td>0</td>\n",
              "      <td>0</td>\n",
              "      <td>0</td>\n",
              "      <td>...</td>\n",
              "      <td>255</td>\n",
              "      <td>1.00</td>\n",
              "      <td>0.00</td>\n",
              "      <td>0.00</td>\n",
              "      <td>0.00</td>\n",
              "      <td>0.00</td>\n",
              "      <td>0.00</td>\n",
              "      <td>0.00</td>\n",
              "      <td>0.00</td>\n",
              "      <td>normal</td>\n",
              "    </tr>\n",
              "  </tbody>\n",
              "</table>\n",
              "<p>5 rows × 41 columns</p>\n",
              "</div>\n",
              "      <button class=\"colab-df-convert\" onclick=\"convertToInteractive('df-4f74ddf5-3b0c-4e85-9a45-b05d9baeca5c')\"\n",
              "              title=\"Convert this dataframe to an interactive table.\"\n",
              "              style=\"display:none;\">\n",
              "        \n",
              "  <svg xmlns=\"http://www.w3.org/2000/svg\" height=\"24px\"viewBox=\"0 0 24 24\"\n",
              "       width=\"24px\">\n",
              "    <path d=\"M0 0h24v24H0V0z\" fill=\"none\"/>\n",
              "    <path d=\"M18.56 5.44l.94 2.06.94-2.06 2.06-.94-2.06-.94-.94-2.06-.94 2.06-2.06.94zm-11 1L8.5 8.5l.94-2.06 2.06-.94-2.06-.94L8.5 2.5l-.94 2.06-2.06.94zm10 10l.94 2.06.94-2.06 2.06-.94-2.06-.94-.94-2.06-.94 2.06-2.06.94z\"/><path d=\"M17.41 7.96l-1.37-1.37c-.4-.4-.92-.59-1.43-.59-.52 0-1.04.2-1.43.59L10.3 9.45l-7.72 7.72c-.78.78-.78 2.05 0 2.83L4 21.41c.39.39.9.59 1.41.59.51 0 1.02-.2 1.41-.59l7.78-7.78 2.81-2.81c.8-.78.8-2.07 0-2.86zM5.41 20L4 18.59l7.72-7.72 1.47 1.35L5.41 20z\"/>\n",
              "  </svg>\n",
              "      </button>\n",
              "      \n",
              "  <style>\n",
              "    .colab-df-container {\n",
              "      display:flex;\n",
              "      flex-wrap:wrap;\n",
              "      gap: 12px;\n",
              "    }\n",
              "\n",
              "    .colab-df-convert {\n",
              "      background-color: #E8F0FE;\n",
              "      border: none;\n",
              "      border-radius: 50%;\n",
              "      cursor: pointer;\n",
              "      display: none;\n",
              "      fill: #1967D2;\n",
              "      height: 32px;\n",
              "      padding: 0 0 0 0;\n",
              "      width: 32px;\n",
              "    }\n",
              "\n",
              "    .colab-df-convert:hover {\n",
              "      background-color: #E2EBFA;\n",
              "      box-shadow: 0px 1px 2px rgba(60, 64, 67, 0.3), 0px 1px 3px 1px rgba(60, 64, 67, 0.15);\n",
              "      fill: #174EA6;\n",
              "    }\n",
              "\n",
              "    [theme=dark] .colab-df-convert {\n",
              "      background-color: #3B4455;\n",
              "      fill: #D2E3FC;\n",
              "    }\n",
              "\n",
              "    [theme=dark] .colab-df-convert:hover {\n",
              "      background-color: #434B5C;\n",
              "      box-shadow: 0px 1px 3px 1px rgba(0, 0, 0, 0.15);\n",
              "      filter: drop-shadow(0px 1px 2px rgba(0, 0, 0, 0.3));\n",
              "      fill: #FFFFFF;\n",
              "    }\n",
              "  </style>\n",
              "\n",
              "      <script>\n",
              "        const buttonEl =\n",
              "          document.querySelector('#df-4f74ddf5-3b0c-4e85-9a45-b05d9baeca5c button.colab-df-convert');\n",
              "        buttonEl.style.display =\n",
              "          google.colab.kernel.accessAllowed ? 'block' : 'none';\n",
              "\n",
              "        async function convertToInteractive(key) {\n",
              "          const element = document.querySelector('#df-4f74ddf5-3b0c-4e85-9a45-b05d9baeca5c');\n",
              "          const dataTable =\n",
              "            await google.colab.kernel.invokeFunction('convertToInteractive',\n",
              "                                                     [key], {});\n",
              "          if (!dataTable) return;\n",
              "\n",
              "          const docLinkHtml = 'Like what you see? Visit the ' +\n",
              "            '<a target=\"_blank\" href=https://colab.research.google.com/notebooks/data_table.ipynb>data table notebook</a>'\n",
              "            + ' to learn more about interactive tables.';\n",
              "          element.innerHTML = '';\n",
              "          dataTable['output_type'] = 'display_data';\n",
              "          await google.colab.output.renderOutput(dataTable, element);\n",
              "          const docLink = document.createElement('div');\n",
              "          docLink.innerHTML = docLinkHtml;\n",
              "          element.appendChild(docLink);\n",
              "        }\n",
              "      </script>\n",
              "    </div>\n",
              "  </div>\n",
              "  "
            ]
          },
          "metadata": {},
          "execution_count": 23
        }
      ]
    },
    {
      "cell_type": "code",
      "metadata": {
        "id": "koRKSD7crgv9",
        "outputId": "e393b497-9c8a-47da-d9a2-3ed2b93e44ec",
        "colab": {
          "base_uri": "https://localhost:8080/"
        }
      },
      "source": [
        "from sklearn.preprocessing import LabelEncoder, OneHotEncoder\n",
        "encoder = LabelEncoder()\n",
        "ohe = OneHotEncoder()\n",
        "\n",
        "XX[:,1] = encoder.fit_transform(XX[:,1])\n",
        "XX[:,2] = encoder.fit_transform(XX[:,2])\n",
        "XX[:,3] = encoder.fit_transform(XX[:,3])\n",
        "\n",
        "yy = encoder.fit_transform(YY).reshape(-1,1)\n",
        "YY = ohe.fit_transform(yy).toarray()\n",
        "XX.shape, YY.shape\n",
        "YY"
      ],
      "execution_count": 24,
      "outputs": [
        {
          "output_type": "execute_result",
          "data": {
            "text/plain": [
              "array([[0., 0., 0., 0., 1.],\n",
              "       [0., 0., 0., 0., 1.],\n",
              "       [1., 0., 0., 0., 0.],\n",
              "       ...,\n",
              "       [0., 0., 0., 0., 1.],\n",
              "       [1., 0., 0., 0., 0.],\n",
              "       [0., 1., 0., 0., 0.]])"
            ]
          },
          "metadata": {},
          "execution_count": 24
        }
      ]
    },
    {
      "cell_type": "code",
      "source": [
        "combinedData.columns"
      ],
      "metadata": {
        "colab": {
          "base_uri": "https://localhost:8080/"
        },
        "id": "7TZpvpOdoXAF",
        "outputId": "e7c9bde9-570c-4d0d-ae9b-49ec243d7639"
      },
      "execution_count": 25,
      "outputs": [
        {
          "output_type": "execute_result",
          "data": {
            "text/plain": [
              "Index(['duration', 'protocol_type', 'service', 'flag', 'src_bytes',\n",
              "       'dst_bytes', 'land', 'wrong_fragment', 'urgent', 'hot',\n",
              "       'num_failed_logins', 'logged_in', 'num_compromised', 'root_shell',\n",
              "       'su_attempted', 'num_root', 'num_file_creations', 'num_shells',\n",
              "       'num_access_files', 'is_host_login', 'is_guest_login', 'count',\n",
              "       'srv_count', 'serror_rate', 'srv_serror_rate', 'rerror_rate',\n",
              "       'srv_rerror_rate', 'same_srv_rate', 'diff_srv_rate',\n",
              "       'srv_diff_host_rate', 'dst_host_count', 'dst_host_srv_count',\n",
              "       'dst_host_same_srv_rate', 'dst_host_diff_srv_rate',\n",
              "       'dst_host_same_src_port_rate', 'dst_host_srv_diff_host_rate',\n",
              "       'dst_host_serror_rate', 'dst_host_srv_serror_rate',\n",
              "       'dst_host_rerror_rate', 'dst_host_srv_rerror_rate', 'attack_type'],\n",
              "      dtype='object')"
            ]
          },
          "metadata": {},
          "execution_count": 25
        }
      ]
    },
    {
      "cell_type": "code",
      "metadata": {
        "id": "bDmLW_G0X4GI"
      },
      "source": [
        "cols_ = ['Duration', 'Protocol_Type', 'Service', 'Flag', 'Src_Bytes',\n",
        "       'Dst_Bytes', 'Land', 'Wrong_Fragment', 'Urgent', 'Hot',\n",
        "       'Num_Failed_Logins', 'Logged_in', 'Num_Compromised', 'Root_shell',\n",
        "       'Su_attempted', 'Num_Root', 'Num_File_Creations', 'Num_shells',\n",
        "       'Num_access_files', 'is_host_login', 'is_guest_login', 'count',\n",
        "       'srv_count', 'serror_rate', 'srv_serror_rate', 'rerror_rate',\n",
        "       'srv_rerror_rate', 'same_srv_rate', 'diff_srv_rate',\n",
        "       'srv_diff_host_rate', 'dst_host_count', 'dst_host_srv_count',\n",
        "       'dst_host_same_srv_rate', 'dst_host_diff_srv_rate',\n",
        "       'dst_host_same_src_port_rate', 'dst_host_srv_diff_host_rate',\n",
        "       'dst_host_serror_rate', 'dst_host_srv_serror_rate',\n",
        "       'dst_host_rerror_rate', 'dst_host_srv_rerror_rate']"
      ],
      "execution_count": 26,
      "outputs": []
    },
    {
      "cell_type": "code",
      "metadata": {
        "id": "YPNZm0CaX38K",
        "outputId": "8e32d5f3-5e0e-47d6-c317-a5dcc958fe1c",
        "colab": {
          "base_uri": "https://localhost:8080/",
          "height": 424
        }
      },
      "source": [
        "dataX = pd.DataFrame(XX,columns=cols_)\n",
        "dataY = pd.DataFrame(yy)\n",
        "dataY"
      ],
      "execution_count": 27,
      "outputs": [
        {
          "output_type": "execute_result",
          "data": {
            "text/plain": [
              "        0\n",
              "0       4\n",
              "1       4\n",
              "2       0\n",
              "3       4\n",
              "4       4\n",
              "...    ..\n",
              "147292  0\n",
              "147293  4\n",
              "147294  4\n",
              "147295  0\n",
              "147296  1\n",
              "\n",
              "[147297 rows x 1 columns]"
            ],
            "text/html": [
              "\n",
              "  <div id=\"df-5ce719df-aa10-453b-90f1-20ca8c1aea3b\">\n",
              "    <div class=\"colab-df-container\">\n",
              "      <div>\n",
              "<style scoped>\n",
              "    .dataframe tbody tr th:only-of-type {\n",
              "        vertical-align: middle;\n",
              "    }\n",
              "\n",
              "    .dataframe tbody tr th {\n",
              "        vertical-align: top;\n",
              "    }\n",
              "\n",
              "    .dataframe thead th {\n",
              "        text-align: right;\n",
              "    }\n",
              "</style>\n",
              "<table border=\"1\" class=\"dataframe\">\n",
              "  <thead>\n",
              "    <tr style=\"text-align: right;\">\n",
              "      <th></th>\n",
              "      <th>0</th>\n",
              "    </tr>\n",
              "  </thead>\n",
              "  <tbody>\n",
              "    <tr>\n",
              "      <th>0</th>\n",
              "      <td>4</td>\n",
              "    </tr>\n",
              "    <tr>\n",
              "      <th>1</th>\n",
              "      <td>4</td>\n",
              "    </tr>\n",
              "    <tr>\n",
              "      <th>2</th>\n",
              "      <td>0</td>\n",
              "    </tr>\n",
              "    <tr>\n",
              "      <th>3</th>\n",
              "      <td>4</td>\n",
              "    </tr>\n",
              "    <tr>\n",
              "      <th>4</th>\n",
              "      <td>4</td>\n",
              "    </tr>\n",
              "    <tr>\n",
              "      <th>...</th>\n",
              "      <td>...</td>\n",
              "    </tr>\n",
              "    <tr>\n",
              "      <th>147292</th>\n",
              "      <td>0</td>\n",
              "    </tr>\n",
              "    <tr>\n",
              "      <th>147293</th>\n",
              "      <td>4</td>\n",
              "    </tr>\n",
              "    <tr>\n",
              "      <th>147294</th>\n",
              "      <td>4</td>\n",
              "    </tr>\n",
              "    <tr>\n",
              "      <th>147295</th>\n",
              "      <td>0</td>\n",
              "    </tr>\n",
              "    <tr>\n",
              "      <th>147296</th>\n",
              "      <td>1</td>\n",
              "    </tr>\n",
              "  </tbody>\n",
              "</table>\n",
              "<p>147297 rows × 1 columns</p>\n",
              "</div>\n",
              "      <button class=\"colab-df-convert\" onclick=\"convertToInteractive('df-5ce719df-aa10-453b-90f1-20ca8c1aea3b')\"\n",
              "              title=\"Convert this dataframe to an interactive table.\"\n",
              "              style=\"display:none;\">\n",
              "        \n",
              "  <svg xmlns=\"http://www.w3.org/2000/svg\" height=\"24px\"viewBox=\"0 0 24 24\"\n",
              "       width=\"24px\">\n",
              "    <path d=\"M0 0h24v24H0V0z\" fill=\"none\"/>\n",
              "    <path d=\"M18.56 5.44l.94 2.06.94-2.06 2.06-.94-2.06-.94-.94-2.06-.94 2.06-2.06.94zm-11 1L8.5 8.5l.94-2.06 2.06-.94-2.06-.94L8.5 2.5l-.94 2.06-2.06.94zm10 10l.94 2.06.94-2.06 2.06-.94-2.06-.94-.94-2.06-.94 2.06-2.06.94z\"/><path d=\"M17.41 7.96l-1.37-1.37c-.4-.4-.92-.59-1.43-.59-.52 0-1.04.2-1.43.59L10.3 9.45l-7.72 7.72c-.78.78-.78 2.05 0 2.83L4 21.41c.39.39.9.59 1.41.59.51 0 1.02-.2 1.41-.59l7.78-7.78 2.81-2.81c.8-.78.8-2.07 0-2.86zM5.41 20L4 18.59l7.72-7.72 1.47 1.35L5.41 20z\"/>\n",
              "  </svg>\n",
              "      </button>\n",
              "      \n",
              "  <style>\n",
              "    .colab-df-container {\n",
              "      display:flex;\n",
              "      flex-wrap:wrap;\n",
              "      gap: 12px;\n",
              "    }\n",
              "\n",
              "    .colab-df-convert {\n",
              "      background-color: #E8F0FE;\n",
              "      border: none;\n",
              "      border-radius: 50%;\n",
              "      cursor: pointer;\n",
              "      display: none;\n",
              "      fill: #1967D2;\n",
              "      height: 32px;\n",
              "      padding: 0 0 0 0;\n",
              "      width: 32px;\n",
              "    }\n",
              "\n",
              "    .colab-df-convert:hover {\n",
              "      background-color: #E2EBFA;\n",
              "      box-shadow: 0px 1px 2px rgba(60, 64, 67, 0.3), 0px 1px 3px 1px rgba(60, 64, 67, 0.15);\n",
              "      fill: #174EA6;\n",
              "    }\n",
              "\n",
              "    [theme=dark] .colab-df-convert {\n",
              "      background-color: #3B4455;\n",
              "      fill: #D2E3FC;\n",
              "    }\n",
              "\n",
              "    [theme=dark] .colab-df-convert:hover {\n",
              "      background-color: #434B5C;\n",
              "      box-shadow: 0px 1px 3px 1px rgba(0, 0, 0, 0.15);\n",
              "      filter: drop-shadow(0px 1px 2px rgba(0, 0, 0, 0.3));\n",
              "      fill: #FFFFFF;\n",
              "    }\n",
              "  </style>\n",
              "\n",
              "      <script>\n",
              "        const buttonEl =\n",
              "          document.querySelector('#df-5ce719df-aa10-453b-90f1-20ca8c1aea3b button.colab-df-convert');\n",
              "        buttonEl.style.display =\n",
              "          google.colab.kernel.accessAllowed ? 'block' : 'none';\n",
              "\n",
              "        async function convertToInteractive(key) {\n",
              "          const element = document.querySelector('#df-5ce719df-aa10-453b-90f1-20ca8c1aea3b');\n",
              "          const dataTable =\n",
              "            await google.colab.kernel.invokeFunction('convertToInteractive',\n",
              "                                                     [key], {});\n",
              "          if (!dataTable) return;\n",
              "\n",
              "          const docLinkHtml = 'Like what you see? Visit the ' +\n",
              "            '<a target=\"_blank\" href=https://colab.research.google.com/notebooks/data_table.ipynb>data table notebook</a>'\n",
              "            + ' to learn more about interactive tables.';\n",
              "          element.innerHTML = '';\n",
              "          dataTable['output_type'] = 'display_data';\n",
              "          await google.colab.output.renderOutput(dataTable, element);\n",
              "          const docLink = document.createElement('div');\n",
              "          docLink.innerHTML = docLinkHtml;\n",
              "          element.appendChild(docLink);\n",
              "        }\n",
              "      </script>\n",
              "    </div>\n",
              "  </div>\n",
              "  "
            ]
          },
          "metadata": {},
          "execution_count": 27
        }
      ]
    },
    {
      "cell_type": "markdown",
      "metadata": {
        "id": "D9RC0jQyTM6d"
      },
      "source": [
        "## **Feature Selection**\n",
        "Since there is such a large number of features, it is possible that some features are redundant. Let us print a correlation matrix"
      ]
    },
    {
      "cell_type": "code",
      "metadata": {
        "outputId": "1bb3c0de-5fdb-4bbf-8edb-956e5fd53ce0",
        "colab": {
          "base_uri": "https://localhost:8080/"
        },
        "id": "18Wb4wDiKHUs"
      },
      "source": [
        "from sklearn.feature_selection import RFE\n",
        "from sklearn.tree import DecisionTreeClassifier\n",
        "import itertools    \n",
        "\n",
        "model_ = DecisionTreeClassifier()\n",
        "\n",
        "# create RFE model and select 15 attributes\n",
        "rec = RFE(model_, n_features_to_select = 15)\n",
        "rec = rec.fit(dataX, dataY)\n",
        "\n",
        "# summarize the selection of the attributes\n",
        "featuresMap = [(x, n) for x, n in itertools.zip_longest(rec.get_support(), dataX.columns)]\n",
        "selectedFeatures = [n for x, n in featuresMap if x == True]\n",
        "\n",
        "print(selectedFeatures)"
      ],
      "execution_count": 28,
      "outputs": [
        {
          "output_type": "stream",
          "name": "stdout",
          "text": [
            "['Duration', 'Protocol_Type', 'Service', 'Src_Bytes', 'Dst_Bytes', 'Num_Failed_Logins', 'is_guest_login', 'count', 'diff_srv_rate', 'dst_host_count', 'dst_host_same_srv_rate', 'dst_host_diff_srv_rate', 'dst_host_same_src_port_rate', 'dst_host_srv_serror_rate', 'dst_host_srv_rerror_rate']\n"
          ]
        }
      ]
    },
    {
      "cell_type": "markdown",
      "source": [
        "Selecting Features"
      ],
      "metadata": {
        "id": "h5Gg76_IKr3G"
      }
    },
    {
      "cell_type": "code",
      "metadata": {
        "outputId": "60fcc6b7-01d4-4de3-d79c-9578852305a9",
        "colab": {
          "base_uri": "https://localhost:8080/",
          "height": 305
        },
        "id": "0OQepJAuKHUs"
      },
      "source": [
        "dataX = dataX[selectedFeatures]\n",
        "X = dataX[selectedFeatures]\n",
        "print('15 selected features \\n')\n",
        "X.head()"
      ],
      "execution_count": 57,
      "outputs": [
        {
          "output_type": "stream",
          "name": "stdout",
          "text": [
            "15 selected features \n",
            "\n"
          ]
        },
        {
          "output_type": "execute_result",
          "data": {
            "text/plain": [
              "  Duration Protocol_Type Service Src_Bytes Dst_Bytes Num_Failed_Logins  \\\n",
              "0        0             1      20       491         0                 0   \n",
              "1        0             2      44       146         0                 0   \n",
              "2        0             1      49         0         0                 0   \n",
              "3        0             1      24       232      8153                 0   \n",
              "4        0             1      24       199       420                 0   \n",
              "\n",
              "  is_guest_login count diff_srv_rate dst_host_count dst_host_same_srv_rate  \\\n",
              "0              0     2           0.0            150                   0.17   \n",
              "1              0    13          0.15            255                    0.0   \n",
              "2              0   123          0.07            255                    0.1   \n",
              "3              0     5           0.0             30                    1.0   \n",
              "4              0    30           0.0            255                    1.0   \n",
              "\n",
              "  dst_host_diff_srv_rate dst_host_same_src_port_rate dst_host_srv_serror_rate  \\\n",
              "0                   0.03                        0.17                      0.0   \n",
              "1                    0.6                        0.88                      0.0   \n",
              "2                   0.05                         0.0                      1.0   \n",
              "3                    0.0                        0.03                     0.01   \n",
              "4                    0.0                         0.0                      0.0   \n",
              "\n",
              "  dst_host_srv_rerror_rate  \n",
              "0                      0.0  \n",
              "1                      0.0  \n",
              "2                      0.0  \n",
              "3                     0.01  \n",
              "4                      0.0  "
            ],
            "text/html": [
              "\n",
              "  <div id=\"df-4181ea61-8bd1-4bf4-baa0-d517e9448f0b\">\n",
              "    <div class=\"colab-df-container\">\n",
              "      <div>\n",
              "<style scoped>\n",
              "    .dataframe tbody tr th:only-of-type {\n",
              "        vertical-align: middle;\n",
              "    }\n",
              "\n",
              "    .dataframe tbody tr th {\n",
              "        vertical-align: top;\n",
              "    }\n",
              "\n",
              "    .dataframe thead th {\n",
              "        text-align: right;\n",
              "    }\n",
              "</style>\n",
              "<table border=\"1\" class=\"dataframe\">\n",
              "  <thead>\n",
              "    <tr style=\"text-align: right;\">\n",
              "      <th></th>\n",
              "      <th>Duration</th>\n",
              "      <th>Protocol_Type</th>\n",
              "      <th>Service</th>\n",
              "      <th>Src_Bytes</th>\n",
              "      <th>Dst_Bytes</th>\n",
              "      <th>Num_Failed_Logins</th>\n",
              "      <th>is_guest_login</th>\n",
              "      <th>count</th>\n",
              "      <th>diff_srv_rate</th>\n",
              "      <th>dst_host_count</th>\n",
              "      <th>dst_host_same_srv_rate</th>\n",
              "      <th>dst_host_diff_srv_rate</th>\n",
              "      <th>dst_host_same_src_port_rate</th>\n",
              "      <th>dst_host_srv_serror_rate</th>\n",
              "      <th>dst_host_srv_rerror_rate</th>\n",
              "    </tr>\n",
              "  </thead>\n",
              "  <tbody>\n",
              "    <tr>\n",
              "      <th>0</th>\n",
              "      <td>0</td>\n",
              "      <td>1</td>\n",
              "      <td>20</td>\n",
              "      <td>491</td>\n",
              "      <td>0</td>\n",
              "      <td>0</td>\n",
              "      <td>0</td>\n",
              "      <td>2</td>\n",
              "      <td>0.0</td>\n",
              "      <td>150</td>\n",
              "      <td>0.17</td>\n",
              "      <td>0.03</td>\n",
              "      <td>0.17</td>\n",
              "      <td>0.0</td>\n",
              "      <td>0.0</td>\n",
              "    </tr>\n",
              "    <tr>\n",
              "      <th>1</th>\n",
              "      <td>0</td>\n",
              "      <td>2</td>\n",
              "      <td>44</td>\n",
              "      <td>146</td>\n",
              "      <td>0</td>\n",
              "      <td>0</td>\n",
              "      <td>0</td>\n",
              "      <td>13</td>\n",
              "      <td>0.15</td>\n",
              "      <td>255</td>\n",
              "      <td>0.0</td>\n",
              "      <td>0.6</td>\n",
              "      <td>0.88</td>\n",
              "      <td>0.0</td>\n",
              "      <td>0.0</td>\n",
              "    </tr>\n",
              "    <tr>\n",
              "      <th>2</th>\n",
              "      <td>0</td>\n",
              "      <td>1</td>\n",
              "      <td>49</td>\n",
              "      <td>0</td>\n",
              "      <td>0</td>\n",
              "      <td>0</td>\n",
              "      <td>0</td>\n",
              "      <td>123</td>\n",
              "      <td>0.07</td>\n",
              "      <td>255</td>\n",
              "      <td>0.1</td>\n",
              "      <td>0.05</td>\n",
              "      <td>0.0</td>\n",
              "      <td>1.0</td>\n",
              "      <td>0.0</td>\n",
              "    </tr>\n",
              "    <tr>\n",
              "      <th>3</th>\n",
              "      <td>0</td>\n",
              "      <td>1</td>\n",
              "      <td>24</td>\n",
              "      <td>232</td>\n",
              "      <td>8153</td>\n",
              "      <td>0</td>\n",
              "      <td>0</td>\n",
              "      <td>5</td>\n",
              "      <td>0.0</td>\n",
              "      <td>30</td>\n",
              "      <td>1.0</td>\n",
              "      <td>0.0</td>\n",
              "      <td>0.03</td>\n",
              "      <td>0.01</td>\n",
              "      <td>0.01</td>\n",
              "    </tr>\n",
              "    <tr>\n",
              "      <th>4</th>\n",
              "      <td>0</td>\n",
              "      <td>1</td>\n",
              "      <td>24</td>\n",
              "      <td>199</td>\n",
              "      <td>420</td>\n",
              "      <td>0</td>\n",
              "      <td>0</td>\n",
              "      <td>30</td>\n",
              "      <td>0.0</td>\n",
              "      <td>255</td>\n",
              "      <td>1.0</td>\n",
              "      <td>0.0</td>\n",
              "      <td>0.0</td>\n",
              "      <td>0.0</td>\n",
              "      <td>0.0</td>\n",
              "    </tr>\n",
              "  </tbody>\n",
              "</table>\n",
              "</div>\n",
              "      <button class=\"colab-df-convert\" onclick=\"convertToInteractive('df-4181ea61-8bd1-4bf4-baa0-d517e9448f0b')\"\n",
              "              title=\"Convert this dataframe to an interactive table.\"\n",
              "              style=\"display:none;\">\n",
              "        \n",
              "  <svg xmlns=\"http://www.w3.org/2000/svg\" height=\"24px\"viewBox=\"0 0 24 24\"\n",
              "       width=\"24px\">\n",
              "    <path d=\"M0 0h24v24H0V0z\" fill=\"none\"/>\n",
              "    <path d=\"M18.56 5.44l.94 2.06.94-2.06 2.06-.94-2.06-.94-.94-2.06-.94 2.06-2.06.94zm-11 1L8.5 8.5l.94-2.06 2.06-.94-2.06-.94L8.5 2.5l-.94 2.06-2.06.94zm10 10l.94 2.06.94-2.06 2.06-.94-2.06-.94-.94-2.06-.94 2.06-2.06.94z\"/><path d=\"M17.41 7.96l-1.37-1.37c-.4-.4-.92-.59-1.43-.59-.52 0-1.04.2-1.43.59L10.3 9.45l-7.72 7.72c-.78.78-.78 2.05 0 2.83L4 21.41c.39.39.9.59 1.41.59.51 0 1.02-.2 1.41-.59l7.78-7.78 2.81-2.81c.8-.78.8-2.07 0-2.86zM5.41 20L4 18.59l7.72-7.72 1.47 1.35L5.41 20z\"/>\n",
              "  </svg>\n",
              "      </button>\n",
              "      \n",
              "  <style>\n",
              "    .colab-df-container {\n",
              "      display:flex;\n",
              "      flex-wrap:wrap;\n",
              "      gap: 12px;\n",
              "    }\n",
              "\n",
              "    .colab-df-convert {\n",
              "      background-color: #E8F0FE;\n",
              "      border: none;\n",
              "      border-radius: 50%;\n",
              "      cursor: pointer;\n",
              "      display: none;\n",
              "      fill: #1967D2;\n",
              "      height: 32px;\n",
              "      padding: 0 0 0 0;\n",
              "      width: 32px;\n",
              "    }\n",
              "\n",
              "    .colab-df-convert:hover {\n",
              "      background-color: #E2EBFA;\n",
              "      box-shadow: 0px 1px 2px rgba(60, 64, 67, 0.3), 0px 1px 3px 1px rgba(60, 64, 67, 0.15);\n",
              "      fill: #174EA6;\n",
              "    }\n",
              "\n",
              "    [theme=dark] .colab-df-convert {\n",
              "      background-color: #3B4455;\n",
              "      fill: #D2E3FC;\n",
              "    }\n",
              "\n",
              "    [theme=dark] .colab-df-convert:hover {\n",
              "      background-color: #434B5C;\n",
              "      box-shadow: 0px 1px 3px 1px rgba(0, 0, 0, 0.15);\n",
              "      filter: drop-shadow(0px 1px 2px rgba(0, 0, 0, 0.3));\n",
              "      fill: #FFFFFF;\n",
              "    }\n",
              "  </style>\n",
              "\n",
              "      <script>\n",
              "        const buttonEl =\n",
              "          document.querySelector('#df-4181ea61-8bd1-4bf4-baa0-d517e9448f0b button.colab-df-convert');\n",
              "        buttonEl.style.display =\n",
              "          google.colab.kernel.accessAllowed ? 'block' : 'none';\n",
              "\n",
              "        async function convertToInteractive(key) {\n",
              "          const element = document.querySelector('#df-4181ea61-8bd1-4bf4-baa0-d517e9448f0b');\n",
              "          const dataTable =\n",
              "            await google.colab.kernel.invokeFunction('convertToInteractive',\n",
              "                                                     [key], {});\n",
              "          if (!dataTable) return;\n",
              "\n",
              "          const docLinkHtml = 'Like what you see? Visit the ' +\n",
              "            '<a target=\"_blank\" href=https://colab.research.google.com/notebooks/data_table.ipynb>data table notebook</a>'\n",
              "            + ' to learn more about interactive tables.';\n",
              "          element.innerHTML = '';\n",
              "          dataTable['output_type'] = 'display_data';\n",
              "          await google.colab.output.renderOutput(dataTable, element);\n",
              "          const docLink = document.createElement('div');\n",
              "          docLink.innerHTML = docLinkHtml;\n",
              "          element.appendChild(docLink);\n",
              "        }\n",
              "      </script>\n",
              "    </div>\n",
              "  </div>\n",
              "  "
            ]
          },
          "metadata": {},
          "execution_count": 57
        }
      ]
    },
    {
      "cell_type": "markdown",
      "metadata": {
        "id": "VrYgY8oC_udy"
      },
      "source": [
        "## **Dataset Splitting**\n",
        "The next step is to split training and testing data. For this we will use sklearn function train_test_split(). This step is important so we can have representative data for evaluating our model. Both train and test samples should contain similar data variance."
      ]
    },
    {
      "cell_type": "code",
      "source": [
        "from sklearn.model_selection import train_test_split\n",
        "# The next step is to split training and testing data. For this we will use sklearn function train_test_split()."
      ],
      "metadata": {
        "id": "dvOlpcwudcvS"
      },
      "execution_count": 31,
      "outputs": []
    },
    {
      "cell_type": "code",
      "source": [
        "from sklearn.model_selection import train_test_split\n",
        "i_train, i_test, j_train, j_test = train_test_split(dataX, dataY, train_size=0.7,test_size=0.3,  random_state = 1, shuffle=True)"
      ],
      "metadata": {
        "id": "JVEXLs-t0KDG"
      },
      "execution_count": 32,
      "outputs": []
    },
    {
      "cell_type": "code",
      "source": [
        "i_train.shape, j_train.shape, i_test.shape, j_test.shape    # test is larger... good "
      ],
      "metadata": {
        "id": "VpdDLHfXd-7y",
        "colab": {
          "base_uri": "https://localhost:8080/"
        },
        "outputId": "9e35741d-a71f-48f9-e05e-7143ff4859c8"
      },
      "execution_count": 33,
      "outputs": [
        {
          "output_type": "execute_result",
          "data": {
            "text/plain": [
              "((103107, 15), (103107, 1), (44190, 15), (44190, 1))"
            ]
          },
          "metadata": {},
          "execution_count": 33
        }
      ]
    },
    {
      "cell_type": "markdown",
      "source": [
        "## **Scaling Numerical Attributes**\n",
        "The next few cells contain the code for scaling the data into the size adequate for the Models."
      ],
      "metadata": {
        "id": "nBSy6K0Y3V4l"
      }
    },
    {
      "cell_type": "code",
      "source": [
        "from sklearn.preprocessing import StandardScaler\n",
        "sc = StandardScaler()\n",
        "i_train = sc.fit_transform(i_train)\n",
        "i_test = sc.transform(i_test)\n",
        "i_train.shape, i_test.shape"
      ],
      "metadata": {
        "id": "Y__daF--RDkO",
        "colab": {
          "base_uri": "https://localhost:8080/"
        },
        "outputId": "0ab23fd1-c971-46b4-d478-a54f97f10e9a"
      },
      "execution_count": 34,
      "outputs": [
        {
          "output_type": "execute_result",
          "data": {
            "text/plain": [
              "((103107, 15), (44190, 15))"
            ]
          },
          "metadata": {},
          "execution_count": 34
        }
      ]
    },
    {
      "cell_type": "markdown",
      "metadata": {
        "id": "55PvMleYZzX0"
      },
      "source": [
        "## **Machine-Learning model training**"
      ]
    },
    {
      "cell_type": "markdown",
      "source": [
        "importing required libraries for ml model"
      ],
      "metadata": {
        "id": "AnzG8Ukhj41u"
      }
    },
    {
      "cell_type": "code",
      "source": [
        "from sklearn.ensemble import RandomForestClassifier,ExtraTreesClassifier\n",
        "import xgboost as xgb\n",
        "from sklearn.metrics import classification_report,confusion_matrix,accuracy_score,precision_recall_fscore_support\n",
        "from sklearn.metrics import f1_score,roc_auc_score\n",
        "from sklearn.metrics import classification_report, confusion_matrix, ConfusionMatrixDisplay\n",
        "from sklearn.metrics import plot_confusion_matrix\n",
        "from sklearn.metrics import (precision_score, recall_score,f1_score, accuracy_score,mean_squared_error,mean_absolute_error,roc_auc_score,cohen_kappa_score)\n",
        "import sklearn.metrics as metrics"
      ],
      "metadata": {
        "id": "3ODwIioD4Myg"
      },
      "execution_count": 35,
      "outputs": []
    },
    {
      "cell_type": "markdown",
      "metadata": {
        "id": "J-M5MpS3ZzX0"
      },
      "source": [
        "### Training four base learners: decision tree, random forest, XGBoost"
      ]
    },
    {
      "cell_type": "markdown",
      "metadata": {
        "id": "_Stk3cifZzX4"
      },
      "source": [
        "#### Apply DT"
      ]
    },
    {
      "cell_type": "markdown",
      "source": [
        "Training Decision Tree"
      ],
      "metadata": {
        "id": "Px795IePkLBA"
      }
    },
    {
      "cell_type": "code",
      "execution_count": 36,
      "metadata": {
        "id": "8NF2W2VOZzX4",
        "outputId": "8c126791-acdf-4c6a-a265-8cd1e157d462",
        "colab": {
          "base_uri": "https://localhost:8080/",
          "height": 0
        }
      },
      "outputs": [
        {
          "output_type": "stream",
          "name": "stdout",
          "text": [
            "Accuracy of Decision Tree: 0.9937995021498076\n",
            "              precision    recall  f1-score   support\n",
            "\n",
            "         Dos       1.00      1.00      1.00     15831\n",
            "       Probe       0.99      0.99      0.99      4160\n",
            "         R2L       0.94      0.95      0.95      1159\n",
            "         U2R       0.54      0.56      0.55        39\n",
            "      normal       1.00      0.99      0.99     23001\n",
            "\n",
            "    accuracy                           0.99     44190\n",
            "   macro avg       0.89      0.90      0.90     44190\n",
            "weighted avg       0.99      0.99      0.99     44190\n",
            "\n"
          ]
        },
        {
          "output_type": "display_data",
          "data": {
            "text/plain": [
              "<Figure size 576x432 with 2 Axes>"
            ],
            "image/png": "[encoded data removed]"
          },
          "metadata": {
            "needs_background": "light"
          }
        }
      ],
      "source": [
        "##@title  { vertical-output: true, form-width: \"45%\", display-mode: \"both\" }\n",
        "dt = DecisionTreeClassifier(random_state = 0)\n",
        "dt.fit(i_train, j_train) \n",
        "\n",
        "y_predict=dt.predict(i_test)\n",
        "y_true=j_test\n",
        "\n",
        "dt_score=dt.score(i_test, j_test)\n",
        "print('Accuracy of Decision Tree: '+ str(dt_score))\n",
        "cr = print(metrics.classification_report(y_true, y_predict, target_names=le2.classes_))\n",
        "\n",
        "cm=confusion_matrix(y_true,y_predict)\n",
        "f,ax=plt.subplots(figsize=(8,6))\n",
        "sns.heatmap(cm,annot=True,linewidth=0.1,linecolor=\"k\",fmt=\".0f\",ax=ax, cmap = 'viridis')\n",
        "plt.xlabel(\"y_pred\")\n",
        "plt.ylabel(\"y_true\")\n",
        "plt.show()"
      ]
    },
    {
      "cell_type": "markdown",
      "metadata": {
        "id": "pcS4DUx4ZzX2"
      },
      "source": [
        "#### Apply RF"
      ]
    },
    {
      "cell_type": "markdown",
      "source": [
        "Training Random Forest"
      ],
      "metadata": {
        "id": "Zm0YUVFgkN7s"
      }
    },
    {
      "cell_type": "code",
      "execution_count": 37,
      "metadata": {
        "id": "Q3YU2hGdZzX3",
        "outputId": "674fefce-b1e7-40fe-98ac-56c98108d8e3",
        "colab": {
          "base_uri": "https://localhost:8080/",
          "height": 0
        }
      },
      "outputs": [
        {
          "output_type": "stream",
          "name": "stdout",
          "text": [
            "Accuracy of Random Forest: 0.9953383118352569\n",
            "              precision    recall  f1-score   support\n",
            "\n",
            "         Dos       1.00      1.00      1.00     15831\n",
            "       Probe       0.99      1.00      1.00      4160\n",
            "         R2L       0.98      0.94      0.96      1159\n",
            "         U2R       0.76      0.33      0.46        39\n",
            "      normal       0.99      1.00      1.00     23001\n",
            "\n",
            "    accuracy                           1.00     44190\n",
            "   macro avg       0.95      0.85      0.88     44190\n",
            "weighted avg       1.00      1.00      1.00     44190\n",
            "\n"
          ]
        },
        {
          "output_type": "display_data",
          "data": {
            "text/plain": [
              "<Figure size 576x432 with 2 Axes>"
            ],
            "image/png": "[encoded data removed]"
          },
          "metadata": {
            "needs_background": "light"
          }
        }
      ],
      "source": [
        "##@title  { vertical-output: true, display-mode: \"both\" }\n",
        "rf = RandomForestClassifier(random_state = 0)\n",
        "rf.fit(i_train, j_train) \n",
        "\n",
        "y_predict=rf.predict(i_test)\n",
        "y_true=j_test\n",
        "\n",
        "rf_score=rf.score(i_test, j_test)\n",
        "print('Accuracy of Random Forest: '+ str(rf_score))\n",
        "cr = print(metrics.classification_report(y_true, y_predict, target_names=le2.classes_))\n",
        "\n",
        "cm=confusion_matrix(y_true,y_predict)\n",
        "f,ax=plt.subplots(figsize=(8,6))\n",
        "sns.heatmap(cm,annot=True,linewidth=0.1,linecolor=\"k\",fmt=\".0f\",ax=ax, cmap = 'viridis')\n",
        "plt.xlabel(\"y_pred\")\n",
        "plt.ylabel(\"y_true\")\n",
        "plt.show()"
      ]
    },
    {
      "cell_type": "markdown",
      "metadata": {
        "id": "MG74uQhVZzX0"
      },
      "source": [
        "#### Apply XGBoost"
      ]
    },
    {
      "cell_type": "markdown",
      "source": [
        "Training XGBoost"
      ],
      "metadata": {
        "id": "c-BrcaAxkVkH"
      }
    },
    {
      "cell_type": "code",
      "execution_count": 38,
      "metadata": {
        "id": "CW2naZjoZzX0",
        "outputId": "a70dcfd2-13d9-4c1d-cfb3-d93a7987602b",
        "colab": {
          "base_uri": "https://localhost:8080/",
          "height": 0
        }
      },
      "outputs": [
        {
          "output_type": "stream",
          "name": "stdout",
          "text": [
            "Accuracy of Gradient Boosting: 0.9574564381081693\n",
            "              precision    recall  f1-score   support\n",
            "\n",
            "         Dos       0.98      0.98      0.98     15831\n",
            "       Probe       0.92      0.92      0.92      4160\n",
            "         R2L       0.99      0.26      0.42      1159\n",
            "         U2R       0.00      0.00      0.00        39\n",
            "      normal       0.95      0.98      0.97     23001\n",
            "\n",
            "    accuracy                           0.96     44190\n",
            "   macro avg       0.77      0.63      0.66     44190\n",
            "weighted avg       0.96      0.96      0.95     44190\n",
            "\n"
          ]
        },
        {
          "output_type": "display_data",
          "data": {
            "text/plain": [
              "<Figure size 576x432 with 2 Axes>"
            ],
            "image/png": "[encoded data removed]"
          },
          "metadata": {
            "needs_background": "light"
          }
        }
      ],
      "source": [
        "##@title  { vertical-output: true, display-mode: \"both\" }\n",
        "xg = xgb.XGBClassifier(n_estimators = 10)\n",
        "xg.fit(i_train,j_train)\n",
        "\n",
        "y_predict=xg.predict(i_test)\n",
        "y_true=j_test\n",
        "\n",
        "xg_score=xg.score(i_test, j_test)\n",
        "print('Accuracy of Gradient Boosting: '+ str(xg_score))\n",
        "cr = print(metrics.classification_report(y_true, y_predict, target_names=le2.classes_))\n",
        "\n",
        "cm=confusion_matrix(y_true,y_predict)\n",
        "f,ax=plt.subplots(figsize=(8,6))\n",
        "sns.heatmap(cm,annot=True,linewidth=0.1,linecolor=\"k\",fmt=\".0f\",ax=ax, cmap = 'viridis')\n",
        "plt.xlabel(\"y_pred\")\n",
        "plt.ylabel(\"y_true\")\n",
        "plt.show()"
      ]
    },
    {
      "cell_type": "markdown",
      "metadata": {
        "id": "Jk3R1A0lzCwa"
      },
      "source": [
        "## **Deep-Learning Model Training**\n",
        "In this stage we go by explaning parts of the network and its hyperparameters."
      ]
    },
    {
      "cell_type": "markdown",
      "source": [
        "### Bi-directional LSTM Model\n"
      ],
      "metadata": {
        "id": "dcpw0_UEghD2"
      }
    },
    {
      "cell_type": "code",
      "execution_count": 40,
      "metadata": {
        "id": "RRlD8kRFlk7C"
      },
      "outputs": [],
      "source": [
        "#importing lobraries\n",
        "import keras\n",
        "from keras.models import Sequential,Model\n",
        "from tensorflow.keras.layers import Input, Dense,Dropout, BatchNormalization, Activation, Bidirectional, LSTM\n",
        "import tensorflow as tf\n",
        "from tensorflow import keras\n",
        "from tensorflow.keras import Model\n",
        "\n",
        "from tensorflow.keras.utils import plot_model\n",
        "from IPython.core.display import Image"
      ]
    },
    {
      "cell_type": "code",
      "source": [
        "from imblearn.over_sampling import SMOTE\n",
        "sm = SMOTE()\n",
        "x_res, y_res = sm.fit_resample(X,YY)"
      ],
      "metadata": {
        "id": "SZuEKwvl581a"
      },
      "execution_count": 41,
      "outputs": []
    },
    {
      "cell_type": "code",
      "source": [
        "from sklearn.model_selection import train_test_split\n",
        "Xtrain, Xtest, Ytrain, Ytest = train_test_split(x_res, y_res,  train_size=0.7, test_size=0.3,  random_state = 1, shuffle=True)\n",
        "print([Xtrain.shape, Xtest.shape, Ytrain.shape, Ytest.shape])"
      ],
      "metadata": {
        "colab": {
          "base_uri": "https://localhost:8080/"
        },
        "id": "0Qru8BxObAHV",
        "outputId": "bc24729d-f986-4cde-b516-cbe2231407f2"
      },
      "execution_count": 42,
      "outputs": [
        {
          "output_type": "stream",
          "name": "stdout",
          "text": [
            "[(269080, 15), (115320, 15), (269080, 5), (115320, 5)]\n"
          ]
        }
      ]
    },
    {
      "cell_type": "code",
      "source": [
        "from sklearn.preprocessing import StandardScaler\n",
        "sc = StandardScaler()\n",
        "Xtrain = sc.fit_transform(Xtrain)\n",
        "Xtest = sc.transform(Xtest)\n",
        "Xtrain.shape, Xtest.shape"
      ],
      "metadata": {
        "colab": {
          "base_uri": "https://localhost:8080/"
        },
        "id": "eplVz8MXIR5e",
        "outputId": "6a805a13-d5dd-4588-c44d-7160fabc914d"
      },
      "execution_count": 43,
      "outputs": [
        {
          "output_type": "execute_result",
          "data": {
            "text/plain": [
              "((269080, 15), (115320, 15))"
            ]
          },
          "metadata": {},
          "execution_count": 43
        }
      ]
    },
    {
      "cell_type": "markdown",
      "source": [
        "### Reshaping our data into 3D, which is required format of LSTM input"
      ],
      "metadata": {
        "id": "KzmxuWO4oPux"
      }
    },
    {
      "cell_type": "code",
      "source": [
        "Xtrain = Xtrain.reshape(Xtrain.shape[0],Xtrain.shape[1], 1)\n",
        "Xtest = Xtest.reshape(Xtest.shape[0],Xtest.shape[1], 1)\n",
        "Xtrain.shape, Xtest.shape"
      ],
      "metadata": {
        "id": "yozlfZMtJqq1",
        "colab": {
          "base_uri": "https://localhost:8080/"
        },
        "outputId": "b3e3824c-5518-471e-943f-80084373f611"
      },
      "execution_count": 44,
      "outputs": [
        {
          "output_type": "execute_result",
          "data": {
            "text/plain": [
              "((269080, 15, 1), (115320, 15, 1))"
            ]
          },
          "metadata": {},
          "execution_count": 44
        }
      ]
    },
    {
      "cell_type": "markdown",
      "source": [
        "### Structure of our BiLSTM"
      ],
      "metadata": {
        "id": "N0k8BJRd4CE3"
      }
    },
    {
      "cell_type": "code",
      "source": [
        "timesteps = 60"
      ],
      "metadata": {
        "id": "vKQ6ALbNhBGS"
      },
      "execution_count": 45,
      "outputs": []
    },
    {
      "cell_type": "code",
      "source": [
        "blstm_model = tf.keras.Sequential()\n",
        "blstm_model.add(Bidirectional(LSTM(60, return_sequences=True, activation= 'relu', input_shape=(Xtrain.shape[1], timesteps, 1))))\n",
        "blstm_model.add(Bidirectional(LSTM(60,return_sequences= False, activation= 'relu')))\n",
        "blstm_model.add(tf.keras.layers.Dropout(0.2))\n",
        "blstm_model.add(Dense(5, activation= 'softmax'))\n",
        "blstm_model.compile(optimizer='adam', loss = 'categorical_crossentropy', metrics=['accuracy'])\n",
        "history2 = blstm_model.fit(Xtrain, Ytrain,  epochs=10, validation_split=0.3, batch_size=700).history\n",
        "#model.summary()"
      ],
      "metadata": {
        "colab": {
          "base_uri": "https://localhost:8080/"
        },
        "id": "Y1hIvdu5PloF",
        "outputId": "5f43fc77-b612-45d4-eb63-e537c240e7e2"
      },
      "execution_count": 46,
      "outputs": [
        {
          "output_type": "stream",
          "name": "stdout",
          "text": [
            "Epoch 1/10\n",
            "270/270 [==============================] - 111s 386ms/step - loss: 0.8949 - accuracy: 0.6537 - val_loss: 0.7153 - val_accuracy: 0.7399\n",
            "Epoch 2/10\n",
            "270/270 [==============================] - 103s 383ms/step - loss: 0.4432 - accuracy: 0.8437 - val_loss: 0.3691 - val_accuracy: 0.8661\n",
            "Epoch 3/10\n",
            "270/270 [==============================] - 103s 383ms/step - loss: 0.3469 - accuracy: 0.8819 - val_loss: 0.2823 - val_accuracy: 0.9065\n",
            "Epoch 4/10\n",
            "270/270 [==============================] - 104s 385ms/step - loss: 0.2961 - accuracy: 0.9008 - val_loss: 0.3288 - val_accuracy: 0.8845\n",
            "Epoch 5/10\n",
            "270/270 [==============================] - 105s 387ms/step - loss: 0.2710 - accuracy: 0.9085 - val_loss: 0.2457 - val_accuracy: 0.9147\n",
            "Epoch 6/10\n",
            "270/270 [==============================] - 105s 388ms/step - loss: 0.2529 - accuracy: 0.9138 - val_loss: 0.2404 - val_accuracy: 0.9200\n",
            "Epoch 7/10\n",
            "270/270 [==============================] - 104s 386ms/step - loss: 0.2403 - accuracy: 0.9176 - val_loss: 0.2502 - val_accuracy: 0.9145\n",
            "Epoch 8/10\n",
            "270/270 [==============================] - 105s 390ms/step - loss: 0.2284 - accuracy: 0.9205 - val_loss: 0.2236 - val_accuracy: 0.9200\n",
            "Epoch 9/10\n",
            "270/270 [==============================] - 106s 391ms/step - loss: 0.2220 - accuracy: 0.9229 - val_loss: 0.2089 - val_accuracy: 0.9274\n",
            "Epoch 10/10\n",
            "270/270 [==============================] - 105s 390ms/step - loss: 0.2127 - accuracy: 0.9266 - val_loss: 0.2343 - val_accuracy: 0.9111\n"
          ]
        }
      ]
    },
    {
      "cell_type": "code",
      "source": [
        "plot_model(blstm_model, to_file='model.png', show_shapes=True, show_layer_names=False, rankdir='TB', expand_nested=False, dpi=80)"
      ],
      "metadata": {
        "id": "TfIyOZ9UsHkT",
        "colab": {
          "base_uri": "https://localhost:8080/",
          "height": 447
        },
        "outputId": "e4382f54-4a02-4800-91ed-3cb1c6fb34a4"
      },
      "execution_count": 47,
      "outputs": [
        {
          "output_type": "execute_result",
          "data": {
            "text/plain": [
              "<IPython.core.display.Image object>"
            ],
            "image/png": "[encoded data removed]"
          },
          "metadata": {},
          "execution_count": 47
        }
      ]
    },
    {
      "cell_type": "markdown",
      "source": [
        "Evaluating our trained BiLSTM"
      ],
      "metadata": {
        "id": "u-J6ncH1pUMR"
      }
    },
    {
      "cell_type": "code",
      "source": [
        "##@title  { vertical-output: true, form-width: \"45%\", display-mode: \"both\" }\n",
        "#We now predict the output for our test dataset. If the prediction is greater than 0.5 then the output is 1 else the output is 0\n",
        "blstm_score = blstm_model.evaluate(Xtest, Ytest)\n",
        "y_pred=blstm_model.predict(Xtest)\n",
        "b_predict=np.argmax(y_pred, axis=1)\n",
        "b_test=np.argmax(Ytest, axis=1)\n",
        "\n",
        "\n",
        "print('Accuracy of BLSTM: '+ str(blstm_score[1]))\n",
        "\n",
        "precision,recall,fscore,none= precision_recall_fscore_support(b_test,np.round(b_predict), average='weighted') \n",
        "print('Precision of BLSTM: '+(str(precision)))\n",
        "print('Recall of BLSTM: '+(str(recall)))\n",
        "print('F1-score of BLSTM: '+(str(fscore)))\n",
        "print(metrics.classification_report(b_test, np.round(b_predict), target_names=le2.classes_))\n",
        "\n",
        "cm=confusion_matrix(b_test, np.round(b_predict))\n",
        "f,ax=plt.subplots(figsize=(8,6))\n",
        "sns.heatmap(cm,annot=True,linewidth=0.5,linecolor=\"k\",fmt=\".0f\",ax=ax, cmap = 'viridis')\n",
        "plt.xlabel(\"y_pred\")\n",
        "plt.ylabel(\"y_test\")\n",
        "plt.show()"
      ],
      "metadata": {
        "id": "WBgG61hTC6dG",
        "colab": {
          "base_uri": "https://localhost:8080/",
          "height": 684
        },
        "outputId": "a0a47b34-afb7-4a3f-a649-b1c4e039def1"
      },
      "execution_count": 48,
      "outputs": [
        {
          "output_type": "stream",
          "name": "stdout",
          "text": [
            "3604/3604 [==============================] - 39s 11ms/step - loss: 0.2319 - accuracy: 0.9099\n",
            "Accuracy of BLSTM: 0.9098681807518005\n",
            "Precision of BLSTM: 0.9098596058611746\n",
            "Recall of BLSTM: 0.9098681928546652\n",
            "F1-score of BLSTM: 0.9098069111069308\n",
            "              precision    recall  f1-score   support\n",
            "\n",
            "         Dos       0.97      0.96      0.97     23096\n",
            "       Probe       0.95      0.98      0.96     23060\n",
            "         R2L       0.88      0.87      0.87     23152\n",
            "         U2R       0.87      0.86      0.86     22996\n",
            "      normal       0.88      0.89      0.89     23016\n",
            "\n",
            "    accuracy                           0.91    115320\n",
            "   macro avg       0.91      0.91      0.91    115320\n",
            "weighted avg       0.91      0.91      0.91    115320\n",
            "\n"
          ]
        },
        {
          "output_type": "display_data",
          "data": {
            "text/plain": [
              "<Figure size 576x432 with 2 Axes>"
            ],
            "image/png": "[encoded data removed]"
          },
          "metadata": {
            "needs_background": "light"
          }
        }
      ]
    },
    {
      "cell_type": "markdown",
      "source": [
        "### Accuracy Curve of our trained BiLSTM"
      ],
      "metadata": {
        "id": "94fzYqVApc_K"
      }
    },
    {
      "cell_type": "code",
      "source": [
        "#@title  { vertical-output: true, form-width: \"45%\", display-mode: \"both\" }\n",
        "# Plot of accuracy vs epoch of train and test dataset\n",
        "\n",
        "plt.figure(figsize=(7,4))\n",
        "plt.plot(history2['accuracy'], 'violet')\n",
        "plt.plot(history2['val_accuracy'],'cyan')\n",
        "\n",
        "plt.title('Accuracy Curve of BiLSTM model')\n",
        "\n",
        "plt.ylabel('accuracy')\n",
        "plt.xlabel('epoch')\n",
        "plt.grid(False)\n",
        "plt.legend(['train', 'test'], loc='upper left');"
      ],
      "metadata": {
        "id": "AUjw7UZuZkYQ",
        "colab": {
          "base_uri": "https://localhost:8080/",
          "height": 0
        },
        "outputId": "7ec37960-3ea0-4a36-ee75-ac47bf740ef6"
      },
      "execution_count": 49,
      "outputs": [
        {
          "output_type": "display_data",
          "data": {
            "text/plain": [
              "<Figure size 504x288 with 1 Axes>"
            ],
            "image/png": "[encoded data removed]"
          },
          "metadata": {
            "needs_background": "light"
          }
        }
      ]
    },
    {
      "cell_type": "markdown",
      "source": [
        "### Loss Curve of our trained BiLSTM"
      ],
      "metadata": {
        "id": "jEQX7v1SplEX"
      }
    },
    {
      "cell_type": "code",
      "source": [
        "#@title  { vertical-output: true, form-width: \"45%\", display-mode: \"both\" }\n",
        "# Plot of loss vs epoch of train and test dataset\n",
        "\n",
        "plt.figure(figsize=(7,4))\n",
        "plt.plot(history2['loss'], 'violet')\n",
        "plt.plot(history2['val_loss'], 'cyan')\n",
        "\n",
        "plt.title('Loss Curve of BLSTM model')\n",
        "\n",
        "plt.ylabel('loss')\n",
        "plt.xlabel('epoch')\n",
        "plt.grid(False)\n",
        "plt.legend(['train', 'test'], loc='upper right');"
      ],
      "metadata": {
        "id": "3vB-FWf_Z_Xx",
        "colab": {
          "base_uri": "https://localhost:8080/",
          "height": 0
        },
        "outputId": "474b2974-c250-48a7-8a42-d4127717ca14"
      },
      "execution_count": 50,
      "outputs": [
        {
          "output_type": "display_data",
          "data": {
            "text/plain": [
              "<Figure size 504x288 with 1 Axes>"
            ],
            "image/png": "[encoded data removed]"
          },
          "metadata": {
            "needs_background": "light"
          }
        }
      ]
    },
    {
      "cell_type": "markdown",
      "source": [
        "## **Models Comparision**\n",
        "The table below tabulates all the score accuracies from each model for a clear comparision."
      ],
      "metadata": {
        "id": "S2M7eXkDQfk_"
      }
    },
    {
      "cell_type": "code",
      "source": [
        "result = pd.DataFrame({ 'Classifiers': ['DecisionTree Classifier', 'RandomForest Classifier','GradientBoosting Classifier', 'Bidirectional LSTM'],\n",
        "                         'Score': [dt_score, rf_score, xg_score, blstm_score[1]]})\n",
        "\n",
        "result"
      ],
      "metadata": {
        "id": "8fpIvHtQ9PIk",
        "colab": {
          "base_uri": "https://localhost:8080/",
          "height": 175
        },
        "outputId": "49f0fe34-4688-469b-fc43-926f956f0b28"
      },
      "execution_count": 51,
      "outputs": [
        {
          "output_type": "execute_result",
          "data": {
            "text/plain": [
              "                   Classifiers     Score\n",
              "0      DecisionTree Classifier  0.993800\n",
              "1      RandomForest Classifier  0.995338\n",
              "2  GradientBoosting Classifier  0.957456\n",
              "3           Bidirectional LSTM  0.909868"
            ],
            "text/html": [
              "\n",
              "  <div id=\"df-2a5c5b1a-9600-43a1-a810-54c82e466e47\">\n",
              "    <div class=\"colab-df-container\">\n",
              "      <div>\n",
              "<style scoped>\n",
              "    .dataframe tbody tr th:only-of-type {\n",
              "        vertical-align: middle;\n",
              "    }\n",
              "\n",
              "    .dataframe tbody tr th {\n",
              "        vertical-align: top;\n",
              "    }\n",
              "\n",
              "    .dataframe thead th {\n",
              "        text-align: right;\n",
              "    }\n",
              "</style>\n",
              "<table border=\"1\" class=\"dataframe\">\n",
              "  <thead>\n",
              "    <tr style=\"text-align: right;\">\n",
              "      <th></th>\n",
              "      <th>Classifiers</th>\n",
              "      <th>Score</th>\n",
              "    </tr>\n",
              "  </thead>\n",
              "  <tbody>\n",
              "    <tr>\n",
              "      <th>0</th>\n",
              "      <td>DecisionTree Classifier</td>\n",
              "      <td>0.993800</td>\n",
              "    </tr>\n",
              "    <tr>\n",
              "      <th>1</th>\n",
              "      <td>RandomForest Classifier</td>\n",
              "      <td>0.995338</td>\n",
              "    </tr>\n",
              "    <tr>\n",
              "      <th>2</th>\n",
              "      <td>GradientBoosting Classifier</td>\n",
              "      <td>0.957456</td>\n",
              "    </tr>\n",
              "    <tr>\n",
              "      <th>3</th>\n",
              "      <td>Bidirectional LSTM</td>\n",
              "      <td>0.909868</td>\n",
              "    </tr>\n",
              "  </tbody>\n",
              "</table>\n",
              "</div>\n",
              "      <button class=\"colab-df-convert\" onclick=\"convertToInteractive('df-2a5c5b1a-9600-43a1-a810-54c82e466e47')\"\n",
              "              title=\"Convert this dataframe to an interactive table.\"\n",
              "              style=\"display:none;\">\n",
              "        \n",
              "  <svg xmlns=\"http://www.w3.org/2000/svg\" height=\"24px\"viewBox=\"0 0 24 24\"\n",
              "       width=\"24px\">\n",
              "    <path d=\"M0 0h24v24H0V0z\" fill=\"none\"/>\n",
              "    <path d=\"M18.56 5.44l.94 2.06.94-2.06 2.06-.94-2.06-.94-.94-2.06-.94 2.06-2.06.94zm-11 1L8.5 8.5l.94-2.06 2.06-.94-2.06-.94L8.5 2.5l-.94 2.06-2.06.94zm10 10l.94 2.06.94-2.06 2.06-.94-2.06-.94-.94-2.06-.94 2.06-2.06.94z\"/><path d=\"M17.41 7.96l-1.37-1.37c-.4-.4-.92-.59-1.43-.59-.52 0-1.04.2-1.43.59L10.3 9.45l-7.72 7.72c-.78.78-.78 2.05 0 2.83L4 21.41c.39.39.9.59 1.41.59.51 0 1.02-.2 1.41-.59l7.78-7.78 2.81-2.81c.8-.78.8-2.07 0-2.86zM5.41 20L4 18.59l7.72-7.72 1.47 1.35L5.41 20z\"/>\n",
              "  </svg>\n",
              "      </button>\n",
              "      \n",
              "  <style>\n",
              "    .colab-df-container {\n",
              "      display:flex;\n",
              "      flex-wrap:wrap;\n",
              "      gap: 12px;\n",
              "    }\n",
              "\n",
              "    .colab-df-convert {\n",
              "      background-color: #E8F0FE;\n",
              "      border: none;\n",
              "      border-radius: 50%;\n",
              "      cursor: pointer;\n",
              "      display: none;\n",
              "      fill: #1967D2;\n",
              "      height: 32px;\n",
              "      padding: 0 0 0 0;\n",
              "      width: 32px;\n",
              "    }\n",
              "\n",
              "    .colab-df-convert:hover {\n",
              "      background-color: #E2EBFA;\n",
              "      box-shadow: 0px 1px 2px rgba(60, 64, 67, 0.3), 0px 1px 3px 1px rgba(60, 64, 67, 0.15);\n",
              "      fill: #174EA6;\n",
              "    }\n",
              "\n",
              "    [theme=dark] .colab-df-convert {\n",
              "      background-color: #3B4455;\n",
              "      fill: #D2E3FC;\n",
              "    }\n",
              "\n",
              "    [theme=dark] .colab-df-convert:hover {\n",
              "      background-color: #434B5C;\n",
              "      box-shadow: 0px 1px 3px 1px rgba(0, 0, 0, 0.15);\n",
              "      filter: drop-shadow(0px 1px 2px rgba(0, 0, 0, 0.3));\n",
              "      fill: #FFFFFF;\n",
              "    }\n",
              "  </style>\n",
              "\n",
              "      <script>\n",
              "        const buttonEl =\n",
              "          document.querySelector('#df-2a5c5b1a-9600-43a1-a810-54c82e466e47 button.colab-df-convert');\n",
              "        buttonEl.style.display =\n",
              "          google.colab.kernel.accessAllowed ? 'block' : 'none';\n",
              "\n",
              "        async function convertToInteractive(key) {\n",
              "          const element = document.querySelector('#df-2a5c5b1a-9600-43a1-a810-54c82e466e47');\n",
              "          const dataTable =\n",
              "            await google.colab.kernel.invokeFunction('convertToInteractive',\n",
              "                                                     [key], {});\n",
              "          if (!dataTable) return;\n",
              "\n",
              "          const docLinkHtml = 'Like what you see? Visit the ' +\n",
              "            '<a target=\"_blank\" href=https://colab.research.google.com/notebooks/data_table.ipynb>data table notebook</a>'\n",
              "            + ' to learn more about interactive tables.';\n",
              "          element.innerHTML = '';\n",
              "          dataTable['output_type'] = 'display_data';\n",
              "          await google.colab.output.renderOutput(dataTable, element);\n",
              "          const docLink = document.createElement('div');\n",
              "          docLink.innerHTML = docLinkHtml;\n",
              "          element.appendChild(docLink);\n",
              "        }\n",
              "      </script>\n",
              "    </div>\n",
              "  </div>\n",
              "  "
            ]
          },
          "metadata": {},
          "execution_count": 51
        }
      ]
    },
    {
      "cell_type": "code",
      "source": [
        "chart = pd.DataFrame({ 'Classifiers': ['DecisionTree', 'RandomForest','GradientBoosting', 'Bidirectional LSTM'],\n",
        "                         'Score': [dt_score, rf_score, xg_score, blstm_score[1]]})\n",
        "plt.figure(figsize=(8,6))\n",
        "ax=sns.barplot(data = chart, x = 'Classifiers', y = 'Score', palette='Set1')\n",
        "ax.set_xticklabels(ax.get_xticklabels(), )\n",
        "plt.title('PBID - UNSWNB15 \\n ', fontsize=12)\n",
        "#plt.legend([],[], frameon=True)\n",
        "plt.show()"
      ],
      "metadata": {
        "colab": {
          "base_uri": "https://localhost:8080/",
          "height": 419
        },
        "id": "vi77ozCTD-5q",
        "outputId": "a8b9c577-fdb7-4fc4-bb3a-85e6dd412448"
      },
      "execution_count": 52,
      "outputs": [
        {
          "output_type": "display_data",
          "data": {
            "text/plain": [
              "<Figure size 576x432 with 1 Axes>"
            ],
            "image/png": "[encoded data removed]"
          },
          "metadata": {
            "needs_background": "light"
          }
        }
      ]
    },
    {
      "cell_type": "markdown",
      "source": [
        "From these tested models, the results table shows that Random Forest classifier boast a 94% accuracy. \n",
        "The Deep Learning Models are even not far behind which had 92% around for  BLSTM.\n",
        "\n",
        "In conclusion, the Random Forest classifier out performs all the models in detecting intrusion on the network. DecisionTree classifier are a close second in detecting intrusions and giving reliable predictions.\n",
        "\n",
        "Finally To evaluate more about these models, the ROC curve and Calibration plots for multi-class classification need to be implemented."
      ],
      "metadata": {
        "id": "-folaOMH8U-_"
      }
    },
    {
      "cell_type": "markdown",
      "source": [
        "### **Performance Test**\n",
        "\n",
        "As our problem is about detecting intrusions. So what we require is more recall than precision of our model. Let's explain this, recall is important where false negative is more important than false positive. Here as false negative case ( means a real instrusion not detected ) is costly and we cannot afford to let go the intrusion undetected. And precision is important where false positive is more imporant than false negative.\n",
        "\n",
        "So the class which has more recall is class 3, as it has more recall and precision than other clasess as observed from figure below."
      ],
      "metadata": {
        "id": "zfxahmQHXdeo"
      }
    },
    {
      "cell_type": "markdown",
      "source": [
        "Importing required libraries\n",
        "\n",
        "Separating features and target\n",
        "\n",
        "and training one vs rest classifier\n"
      ],
      "metadata": {
        "id": "b6VUWKdHrBKa"
      }
    },
    {
      "cell_type": "markdown",
      "source": [
        "## **Plot the ROC Curve**"
      ],
      "metadata": {
        "id": "tpKu29bUr8XL"
      }
    },
    {
      "cell_type": "markdown",
      "source": [
        ""
      ],
      "metadata": {
        "id": "MJQ51KsrvhJ-"
      }
    },
    {
      "cell_type": "markdown",
      "source": [
        "Basically, ROC curve is an evaluation technique for classification problems. It plots sensivity against specificity. Senstivity is another name for recall which is true positive rate and specificity is false negative rate.\n",
        "\n",
        "We desire to maximize these two values. If we maximize senstivity, the specificity lowers and vice versa. It depends on scenario which one to prefer."
      ],
      "metadata": {
        "id": "4DdFcs-GBH97"
      }
    },
    {
      "cell_type": "code",
      "source": [
        "from sklearn.multiclass import OneVsRestClassifier\n",
        "from sklearn.ensemble import RandomForestClassifier\n",
        "from sklearn.metrics import roc_curve,auc"
      ],
      "metadata": {
        "id": "pWoxKISLr2Yz"
      },
      "execution_count": 53,
      "outputs": []
    },
    {
      "cell_type": "code",
      "source": [
        "X_train, X_test, y_train, y_test = train_test_split(dataX, dataY, train_size=0.7,test_size=0.3,  random_state = 1, shuffle=True)\n",
        "classes=le2.classes_"
      ],
      "metadata": {
        "id": "M336bCURsTI1"
      },
      "execution_count": 54,
      "outputs": []
    },
    {
      "cell_type": "code",
      "source": [
        "RF=OneVsRestClassifier(RandomForestClassifier(max_features=0.2))\n",
        "RF.fit(X_train,y_train)\n",
        "y_pred =RF.predict(X_test)\n",
        "pred_prob = RF.predict_proba(X_test)"
      ],
      "metadata": {
        "id": "P0CbTSFpsDYi"
      },
      "execution_count": 55,
      "outputs": []
    },
    {
      "cell_type": "code",
      "source": [
        "from sklearn.preprocessing import label_binarize\n",
        "#binarize the y_values\n",
        "\n",
        "y_test_binarized=label_binarize(y_test,classes=np.unique(y_test))\n",
        "\n",
        "# roc curve for classes\n",
        "fpr = {}\n",
        "tpr = {}\n",
        "thresh ={}\n",
        "roc_auc = dict()\n",
        "\n",
        "n_class = classes.shape[0]\n",
        "\n",
        "for i in range(n_class):    \n",
        "    fpr[i], tpr[i], thresh[i] = roc_curve(y_test_binarized[:,i], pred_prob[:,i])\n",
        "    roc_auc[i] = auc(fpr[i], tpr[i])\n",
        "    \n",
        "    # plotting    \n",
        "    plt.plot(fpr[i], tpr[i], \n",
        "             label='%s(AUC=%0.2f)'%(classes[i],roc_auc[i]))\n",
        "\n",
        "plt.plot([0,1],[0,1],'b--')\n",
        "plt.xlim([0,1])\n",
        "plt.ylim([0,1.05])\n",
        "plt.title('PBID ROC curve - UNSWNB15')\n",
        "plt.xlabel('False Positive Rate')\n",
        "plt.ylabel('True Positive rate')\n",
        "plt.legend(loc='lower right')\n",
        "plt.grid(False)\n",
        "plt.show()"
      ],
      "metadata": {
        "colab": {
          "base_uri": "https://localhost:8080/",
          "height": 295
        },
        "id": "v9NJvvALsdpc",
        "outputId": "7a560c5a-0ffc-40f1-fe2c-9dded59e540e"
      },
      "execution_count": 56,
      "outputs": [
        {
          "output_type": "display_data",
          "data": {
            "text/plain": [
              "<Figure size 432x288 with 1 Axes>"
            ],
            "image/png": "[encoded data removed]"
          },
          "metadata": {
            "needs_background": "light"
          }
        }
      ]
    }
  ]
}