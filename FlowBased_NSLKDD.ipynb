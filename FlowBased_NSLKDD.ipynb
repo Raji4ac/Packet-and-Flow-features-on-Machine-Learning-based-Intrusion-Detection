{
  "nbformat": 4,
  "nbformat_minor": 0,
  "metadata": {
    "colab": {
      "name": "FlowBased_NSLKDD.ipynb",
      "provenance": [],
      "collapsed_sections": [
        "rH4FCgA3AT-Q",
        "OdwzC9zoztPw",
        "0sMotdVEFWss",
        "s0zCEKIdFM7y",
        "55PvMleYZzX0",
        "Jk3R1A0lzCwa",
        "dcpw0_UEghD2",
        "94fzYqVApc_K",
        "jEQX7v1SplEX",
        "S2M7eXkDQfk_"
      ]
    },
    "kernelspec": {
      "name": "python3",
      "display_name": "Python 3"
    },
    "language_info": {
      "name": "python"
    }
  },
  "cells": [
    {
      "cell_type": "markdown",
      "source": [
        "# **FLOW BASED INTRUSION DETECTION ON NSL-KDD DATASET**"
      ],
      "metadata": {
        "id": "L3zbay1Lh_bx"
      }
    },
    {
      "cell_type": "markdown",
      "source": [
        "## **Environment Setup**"
      ],
      "metadata": {
        "id": "rH4FCgA3AT-Q"
      }
    },
    {
      "cell_type": "code",
      "execution_count": 1,
      "metadata": {
        "id": "_xZEtDi_-OTB",
        "colab": {
          "base_uri": "https://localhost:8080/"
        },
        "outputId": "5c963582-07c9-472e-96b7-d3251c9c184e"
      },
      "outputs": [
        {
          "output_type": "stream",
          "name": "stdout",
          "text": [
            "Mounted at /content/drive\n"
          ]
        }
      ],
      "source": [
        "from google.colab import drive\n",
        "drive.mount(\"/content/drive\")"
      ]
    },
    {
      "cell_type": "markdown",
      "source": [
        "**Importing Libraries**"
      ],
      "metadata": {
        "id": "HTKhwdNrto_Q"
      }
    },
    {
      "cell_type": "code",
      "source": [
        "# Ignore warnings\n",
        "import warnings\n",
        "warnings.simplefilter(action='ignore', category=FutureWarning)\n",
        "warnings.filterwarnings('ignore')\n",
        "\n",
        "import numpy as np\n",
        "import matplotlib.pyplot as plt\n",
        "import pandas as pd\n",
        "import seaborn as sns\n",
        "import imblearn\n",
        "import sklearn\n",
        "%matplotlib inline\n",
        "\n",
        "# importing required libraries for normalizing data\n",
        "from sklearn import preprocessing\n",
        "from sklearn.preprocessing import StandardScaler"
      ],
      "metadata": {
        "id": "yj8P28Lq-XpO"
      },
      "execution_count": 2,
      "outputs": []
    },
    {
      "cell_type": "markdown",
      "source": [
        "## **Load Data**\n",
        "Datasets with 3 different CSV files, each contains same type of attack data at different times."
      ],
      "metadata": {
        "id": "OdwzC9zoztPw"
      }
    },
    {
      "cell_type": "code",
      "source": [
        "features = ['duration', 'protocol_type', 'service', 'flag', 'src_bytes',\n",
        "          'dst_bytes', 'land', 'wrong_fragment', 'urgent', 'hot',\n",
        "          'num_failed_logins', 'logged_in', 'num_compromised', 'root_shell',\n",
        "          'su_attempted', 'num_root', 'num_file_creations', 'num_shells',\n",
        "          'num_access_files', 'num_outbound_cmds', 'is_host_login',\n",
        "          'is_guest_login', 'count', 'srv_count', 'serror_rate',\n",
        "          'srv_serror_rate', 'rerror_rate', 'srv_rerror_rate', 'same_srv_rate',\n",
        "          'diff_srv_rate', 'srv_diff_host_rate', 'dst_host_count',\n",
        "          'dst_host_srv_count', 'dst_host_same_srv_rate', 'dst_host_diff_srv_rate', 'dst_host_same_src_port_rate',\n",
        "          'dst_host_srv_diff_host_rate', 'dst_host_serror_rate',\n",
        "          'dst_host_srv_serror_rate', 'dst_host_rerror_rate',\n",
        "          'dst_host_srv_rerror_rate', 'attack_type', 'difficulty_level']"
      ],
      "metadata": {
        "id": "e4sbXDJwi3m4"
      },
      "execution_count": 3,
      "outputs": []
    },
    {
      "cell_type": "code",
      "source": [
        "# Load NSL_KDDTrain dataset\n",
        "kddTrain = pd.read_csv('/content/drive/MyDrive/2117493_PROJECT/NIDS/NSL-KDD/Datasets/KDDTrain+.txt', names=features)\n",
        "\n",
        "# Load NSL_KDDTest dataset\n",
        "kddTest = pd.read_csv('/content/drive/MyDrive/2117493_PROJECT/NIDS/NSL-KDD/Datasets/KDDTest+.txt', names=features)\n",
        "\n",
        "kddTrain.shape, kddTest.shape"
      ],
      "metadata": {
        "id": "fSCMjdMKVmS-",
        "colab": {
          "base_uri": "https://localhost:8080/"
        },
        "outputId": "ad8fccc5-3fbf-4b67-fe6a-6444b01bb262"
      },
      "execution_count": 4,
      "outputs": [
        {
          "output_type": "execute_result",
          "data": {
            "text/plain": [
              "((125973, 43), (22544, 43))"
            ]
          },
          "metadata": {},
          "execution_count": 4
        }
      ]
    },
    {
      "cell_type": "code",
      "source": [
        "# Combining all tables into one dataset. This is possilbe since all tables have the same columns,\n",
        "# as we checked in the cell above.\n",
        "combinedData = pd.concat([kddTrain, kddTest]).drop_duplicates(keep=False)\n",
        "combinedData.reset_index(drop=True, inplace = True)"
      ],
      "metadata": {
        "id": "_rSSSJq069RK"
      },
      "execution_count": 5,
      "outputs": []
    },
    {
      "cell_type": "code",
      "source": [
        "print('Data has {} rows & {} columns'.format(combinedData.shape[0],combinedData.shape[1]))"
      ],
      "metadata": {
        "colab": {
          "base_uri": "https://localhost:8080/"
        },
        "outputId": "00ed4c4c-ea1c-4ad3-8edf-f0f64c1038d0",
        "id": "rA0mbukxs9pU"
      },
      "execution_count": 6,
      "outputs": [
        {
          "output_type": "stream",
          "name": "stdout",
          "text": [
            "Data has 147297 rows & 43 columns\n"
          ]
        }
      ]
    },
    {
      "cell_type": "code",
      "source": [
        "combinedData.tail(3)"
      ],
      "metadata": {
        "colab": {
          "base_uri": "https://localhost:8080/",
          "height": 237
        },
        "outputId": "174c9bd5-5616-4b83-e1d0-40a5e22f3974",
        "id": "S6raL-Yws9pT"
      },
      "execution_count": 7,
      "outputs": [
        {
          "output_type": "execute_result",
          "data": {
            "text/plain": [
              "        duration protocol_type service flag  src_bytes  dst_bytes  land  \\\n",
              "147294         0           tcp    http   SF        317        938     0   \n",
              "147295         0           tcp    http   SF      54540       8314     0   \n",
              "147296         0           tcp  sunrpc  REJ          0          0     0   \n",
              "\n",
              "        wrong_fragment  urgent  hot  ...  dst_host_same_srv_rate  \\\n",
              "147294               0       0    0  ...                    1.00   \n",
              "147295               0       0    2  ...                    1.00   \n",
              "147296               0       0    0  ...                    0.08   \n",
              "\n",
              "        dst_host_diff_srv_rate  dst_host_same_src_port_rate  \\\n",
              "147294                    0.00                         0.01   \n",
              "147295                    0.00                         0.00   \n",
              "147296                    0.03                         0.00   \n",
              "\n",
              "        dst_host_srv_diff_host_rate  dst_host_serror_rate  \\\n",
              "147294                         0.01                  0.01   \n",
              "147295                         0.00                  0.00   \n",
              "147296                         0.00                  0.00   \n",
              "\n",
              "        dst_host_srv_serror_rate  dst_host_rerror_rate  \\\n",
              "147294                       0.0                  0.00   \n",
              "147295                       0.0                  0.07   \n",
              "147296                       0.0                  0.44   \n",
              "\n",
              "        dst_host_srv_rerror_rate  attack_type  difficulty_level  \n",
              "147294                      0.00       normal                21  \n",
              "147295                      0.07         back                15  \n",
              "147296                      1.00        mscan                14  \n",
              "\n",
              "[3 rows x 43 columns]"
            ],
            "text/html": [
              "\n",
              "  <div id=\"df-b741880b-f775-4d1f-bbf9-f15e9ee7e32f\">\n",
              "    <div class=\"colab-df-container\">\n",
              "      <div>\n",
              "<style scoped>\n",
              "    .dataframe tbody tr th:only-of-type {\n",
              "        vertical-align: middle;\n",
              "    }\n",
              "\n",
              "    .dataframe tbody tr th {\n",
              "        vertical-align: top;\n",
              "    }\n",
              "\n",
              "    .dataframe thead th {\n",
              "        text-align: right;\n",
              "    }\n",
              "</style>\n",
              "<table border=\"1\" class=\"dataframe\">\n",
              "  <thead>\n",
              "    <tr style=\"text-align: right;\">\n",
              "      <th></th>\n",
              "      <th>duration</th>\n",
              "      <th>protocol_type</th>\n",
              "      <th>service</th>\n",
              "      <th>flag</th>\n",
              "      <th>src_bytes</th>\n",
              "      <th>dst_bytes</th>\n",
              "      <th>land</th>\n",
              "      <th>wrong_fragment</th>\n",
              "      <th>urgent</th>\n",
              "      <th>hot</th>\n",
              "      <th>...</th>\n",
              "      <th>dst_host_same_srv_rate</th>\n",
              "      <th>dst_host_diff_srv_rate</th>\n",
              "      <th>dst_host_same_src_port_rate</th>\n",
              "      <th>dst_host_srv_diff_host_rate</th>\n",
              "      <th>dst_host_serror_rate</th>\n",
              "      <th>dst_host_srv_serror_rate</th>\n",
              "      <th>dst_host_rerror_rate</th>\n",
              "      <th>dst_host_srv_rerror_rate</th>\n",
              "      <th>attack_type</th>\n",
              "      <th>difficulty_level</th>\n",
              "    </tr>\n",
              "  </thead>\n",
              "  <tbody>\n",
              "    <tr>\n",
              "      <th>147294</th>\n",
              "      <td>0</td>\n",
              "      <td>tcp</td>\n",
              "      <td>http</td>\n",
              "      <td>SF</td>\n",
              "      <td>317</td>\n",
              "      <td>938</td>\n",
              "      <td>0</td>\n",
              "      <td>0</td>\n",
              "      <td>0</td>\n",
              "      <td>0</td>\n",
              "      <td>...</td>\n",
              "      <td>1.00</td>\n",
              "      <td>0.00</td>\n",
              "      <td>0.01</td>\n",
              "      <td>0.01</td>\n",
              "      <td>0.01</td>\n",
              "      <td>0.0</td>\n",
              "      <td>0.00</td>\n",
              "      <td>0.00</td>\n",
              "      <td>normal</td>\n",
              "      <td>21</td>\n",
              "    </tr>\n",
              "    <tr>\n",
              "      <th>147295</th>\n",
              "      <td>0</td>\n",
              "      <td>tcp</td>\n",
              "      <td>http</td>\n",
              "      <td>SF</td>\n",
              "      <td>54540</td>\n",
              "      <td>8314</td>\n",
              "      <td>0</td>\n",
              "      <td>0</td>\n",
              "      <td>0</td>\n",
              "      <td>2</td>\n",
              "      <td>...</td>\n",
              "      <td>1.00</td>\n",
              "      <td>0.00</td>\n",
              "      <td>0.00</td>\n",
              "      <td>0.00</td>\n",
              "      <td>0.00</td>\n",
              "      <td>0.0</td>\n",
              "      <td>0.07</td>\n",
              "      <td>0.07</td>\n",
              "      <td>back</td>\n",
              "      <td>15</td>\n",
              "    </tr>\n",
              "    <tr>\n",
              "      <th>147296</th>\n",
              "      <td>0</td>\n",
              "      <td>tcp</td>\n",
              "      <td>sunrpc</td>\n",
              "      <td>REJ</td>\n",
              "      <td>0</td>\n",
              "      <td>0</td>\n",
              "      <td>0</td>\n",
              "      <td>0</td>\n",
              "      <td>0</td>\n",
              "      <td>0</td>\n",
              "      <td>...</td>\n",
              "      <td>0.08</td>\n",
              "      <td>0.03</td>\n",
              "      <td>0.00</td>\n",
              "      <td>0.00</td>\n",
              "      <td>0.00</td>\n",
              "      <td>0.0</td>\n",
              "      <td>0.44</td>\n",
              "      <td>1.00</td>\n",
              "      <td>mscan</td>\n",
              "      <td>14</td>\n",
              "    </tr>\n",
              "  </tbody>\n",
              "</table>\n",
              "<p>3 rows × 43 columns</p>\n",
              "</div>\n",
              "      <button class=\"colab-df-convert\" onclick=\"convertToInteractive('df-b741880b-f775-4d1f-bbf9-f15e9ee7e32f')\"\n",
              "              title=\"Convert this dataframe to an interactive table.\"\n",
              "              style=\"display:none;\">\n",
              "        \n",
              "  <svg xmlns=\"http://www.w3.org/2000/svg\" height=\"24px\"viewBox=\"0 0 24 24\"\n",
              "       width=\"24px\">\n",
              "    <path d=\"M0 0h24v24H0V0z\" fill=\"none\"/>\n",
              "    <path d=\"M18.56 5.44l.94 2.06.94-2.06 2.06-.94-2.06-.94-.94-2.06-.94 2.06-2.06.94zm-11 1L8.5 8.5l.94-2.06 2.06-.94-2.06-.94L8.5 2.5l-.94 2.06-2.06.94zm10 10l.94 2.06.94-2.06 2.06-.94-2.06-.94-.94-2.06-.94 2.06-2.06.94z\"/><path d=\"M17.41 7.96l-1.37-1.37c-.4-.4-.92-.59-1.43-.59-.52 0-1.04.2-1.43.59L10.3 9.45l-7.72 7.72c-.78.78-.78 2.05 0 2.83L4 21.41c.39.39.9.59 1.41.59.51 0 1.02-.2 1.41-.59l7.78-7.78 2.81-2.81c.8-.78.8-2.07 0-2.86zM5.41 20L4 18.59l7.72-7.72 1.47 1.35L5.41 20z\"/>\n",
              "  </svg>\n",
              "      </button>\n",
              "      \n",
              "  <style>\n",
              "    .colab-df-container {\n",
              "      display:flex;\n",
              "      flex-wrap:wrap;\n",
              "      gap: 12px;\n",
              "    }\n",
              "\n",
              "    .colab-df-convert {\n",
              "      background-color: #E8F0FE;\n",
              "      border: none;\n",
              "      border-radius: 50%;\n",
              "      cursor: pointer;\n",
              "      display: none;\n",
              "      fill: #1967D2;\n",
              "      height: 32px;\n",
              "      padding: 0 0 0 0;\n",
              "      width: 32px;\n",
              "    }\n",
              "\n",
              "    .colab-df-convert:hover {\n",
              "      background-color: #E2EBFA;\n",
              "      box-shadow: 0px 1px 2px rgba(60, 64, 67, 0.3), 0px 1px 3px 1px rgba(60, 64, 67, 0.15);\n",
              "      fill: #174EA6;\n",
              "    }\n",
              "\n",
              "    [theme=dark] .colab-df-convert {\n",
              "      background-color: #3B4455;\n",
              "      fill: #D2E3FC;\n",
              "    }\n",
              "\n",
              "    [theme=dark] .colab-df-convert:hover {\n",
              "      background-color: #434B5C;\n",
              "      box-shadow: 0px 1px 3px 1px rgba(0, 0, 0, 0.15);\n",
              "      filter: drop-shadow(0px 1px 2px rgba(0, 0, 0, 0.3));\n",
              "      fill: #FFFFFF;\n",
              "    }\n",
              "  </style>\n",
              "\n",
              "      <script>\n",
              "        const buttonEl =\n",
              "          document.querySelector('#df-b741880b-f775-4d1f-bbf9-f15e9ee7e32f button.colab-df-convert');\n",
              "        buttonEl.style.display =\n",
              "          google.colab.kernel.accessAllowed ? 'block' : 'none';\n",
              "\n",
              "        async function convertToInteractive(key) {\n",
              "          const element = document.querySelector('#df-b741880b-f775-4d1f-bbf9-f15e9ee7e32f');\n",
              "          const dataTable =\n",
              "            await google.colab.kernel.invokeFunction('convertToInteractive',\n",
              "                                                     [key], {});\n",
              "          if (!dataTable) return;\n",
              "\n",
              "          const docLinkHtml = 'Like what you see? Visit the ' +\n",
              "            '<a target=\"_blank\" href=https://colab.research.google.com/notebooks/data_table.ipynb>data table notebook</a>'\n",
              "            + ' to learn more about interactive tables.';\n",
              "          element.innerHTML = '';\n",
              "          dataTable['output_type'] = 'display_data';\n",
              "          await google.colab.output.renderOutput(dataTable, element);\n",
              "          const docLink = document.createElement('div');\n",
              "          docLink.innerHTML = docLinkHtml;\n",
              "          element.appendChild(docLink);\n",
              "        }\n",
              "      </script>\n",
              "    </div>\n",
              "  </div>\n",
              "  "
            ]
          },
          "metadata": {},
          "execution_count": 7
        }
      ]
    },
    {
      "cell_type": "code",
      "source": [
        "combinedData.dtypes.value_counts()"
      ],
      "metadata": {
        "colab": {
          "base_uri": "https://localhost:8080/"
        },
        "id": "guLSaVOahfnB",
        "outputId": "9b4908d5-204a-4180-8bc5-e6fcd5903fe9"
      },
      "execution_count": 8,
      "outputs": [
        {
          "output_type": "execute_result",
          "data": {
            "text/plain": [
              "int64      24\n",
              "float64    15\n",
              "object      4\n",
              "dtype: int64"
            ]
          },
          "metadata": {},
          "execution_count": 8
        }
      ]
    },
    {
      "cell_type": "markdown",
      "source": [
        "Some general info about the dataset. It contains roughly 148517 rows across 43 columns. Data consists of mostly int64 and float64 types, except 4 attributes of 'object' type."
      ],
      "metadata": {
        "id": "dFwpqXcBWQzc"
      }
    },
    {
      "cell_type": "markdown",
      "source": [
        "## **Data Cleaning**\n",
        "This section contains data cleaning code. We go through the process of renaming columns, removing NaN to get the data ready for visualization and model training."
      ],
      "metadata": {
        "id": "0sMotdVEFWss"
      }
    },
    {
      "cell_type": "markdown",
      "metadata": {
        "heading_collapsed": true,
        "hidden": true,
        "id": "IxuIBJ8MAk4U"
      },
      "source": [
        "### Renaming columns"
      ]
    },
    {
      "cell_type": "code",
      "execution_count": 9,
      "metadata": {
        "hidden": true,
        "id": "7cHn8lJRAk4U"
      },
      "outputs": [],
      "source": [
        "# Removing whitespaces in column names.\n",
        "attacks = [col.replace(' ', '') for col in combinedData.columns]\n",
        "combinedData.columns = attacks"
      ]
    },
    {
      "cell_type": "code",
      "execution_count": 10,
      "metadata": {
        "hidden": true,
        "id": "Xr2nps7ZAk4V",
        "outputId": "6c885478-3453-4476-9897-3b79d80d1f9b",
        "colab": {
          "base_uri": "https://localhost:8080/"
        }
      },
      "outputs": [
        {
          "output_type": "execute_result",
          "data": {
            "text/plain": [
              "array(['normal', 'neptune', 'warezclient', 'ipsweep', 'portsweep',\n",
              "       'teardrop', 'nmap', 'satan', 'smurf', 'pod', 'back',\n",
              "       'guess_passwd', 'ftp_write', 'multihop', 'rootkit',\n",
              "       'buffer_overflow', 'imap', 'warezmaster', 'phf', 'land',\n",
              "       'loadmodule', 'spy', 'perl', 'saint', 'mscan', 'apache2',\n",
              "       'snmpgetattack', 'processtable', 'httptunnel', 'ps', 'snmpguess',\n",
              "       'mailbomb', 'named', 'sendmail', 'xterm', 'worm', 'xlock',\n",
              "       'xsnoop', 'sqlattack', 'udpstorm'], dtype=object)"
            ]
          },
          "metadata": {},
          "execution_count": 10
        }
      ],
      "source": [
        "# lets see that 'subclass' column contains some wierd characters. \n",
        "combinedData[\"attack_type\"].unique()"
      ]
    },
    {
      "cell_type": "markdown",
      "metadata": {
        "heading_collapsed": true,
        "hidden": true,
        "id": "PHp3eLGaAk4V"
      },
      "source": [
        "### Removing NULL values"
      ]
    },
    {
      "cell_type": "code",
      "execution_count": 11,
      "metadata": {
        "hidden": true,
        "id": "MO8fZ6HoAk4W",
        "outputId": "09549321-3985-43fe-fbe4-20f737858544",
        "colab": {
          "base_uri": "https://localhost:8080/"
        }
      },
      "outputs": [
        {
          "output_type": "execute_result",
          "data": {
            "text/plain": [
              "False"
            ]
          },
          "metadata": {},
          "execution_count": 11
        }
      ],
      "source": [
        "# Checking if there are any NULL values in the dataset.\n",
        "combinedData.isnull().values.any()"
      ]
    },
    {
      "cell_type": "code",
      "execution_count": 12,
      "metadata": {
        "hidden": true,
        "id": "CYNJeH7FAk4W",
        "outputId": "88f5ce8e-cad3-45c6-9489-3a79c2fc245e",
        "colab": {
          "base_uri": "https://localhost:8080/"
        }
      },
      "outputs": [
        {
          "output_type": "execute_result",
          "data": {
            "text/plain": [
              "[]"
            ]
          },
          "metadata": {},
          "execution_count": 12
        }
      ],
      "source": [
        "# Checking which column/s contain NULL values.\n",
        "[col for col in combinedData if combinedData[col].isnull().values.any()]"
      ]
    },
    {
      "cell_type": "code",
      "execution_count": 13,
      "metadata": {
        "hidden": true,
        "scrolled": true,
        "id": "wBK37dgkAk4W",
        "outputId": "0c3955c7-ebcd-4bf9-96bc-c7f6ea3116d6",
        "colab": {
          "base_uri": "https://localhost:8080/"
        }
      },
      "outputs": [
        {
          "output_type": "stream",
          "name": "stdout",
          "text": [
            "0    147297\n",
            "Name: num_outbound_cmds, dtype: int64\n"
          ]
        }
      ],
      "source": [
        "# since num_outbound_cmds is a redundant colums, so remove it from dataset\n",
        "print(combinedData['num_outbound_cmds'].value_counts())\n",
        "combinedData.drop(['num_outbound_cmds'], axis=1, inplace=True)\n",
        "combinedData.drop(['difficulty_level'], axis=1, inplace=True)"
      ]
    },
    {
      "cell_type": "code",
      "execution_count": 14,
      "metadata": {
        "hidden": true,
        "scrolled": true,
        "id": "I2n-fsbiAk4X",
        "outputId": "bda7ff1c-b2cb-45ec-cb69-eb7ec3b1f4ef",
        "colab": {
          "base_uri": "https://localhost:8080/"
        }
      },
      "outputs": [
        {
          "output_type": "execute_result",
          "data": {
            "text/plain": [
              "False"
            ]
          },
          "metadata": {},
          "execution_count": 14
        }
      ],
      "source": [
        "combinedData.isnull().any().any()"
      ]
    },
    {
      "cell_type": "markdown",
      "source": [
        "## **Data Visualization**"
      ],
      "metadata": {
        "id": "s0zCEKIdFM7y"
      }
    },
    {
      "cell_type": "markdown",
      "source": [
        "**Flow Intrusion Detection**"
      ],
      "metadata": {
        "id": "85NteTCRFjYh"
      }
    },
    {
      "cell_type": "code",
      "source": [
        "# changing attack labels into two categories 'normal' and 'anomaly'\n",
        "flow_label = pd.DataFrame(combinedData.attack_type.map(lambda x:'normal' if x=='normal' else 'anomaly'))"
      ],
      "metadata": {
        "id": "GfVZw2L8GB9m"
      },
      "execution_count": 15,
      "outputs": []
    },
    {
      "cell_type": "code",
      "source": [
        "# creating a dataframe with binary labels (normal,anomaly)\n",
        "flow_data = combinedData.copy()\n",
        "flow_data['label'] = flow_label"
      ],
      "metadata": {
        "id": "oRPz4tVsGU6R"
      },
      "execution_count": 16,
      "outputs": []
    },
    {
      "cell_type": "code",
      "source": [
        "# pie chart distribution of normal and anomaly labels\n",
        "plt.figure(figsize=(6,6))\n",
        "plt.pie(flow_data.label.value_counts(),labels=flow_data.label.unique(),autopct='%0.2f%%')\n",
        "plt.title(\"Flow Based distribution of normal and anomaly labels\")\n",
        "plt.legend()\n",
        "plt.savefig('/content/drive/MyDrive/2117493_PROJECT/NIDS/NSL-KDD/Images/Pie_chart_binary.png')\n",
        "plt.show()"
      ],
      "metadata": {
        "colab": {
          "base_uri": "https://localhost:8080/",
          "height": 373
        },
        "id": "QV4J4_FDFlKC",
        "outputId": "ab2a2bd2-2437-487e-afa9-3d572500e12c"
      },
      "execution_count": 17,
      "outputs": [
        {
          "output_type": "display_data",
          "data": {
            "text/plain": [
              "<Figure size 432x432 with 1 Axes>"
            ],
            "image/png": "[encoded data removed]"
          },
          "metadata": {}
        }
      ]
    },
    {
      "cell_type": "code",
      "source": [
        "for i in range(len(combinedData['attack_type'])):\n",
        "      if combinedData['attack_type'][i] != 'normal':\n",
        "        combinedData['attack_type'][i] = 'anomaly'\n",
        "\n",
        "combinedData['attack_type'].value_counts()"
      ],
      "metadata": {
        "colab": {
          "base_uri": "https://localhost:8080/"
        },
        "id": "UboS5tDXYHeD",
        "outputId": "b53ede14-bf02-4fc9-957b-a7c7084010d8"
      },
      "execution_count": 18,
      "outputs": [
        {
          "output_type": "execute_result",
          "data": {
            "text/plain": [
              "normal     76880\n",
              "anomaly    70417\n",
              "Name: attack_type, dtype: int64"
            ]
          },
          "metadata": {},
          "execution_count": 18
        }
      ]
    },
    {
      "cell_type": "code",
      "metadata": {
        "id": "OeEwNsMzJYSN"
      },
      "source": [
        "# creating a dataframe with flow-based labels (Dos,Probe,R2L,U2R,normal)\n",
        "flow_data = combinedData.copy()\n",
        "flow_label = pd.DataFrame(flow_data.attack_type)"
      ],
      "execution_count": 19,
      "outputs": []
    },
    {
      "cell_type": "code",
      "metadata": {
        "id": "b2U716KRVxsG"
      },
      "source": [
        "# label encoding (0,1) flow-based labels (anomaly and normal)\n",
        "le1 = preprocessing.LabelEncoder()\n",
        "enc_label = flow_label.apply(le1.fit_transform)\n",
        "flow_data['intrusion'] = enc_label"
      ],
      "execution_count": 20,
      "outputs": []
    },
    {
      "cell_type": "code",
      "metadata": {
        "id": "9rqlHJotuBlF"
      },
      "source": [
        "np.save(\"/content/drive/MyDrive/2117493_PROJECT/NIDS/NSL-KDD/Labels\",le1.classes_,allow_pickle=True)"
      ],
      "execution_count": 21,
      "outputs": []
    },
    {
      "cell_type": "markdown",
      "metadata": {
        "id": "Sn6P3lTJr9lH"
      },
      "source": [
        "## **Encoding Categorical Attributes**"
      ]
    },
    {
      "cell_type": "markdown",
      "source": [
        "Separating Features and target for Model training"
      ],
      "metadata": {
        "id": "AhtEh3xzRQ5w"
      }
    },
    {
      "cell_type": "code",
      "metadata": {
        "id": "FhvS9DaPXhtf",
        "outputId": "38e73a55-d6a0-4190-9ab3-8ddd61d93c8f",
        "colab": {
          "base_uri": "https://localhost:8080/"
        },
        "tags": []
      },
      "source": [
        "XX = combinedData.iloc[:,:-1].values\n",
        "YY = combinedData.iloc[:,-1].values\n",
        "YY = YY.reshape(-1,1)\n",
        "print([XX.shape, YY.shape])\n",
        "YY"
      ],
      "execution_count": 22,
      "outputs": [
        {
          "output_type": "stream",
          "name": "stdout",
          "text": [
            "[(147297, 40), (147297, 1)]\n"
          ]
        },
        {
          "output_type": "execute_result",
          "data": {
            "text/plain": [
              "array([['normal'],\n",
              "       ['normal'],\n",
              "       ['anomaly'],\n",
              "       ...,\n",
              "       ['normal'],\n",
              "       ['anomaly'],\n",
              "       ['anomaly']], dtype=object)"
            ]
          },
          "metadata": {},
          "execution_count": 22
        }
      ]
    },
    {
      "cell_type": "markdown",
      "source": [
        "Visualizing string features"
      ],
      "metadata": {
        "id": "JOwEhUep01Hk"
      }
    },
    {
      "cell_type": "code",
      "source": [
        "combinedData.head()"
      ],
      "metadata": {
        "colab": {
          "base_uri": "https://localhost:8080/",
          "height": 299
        },
        "id": "zJDe25vJqmBR",
        "outputId": "42788f91-02fe-44ad-d6b0-d29984a15856"
      },
      "execution_count": 23,
      "outputs": [
        {
          "output_type": "execute_result",
          "data": {
            "text/plain": [
              "   duration protocol_type   service flag  src_bytes  dst_bytes  land  \\\n",
              "0         0           tcp  ftp_data   SF        491          0     0   \n",
              "1         0           udp     other   SF        146          0     0   \n",
              "2         0           tcp   private   S0          0          0     0   \n",
              "3         0           tcp      http   SF        232       8153     0   \n",
              "4         0           tcp      http   SF        199        420     0   \n",
              "\n",
              "   wrong_fragment  urgent  hot  ...  dst_host_srv_count  \\\n",
              "0               0       0    0  ...                  25   \n",
              "1               0       0    0  ...                   1   \n",
              "2               0       0    0  ...                  26   \n",
              "3               0       0    0  ...                 255   \n",
              "4               0       0    0  ...                 255   \n",
              "\n",
              "   dst_host_same_srv_rate  dst_host_diff_srv_rate  \\\n",
              "0                    0.17                    0.03   \n",
              "1                    0.00                    0.60   \n",
              "2                    0.10                    0.05   \n",
              "3                    1.00                    0.00   \n",
              "4                    1.00                    0.00   \n",
              "\n",
              "   dst_host_same_src_port_rate  dst_host_srv_diff_host_rate  \\\n",
              "0                         0.17                         0.00   \n",
              "1                         0.88                         0.00   \n",
              "2                         0.00                         0.00   \n",
              "3                         0.03                         0.04   \n",
              "4                         0.00                         0.00   \n",
              "\n",
              "   dst_host_serror_rate  dst_host_srv_serror_rate  dst_host_rerror_rate  \\\n",
              "0                  0.00                      0.00                  0.05   \n",
              "1                  0.00                      0.00                  0.00   \n",
              "2                  1.00                      1.00                  0.00   \n",
              "3                  0.03                      0.01                  0.00   \n",
              "4                  0.00                      0.00                  0.00   \n",
              "\n",
              "   dst_host_srv_rerror_rate  attack_type  \n",
              "0                      0.00       normal  \n",
              "1                      0.00       normal  \n",
              "2                      0.00      anomaly  \n",
              "3                      0.01       normal  \n",
              "4                      0.00       normal  \n",
              "\n",
              "[5 rows x 41 columns]"
            ],
            "text/html": [
              "\n",
              "  <div id=\"df-89b420ce-0933-4dde-b589-8256e0f49176\">\n",
              "    <div class=\"colab-df-container\">\n",
              "      <div>\n",
              "<style scoped>\n",
              "    .dataframe tbody tr th:only-of-type {\n",
              "        vertical-align: middle;\n",
              "    }\n",
              "\n",
              "    .dataframe tbody tr th {\n",
              "        vertical-align: top;\n",
              "    }\n",
              "\n",
              "    .dataframe thead th {\n",
              "        text-align: right;\n",
              "    }\n",
              "</style>\n",
              "<table border=\"1\" class=\"dataframe\">\n",
              "  <thead>\n",
              "    <tr style=\"text-align: right;\">\n",
              "      <th></th>\n",
              "      <th>duration</th>\n",
              "      <th>protocol_type</th>\n",
              "      <th>service</th>\n",
              "      <th>flag</th>\n",
              "      <th>src_bytes</th>\n",
              "      <th>dst_bytes</th>\n",
              "      <th>land</th>\n",
              "      <th>wrong_fragment</th>\n",
              "      <th>urgent</th>\n",
              "      <th>hot</th>\n",
              "      <th>...</th>\n",
              "      <th>dst_host_srv_count</th>\n",
              "      <th>dst_host_same_srv_rate</th>\n",
              "      <th>dst_host_diff_srv_rate</th>\n",
              "      <th>dst_host_same_src_port_rate</th>\n",
              "      <th>dst_host_srv_diff_host_rate</th>\n",
              "      <th>dst_host_serror_rate</th>\n",
              "      <th>dst_host_srv_serror_rate</th>\n",
              "      <th>dst_host_rerror_rate</th>\n",
              "      <th>dst_host_srv_rerror_rate</th>\n",
              "      <th>attack_type</th>\n",
              "    </tr>\n",
              "  </thead>\n",
              "  <tbody>\n",
              "    <tr>\n",
              "      <th>0</th>\n",
              "      <td>0</td>\n",
              "      <td>tcp</td>\n",
              "      <td>ftp_data</td>\n",
              "      <td>SF</td>\n",
              "      <td>491</td>\n",
              "      <td>0</td>\n",
              "      <td>0</td>\n",
              "      <td>0</td>\n",
              "      <td>0</td>\n",
              "      <td>0</td>\n",
              "      <td>...</td>\n",
              "      <td>25</td>\n",
              "      <td>0.17</td>\n",
              "      <td>0.03</td>\n",
              "      <td>0.17</td>\n",
              "      <td>0.00</td>\n",
              "      <td>0.00</td>\n",
              "      <td>0.00</td>\n",
              "      <td>0.05</td>\n",
              "      <td>0.00</td>\n",
              "      <td>normal</td>\n",
              "    </tr>\n",
              "    <tr>\n",
              "      <th>1</th>\n",
              "      <td>0</td>\n",
              "      <td>udp</td>\n",
              "      <td>other</td>\n",
              "      <td>SF</td>\n",
              "      <td>146</td>\n",
              "      <td>0</td>\n",
              "      <td>0</td>\n",
              "      <td>0</td>\n",
              "      <td>0</td>\n",
              "      <td>0</td>\n",
              "      <td>...</td>\n",
              "      <td>1</td>\n",
              "      <td>0.00</td>\n",
              "      <td>0.60</td>\n",
              "      <td>0.88</td>\n",
              "      <td>0.00</td>\n",
              "      <td>0.00</td>\n",
              "      <td>0.00</td>\n",
              "      <td>0.00</td>\n",
              "      <td>0.00</td>\n",
              "      <td>normal</td>\n",
              "    </tr>\n",
              "    <tr>\n",
              "      <th>2</th>\n",
              "      <td>0</td>\n",
              "      <td>tcp</td>\n",
              "      <td>private</td>\n",
              "      <td>S0</td>\n",
              "      <td>0</td>\n",
              "      <td>0</td>\n",
              "      <td>0</td>\n",
              "      <td>0</td>\n",
              "      <td>0</td>\n",
              "      <td>0</td>\n",
              "      <td>...</td>\n",
              "      <td>26</td>\n",
              "      <td>0.10</td>\n",
              "      <td>0.05</td>\n",
              "      <td>0.00</td>\n",
              "      <td>0.00</td>\n",
              "      <td>1.00</td>\n",
              "      <td>1.00</td>\n",
              "      <td>0.00</td>\n",
              "      <td>0.00</td>\n",
              "      <td>anomaly</td>\n",
              "    </tr>\n",
              "    <tr>\n",
              "      <th>3</th>\n",
              "      <td>0</td>\n",
              "      <td>tcp</td>\n",
              "      <td>http</td>\n",
              "      <td>SF</td>\n",
              "      <td>232</td>\n",
              "      <td>8153</td>\n",
              "      <td>0</td>\n",
              "      <td>0</td>\n",
              "      <td>0</td>\n",
              "      <td>0</td>\n",
              "      <td>...</td>\n",
              "      <td>255</td>\n",
              "      <td>1.00</td>\n",
              "      <td>0.00</td>\n",
              "      <td>0.03</td>\n",
              "      <td>0.04</td>\n",
              "      <td>0.03</td>\n",
              "      <td>0.01</td>\n",
              "      <td>0.00</td>\n",
              "      <td>0.01</td>\n",
              "      <td>normal</td>\n",
              "    </tr>\n",
              "    <tr>\n",
              "      <th>4</th>\n",
              "      <td>0</td>\n",
              "      <td>tcp</td>\n",
              "      <td>http</td>\n",
              "      <td>SF</td>\n",
              "      <td>199</td>\n",
              "      <td>420</td>\n",
              "      <td>0</td>\n",
              "      <td>0</td>\n",
              "      <td>0</td>\n",
              "      <td>0</td>\n",
              "      <td>...</td>\n",
              "      <td>255</td>\n",
              "      <td>1.00</td>\n",
              "      <td>0.00</td>\n",
              "      <td>0.00</td>\n",
              "      <td>0.00</td>\n",
              "      <td>0.00</td>\n",
              "      <td>0.00</td>\n",
              "      <td>0.00</td>\n",
              "      <td>0.00</td>\n",
              "      <td>normal</td>\n",
              "    </tr>\n",
              "  </tbody>\n",
              "</table>\n",
              "<p>5 rows × 41 columns</p>\n",
              "</div>\n",
              "      <button class=\"colab-df-convert\" onclick=\"convertToInteractive('df-89b420ce-0933-4dde-b589-8256e0f49176')\"\n",
              "              title=\"Convert this dataframe to an interactive table.\"\n",
              "              style=\"display:none;\">\n",
              "        \n",
              "  <svg xmlns=\"http://www.w3.org/2000/svg\" height=\"24px\"viewBox=\"0 0 24 24\"\n",
              "       width=\"24px\">\n",
              "    <path d=\"M0 0h24v24H0V0z\" fill=\"none\"/>\n",
              "    <path d=\"M18.56 5.44l.94 2.06.94-2.06 2.06-.94-2.06-.94-.94-2.06-.94 2.06-2.06.94zm-11 1L8.5 8.5l.94-2.06 2.06-.94-2.06-.94L8.5 2.5l-.94 2.06-2.06.94zm10 10l.94 2.06.94-2.06 2.06-.94-2.06-.94-.94-2.06-.94 2.06-2.06.94z\"/><path d=\"M17.41 7.96l-1.37-1.37c-.4-.4-.92-.59-1.43-.59-.52 0-1.04.2-1.43.59L10.3 9.45l-7.72 7.72c-.78.78-.78 2.05 0 2.83L4 21.41c.39.39.9.59 1.41.59.51 0 1.02-.2 1.41-.59l7.78-7.78 2.81-2.81c.8-.78.8-2.07 0-2.86zM5.41 20L4 18.59l7.72-7.72 1.47 1.35L5.41 20z\"/>\n",
              "  </svg>\n",
              "      </button>\n",
              "      \n",
              "  <style>\n",
              "    .colab-df-container {\n",
              "      display:flex;\n",
              "      flex-wrap:wrap;\n",
              "      gap: 12px;\n",
              "    }\n",
              "\n",
              "    .colab-df-convert {\n",
              "      background-color: #E8F0FE;\n",
              "      border: none;\n",
              "      border-radius: 50%;\n",
              "      cursor: pointer;\n",
              "      display: none;\n",
              "      fill: #1967D2;\n",
              "      height: 32px;\n",
              "      padding: 0 0 0 0;\n",
              "      width: 32px;\n",
              "    }\n",
              "\n",
              "    .colab-df-convert:hover {\n",
              "      background-color: #E2EBFA;\n",
              "      box-shadow: 0px 1px 2px rgba(60, 64, 67, 0.3), 0px 1px 3px 1px rgba(60, 64, 67, 0.15);\n",
              "      fill: #174EA6;\n",
              "    }\n",
              "\n",
              "    [theme=dark] .colab-df-convert {\n",
              "      background-color: #3B4455;\n",
              "      fill: #D2E3FC;\n",
              "    }\n",
              "\n",
              "    [theme=dark] .colab-df-convert:hover {\n",
              "      background-color: #434B5C;\n",
              "      box-shadow: 0px 1px 3px 1px rgba(0, 0, 0, 0.15);\n",
              "      filter: drop-shadow(0px 1px 2px rgba(0, 0, 0, 0.3));\n",
              "      fill: #FFFFFF;\n",
              "    }\n",
              "  </style>\n",
              "\n",
              "      <script>\n",
              "        const buttonEl =\n",
              "          document.querySelector('#df-89b420ce-0933-4dde-b589-8256e0f49176 button.colab-df-convert');\n",
              "        buttonEl.style.display =\n",
              "          google.colab.kernel.accessAllowed ? 'block' : 'none';\n",
              "\n",
              "        async function convertToInteractive(key) {\n",
              "          const element = document.querySelector('#df-89b420ce-0933-4dde-b589-8256e0f49176');\n",
              "          const dataTable =\n",
              "            await google.colab.kernel.invokeFunction('convertToInteractive',\n",
              "                                                     [key], {});\n",
              "          if (!dataTable) return;\n",
              "\n",
              "          const docLinkHtml = 'Like what you see? Visit the ' +\n",
              "            '<a target=\"_blank\" href=https://colab.research.google.com/notebooks/data_table.ipynb>data table notebook</a>'\n",
              "            + ' to learn more about interactive tables.';\n",
              "          element.innerHTML = '';\n",
              "          dataTable['output_type'] = 'display_data';\n",
              "          await google.colab.output.renderOutput(dataTable, element);\n",
              "          const docLink = document.createElement('div');\n",
              "          docLink.innerHTML = docLinkHtml;\n",
              "          element.appendChild(docLink);\n",
              "        }\n",
              "      </script>\n",
              "    </div>\n",
              "  </div>\n",
              "  "
            ]
          },
          "metadata": {},
          "execution_count": 23
        }
      ]
    },
    {
      "cell_type": "code",
      "metadata": {
        "id": "koRKSD7crgv9",
        "outputId": "6e3d8dcf-f618-4dee-ae0e-f6ca2f35e721",
        "colab": {
          "base_uri": "https://localhost:8080/"
        }
      },
      "source": [
        "from sklearn.preprocessing import LabelEncoder, OneHotEncoder\n",
        "encoder = LabelEncoder()\n",
        "ohe = OneHotEncoder()\n",
        "\n",
        "XX[:,1] = encoder.fit_transform(XX[:,1])\n",
        "XX[:,2] = encoder.fit_transform(XX[:,2])\n",
        "XX[:,3] = encoder.fit_transform(XX[:,3])\n",
        "\n",
        "yy = encoder.fit_transform(YY).reshape(-1,1)\n",
        "YY = ohe.fit_transform(yy).toarray()\n",
        "XX.shape, YY.shape\n",
        "YY"
      ],
      "execution_count": 24,
      "outputs": [
        {
          "output_type": "execute_result",
          "data": {
            "text/plain": [
              "array([[0., 1.],\n",
              "       [0., 1.],\n",
              "       [1., 0.],\n",
              "       ...,\n",
              "       [0., 1.],\n",
              "       [1., 0.],\n",
              "       [1., 0.]])"
            ]
          },
          "metadata": {},
          "execution_count": 24
        }
      ]
    },
    {
      "cell_type": "code",
      "source": [
        "combinedData.columns"
      ],
      "metadata": {
        "colab": {
          "base_uri": "https://localhost:8080/"
        },
        "id": "7TZpvpOdoXAF",
        "outputId": "c84f4753-09c2-4807-c615-b4a61cfebff1"
      },
      "execution_count": 25,
      "outputs": [
        {
          "output_type": "execute_result",
          "data": {
            "text/plain": [
              "Index(['duration', 'protocol_type', 'service', 'flag', 'src_bytes',\n",
              "       'dst_bytes', 'land', 'wrong_fragment', 'urgent', 'hot',\n",
              "       'num_failed_logins', 'logged_in', 'num_compromised', 'root_shell',\n",
              "       'su_attempted', 'num_root', 'num_file_creations', 'num_shells',\n",
              "       'num_access_files', 'is_host_login', 'is_guest_login', 'count',\n",
              "       'srv_count', 'serror_rate', 'srv_serror_rate', 'rerror_rate',\n",
              "       'srv_rerror_rate', 'same_srv_rate', 'diff_srv_rate',\n",
              "       'srv_diff_host_rate', 'dst_host_count', 'dst_host_srv_count',\n",
              "       'dst_host_same_srv_rate', 'dst_host_diff_srv_rate',\n",
              "       'dst_host_same_src_port_rate', 'dst_host_srv_diff_host_rate',\n",
              "       'dst_host_serror_rate', 'dst_host_srv_serror_rate',\n",
              "       'dst_host_rerror_rate', 'dst_host_srv_rerror_rate', 'attack_type'],\n",
              "      dtype='object')"
            ]
          },
          "metadata": {},
          "execution_count": 25
        }
      ]
    },
    {
      "cell_type": "code",
      "metadata": {
        "id": "bDmLW_G0X4GI"
      },
      "source": [
        "cols_ = ['duration', 'protocol_type', 'service', 'flag', 'src_bytes',\n",
        "       'dst_bytes', 'land', 'wrong_fragment', 'urgent', 'hot',\n",
        "       'num_failed_logins', 'logged_in', 'num_compromised', 'root_shell',\n",
        "       'su_attempted', 'num_root', 'num_file_creations', 'num_shells',\n",
        "       'num_access_files', 'is_host_login', 'is_guest_login', 'count',\n",
        "       'srv_count', 'serror_rate', 'srv_serror_rate', 'rerror_rate',\n",
        "       'srv_rerror_rate', 'same_srv_rate', 'diff_srv_rate',\n",
        "       'srv_diff_host_rate', 'dst_host_count', 'dst_host_srv_count',\n",
        "       'dst_host_same_srv_rate', 'dst_host_diff_srv_rate',\n",
        "       'dst_host_same_src_port_rate', 'dst_host_srv_diff_host_rate',\n",
        "       'dst_host_serror_rate', 'dst_host_srv_serror_rate',\n",
        "       'dst_host_rerror_rate', 'dst_host_srv_rerror_rate']"
      ],
      "execution_count": 26,
      "outputs": []
    },
    {
      "cell_type": "code",
      "metadata": {
        "id": "YPNZm0CaX38K",
        "outputId": "7ae87d91-0fcc-4074-92b4-45b62bde6bb7",
        "colab": {
          "base_uri": "https://localhost:8080/",
          "height": 424
        }
      },
      "source": [
        "dataX = pd.DataFrame(XX,columns=cols_)\n",
        "dataY = pd.DataFrame(yy)\n",
        "dataY"
      ],
      "execution_count": 27,
      "outputs": [
        {
          "output_type": "execute_result",
          "data": {
            "text/plain": [
              "        0\n",
              "0       1\n",
              "1       1\n",
              "2       0\n",
              "3       1\n",
              "4       1\n",
              "...    ..\n",
              "147292  0\n",
              "147293  1\n",
              "147294  1\n",
              "147295  0\n",
              "147296  0\n",
              "\n",
              "[147297 rows x 1 columns]"
            ],
            "text/html": [
              "\n",
              "  <div id=\"df-ba47e57b-0fa5-4eae-83d3-0c8e4c5597cd\">\n",
              "    <div class=\"colab-df-container\">\n",
              "      <div>\n",
              "<style scoped>\n",
              "    .dataframe tbody tr th:only-of-type {\n",
              "        vertical-align: middle;\n",
              "    }\n",
              "\n",
              "    .dataframe tbody tr th {\n",
              "        vertical-align: top;\n",
              "    }\n",
              "\n",
              "    .dataframe thead th {\n",
              "        text-align: right;\n",
              "    }\n",
              "</style>\n",
              "<table border=\"1\" class=\"dataframe\">\n",
              "  <thead>\n",
              "    <tr style=\"text-align: right;\">\n",
              "      <th></th>\n",
              "      <th>0</th>\n",
              "    </tr>\n",
              "  </thead>\n",
              "  <tbody>\n",
              "    <tr>\n",
              "      <th>0</th>\n",
              "      <td>1</td>\n",
              "    </tr>\n",
              "    <tr>\n",
              "      <th>1</th>\n",
              "      <td>1</td>\n",
              "    </tr>\n",
              "    <tr>\n",
              "      <th>2</th>\n",
              "      <td>0</td>\n",
              "    </tr>\n",
              "    <tr>\n",
              "      <th>3</th>\n",
              "      <td>1</td>\n",
              "    </tr>\n",
              "    <tr>\n",
              "      <th>4</th>\n",
              "      <td>1</td>\n",
              "    </tr>\n",
              "    <tr>\n",
              "      <th>...</th>\n",
              "      <td>...</td>\n",
              "    </tr>\n",
              "    <tr>\n",
              "      <th>147292</th>\n",
              "      <td>0</td>\n",
              "    </tr>\n",
              "    <tr>\n",
              "      <th>147293</th>\n",
              "      <td>1</td>\n",
              "    </tr>\n",
              "    <tr>\n",
              "      <th>147294</th>\n",
              "      <td>1</td>\n",
              "    </tr>\n",
              "    <tr>\n",
              "      <th>147295</th>\n",
              "      <td>0</td>\n",
              "    </tr>\n",
              "    <tr>\n",
              "      <th>147296</th>\n",
              "      <td>0</td>\n",
              "    </tr>\n",
              "  </tbody>\n",
              "</table>\n",
              "<p>147297 rows × 1 columns</p>\n",
              "</div>\n",
              "      <button class=\"colab-df-convert\" onclick=\"convertToInteractive('df-ba47e57b-0fa5-4eae-83d3-0c8e4c5597cd')\"\n",
              "              title=\"Convert this dataframe to an interactive table.\"\n",
              "              style=\"display:none;\">\n",
              "        \n",
              "  <svg xmlns=\"http://www.w3.org/2000/svg\" height=\"24px\"viewBox=\"0 0 24 24\"\n",
              "       width=\"24px\">\n",
              "    <path d=\"M0 0h24v24H0V0z\" fill=\"none\"/>\n",
              "    <path d=\"M18.56 5.44l.94 2.06.94-2.06 2.06-.94-2.06-.94-.94-2.06-.94 2.06-2.06.94zm-11 1L8.5 8.5l.94-2.06 2.06-.94-2.06-.94L8.5 2.5l-.94 2.06-2.06.94zm10 10l.94 2.06.94-2.06 2.06-.94-2.06-.94-.94-2.06-.94 2.06-2.06.94z\"/><path d=\"M17.41 7.96l-1.37-1.37c-.4-.4-.92-.59-1.43-.59-.52 0-1.04.2-1.43.59L10.3 9.45l-7.72 7.72c-.78.78-.78 2.05 0 2.83L4 21.41c.39.39.9.59 1.41.59.51 0 1.02-.2 1.41-.59l7.78-7.78 2.81-2.81c.8-.78.8-2.07 0-2.86zM5.41 20L4 18.59l7.72-7.72 1.47 1.35L5.41 20z\"/>\n",
              "  </svg>\n",
              "      </button>\n",
              "      \n",
              "  <style>\n",
              "    .colab-df-container {\n",
              "      display:flex;\n",
              "      flex-wrap:wrap;\n",
              "      gap: 12px;\n",
              "    }\n",
              "\n",
              "    .colab-df-convert {\n",
              "      background-color: #E8F0FE;\n",
              "      border: none;\n",
              "      border-radius: 50%;\n",
              "      cursor: pointer;\n",
              "      display: none;\n",
              "      fill: #1967D2;\n",
              "      height: 32px;\n",
              "      padding: 0 0 0 0;\n",
              "      width: 32px;\n",
              "    }\n",
              "\n",
              "    .colab-df-convert:hover {\n",
              "      background-color: #E2EBFA;\n",
              "      box-shadow: 0px 1px 2px rgba(60, 64, 67, 0.3), 0px 1px 3px 1px rgba(60, 64, 67, 0.15);\n",
              "      fill: #174EA6;\n",
              "    }\n",
              "\n",
              "    [theme=dark] .colab-df-convert {\n",
              "      background-color: #3B4455;\n",
              "      fill: #D2E3FC;\n",
              "    }\n",
              "\n",
              "    [theme=dark] .colab-df-convert:hover {\n",
              "      background-color: #434B5C;\n",
              "      box-shadow: 0px 1px 3px 1px rgba(0, 0, 0, 0.15);\n",
              "      filter: drop-shadow(0px 1px 2px rgba(0, 0, 0, 0.3));\n",
              "      fill: #FFFFFF;\n",
              "    }\n",
              "  </style>\n",
              "\n",
              "      <script>\n",
              "        const buttonEl =\n",
              "          document.querySelector('#df-ba47e57b-0fa5-4eae-83d3-0c8e4c5597cd button.colab-df-convert');\n",
              "        buttonEl.style.display =\n",
              "          google.colab.kernel.accessAllowed ? 'block' : 'none';\n",
              "\n",
              "        async function convertToInteractive(key) {\n",
              "          const element = document.querySelector('#df-ba47e57b-0fa5-4eae-83d3-0c8e4c5597cd');\n",
              "          const dataTable =\n",
              "            await google.colab.kernel.invokeFunction('convertToInteractive',\n",
              "                                                     [key], {});\n",
              "          if (!dataTable) return;\n",
              "\n",
              "          const docLinkHtml = 'Like what you see? Visit the ' +\n",
              "            '<a target=\"_blank\" href=https://colab.research.google.com/notebooks/data_table.ipynb>data table notebook</a>'\n",
              "            + ' to learn more about interactive tables.';\n",
              "          element.innerHTML = '';\n",
              "          dataTable['output_type'] = 'display_data';\n",
              "          await google.colab.output.renderOutput(dataTable, element);\n",
              "          const docLink = document.createElement('div');\n",
              "          docLink.innerHTML = docLinkHtml;\n",
              "          element.appendChild(docLink);\n",
              "        }\n",
              "      </script>\n",
              "    </div>\n",
              "  </div>\n",
              "  "
            ]
          },
          "metadata": {},
          "execution_count": 27
        }
      ]
    },
    {
      "cell_type": "markdown",
      "metadata": {
        "id": "D9RC0jQyTM6d"
      },
      "source": [
        "## **Feature Selection**\n",
        "Since there is such a large number of features, it is possible that some features are redundant. "
      ]
    },
    {
      "cell_type": "code",
      "metadata": {
        "outputId": "57c68cb0-0dbc-4674-8d18-40d27bc2103e",
        "colab": {
          "base_uri": "https://localhost:8080/"
        },
        "id": "18Wb4wDiKHUs"
      },
      "source": [
        "from sklearn.feature_selection import RFE\n",
        "from sklearn.tree import DecisionTreeClassifier\n",
        "import itertools    \n",
        "\n",
        "model_ = DecisionTreeClassifier()\n",
        "\n",
        "# create RFE model and select 15 attributes\n",
        "rec = RFE(model_, n_features_to_select = 15)\n",
        "rec = rec.fit(dataX, dataY)\n",
        "\n",
        "# summarize the selection of the attributes\n",
        "featuresMap = [(x, n) for x, n in itertools.zip_longest(rec.get_support(), dataX.columns)]\n",
        "selectedFeatures = [n for x, n in featuresMap if x == True]\n",
        "\n",
        "print(selectedFeatures)"
      ],
      "execution_count": 28,
      "outputs": [
        {
          "output_type": "stream",
          "name": "stdout",
          "text": [
            "['duration', 'protocol_type', 'service', 'flag', 'src_bytes', 'dst_bytes', 'hot', 'num_failed_logins', 'count', 'dst_host_srv_count', 'dst_host_same_srv_rate', 'dst_host_same_src_port_rate', 'dst_host_srv_diff_host_rate', 'dst_host_srv_serror_rate', 'dst_host_rerror_rate']\n"
          ]
        }
      ]
    },
    {
      "cell_type": "markdown",
      "source": [
        "Selecting Features"
      ],
      "metadata": {
        "id": "h5Gg76_IKr3G"
      }
    },
    {
      "cell_type": "code",
      "metadata": {
        "outputId": "503c3425-abed-4381-ae49-d1a90e9601ee",
        "colab": {
          "base_uri": "https://localhost:8080/",
          "height": 305
        },
        "id": "0OQepJAuKHUs"
      },
      "source": [
        "dataX = dataX[selectedFeatures]\n",
        "X = dataX[selectedFeatures]\n",
        "print('15 selected features \\n')\n",
        "X.head()"
      ],
      "execution_count": 29,
      "outputs": [
        {
          "output_type": "stream",
          "name": "stdout",
          "text": [
            "15 selected features \n",
            "\n"
          ]
        },
        {
          "output_type": "execute_result",
          "data": {
            "text/plain": [
              "  duration protocol_type service flag src_bytes dst_bytes hot  \\\n",
              "0        0             1      20    9       491         0   0   \n",
              "1        0             2      44    9       146         0   0   \n",
              "2        0             1      49    5         0         0   0   \n",
              "3        0             1      24    9       232      8153   0   \n",
              "4        0             1      24    9       199       420   0   \n",
              "\n",
              "  num_failed_logins count dst_host_srv_count dst_host_same_srv_rate  \\\n",
              "0                 0     2                 25                   0.17   \n",
              "1                 0    13                  1                    0.0   \n",
              "2                 0   123                 26                    0.1   \n",
              "3                 0     5                255                    1.0   \n",
              "4                 0    30                255                    1.0   \n",
              "\n",
              "  dst_host_same_src_port_rate dst_host_srv_diff_host_rate  \\\n",
              "0                        0.17                         0.0   \n",
              "1                        0.88                         0.0   \n",
              "2                         0.0                         0.0   \n",
              "3                        0.03                        0.04   \n",
              "4                         0.0                         0.0   \n",
              "\n",
              "  dst_host_srv_serror_rate dst_host_rerror_rate  \n",
              "0                      0.0                 0.05  \n",
              "1                      0.0                  0.0  \n",
              "2                      1.0                  0.0  \n",
              "3                     0.01                  0.0  \n",
              "4                      0.0                  0.0  "
            ],
            "text/html": [
              "\n",
              "  <div id=\"df-96c83108-9c79-4d49-ac4d-198ea12db348\">\n",
              "    <div class=\"colab-df-container\">\n",
              "      <div>\n",
              "<style scoped>\n",
              "    .dataframe tbody tr th:only-of-type {\n",
              "        vertical-align: middle;\n",
              "    }\n",
              "\n",
              "    .dataframe tbody tr th {\n",
              "        vertical-align: top;\n",
              "    }\n",
              "\n",
              "    .dataframe thead th {\n",
              "        text-align: right;\n",
              "    }\n",
              "</style>\n",
              "<table border=\"1\" class=\"dataframe\">\n",
              "  <thead>\n",
              "    <tr style=\"text-align: right;\">\n",
              "      <th></th>\n",
              "      <th>duration</th>\n",
              "      <th>protocol_type</th>\n",
              "      <th>service</th>\n",
              "      <th>flag</th>\n",
              "      <th>src_bytes</th>\n",
              "      <th>dst_bytes</th>\n",
              "      <th>hot</th>\n",
              "      <th>num_failed_logins</th>\n",
              "      <th>count</th>\n",
              "      <th>dst_host_srv_count</th>\n",
              "      <th>dst_host_same_srv_rate</th>\n",
              "      <th>dst_host_same_src_port_rate</th>\n",
              "      <th>dst_host_srv_diff_host_rate</th>\n",
              "      <th>dst_host_srv_serror_rate</th>\n",
              "      <th>dst_host_rerror_rate</th>\n",
              "    </tr>\n",
              "  </thead>\n",
              "  <tbody>\n",
              "    <tr>\n",
              "      <th>0</th>\n",
              "      <td>0</td>\n",
              "      <td>1</td>\n",
              "      <td>20</td>\n",
              "      <td>9</td>\n",
              "      <td>491</td>\n",
              "      <td>0</td>\n",
              "      <td>0</td>\n",
              "      <td>0</td>\n",
              "      <td>2</td>\n",
              "      <td>25</td>\n",
              "      <td>0.17</td>\n",
              "      <td>0.17</td>\n",
              "      <td>0.0</td>\n",
              "      <td>0.0</td>\n",
              "      <td>0.05</td>\n",
              "    </tr>\n",
              "    <tr>\n",
              "      <th>1</th>\n",
              "      <td>0</td>\n",
              "      <td>2</td>\n",
              "      <td>44</td>\n",
              "      <td>9</td>\n",
              "      <td>146</td>\n",
              "      <td>0</td>\n",
              "      <td>0</td>\n",
              "      <td>0</td>\n",
              "      <td>13</td>\n",
              "      <td>1</td>\n",
              "      <td>0.0</td>\n",
              "      <td>0.88</td>\n",
              "      <td>0.0</td>\n",
              "      <td>0.0</td>\n",
              "      <td>0.0</td>\n",
              "    </tr>\n",
              "    <tr>\n",
              "      <th>2</th>\n",
              "      <td>0</td>\n",
              "      <td>1</td>\n",
              "      <td>49</td>\n",
              "      <td>5</td>\n",
              "      <td>0</td>\n",
              "      <td>0</td>\n",
              "      <td>0</td>\n",
              "      <td>0</td>\n",
              "      <td>123</td>\n",
              "      <td>26</td>\n",
              "      <td>0.1</td>\n",
              "      <td>0.0</td>\n",
              "      <td>0.0</td>\n",
              "      <td>1.0</td>\n",
              "      <td>0.0</td>\n",
              "    </tr>\n",
              "    <tr>\n",
              "      <th>3</th>\n",
              "      <td>0</td>\n",
              "      <td>1</td>\n",
              "      <td>24</td>\n",
              "      <td>9</td>\n",
              "      <td>232</td>\n",
              "      <td>8153</td>\n",
              "      <td>0</td>\n",
              "      <td>0</td>\n",
              "      <td>5</td>\n",
              "      <td>255</td>\n",
              "      <td>1.0</td>\n",
              "      <td>0.03</td>\n",
              "      <td>0.04</td>\n",
              "      <td>0.01</td>\n",
              "      <td>0.0</td>\n",
              "    </tr>\n",
              "    <tr>\n",
              "      <th>4</th>\n",
              "      <td>0</td>\n",
              "      <td>1</td>\n",
              "      <td>24</td>\n",
              "      <td>9</td>\n",
              "      <td>199</td>\n",
              "      <td>420</td>\n",
              "      <td>0</td>\n",
              "      <td>0</td>\n",
              "      <td>30</td>\n",
              "      <td>255</td>\n",
              "      <td>1.0</td>\n",
              "      <td>0.0</td>\n",
              "      <td>0.0</td>\n",
              "      <td>0.0</td>\n",
              "      <td>0.0</td>\n",
              "    </tr>\n",
              "  </tbody>\n",
              "</table>\n",
              "</div>\n",
              "      <button class=\"colab-df-convert\" onclick=\"convertToInteractive('df-96c83108-9c79-4d49-ac4d-198ea12db348')\"\n",
              "              title=\"Convert this dataframe to an interactive table.\"\n",
              "              style=\"display:none;\">\n",
              "        \n",
              "  <svg xmlns=\"http://www.w3.org/2000/svg\" height=\"24px\"viewBox=\"0 0 24 24\"\n",
              "       width=\"24px\">\n",
              "    <path d=\"M0 0h24v24H0V0z\" fill=\"none\"/>\n",
              "    <path d=\"M18.56 5.44l.94 2.06.94-2.06 2.06-.94-2.06-.94-.94-2.06-.94 2.06-2.06.94zm-11 1L8.5 8.5l.94-2.06 2.06-.94-2.06-.94L8.5 2.5l-.94 2.06-2.06.94zm10 10l.94 2.06.94-2.06 2.06-.94-2.06-.94-.94-2.06-.94 2.06-2.06.94z\"/><path d=\"M17.41 7.96l-1.37-1.37c-.4-.4-.92-.59-1.43-.59-.52 0-1.04.2-1.43.59L10.3 9.45l-7.72 7.72c-.78.78-.78 2.05 0 2.83L4 21.41c.39.39.9.59 1.41.59.51 0 1.02-.2 1.41-.59l7.78-7.78 2.81-2.81c.8-.78.8-2.07 0-2.86zM5.41 20L4 18.59l7.72-7.72 1.47 1.35L5.41 20z\"/>\n",
              "  </svg>\n",
              "      </button>\n",
              "      \n",
              "  <style>\n",
              "    .colab-df-container {\n",
              "      display:flex;\n",
              "      flex-wrap:wrap;\n",
              "      gap: 12px;\n",
              "    }\n",
              "\n",
              "    .colab-df-convert {\n",
              "      background-color: #E8F0FE;\n",
              "      border: none;\n",
              "      border-radius: 50%;\n",
              "      cursor: pointer;\n",
              "      display: none;\n",
              "      fill: #1967D2;\n",
              "      height: 32px;\n",
              "      padding: 0 0 0 0;\n",
              "      width: 32px;\n",
              "    }\n",
              "\n",
              "    .colab-df-convert:hover {\n",
              "      background-color: #E2EBFA;\n",
              "      box-shadow: 0px 1px 2px rgba(60, 64, 67, 0.3), 0px 1px 3px 1px rgba(60, 64, 67, 0.15);\n",
              "      fill: #174EA6;\n",
              "    }\n",
              "\n",
              "    [theme=dark] .colab-df-convert {\n",
              "      background-color: #3B4455;\n",
              "      fill: #D2E3FC;\n",
              "    }\n",
              "\n",
              "    [theme=dark] .colab-df-convert:hover {\n",
              "      background-color: #434B5C;\n",
              "      box-shadow: 0px 1px 3px 1px rgba(0, 0, 0, 0.15);\n",
              "      filter: drop-shadow(0px 1px 2px rgba(0, 0, 0, 0.3));\n",
              "      fill: #FFFFFF;\n",
              "    }\n",
              "  </style>\n",
              "\n",
              "      <script>\n",
              "        const buttonEl =\n",
              "          document.querySelector('#df-96c83108-9c79-4d49-ac4d-198ea12db348 button.colab-df-convert');\n",
              "        buttonEl.style.display =\n",
              "          google.colab.kernel.accessAllowed ? 'block' : 'none';\n",
              "\n",
              "        async function convertToInteractive(key) {\n",
              "          const element = document.querySelector('#df-96c83108-9c79-4d49-ac4d-198ea12db348');\n",
              "          const dataTable =\n",
              "            await google.colab.kernel.invokeFunction('convertToInteractive',\n",
              "                                                     [key], {});\n",
              "          if (!dataTable) return;\n",
              "\n",
              "          const docLinkHtml = 'Like what you see? Visit the ' +\n",
              "            '<a target=\"_blank\" href=https://colab.research.google.com/notebooks/data_table.ipynb>data table notebook</a>'\n",
              "            + ' to learn more about interactive tables.';\n",
              "          element.innerHTML = '';\n",
              "          dataTable['output_type'] = 'display_data';\n",
              "          await google.colab.output.renderOutput(dataTable, element);\n",
              "          const docLink = document.createElement('div');\n",
              "          docLink.innerHTML = docLinkHtml;\n",
              "          element.appendChild(docLink);\n",
              "        }\n",
              "      </script>\n",
              "    </div>\n",
              "  </div>\n",
              "  "
            ]
          },
          "metadata": {},
          "execution_count": 29
        }
      ]
    },
    {
      "cell_type": "markdown",
      "metadata": {
        "id": "VrYgY8oC_udy"
      },
      "source": [
        "## **Dataset Splitting**\n",
        "The next step is to split training and testing data. For this we will use sklearn function train_test_split(). This step is important so we can have representative data for evaluating our model. Both train and test samples should contain similar data variance."
      ]
    },
    {
      "cell_type": "code",
      "source": [
        "# The next step is to split training and testing data. For this we will use sklearn function train_test_split().\n",
        "from sklearn.model_selection import train_test_split\n",
        "i_train, i_test, j_train, j_test = train_test_split(dataX, dataY, train_size=0.7,test_size=0.3,  random_state = 1, shuffle=True)"
      ],
      "metadata": {
        "id": "JVEXLs-t0KDG"
      },
      "execution_count": 31,
      "outputs": []
    },
    {
      "cell_type": "code",
      "source": [
        "i_train.shape, j_train.shape, i_test.shape, j_test.shape    # test is larger... good "
      ],
      "metadata": {
        "id": "VpdDLHfXd-7y",
        "colab": {
          "base_uri": "https://localhost:8080/"
        },
        "outputId": "16294bc2-4a8a-4028-c27c-7ef8f9184fad"
      },
      "execution_count": 32,
      "outputs": [
        {
          "output_type": "execute_result",
          "data": {
            "text/plain": [
              "((103107, 15), (103107, 1), (44190, 15), (44190, 1))"
            ]
          },
          "metadata": {},
          "execution_count": 32
        }
      ]
    },
    {
      "cell_type": "markdown",
      "source": [
        "## **Scaling Numerical Attributes**\n",
        "The next few cells contain the code for scaling the data into the size adequate for the Models."
      ],
      "metadata": {
        "id": "nBSy6K0Y3V4l"
      }
    },
    {
      "cell_type": "code",
      "source": [
        "from sklearn.preprocessing import StandardScaler\n",
        "sc = StandardScaler()\n",
        "i_train = sc.fit_transform(i_train)\n",
        "i_test = sc.transform(i_test)\n",
        "i_train.shape, i_test.shape"
      ],
      "metadata": {
        "id": "Y__daF--RDkO",
        "colab": {
          "base_uri": "https://localhost:8080/"
        },
        "outputId": "7a435ac6-130a-469e-98c4-fb2715c7fc72"
      },
      "execution_count": 33,
      "outputs": [
        {
          "output_type": "execute_result",
          "data": {
            "text/plain": [
              "((103107, 15), (44190, 15))"
            ]
          },
          "metadata": {},
          "execution_count": 33
        }
      ]
    },
    {
      "cell_type": "markdown",
      "metadata": {
        "id": "55PvMleYZzX0"
      },
      "source": [
        "## **Machine-Learning model training**"
      ]
    },
    {
      "cell_type": "markdown",
      "source": [
        "importing required libraries for ml model"
      ],
      "metadata": {
        "id": "AnzG8Ukhj41u"
      }
    },
    {
      "cell_type": "code",
      "source": [
        "from sklearn.ensemble import RandomForestClassifier,ExtraTreesClassifier\n",
        "import xgboost as xgb\n",
        "from sklearn.metrics import classification_report,confusion_matrix,accuracy_score,precision_recall_fscore_support\n",
        "from sklearn.metrics import f1_score,roc_auc_score\n",
        "from sklearn.metrics import classification_report, confusion_matrix, ConfusionMatrixDisplay\n",
        "from sklearn.metrics import plot_confusion_matrix\n",
        "from sklearn.metrics import (precision_score, recall_score,f1_score, accuracy_score,mean_squared_error,mean_absolute_error,roc_auc_score,cohen_kappa_score)\n",
        "import sklearn.metrics as metrics"
      ],
      "metadata": {
        "id": "3ODwIioD4Myg"
      },
      "execution_count": 34,
      "outputs": []
    },
    {
      "cell_type": "markdown",
      "metadata": {
        "id": "J-M5MpS3ZzX0"
      },
      "source": [
        "### Training four base learners: decision tree, random forest, XGBoost"
      ]
    },
    {
      "cell_type": "markdown",
      "metadata": {
        "id": "_Stk3cifZzX4"
      },
      "source": [
        "#### Apply DT"
      ]
    },
    {
      "cell_type": "markdown",
      "source": [
        "Training Decision Tree"
      ],
      "metadata": {
        "id": "Px795IePkLBA"
      }
    },
    {
      "cell_type": "code",
      "execution_count": 35,
      "metadata": {
        "id": "8NF2W2VOZzX4",
        "colab": {
          "base_uri": "https://localhost:8080/",
          "height": 454
        },
        "outputId": "6c890872-b001-45da-855a-d929fb2b9f0a"
      },
      "outputs": [
        {
          "output_type": "stream",
          "name": "stdout",
          "text": [
            "Accuracy of Decision Tree: 0.9937995021498076\n",
            "              precision    recall  f1-score   support\n",
            "\n",
            "     anomaly       0.99      0.99      0.99     21189\n",
            "      normal       0.99      0.99      0.99     23001\n",
            "\n",
            "    accuracy                           0.99     44190\n",
            "   macro avg       0.99      0.99      0.99     44190\n",
            "weighted avg       0.99      0.99      0.99     44190\n",
            "\n"
          ]
        },
        {
          "output_type": "display_data",
          "data": {
            "text/plain": [
              "<Figure size 360x288 with 2 Axes>"
            ],
            "image/png": "[encoded data removed]"
          },
          "metadata": {
            "needs_background": "light"
          }
        }
      ],
      "source": [
        "##@title  { vertical-output: true, form-width: \"45%\", display-mode: \"both\" }\n",
        "dt = DecisionTreeClassifier(random_state = 0)\n",
        "dt.fit(i_train, j_train) \n",
        "\n",
        "y_predict=dt.predict(i_test)\n",
        "y_true=j_test\n",
        "\n",
        "dt_score=dt.score(i_test, j_test)\n",
        "print('Accuracy of Decision Tree: '+ str(dt_score))\n",
        "cr = print(metrics.classification_report(y_true, y_predict, target_names=le1.classes_))\n",
        "\n",
        "cm=confusion_matrix(y_true,y_predict)\n",
        "f,ax=plt.subplots(figsize=(5,4))\n",
        "sns.heatmap(cm,annot=True,linewidth=0.1,linecolor=\"k\",fmt=\".0f\",ax=ax, cmap = 'viridis')\n",
        "plt.xlabel(\"y_pred\")\n",
        "plt.ylabel(\"y_true\")\n",
        "plt.show()"
      ]
    },
    {
      "cell_type": "markdown",
      "metadata": {
        "id": "pcS4DUx4ZzX2"
      },
      "source": [
        "#### Apply RF"
      ]
    },
    {
      "cell_type": "markdown",
      "source": [
        "Training Random Forest"
      ],
      "metadata": {
        "id": "Zm0YUVFgkN7s"
      }
    },
    {
      "cell_type": "code",
      "execution_count": 36,
      "metadata": {
        "id": "Q3YU2hGdZzX3",
        "colab": {
          "base_uri": "https://localhost:8080/",
          "height": 454
        },
        "outputId": "3851e38f-3f18-47bd-bde3-110cba1e624c"
      },
      "outputs": [
        {
          "output_type": "stream",
          "name": "stdout",
          "text": [
            "Accuracy of Random Forest: 0.9955646073772346\n",
            "              precision    recall  f1-score   support\n",
            "\n",
            "     anomaly       1.00      0.99      1.00     21189\n",
            "      normal       1.00      1.00      1.00     23001\n",
            "\n",
            "    accuracy                           1.00     44190\n",
            "   macro avg       1.00      1.00      1.00     44190\n",
            "weighted avg       1.00      1.00      1.00     44190\n",
            "\n"
          ]
        },
        {
          "output_type": "display_data",
          "data": {
            "text/plain": [
              "<Figure size 360x288 with 2 Axes>"
            ],
            "image/png": "[encoded data removed]"
          },
          "metadata": {
            "needs_background": "light"
          }
        }
      ],
      "source": [
        "##@title  { vertical-output: true, display-mode: \"both\" }\n",
        "rf = RandomForestClassifier(random_state = 0)\n",
        "rf.fit(i_train, j_train) \n",
        "\n",
        "y_predict=rf.predict(i_test)\n",
        "y_true=j_test\n",
        "\n",
        "rf_score=rf.score(i_test, j_test)\n",
        "print('Accuracy of Random Forest: '+ str(rf_score))\n",
        "cr = print(metrics.classification_report(y_true, y_predict, target_names=le1.classes_))\n",
        "\n",
        "cm=confusion_matrix(y_true,y_predict)\n",
        "f,ax=plt.subplots(figsize=(5,4))\n",
        "sns.heatmap(cm,annot=True,linewidth=0.1,linecolor=\"k\",fmt=\".0f\",ax=ax, cmap = 'viridis')\n",
        "plt.xlabel(\"y_pred\")\n",
        "plt.ylabel(\"y_true\")\n",
        "plt.show()"
      ]
    },
    {
      "cell_type": "markdown",
      "metadata": {
        "id": "MG74uQhVZzX0"
      },
      "source": [
        "#### Apply XGBoost"
      ]
    },
    {
      "cell_type": "markdown",
      "source": [
        "Training XGBoost"
      ],
      "metadata": {
        "id": "c-BrcaAxkVkH"
      }
    },
    {
      "cell_type": "code",
      "execution_count": 37,
      "metadata": {
        "id": "CW2naZjoZzX0",
        "colab": {
          "base_uri": "https://localhost:8080/",
          "height": 454
        },
        "outputId": "4df4e9d0-5081-4ee3-d176-304250ecdcd3"
      },
      "outputs": [
        {
          "output_type": "stream",
          "name": "stdout",
          "text": [
            "Accuracy of Gradient Boosting: 0.9564607377234668\n",
            "              precision    recall  f1-score   support\n",
            "\n",
            "     anomaly       0.96      0.95      0.95     21189\n",
            "      normal       0.96      0.96      0.96     23001\n",
            "\n",
            "    accuracy                           0.96     44190\n",
            "   macro avg       0.96      0.96      0.96     44190\n",
            "weighted avg       0.96      0.96      0.96     44190\n",
            "\n"
          ]
        },
        {
          "output_type": "display_data",
          "data": {
            "text/plain": [
              "<Figure size 360x288 with 2 Axes>"
            ],
            "image/png": "[encoded data removed]"
          },
          "metadata": {
            "needs_background": "light"
          }
        }
      ],
      "source": [
        "##@title  { vertical-output: true, display-mode: \"both\" }\n",
        "xg = xgb.XGBClassifier(n_estimators = 10)\n",
        "xg.fit(i_train,j_train)\n",
        "\n",
        "y_predict=xg.predict(i_test)\n",
        "y_true=j_test\n",
        "\n",
        "xg_score=xg.score(i_test, j_test)\n",
        "print('Accuracy of Gradient Boosting: '+ str(xg_score))\n",
        "cr = print(metrics.classification_report(y_true, y_predict, target_names=le1.classes_))\n",
        "\n",
        "cm=confusion_matrix(y_true,y_predict)\n",
        "f,ax=plt.subplots(figsize=(5,4))\n",
        "sns.heatmap(cm,annot=True,linewidth=0.1,linecolor=\"k\",fmt=\".0f\",ax=ax, cmap = 'viridis')\n",
        "plt.xlabel(\"y_pred\")\n",
        "plt.ylabel(\"y_true\")\n",
        "plt.show()"
      ]
    },
    {
      "cell_type": "markdown",
      "metadata": {
        "id": "Jk3R1A0lzCwa"
      },
      "source": [
        "## **Deep-Learning Model Training**\n",
        "In this stage we go by explaning parts of the network and its hyperparameters."
      ]
    },
    {
      "cell_type": "markdown",
      "source": [
        "### Bi-directional LSTM Model\n"
      ],
      "metadata": {
        "id": "dcpw0_UEghD2"
      }
    },
    {
      "cell_type": "code",
      "execution_count": 38,
      "metadata": {
        "id": "RRlD8kRFlk7C"
      },
      "outputs": [],
      "source": [
        "#importing lobraries\n",
        "import keras\n",
        "from keras.models import Sequential,Model\n",
        "from tensorflow.keras.layers import Input, Dense,Dropout, BatchNormalization, Activation, Bidirectional, LSTM\n",
        "import tensorflow as tf\n",
        "from tensorflow import keras\n",
        "from tensorflow.keras import Model\n",
        "\n",
        "from tensorflow.keras.utils import plot_model\n",
        "from IPython.core.display import Image"
      ]
    },
    {
      "cell_type": "code",
      "source": [
        "from sklearn.model_selection import train_test_split\n",
        "Xtrain, Xtest, Ytrain, Ytest = train_test_split(X, YY,  train_size=0.7, test_size=0.3,  random_state = 1, shuffle=True)\n",
        "print([Xtrain.shape, Xtest.shape, Ytrain.shape, Ytest.shape])"
      ],
      "metadata": {
        "id": "0Qru8BxObAHV",
        "colab": {
          "base_uri": "https://localhost:8080/"
        },
        "outputId": "add33082-2ee7-4d31-8e9f-842eb3c0849e"
      },
      "execution_count": 39,
      "outputs": [
        {
          "output_type": "stream",
          "name": "stdout",
          "text": [
            "[(103107, 15), (44190, 15), (103107, 2), (44190, 2)]\n"
          ]
        }
      ]
    },
    {
      "cell_type": "code",
      "source": [
        "from sklearn.preprocessing import StandardScaler\n",
        "sc = StandardScaler()\n",
        "Xtrain = sc.fit_transform(Xtrain)\n",
        "Xtest = sc.transform(Xtest)\n",
        "Xtrain.shape, Xtest.shape"
      ],
      "metadata": {
        "id": "eplVz8MXIR5e",
        "colab": {
          "base_uri": "https://localhost:8080/"
        },
        "outputId": "99ec3507-f644-4482-ba14-64bfe097a366"
      },
      "execution_count": 40,
      "outputs": [
        {
          "output_type": "execute_result",
          "data": {
            "text/plain": [
              "((103107, 15), (44190, 15))"
            ]
          },
          "metadata": {},
          "execution_count": 40
        }
      ]
    },
    {
      "cell_type": "markdown",
      "source": [
        "### Reshaping our data into 3D, which is required format of LSTM input"
      ],
      "metadata": {
        "id": "KzmxuWO4oPux"
      }
    },
    {
      "cell_type": "code",
      "source": [
        "Xtrain = Xtrain.reshape(Xtrain.shape[0],Xtrain.shape[1], 1)\n",
        "Xtest = Xtest.reshape(Xtest.shape[0],Xtest.shape[1], 1)\n",
        "Xtrain.shape, Xtest.shape"
      ],
      "metadata": {
        "id": "yozlfZMtJqq1",
        "colab": {
          "base_uri": "https://localhost:8080/"
        },
        "outputId": "c3734943-fa02-4860-a569-594c68320a79"
      },
      "execution_count": 41,
      "outputs": [
        {
          "output_type": "execute_result",
          "data": {
            "text/plain": [
              "((103107, 15, 1), (44190, 15, 1))"
            ]
          },
          "metadata": {},
          "execution_count": 41
        }
      ]
    },
    {
      "cell_type": "markdown",
      "source": [
        "### Structure of our BiLSTM"
      ],
      "metadata": {
        "id": "N0k8BJRd4CE3"
      }
    },
    {
      "cell_type": "code",
      "source": [
        "timesteps = 60"
      ],
      "metadata": {
        "id": "5m-kHbDpKpa1"
      },
      "execution_count": 42,
      "outputs": []
    },
    {
      "cell_type": "code",
      "source": [
        "blstm_model = tf.keras.Sequential()\n",
        "blstm_model.add(Bidirectional(LSTM(60, return_sequences=True, activation= 'relu', input_shape=(Xtrain.shape[1], timesteps, 1))))\n",
        "blstm_model.add(Bidirectional(LSTM(60,return_sequences= False, activation= 'relu')))\n",
        "blstm_model.add(tf.keras.layers.Dropout(0.2))\n",
        "blstm_model.add(Dense(2, activation= 'softmax'))\n",
        "blstm_model.compile(optimizer='adam', loss = 'categorical_crossentropy', metrics=['accuracy'])\n",
        "history2 = blstm_model.fit(Xtrain, Ytrain,  epochs=10, validation_split=0.3, batch_size=700).history\n",
        "#model.summary()"
      ],
      "metadata": {
        "id": "Y1hIvdu5PloF",
        "colab": {
          "base_uri": "https://localhost:8080/"
        },
        "outputId": "fafab788-d6c2-40f1-a15d-b718aab7fd7a"
      },
      "execution_count": 43,
      "outputs": [
        {
          "output_type": "stream",
          "name": "stdout",
          "text": [
            "Epoch 1/10\n",
            "104/104 [==============================] - 36s 302ms/step - loss: 0.4446 - accuracy: 0.8248 - val_loss: 0.2708 - val_accuracy: 0.8963\n",
            "Epoch 2/10\n",
            "104/104 [==============================] - 31s 299ms/step - loss: 0.2139 - accuracy: 0.9196 - val_loss: 0.1457 - val_accuracy: 0.9405\n",
            "Epoch 3/10\n",
            "104/104 [==============================] - 32s 313ms/step - loss: 0.1429 - accuracy: 0.9404 - val_loss: 0.1209 - val_accuracy: 0.9459\n",
            "Epoch 4/10\n",
            "104/104 [==============================] - 31s 296ms/step - loss: 0.1277 - accuracy: 0.9483 - val_loss: 0.2130 - val_accuracy: 0.9250\n",
            "Epoch 5/10\n",
            "104/104 [==============================] - 30s 293ms/step - loss: 0.1268 - accuracy: 0.9493 - val_loss: 0.1308 - val_accuracy: 0.9469\n",
            "Epoch 6/10\n",
            "104/104 [==============================] - 32s 309ms/step - loss: 0.1199 - accuracy: 0.9517 - val_loss: 0.1054 - val_accuracy: 0.9546\n",
            "Epoch 7/10\n",
            "104/104 [==============================] - 30s 294ms/step - loss: 0.1045 - accuracy: 0.9585 - val_loss: 0.1024 - val_accuracy: 0.9585\n",
            "Epoch 8/10\n",
            "104/104 [==============================] - 30s 293ms/step - loss: 0.0950 - accuracy: 0.9619 - val_loss: 0.0987 - val_accuracy: 0.9598\n",
            "Epoch 9/10\n",
            "104/104 [==============================] - 32s 313ms/step - loss: 0.0894 - accuracy: 0.9637 - val_loss: 0.1285 - val_accuracy: 0.9481\n",
            "Epoch 10/10\n",
            "104/104 [==============================] - 30s 293ms/step - loss: 0.0939 - accuracy: 0.9620 - val_loss: 0.0899 - val_accuracy: 0.9635\n"
          ]
        }
      ]
    },
    {
      "cell_type": "code",
      "source": [
        "plot_model(blstm_model, to_file='model.png', show_shapes=True, show_layer_names=False, rankdir='TB', expand_nested=False, dpi=80)"
      ],
      "metadata": {
        "id": "TfIyOZ9UsHkT",
        "colab": {
          "base_uri": "https://localhost:8080/",
          "height": 447
        },
        "outputId": "df2a9408-2cca-438d-bfee-7fbf2c84bc3c"
      },
      "execution_count": 44,
      "outputs": [
        {
          "output_type": "execute_result",
          "data": {
            "text/plain": [
              "<IPython.core.display.Image object>"
            ],
            "image/png": "[encoded data removed]"
          },
          "metadata": {},
          "execution_count": 44
        }
      ]
    },
    {
      "cell_type": "markdown",
      "source": [
        "Evaluating our trained BiLSTM"
      ],
      "metadata": {
        "id": "u-J6ncH1pUMR"
      }
    },
    {
      "cell_type": "code",
      "source": [
        "##@title  { vertical-output: true, form-width: \"45%\", display-mode: \"both\" }\n",
        "#We now predict the output for our test dataset. If the prediction is greater than 0.5 then the output is 1 else the output is 0\n",
        "blstm_score = blstm_model.evaluate(Xtest, Ytest)\n",
        "y_pred=blstm_model.predict(Xtest)\n",
        "b_predict=np.argmax(y_pred, axis=1)\n",
        "b_test=np.argmax(Ytest, axis=1)\n",
        "\n",
        "print('Accuracy of BLSTM: '+ str(blstm_score[1]))\n",
        "print(metrics.classification_report(b_test, np.round(b_predict), target_names=le1.classes_))\n",
        "\n",
        "cm=confusion_matrix(b_test, b_predict)\n",
        "f,ax=plt.subplots(figsize=(5,4))\n",
        "sns.heatmap(cm,annot=True,linewidth=0.5,linecolor=\"k\",fmt=\".0f\",ax=ax, cmap = 'viridis')\n",
        "plt.xlabel(\"y_pred\")\n",
        "plt.ylabel(\"y_true\")\n",
        "plt.show()"
      ],
      "metadata": {
        "id": "WBgG61hTC6dG",
        "colab": {
          "base_uri": "https://localhost:8080/",
          "height": 474
        },
        "outputId": "11d058d3-908c-4e67-c996-a78bc5cf0065"
      },
      "execution_count": 45,
      "outputs": [
        {
          "output_type": "stream",
          "name": "stdout",
          "text": [
            "1381/1381 [==============================] - 10s 7ms/step - loss: 0.0921 - accuracy: 0.9628\n",
            "Accuracy of BLSTM: 0.9627517461776733\n",
            "              precision    recall  f1-score   support\n",
            "\n",
            "     anomaly       0.98      0.94      0.96     21189\n",
            "      normal       0.95      0.98      0.96     23001\n",
            "\n",
            "    accuracy                           0.96     44190\n",
            "   macro avg       0.96      0.96      0.96     44190\n",
            "weighted avg       0.96      0.96      0.96     44190\n",
            "\n"
          ]
        },
        {
          "output_type": "display_data",
          "data": {
            "text/plain": [
              "<Figure size 360x288 with 2 Axes>"
            ],
            "image/png": "[encoded data removed]"
          },
          "metadata": {
            "needs_background": "light"
          }
        }
      ]
    },
    {
      "cell_type": "markdown",
      "source": [
        "### Accuracy Curve of our trained BiLSTM"
      ],
      "metadata": {
        "id": "94fzYqVApc_K"
      }
    },
    {
      "cell_type": "code",
      "source": [
        "#@title  { vertical-output: true, form-width: \"45%\", display-mode: \"both\" }\n",
        "# Plot of accuracy vs epoch of train and test dataset\n",
        "\n",
        "plt.figure(figsize=(7,4))\n",
        "plt.plot(history2['accuracy'], 'purple')\n",
        "plt.plot(history2['val_accuracy'],'')\n",
        "\n",
        "plt.title('Accuracy Curve of BiLSTM model')\n",
        "\n",
        "plt.ylabel('accuracy')\n",
        "plt.xlabel('epoch')\n",
        "plt.grid(False)\n",
        "plt.legend(['train', 'test'], loc='upper left');"
      ],
      "metadata": {
        "id": "AUjw7UZuZkYQ",
        "colab": {
          "base_uri": "https://localhost:8080/",
          "height": 0
        },
        "outputId": "1b2c3a3f-5cd0-4577-8608-dbf7d36e5b26"
      },
      "execution_count": 46,
      "outputs": [
        {
          "output_type": "display_data",
          "data": {
            "text/plain": [
              "<Figure size 504x288 with 1 Axes>"
            ],
            "image/png": "[encoded data removed]"
          },
          "metadata": {
            "needs_background": "light"
          }
        }
      ]
    },
    {
      "cell_type": "markdown",
      "source": [
        "### Loss Curve of our trained BiLSTM"
      ],
      "metadata": {
        "id": "jEQX7v1SplEX"
      }
    },
    {
      "cell_type": "code",
      "source": [
        "#@title  { vertical-output: true, form-width: \"45%\", display-mode: \"both\" }\n",
        "# Plot of loss vs epoch of train and test dataset\n",
        "\n",
        "plt.figure(figsize=(7,4))\n",
        "plt.plot(history2['loss'], 'violet')\n",
        "plt.plot(history2['val_loss'], 'cyan')\n",
        "\n",
        "plt.title('Loss Curve of BLSTM model')\n",
        "\n",
        "plt.ylabel('loss')\n",
        "plt.xlabel('epoch')\n",
        "plt.grid(False)\n",
        "plt.legend(['train', 'test'], loc='upper right');"
      ],
      "metadata": {
        "id": "3vB-FWf_Z_Xx",
        "colab": {
          "base_uri": "https://localhost:8080/",
          "height": 0
        },
        "outputId": "b0bc2037-e0fd-4223-ae18-3c7c9612e6c2"
      },
      "execution_count": 47,
      "outputs": [
        {
          "output_type": "display_data",
          "data": {
            "text/plain": [
              "<Figure size 504x288 with 1 Axes>"
            ],
            "image/png": "[encoded data removed]"
          },
          "metadata": {
            "needs_background": "light"
          }
        }
      ]
    },
    {
      "cell_type": "markdown",
      "source": [
        "## **Models Comparision**\n",
        "The table below tabulates all the score accuracies from each model for a clear comparision."
      ],
      "metadata": {
        "id": "S2M7eXkDQfk_"
      }
    },
    {
      "cell_type": "code",
      "source": [
        "result = pd.DataFrame({ 'Classifiers': ['DecisionTree Classifier', 'RandomForest Classifier','GradientBoosting Classifier', 'Bidirectional LSTM'],\n",
        "                         'Score': [dt_score, rf_score, xg_score, blstm_score[1]]})\n",
        "\n",
        "result"
      ],
      "metadata": {
        "id": "8fpIvHtQ9PIk",
        "colab": {
          "base_uri": "https://localhost:8080/",
          "height": 175
        },
        "outputId": "1c4080cb-c1c2-4f81-cb0e-2ba4c14b93e9"
      },
      "execution_count": 48,
      "outputs": [
        {
          "output_type": "execute_result",
          "data": {
            "text/plain": [
              "                   Classifiers     Score\n",
              "0      DecisionTree Classifier  0.993800\n",
              "1      RandomForest Classifier  0.995565\n",
              "2  GradientBoosting Classifier  0.956461\n",
              "3           Bidirectional LSTM  0.962752"
            ],
            "text/html": [
              "\n",
              "  <div id=\"df-1e518347-8d9b-43de-822a-e0cbbdfd8aec\">\n",
              "    <div class=\"colab-df-container\">\n",
              "      <div>\n",
              "<style scoped>\n",
              "    .dataframe tbody tr th:only-of-type {\n",
              "        vertical-align: middle;\n",
              "    }\n",
              "\n",
              "    .dataframe tbody tr th {\n",
              "        vertical-align: top;\n",
              "    }\n",
              "\n",
              "    .dataframe thead th {\n",
              "        text-align: right;\n",
              "    }\n",
              "</style>\n",
              "<table border=\"1\" class=\"dataframe\">\n",
              "  <thead>\n",
              "    <tr style=\"text-align: right;\">\n",
              "      <th></th>\n",
              "      <th>Classifiers</th>\n",
              "      <th>Score</th>\n",
              "    </tr>\n",
              "  </thead>\n",
              "  <tbody>\n",
              "    <tr>\n",
              "      <th>0</th>\n",
              "      <td>DecisionTree Classifier</td>\n",
              "      <td>0.993800</td>\n",
              "    </tr>\n",
              "    <tr>\n",
              "      <th>1</th>\n",
              "      <td>RandomForest Classifier</td>\n",
              "      <td>0.995565</td>\n",
              "    </tr>\n",
              "    <tr>\n",
              "      <th>2</th>\n",
              "      <td>GradientBoosting Classifier</td>\n",
              "      <td>0.956461</td>\n",
              "    </tr>\n",
              "    <tr>\n",
              "      <th>3</th>\n",
              "      <td>Bidirectional LSTM</td>\n",
              "      <td>0.962752</td>\n",
              "    </tr>\n",
              "  </tbody>\n",
              "</table>\n",
              "</div>\n",
              "      <button class=\"colab-df-convert\" onclick=\"convertToInteractive('df-1e518347-8d9b-43de-822a-e0cbbdfd8aec')\"\n",
              "              title=\"Convert this dataframe to an interactive table.\"\n",
              "              style=\"display:none;\">\n",
              "        \n",
              "  <svg xmlns=\"http://www.w3.org/2000/svg\" height=\"24px\"viewBox=\"0 0 24 24\"\n",
              "       width=\"24px\">\n",
              "    <path d=\"M0 0h24v24H0V0z\" fill=\"none\"/>\n",
              "    <path d=\"M18.56 5.44l.94 2.06.94-2.06 2.06-.94-2.06-.94-.94-2.06-.94 2.06-2.06.94zm-11 1L8.5 8.5l.94-2.06 2.06-.94-2.06-.94L8.5 2.5l-.94 2.06-2.06.94zm10 10l.94 2.06.94-2.06 2.06-.94-2.06-.94-.94-2.06-.94 2.06-2.06.94z\"/><path d=\"M17.41 7.96l-1.37-1.37c-.4-.4-.92-.59-1.43-.59-.52 0-1.04.2-1.43.59L10.3 9.45l-7.72 7.72c-.78.78-.78 2.05 0 2.83L4 21.41c.39.39.9.59 1.41.59.51 0 1.02-.2 1.41-.59l7.78-7.78 2.81-2.81c.8-.78.8-2.07 0-2.86zM5.41 20L4 18.59l7.72-7.72 1.47 1.35L5.41 20z\"/>\n",
              "  </svg>\n",
              "      </button>\n",
              "      \n",
              "  <style>\n",
              "    .colab-df-container {\n",
              "      display:flex;\n",
              "      flex-wrap:wrap;\n",
              "      gap: 12px;\n",
              "    }\n",
              "\n",
              "    .colab-df-convert {\n",
              "      background-color: #E8F0FE;\n",
              "      border: none;\n",
              "      border-radius: 50%;\n",
              "      cursor: pointer;\n",
              "      display: none;\n",
              "      fill: #1967D2;\n",
              "      height: 32px;\n",
              "      padding: 0 0 0 0;\n",
              "      width: 32px;\n",
              "    }\n",
              "\n",
              "    .colab-df-convert:hover {\n",
              "      background-color: #E2EBFA;\n",
              "      box-shadow: 0px 1px 2px rgba(60, 64, 67, 0.3), 0px 1px 3px 1px rgba(60, 64, 67, 0.15);\n",
              "      fill: #174EA6;\n",
              "    }\n",
              "\n",
              "    [theme=dark] .colab-df-convert {\n",
              "      background-color: #3B4455;\n",
              "      fill: #D2E3FC;\n",
              "    }\n",
              "\n",
              "    [theme=dark] .colab-df-convert:hover {\n",
              "      background-color: #434B5C;\n",
              "      box-shadow: 0px 1px 3px 1px rgba(0, 0, 0, 0.15);\n",
              "      filter: drop-shadow(0px 1px 2px rgba(0, 0, 0, 0.3));\n",
              "      fill: #FFFFFF;\n",
              "    }\n",
              "  </style>\n",
              "\n",
              "      <script>\n",
              "        const buttonEl =\n",
              "          document.querySelector('#df-1e518347-8d9b-43de-822a-e0cbbdfd8aec button.colab-df-convert');\n",
              "        buttonEl.style.display =\n",
              "          google.colab.kernel.accessAllowed ? 'block' : 'none';\n",
              "\n",
              "        async function convertToInteractive(key) {\n",
              "          const element = document.querySelector('#df-1e518347-8d9b-43de-822a-e0cbbdfd8aec');\n",
              "          const dataTable =\n",
              "            await google.colab.kernel.invokeFunction('convertToInteractive',\n",
              "                                                     [key], {});\n",
              "          if (!dataTable) return;\n",
              "\n",
              "          const docLinkHtml = 'Like what you see? Visit the ' +\n",
              "            '<a target=\"_blank\" href=https://colab.research.google.com/notebooks/data_table.ipynb>data table notebook</a>'\n",
              "            + ' to learn more about interactive tables.';\n",
              "          element.innerHTML = '';\n",
              "          dataTable['output_type'] = 'display_data';\n",
              "          await google.colab.output.renderOutput(dataTable, element);\n",
              "          const docLink = document.createElement('div');\n",
              "          docLink.innerHTML = docLinkHtml;\n",
              "          element.appendChild(docLink);\n",
              "        }\n",
              "      </script>\n",
              "    </div>\n",
              "  </div>\n",
              "  "
            ]
          },
          "metadata": {},
          "execution_count": 48
        }
      ]
    },
    {
      "cell_type": "code",
      "source": [
        "chart = pd.DataFrame({ 'Classifiers': ['DecisionTree', 'RandomForest','GradientBoosting', 'Bidirectional LSTM'],\n",
        "                         'Score': [dt_score, rf_score, xg_score, blstm_score[1]]})\n",
        "plt.figure(figsize=(8,6))\n",
        "ax=sns.barplot(data = chart, x = 'Classifiers', y = 'Score', palette='Set1')\n",
        "ax.set_xticklabels(ax.get_xticklabels(), )\n",
        "plt.title('PBID - NSL-KDD \\n ', fontsize=12)\n",
        "#plt.legend([],[], frameon=True)\n",
        "plt.show()"
      ],
      "metadata": {
        "id": "vi77ozCTD-5q",
        "colab": {
          "base_uri": "https://localhost:8080/",
          "height": 419
        },
        "outputId": "5a65fbec-91e1-4735-9c84-b82a1eaec28b"
      },
      "execution_count": 49,
      "outputs": [
        {
          "output_type": "display_data",
          "data": {
            "text/plain": [
              "<Figure size 576x432 with 1 Axes>"
            ],
            "image/png": "[encoded data removed]"
          },
          "metadata": {
            "needs_background": "light"
          }
        }
      ]
    },
    {
      "cell_type": "markdown",
      "source": [
        "From these tested models, the results table shows that Random Forest classifier boast a 99% accuracy. \n",
        "The Deep Learning Model IS even not far behind which had 95% around for  BLSTM.\n",
        "\n",
        "In conclusion, the Random Forest classifier performs Very well on comparing with all the models in detecting intrusion on the network. DecisionTree classifier are a close second in detecting intrusions and giving reliable predictions.\n",
        "\n",
        "Finally To evaluate more about these models, the ROC curve and Calibration plots for multi-class classification need to be implemented thats done in second stage of this study."
      ],
      "metadata": {
        "id": "-folaOMH8U-_"
      }
    }
  ]
}