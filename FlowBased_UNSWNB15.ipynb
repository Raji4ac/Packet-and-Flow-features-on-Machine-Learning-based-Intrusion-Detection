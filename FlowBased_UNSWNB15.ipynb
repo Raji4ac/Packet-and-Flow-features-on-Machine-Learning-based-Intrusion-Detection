{
  "cells": [
    {
      "cell_type": "markdown",
      "source": [
        "# **FLOW BASED INTRUSION DETECTION ON UNSW-NB15 DATASET**"
      ],
      "metadata": {
        "id": "L3zbay1Lh_bx"
      }
    },
    {
      "cell_type": "markdown",
      "source": [
        "## **Environment Setup**"
      ],
      "metadata": {
        "id": "rH4FCgA3AT-Q"
      }
    },
    {
      "cell_type": "code",
      "execution_count": 1,
      "metadata": {
        "id": "_xZEtDi_-OTB",
        "colab": {
          "base_uri": "https://localhost:8080/"
        },
        "outputId": "47d3614b-cbd9-4b9c-a9ef-1c48b52820d2"
      },
      "outputs": [
        {
          "output_type": "stream",
          "name": "stdout",
          "text": [
            "Mounted at /content/drive\n"
          ]
        }
      ],
      "source": [
        "from google.colab import drive\n",
        "drive.mount(\"/content/drive\")"
      ]
    },
    {
      "cell_type": "markdown",
      "source": [
        "**Importing Libraries**"
      ],
      "metadata": {
        "id": "HTKhwdNrto_Q"
      }
    },
    {
      "cell_type": "code",
      "source": [
        "# Ignore warnings\n",
        "import warnings\n",
        "warnings.simplefilter(action='ignore', category=FutureWarning)\n",
        "warnings.filterwarnings('ignore')\n",
        "\n",
        "import numpy as np\n",
        "import matplotlib.pyplot as plt\n",
        "import pandas as pd\n",
        "import seaborn as sns\n",
        "import imblearn\n",
        "import sklearn\n",
        "%matplotlib inline\n",
        "from sklearn import preprocessing\n",
        "from sklearn.preprocessing import StandardScaler\n",
        "from sklearn.model_selection import train_test_split\n",
        "from sklearn.preprocessing import LabelEncoder,normalize"
      ],
      "metadata": {
        "id": "yj8P28Lq-XpO"
      },
      "execution_count": 2,
      "outputs": []
    },
    {
      "cell_type": "markdown",
      "source": [
        "## **Load Data**\n",
        "Datasets with 2 different CSV files, each contains same type of attack data at different times."
      ],
      "metadata": {
        "id": "a6kzdRYts9pR"
      }
    },
    {
      "cell_type": "code",
      "source": [
        "\n",
        "# Load UNSW_NB15 Train dataset\n",
        "UTrain = pd.read_csv('/content/drive/MyDrive/2117493_PROJECT/NIDS/UNSW-NB15 /Datasets/UNSW_NB15_training-set.csv')\n",
        "\n",
        "# Load UNSW_NB15 Test dataset\n",
        "UTest = pd.read_csv('/content/drive/MyDrive/2117493_PROJECT/NIDS/UNSW-NB15 /Datasets/ UNSW_NB15_testing-set.csv')\n",
        "\n",
        "\n",
        "UTrain.shape, UTest.shape"
      ],
      "metadata": {
        "colab": {
          "base_uri": "https://localhost:8080/"
        },
        "outputId": "4cbab72d-6309-439d-ea78-be8fa38d14c6",
        "id": "48rUfwN1s9pS"
      },
      "execution_count": 3,
      "outputs": [
        {
          "output_type": "execute_result",
          "data": {
            "text/plain": [
              "((175341, 45), (82332, 45))"
            ]
          },
          "metadata": {},
          "execution_count": 3
        }
      ]
    },
    {
      "cell_type": "code",
      "source": [
        "combinedData = pd.concat([UTrain, UTest]).drop(['id'],axis=1)"
      ],
      "metadata": {
        "id": "MMle8L_pf8WK"
      },
      "execution_count": 4,
      "outputs": []
    },
    {
      "cell_type": "code",
      "source": [
        "combinedData.tail(3)"
      ],
      "metadata": {
        "colab": {
          "base_uri": "https://localhost:8080/",
          "height": 237
        },
        "outputId": "6bfa8e25-3478-4844-c80a-d18c86a027b2",
        "id": "UImIgGIMf8WK"
      },
      "execution_count": 5,
      "outputs": [
        {
          "output_type": "execute_result",
          "data": {
            "text/plain": [
              "            dur proto service state  spkts  dpkts  sbytes  dbytes  \\\n",
              "82329  0.000000   arp       -   INT      1      0      46       0   \n",
              "82330  0.000000   arp       -   INT      1      0      46       0   \n",
              "82331  0.000009   udp       -   INT      2      0     104       0   \n",
              "\n",
              "              rate  sttl  ...  ct_dst_sport_ltm  ct_dst_src_ltm  is_ftp_login  \\\n",
              "82329       0.0000     0  ...                 1               1             0   \n",
              "82330       0.0000     0  ...                 1               1             0   \n",
              "82331  111111.1072   254  ...                 1               1             0   \n",
              "\n",
              "       ct_ftp_cmd  ct_flw_http_mthd  ct_src_ltm  ct_srv_dst  is_sm_ips_ports  \\\n",
              "82329           0                 0           1           1                1   \n",
              "82330           0                 0           1           1                1   \n",
              "82331           0                 0           1           1                0   \n",
              "\n",
              "       attack_cat  label  \n",
              "82329      Normal      0  \n",
              "82330      Normal      0  \n",
              "82331      Normal      0  \n",
              "\n",
              "[3 rows x 44 columns]"
            ],
            "text/html": [
              "\n",
              "  <div id=\"df-50dec645-7442-4caf-a81d-db853be51c39\">\n",
              "    <div class=\"colab-df-container\">\n",
              "      <div>\n",
              "<style scoped>\n",
              "    .dataframe tbody tr th:only-of-type {\n",
              "        vertical-align: middle;\n",
              "    }\n",
              "\n",
              "    .dataframe tbody tr th {\n",
              "        vertical-align: top;\n",
              "    }\n",
              "\n",
              "    .dataframe thead th {\n",
              "        text-align: right;\n",
              "    }\n",
              "</style>\n",
              "<table border=\"1\" class=\"dataframe\">\n",
              "  <thead>\n",
              "    <tr style=\"text-align: right;\">\n",
              "      <th></th>\n",
              "      <th>dur</th>\n",
              "      <th>proto</th>\n",
              "      <th>service</th>\n",
              "      <th>state</th>\n",
              "      <th>spkts</th>\n",
              "      <th>dpkts</th>\n",
              "      <th>sbytes</th>\n",
              "      <th>dbytes</th>\n",
              "      <th>rate</th>\n",
              "      <th>sttl</th>\n",
              "      <th>...</th>\n",
              "      <th>ct_dst_sport_ltm</th>\n",
              "      <th>ct_dst_src_ltm</th>\n",
              "      <th>is_ftp_login</th>\n",
              "      <th>ct_ftp_cmd</th>\n",
              "      <th>ct_flw_http_mthd</th>\n",
              "      <th>ct_src_ltm</th>\n",
              "      <th>ct_srv_dst</th>\n",
              "      <th>is_sm_ips_ports</th>\n",
              "      <th>attack_cat</th>\n",
              "      <th>label</th>\n",
              "    </tr>\n",
              "  </thead>\n",
              "  <tbody>\n",
              "    <tr>\n",
              "      <th>82329</th>\n",
              "      <td>0.000000</td>\n",
              "      <td>arp</td>\n",
              "      <td>-</td>\n",
              "      <td>INT</td>\n",
              "      <td>1</td>\n",
              "      <td>0</td>\n",
              "      <td>46</td>\n",
              "      <td>0</td>\n",
              "      <td>0.0000</td>\n",
              "      <td>0</td>\n",
              "      <td>...</td>\n",
              "      <td>1</td>\n",
              "      <td>1</td>\n",
              "      <td>0</td>\n",
              "      <td>0</td>\n",
              "      <td>0</td>\n",
              "      <td>1</td>\n",
              "      <td>1</td>\n",
              "      <td>1</td>\n",
              "      <td>Normal</td>\n",
              "      <td>0</td>\n",
              "    </tr>\n",
              "    <tr>\n",
              "      <th>82330</th>\n",
              "      <td>0.000000</td>\n",
              "      <td>arp</td>\n",
              "      <td>-</td>\n",
              "      <td>INT</td>\n",
              "      <td>1</td>\n",
              "      <td>0</td>\n",
              "      <td>46</td>\n",
              "      <td>0</td>\n",
              "      <td>0.0000</td>\n",
              "      <td>0</td>\n",
              "      <td>...</td>\n",
              "      <td>1</td>\n",
              "      <td>1</td>\n",
              "      <td>0</td>\n",
              "      <td>0</td>\n",
              "      <td>0</td>\n",
              "      <td>1</td>\n",
              "      <td>1</td>\n",
              "      <td>1</td>\n",
              "      <td>Normal</td>\n",
              "      <td>0</td>\n",
              "    </tr>\n",
              "    <tr>\n",
              "      <th>82331</th>\n",
              "      <td>0.000009</td>\n",
              "      <td>udp</td>\n",
              "      <td>-</td>\n",
              "      <td>INT</td>\n",
              "      <td>2</td>\n",
              "      <td>0</td>\n",
              "      <td>104</td>\n",
              "      <td>0</td>\n",
              "      <td>111111.1072</td>\n",
              "      <td>254</td>\n",
              "      <td>...</td>\n",
              "      <td>1</td>\n",
              "      <td>1</td>\n",
              "      <td>0</td>\n",
              "      <td>0</td>\n",
              "      <td>0</td>\n",
              "      <td>1</td>\n",
              "      <td>1</td>\n",
              "      <td>0</td>\n",
              "      <td>Normal</td>\n",
              "      <td>0</td>\n",
              "    </tr>\n",
              "  </tbody>\n",
              "</table>\n",
              "<p>3 rows × 44 columns</p>\n",
              "</div>\n",
              "      <button class=\"colab-df-convert\" onclick=\"convertToInteractive('df-50dec645-7442-4caf-a81d-db853be51c39')\"\n",
              "              title=\"Convert this dataframe to an interactive table.\"\n",
              "              style=\"display:none;\">\n",
              "        \n",
              "  <svg xmlns=\"http://www.w3.org/2000/svg\" height=\"24px\"viewBox=\"0 0 24 24\"\n",
              "       width=\"24px\">\n",
              "    <path d=\"M0 0h24v24H0V0z\" fill=\"none\"/>\n",
              "    <path d=\"M18.56 5.44l.94 2.06.94-2.06 2.06-.94-2.06-.94-.94-2.06-.94 2.06-2.06.94zm-11 1L8.5 8.5l.94-2.06 2.06-.94-2.06-.94L8.5 2.5l-.94 2.06-2.06.94zm10 10l.94 2.06.94-2.06 2.06-.94-2.06-.94-.94-2.06-.94 2.06-2.06.94z\"/><path d=\"M17.41 7.96l-1.37-1.37c-.4-.4-.92-.59-1.43-.59-.52 0-1.04.2-1.43.59L10.3 9.45l-7.72 7.72c-.78.78-.78 2.05 0 2.83L4 21.41c.39.39.9.59 1.41.59.51 0 1.02-.2 1.41-.59l7.78-7.78 2.81-2.81c.8-.78.8-2.07 0-2.86zM5.41 20L4 18.59l7.72-7.72 1.47 1.35L5.41 20z\"/>\n",
              "  </svg>\n",
              "      </button>\n",
              "      \n",
              "  <style>\n",
              "    .colab-df-container {\n",
              "      display:flex;\n",
              "      flex-wrap:wrap;\n",
              "      gap: 12px;\n",
              "    }\n",
              "\n",
              "    .colab-df-convert {\n",
              "      background-color: #E8F0FE;\n",
              "      border: none;\n",
              "      border-radius: 50%;\n",
              "      cursor: pointer;\n",
              "      display: none;\n",
              "      fill: #1967D2;\n",
              "      height: 32px;\n",
              "      padding: 0 0 0 0;\n",
              "      width: 32px;\n",
              "    }\n",
              "\n",
              "    .colab-df-convert:hover {\n",
              "      background-color: #E2EBFA;\n",
              "      box-shadow: 0px 1px 2px rgba(60, 64, 67, 0.3), 0px 1px 3px 1px rgba(60, 64, 67, 0.15);\n",
              "      fill: #174EA6;\n",
              "    }\n",
              "\n",
              "    [theme=dark] .colab-df-convert {\n",
              "      background-color: #3B4455;\n",
              "      fill: #D2E3FC;\n",
              "    }\n",
              "\n",
              "    [theme=dark] .colab-df-convert:hover {\n",
              "      background-color: #434B5C;\n",
              "      box-shadow: 0px 1px 3px 1px rgba(0, 0, 0, 0.15);\n",
              "      filter: drop-shadow(0px 1px 2px rgba(0, 0, 0, 0.3));\n",
              "      fill: #FFFFFF;\n",
              "    }\n",
              "  </style>\n",
              "\n",
              "      <script>\n",
              "        const buttonEl =\n",
              "          document.querySelector('#df-50dec645-7442-4caf-a81d-db853be51c39 button.colab-df-convert');\n",
              "        buttonEl.style.display =\n",
              "          google.colab.kernel.accessAllowed ? 'block' : 'none';\n",
              "\n",
              "        async function convertToInteractive(key) {\n",
              "          const element = document.querySelector('#df-50dec645-7442-4caf-a81d-db853be51c39');\n",
              "          const dataTable =\n",
              "            await google.colab.kernel.invokeFunction('convertToInteractive',\n",
              "                                                     [key], {});\n",
              "          if (!dataTable) return;\n",
              "\n",
              "          const docLinkHtml = 'Like what you see? Visit the ' +\n",
              "            '<a target=\"_blank\" href=https://colab.research.google.com/notebooks/data_table.ipynb>data table notebook</a>'\n",
              "            + ' to learn more about interactive tables.';\n",
              "          element.innerHTML = '';\n",
              "          dataTable['output_type'] = 'display_data';\n",
              "          await google.colab.output.renderOutput(dataTable, element);\n",
              "          const docLink = document.createElement('div');\n",
              "          docLink.innerHTML = docLinkHtml;\n",
              "          element.appendChild(docLink);\n",
              "        }\n",
              "      </script>\n",
              "    </div>\n",
              "  </div>\n",
              "  "
            ]
          },
          "metadata": {},
          "execution_count": 5
        }
      ]
    },
    {
      "cell_type": "code",
      "source": [
        "combinedData.shape"
      ],
      "metadata": {
        "colab": {
          "base_uri": "https://localhost:8080/"
        },
        "outputId": "15b3fd72-0dd6-4e51-b605-6865993058f5",
        "id": "LFszdyY3f8WL"
      },
      "execution_count": 6,
      "outputs": [
        {
          "output_type": "execute_result",
          "data": {
            "text/plain": [
              "(257673, 44)"
            ]
          },
          "metadata": {},
          "execution_count": 6
        }
      ]
    },
    {
      "cell_type": "code",
      "source": [
        "combinedData.dtypes.value_counts()"
      ],
      "metadata": {
        "colab": {
          "base_uri": "https://localhost:8080/"
        },
        "outputId": "ab88436b-f6ff-45e0-f9b5-1d479c0eb8e5",
        "id": "jHMF0MHJs9pV"
      },
      "execution_count": 7,
      "outputs": [
        {
          "output_type": "execute_result",
          "data": {
            "text/plain": [
              "int64      29\n",
              "float64    11\n",
              "object      4\n",
              "dtype: int64"
            ]
          },
          "metadata": {},
          "execution_count": 7
        }
      ]
    },
    {
      "cell_type": "markdown",
      "source": [
        "Some general info about the dataset. It contains roughly 175341 records across 45 columns. Data consists of mostly int64 and float64 types and  four object type."
      ],
      "metadata": {
        "id": "CqyvzlTks9pV"
      }
    },
    {
      "cell_type": "markdown",
      "source": [
        "## **Data Cleaning**\n",
        "This section contains data cleaning code. We go through the process of renaming columns, removing NaN to get the data ready for visualization and model training."
      ],
      "metadata": {
        "id": "0MubnN3ig1hD"
      }
    },
    {
      "cell_type": "markdown",
      "metadata": {
        "heading_collapsed": true,
        "hidden": true,
        "id": "nEaQW_mOg1hE"
      },
      "source": [
        "### Renaming columns"
      ]
    },
    {
      "cell_type": "code",
      "execution_count": 8,
      "metadata": {
        "hidden": true,
        "id": "qdVGnC9sg1hE"
      },
      "outputs": [],
      "source": [
        "# Removing whitespaces in column names.\n",
        "attacks = [col.replace(' ', '') for col in combinedData.columns]\n",
        "combinedData.columns = attacks"
      ]
    },
    {
      "cell_type": "code",
      "execution_count": 9,
      "metadata": {
        "hidden": true,
        "outputId": "2a9d25dc-d7f5-4f49-808f-b858be2f5ad4",
        "colab": {
          "base_uri": "https://localhost:8080/"
        },
        "id": "92X45aM_g1hE"
      },
      "outputs": [
        {
          "output_type": "execute_result",
          "data": {
            "text/plain": [
              "array(['Normal', 'Backdoor', 'Analysis', 'Fuzzers', 'Shellcode',\n",
              "       'Reconnaissance', 'Exploits', 'DoS', 'Worms', 'Generic'],\n",
              "      dtype=object)"
            ]
          },
          "metadata": {},
          "execution_count": 9
        }
      ],
      "source": [
        "# lets see that 'subclass' column contains some wierd characters. \n",
        "combinedData[\"attack_cat\"].unique()"
      ]
    },
    {
      "cell_type": "markdown",
      "metadata": {
        "heading_collapsed": true,
        "hidden": true,
        "id": "TEZ5Hrz9g1hE"
      },
      "source": [
        "### Removing NULL values"
      ]
    },
    {
      "cell_type": "markdown",
      "source": [
        "Checking for any null values in dataset and dropping such values so that our models receive correct dataset in input for training"
      ],
      "metadata": {
        "id": "3knh_x-fHSkn"
      }
    },
    {
      "cell_type": "code",
      "execution_count": 10,
      "metadata": {
        "hidden": true,
        "outputId": "15b81817-188d-4512-d929-19bc00d1aedb",
        "colab": {
          "base_uri": "https://localhost:8080/"
        },
        "id": "W7md9vTng1hF"
      },
      "outputs": [
        {
          "output_type": "execute_result",
          "data": {
            "text/plain": [
              "False"
            ]
          },
          "metadata": {},
          "execution_count": 10
        }
      ],
      "source": [
        "# Checking if there are any NULL values in the dataset.\n",
        "combinedData.isnull().values.any()"
      ]
    },
    {
      "cell_type": "code",
      "execution_count": 11,
      "metadata": {
        "hidden": true,
        "outputId": "c3c75646-2337-4592-9daa-1d2c3153bfe8",
        "colab": {
          "base_uri": "https://localhost:8080/"
        },
        "id": "N7HNyiYTg1hF"
      },
      "outputs": [
        {
          "output_type": "execute_result",
          "data": {
            "text/plain": [
              "[]"
            ]
          },
          "metadata": {},
          "execution_count": 11
        }
      ],
      "source": [
        "# Checking which column/s contain NULL values.\n",
        "[col for col in combinedData if combinedData[col].isnull().values.any()]"
      ]
    },
    {
      "cell_type": "markdown",
      "source": [
        "checking for any values containing - in service column"
      ],
      "metadata": {
        "id": "gGUsnC5JHuv4"
      }
    },
    {
      "cell_type": "code",
      "source": [
        "combinedData[combinedData['service']=='-']"
      ],
      "metadata": {
        "id": "Xuu9Y3mrqoUP",
        "colab": {
          "base_uri": "https://localhost:8080/",
          "height": 488
        },
        "outputId": "4743327d-0d32-416a-b2e9-f391f539ffd0"
      },
      "execution_count": 12,
      "outputs": [
        {
          "output_type": "execute_result",
          "data": {
            "text/plain": [
              "            dur proto service state  spkts  dpkts  sbytes  dbytes  \\\n",
              "0      0.121478   tcp       -   FIN      6      4     258     172   \n",
              "1      0.649902   tcp       -   FIN     14     38     734   42014   \n",
              "2      1.623129   tcp       -   FIN      8     16     364   13186   \n",
              "4      0.449454   tcp       -   FIN     10      6     534     268   \n",
              "5      0.380537   tcp       -   FIN     10      6     534     268   \n",
              "...         ...   ...     ...   ...    ...    ...     ...     ...   \n",
              "82327  0.000005   udp       -   INT      2      0     104       0   \n",
              "82328  1.106101   tcp       -   FIN     20      8   18062     354   \n",
              "82329  0.000000   arp       -   INT      1      0      46       0   \n",
              "82330  0.000000   arp       -   INT      1      0      46       0   \n",
              "82331  0.000009   udp       -   INT      2      0     104       0   \n",
              "\n",
              "                rate  sttl  ...  ct_dst_sport_ltm  ct_dst_src_ltm  \\\n",
              "0          74.087490   252  ...                 1               1   \n",
              "1          78.473372    62  ...                 1               2   \n",
              "2          14.170161    62  ...                 1               3   \n",
              "4          33.373826   254  ...                 1              40   \n",
              "5          39.417980   254  ...                 1              40   \n",
              "...              ...   ...  ...               ...             ...   \n",
              "82327  200000.005100   254  ...                 1               2   \n",
              "82328      24.410067   254  ...                 1               1   \n",
              "82329       0.000000     0  ...                 1               1   \n",
              "82330       0.000000     0  ...                 1               1   \n",
              "82331  111111.107200   254  ...                 1               1   \n",
              "\n",
              "       is_ftp_login  ct_ftp_cmd  ct_flw_http_mthd  ct_src_ltm  ct_srv_dst  \\\n",
              "0                 0           0                 0           1           1   \n",
              "1                 0           0                 0           1           6   \n",
              "2                 0           0                 0           2           6   \n",
              "4                 0           0                 0           2          39   \n",
              "5                 0           0                 0           2          39   \n",
              "...             ...         ...               ...         ...         ...   \n",
              "82327             0           0                 0           2           1   \n",
              "82328             0           0                 0           3           2   \n",
              "82329             0           0                 0           1           1   \n",
              "82330             0           0                 0           1           1   \n",
              "82331             0           0                 0           1           1   \n",
              "\n",
              "       is_sm_ips_ports  attack_cat  label  \n",
              "0                    0      Normal      0  \n",
              "1                    0      Normal      0  \n",
              "2                    0      Normal      0  \n",
              "4                    0      Normal      0  \n",
              "5                    0      Normal      0  \n",
              "...                ...         ...    ...  \n",
              "82327                0      Normal      0  \n",
              "82328                0      Normal      0  \n",
              "82329                1      Normal      0  \n",
              "82330                1      Normal      0  \n",
              "82331                0      Normal      0  \n",
              "\n",
              "[141321 rows x 44 columns]"
            ],
            "text/html": [
              "\n",
              "  <div id=\"df-06371581-acd2-42d7-8478-a2e684429fb5\">\n",
              "    <div class=\"colab-df-container\">\n",
              "      <div>\n",
              "<style scoped>\n",
              "    .dataframe tbody tr th:only-of-type {\n",
              "        vertical-align: middle;\n",
              "    }\n",
              "\n",
              "    .dataframe tbody tr th {\n",
              "        vertical-align: top;\n",
              "    }\n",
              "\n",
              "    .dataframe thead th {\n",
              "        text-align: right;\n",
              "    }\n",
              "</style>\n",
              "<table border=\"1\" class=\"dataframe\">\n",
              "  <thead>\n",
              "    <tr style=\"text-align: right;\">\n",
              "      <th></th>\n",
              "      <th>dur</th>\n",
              "      <th>proto</th>\n",
              "      <th>service</th>\n",
              "      <th>state</th>\n",
              "      <th>spkts</th>\n",
              "      <th>dpkts</th>\n",
              "      <th>sbytes</th>\n",
              "      <th>dbytes</th>\n",
              "      <th>rate</th>\n",
              "      <th>sttl</th>\n",
              "      <th>...</th>\n",
              "      <th>ct_dst_sport_ltm</th>\n",
              "      <th>ct_dst_src_ltm</th>\n",
              "      <th>is_ftp_login</th>\n",
              "      <th>ct_ftp_cmd</th>\n",
              "      <th>ct_flw_http_mthd</th>\n",
              "      <th>ct_src_ltm</th>\n",
              "      <th>ct_srv_dst</th>\n",
              "      <th>is_sm_ips_ports</th>\n",
              "      <th>attack_cat</th>\n",
              "      <th>label</th>\n",
              "    </tr>\n",
              "  </thead>\n",
              "  <tbody>\n",
              "    <tr>\n",
              "      <th>0</th>\n",
              "      <td>0.121478</td>\n",
              "      <td>tcp</td>\n",
              "      <td>-</td>\n",
              "      <td>FIN</td>\n",
              "      <td>6</td>\n",
              "      <td>4</td>\n",
              "      <td>258</td>\n",
              "      <td>172</td>\n",
              "      <td>74.087490</td>\n",
              "      <td>252</td>\n",
              "      <td>...</td>\n",
              "      <td>1</td>\n",
              "      <td>1</td>\n",
              "      <td>0</td>\n",
              "      <td>0</td>\n",
              "      <td>0</td>\n",
              "      <td>1</td>\n",
              "      <td>1</td>\n",
              "      <td>0</td>\n",
              "      <td>Normal</td>\n",
              "      <td>0</td>\n",
              "    </tr>\n",
              "    <tr>\n",
              "      <th>1</th>\n",
              "      <td>0.649902</td>\n",
              "      <td>tcp</td>\n",
              "      <td>-</td>\n",
              "      <td>FIN</td>\n",
              "      <td>14</td>\n",
              "      <td>38</td>\n",
              "      <td>734</td>\n",
              "      <td>42014</td>\n",
              "      <td>78.473372</td>\n",
              "      <td>62</td>\n",
              "      <td>...</td>\n",
              "      <td>1</td>\n",
              "      <td>2</td>\n",
              "      <td>0</td>\n",
              "      <td>0</td>\n",
              "      <td>0</td>\n",
              "      <td>1</td>\n",
              "      <td>6</td>\n",
              "      <td>0</td>\n",
              "      <td>Normal</td>\n",
              "      <td>0</td>\n",
              "    </tr>\n",
              "    <tr>\n",
              "      <th>2</th>\n",
              "      <td>1.623129</td>\n",
              "      <td>tcp</td>\n",
              "      <td>-</td>\n",
              "      <td>FIN</td>\n",
              "      <td>8</td>\n",
              "      <td>16</td>\n",
              "      <td>364</td>\n",
              "      <td>13186</td>\n",
              "      <td>14.170161</td>\n",
              "      <td>62</td>\n",
              "      <td>...</td>\n",
              "      <td>1</td>\n",
              "      <td>3</td>\n",
              "      <td>0</td>\n",
              "      <td>0</td>\n",
              "      <td>0</td>\n",
              "      <td>2</td>\n",
              "      <td>6</td>\n",
              "      <td>0</td>\n",
              "      <td>Normal</td>\n",
              "      <td>0</td>\n",
              "    </tr>\n",
              "    <tr>\n",
              "      <th>4</th>\n",
              "      <td>0.449454</td>\n",
              "      <td>tcp</td>\n",
              "      <td>-</td>\n",
              "      <td>FIN</td>\n",
              "      <td>10</td>\n",
              "      <td>6</td>\n",
              "      <td>534</td>\n",
              "      <td>268</td>\n",
              "      <td>33.373826</td>\n",
              "      <td>254</td>\n",
              "      <td>...</td>\n",
              "      <td>1</td>\n",
              "      <td>40</td>\n",
              "      <td>0</td>\n",
              "      <td>0</td>\n",
              "      <td>0</td>\n",
              "      <td>2</td>\n",
              "      <td>39</td>\n",
              "      <td>0</td>\n",
              "      <td>Normal</td>\n",
              "      <td>0</td>\n",
              "    </tr>\n",
              "    <tr>\n",
              "      <th>5</th>\n",
              "      <td>0.380537</td>\n",
              "      <td>tcp</td>\n",
              "      <td>-</td>\n",
              "      <td>FIN</td>\n",
              "      <td>10</td>\n",
              "      <td>6</td>\n",
              "      <td>534</td>\n",
              "      <td>268</td>\n",
              "      <td>39.417980</td>\n",
              "      <td>254</td>\n",
              "      <td>...</td>\n",
              "      <td>1</td>\n",
              "      <td>40</td>\n",
              "      <td>0</td>\n",
              "      <td>0</td>\n",
              "      <td>0</td>\n",
              "      <td>2</td>\n",
              "      <td>39</td>\n",
              "      <td>0</td>\n",
              "      <td>Normal</td>\n",
              "      <td>0</td>\n",
              "    </tr>\n",
              "    <tr>\n",
              "      <th>...</th>\n",
              "      <td>...</td>\n",
              "      <td>...</td>\n",
              "      <td>...</td>\n",
              "      <td>...</td>\n",
              "      <td>...</td>\n",
              "      <td>...</td>\n",
              "      <td>...</td>\n",
              "      <td>...</td>\n",
              "      <td>...</td>\n",
              "      <td>...</td>\n",
              "      <td>...</td>\n",
              "      <td>...</td>\n",
              "      <td>...</td>\n",
              "      <td>...</td>\n",
              "      <td>...</td>\n",
              "      <td>...</td>\n",
              "      <td>...</td>\n",
              "      <td>...</td>\n",
              "      <td>...</td>\n",
              "      <td>...</td>\n",
              "      <td>...</td>\n",
              "    </tr>\n",
              "    <tr>\n",
              "      <th>82327</th>\n",
              "      <td>0.000005</td>\n",
              "      <td>udp</td>\n",
              "      <td>-</td>\n",
              "      <td>INT</td>\n",
              "      <td>2</td>\n",
              "      <td>0</td>\n",
              "      <td>104</td>\n",
              "      <td>0</td>\n",
              "      <td>200000.005100</td>\n",
              "      <td>254</td>\n",
              "      <td>...</td>\n",
              "      <td>1</td>\n",
              "      <td>2</td>\n",
              "      <td>0</td>\n",
              "      <td>0</td>\n",
              "      <td>0</td>\n",
              "      <td>2</td>\n",
              "      <td>1</td>\n",
              "      <td>0</td>\n",
              "      <td>Normal</td>\n",
              "      <td>0</td>\n",
              "    </tr>\n",
              "    <tr>\n",
              "      <th>82328</th>\n",
              "      <td>1.106101</td>\n",
              "      <td>tcp</td>\n",
              "      <td>-</td>\n",
              "      <td>FIN</td>\n",
              "      <td>20</td>\n",
              "      <td>8</td>\n",
              "      <td>18062</td>\n",
              "      <td>354</td>\n",
              "      <td>24.410067</td>\n",
              "      <td>254</td>\n",
              "      <td>...</td>\n",
              "      <td>1</td>\n",
              "      <td>1</td>\n",
              "      <td>0</td>\n",
              "      <td>0</td>\n",
              "      <td>0</td>\n",
              "      <td>3</td>\n",
              "      <td>2</td>\n",
              "      <td>0</td>\n",
              "      <td>Normal</td>\n",
              "      <td>0</td>\n",
              "    </tr>\n",
              "    <tr>\n",
              "      <th>82329</th>\n",
              "      <td>0.000000</td>\n",
              "      <td>arp</td>\n",
              "      <td>-</td>\n",
              "      <td>INT</td>\n",
              "      <td>1</td>\n",
              "      <td>0</td>\n",
              "      <td>46</td>\n",
              "      <td>0</td>\n",
              "      <td>0.000000</td>\n",
              "      <td>0</td>\n",
              "      <td>...</td>\n",
              "      <td>1</td>\n",
              "      <td>1</td>\n",
              "      <td>0</td>\n",
              "      <td>0</td>\n",
              "      <td>0</td>\n",
              "      <td>1</td>\n",
              "      <td>1</td>\n",
              "      <td>1</td>\n",
              "      <td>Normal</td>\n",
              "      <td>0</td>\n",
              "    </tr>\n",
              "    <tr>\n",
              "      <th>82330</th>\n",
              "      <td>0.000000</td>\n",
              "      <td>arp</td>\n",
              "      <td>-</td>\n",
              "      <td>INT</td>\n",
              "      <td>1</td>\n",
              "      <td>0</td>\n",
              "      <td>46</td>\n",
              "      <td>0</td>\n",
              "      <td>0.000000</td>\n",
              "      <td>0</td>\n",
              "      <td>...</td>\n",
              "      <td>1</td>\n",
              "      <td>1</td>\n",
              "      <td>0</td>\n",
              "      <td>0</td>\n",
              "      <td>0</td>\n",
              "      <td>1</td>\n",
              "      <td>1</td>\n",
              "      <td>1</td>\n",
              "      <td>Normal</td>\n",
              "      <td>0</td>\n",
              "    </tr>\n",
              "    <tr>\n",
              "      <th>82331</th>\n",
              "      <td>0.000009</td>\n",
              "      <td>udp</td>\n",
              "      <td>-</td>\n",
              "      <td>INT</td>\n",
              "      <td>2</td>\n",
              "      <td>0</td>\n",
              "      <td>104</td>\n",
              "      <td>0</td>\n",
              "      <td>111111.107200</td>\n",
              "      <td>254</td>\n",
              "      <td>...</td>\n",
              "      <td>1</td>\n",
              "      <td>1</td>\n",
              "      <td>0</td>\n",
              "      <td>0</td>\n",
              "      <td>0</td>\n",
              "      <td>1</td>\n",
              "      <td>1</td>\n",
              "      <td>0</td>\n",
              "      <td>Normal</td>\n",
              "      <td>0</td>\n",
              "    </tr>\n",
              "  </tbody>\n",
              "</table>\n",
              "<p>141321 rows × 44 columns</p>\n",
              "</div>\n",
              "      <button class=\"colab-df-convert\" onclick=\"convertToInteractive('df-06371581-acd2-42d7-8478-a2e684429fb5')\"\n",
              "              title=\"Convert this dataframe to an interactive table.\"\n",
              "              style=\"display:none;\">\n",
              "        \n",
              "  <svg xmlns=\"http://www.w3.org/2000/svg\" height=\"24px\"viewBox=\"0 0 24 24\"\n",
              "       width=\"24px\">\n",
              "    <path d=\"M0 0h24v24H0V0z\" fill=\"none\"/>\n",
              "    <path d=\"M18.56 5.44l.94 2.06.94-2.06 2.06-.94-2.06-.94-.94-2.06-.94 2.06-2.06.94zm-11 1L8.5 8.5l.94-2.06 2.06-.94-2.06-.94L8.5 2.5l-.94 2.06-2.06.94zm10 10l.94 2.06.94-2.06 2.06-.94-2.06-.94-.94-2.06-.94 2.06-2.06.94z\"/><path d=\"M17.41 7.96l-1.37-1.37c-.4-.4-.92-.59-1.43-.59-.52 0-1.04.2-1.43.59L10.3 9.45l-7.72 7.72c-.78.78-.78 2.05 0 2.83L4 21.41c.39.39.9.59 1.41.59.51 0 1.02-.2 1.41-.59l7.78-7.78 2.81-2.81c.8-.78.8-2.07 0-2.86zM5.41 20L4 18.59l7.72-7.72 1.47 1.35L5.41 20z\"/>\n",
              "  </svg>\n",
              "      </button>\n",
              "      \n",
              "  <style>\n",
              "    .colab-df-container {\n",
              "      display:flex;\n",
              "      flex-wrap:wrap;\n",
              "      gap: 12px;\n",
              "    }\n",
              "\n",
              "    .colab-df-convert {\n",
              "      background-color: #E8F0FE;\n",
              "      border: none;\n",
              "      border-radius: 50%;\n",
              "      cursor: pointer;\n",
              "      display: none;\n",
              "      fill: #1967D2;\n",
              "      height: 32px;\n",
              "      padding: 0 0 0 0;\n",
              "      width: 32px;\n",
              "    }\n",
              "\n",
              "    .colab-df-convert:hover {\n",
              "      background-color: #E2EBFA;\n",
              "      box-shadow: 0px 1px 2px rgba(60, 64, 67, 0.3), 0px 1px 3px 1px rgba(60, 64, 67, 0.15);\n",
              "      fill: #174EA6;\n",
              "    }\n",
              "\n",
              "    [theme=dark] .colab-df-convert {\n",
              "      background-color: #3B4455;\n",
              "      fill: #D2E3FC;\n",
              "    }\n",
              "\n",
              "    [theme=dark] .colab-df-convert:hover {\n",
              "      background-color: #434B5C;\n",
              "      box-shadow: 0px 1px 3px 1px rgba(0, 0, 0, 0.15);\n",
              "      filter: drop-shadow(0px 1px 2px rgba(0, 0, 0, 0.3));\n",
              "      fill: #FFFFFF;\n",
              "    }\n",
              "  </style>\n",
              "\n",
              "      <script>\n",
              "        const buttonEl =\n",
              "          document.querySelector('#df-06371581-acd2-42d7-8478-a2e684429fb5 button.colab-df-convert');\n",
              "        buttonEl.style.display =\n",
              "          google.colab.kernel.accessAllowed ? 'block' : 'none';\n",
              "\n",
              "        async function convertToInteractive(key) {\n",
              "          const element = document.querySelector('#df-06371581-acd2-42d7-8478-a2e684429fb5');\n",
              "          const dataTable =\n",
              "            await google.colab.kernel.invokeFunction('convertToInteractive',\n",
              "                                                     [key], {});\n",
              "          if (!dataTable) return;\n",
              "\n",
              "          const docLinkHtml = 'Like what you see? Visit the ' +\n",
              "            '<a target=\"_blank\" href=https://colab.research.google.com/notebooks/data_table.ipynb>data table notebook</a>'\n",
              "            + ' to learn more about interactive tables.';\n",
              "          element.innerHTML = '';\n",
              "          dataTable['output_type'] = 'display_data';\n",
              "          await google.colab.output.renderOutput(dataTable, element);\n",
              "          const docLink = document.createElement('div');\n",
              "          docLink.innerHTML = docLinkHtml;\n",
              "          element.appendChild(docLink);\n",
              "        }\n",
              "      </script>\n",
              "    </div>\n",
              "  </div>\n",
              "  "
            ]
          },
          "metadata": {},
          "execution_count": 12
        }
      ]
    },
    {
      "cell_type": "markdown",
      "source": [
        "replacing - values with nan for service column"
      ],
      "metadata": {
        "id": "qa7B5BybH2Sj"
      }
    },
    {
      "cell_type": "code",
      "source": [
        "combinedData['service'].replace('-',np.nan,inplace=True)"
      ],
      "metadata": {
        "id": "lkpYqZv4qdJt"
      },
      "execution_count": 13,
      "outputs": []
    },
    {
      "cell_type": "markdown",
      "source": [
        "finding totoal nan values in dataset again"
      ],
      "metadata": {
        "id": "nBQq4mmIH6J2"
      }
    },
    {
      "cell_type": "code",
      "source": [
        "combinedData.isnull().sum()"
      ],
      "metadata": {
        "id": "Bc-sKDOtqfD7",
        "colab": {
          "base_uri": "https://localhost:8080/"
        },
        "outputId": "3c05365e-4ca1-4345-9fa2-d044909d96a7"
      },
      "execution_count": 14,
      "outputs": [
        {
          "output_type": "execute_result",
          "data": {
            "text/plain": [
              "dur                       0\n",
              "proto                     0\n",
              "service              141321\n",
              "state                     0\n",
              "spkts                     0\n",
              "dpkts                     0\n",
              "sbytes                    0\n",
              "dbytes                    0\n",
              "rate                      0\n",
              "sttl                      0\n",
              "dttl                      0\n",
              "sload                     0\n",
              "dload                     0\n",
              "sloss                     0\n",
              "dloss                     0\n",
              "sinpkt                    0\n",
              "dinpkt                    0\n",
              "sjit                      0\n",
              "djit                      0\n",
              "swin                      0\n",
              "stcpb                     0\n",
              "dtcpb                     0\n",
              "dwin                      0\n",
              "tcprtt                    0\n",
              "synack                    0\n",
              "ackdat                    0\n",
              "smean                     0\n",
              "dmean                     0\n",
              "trans_depth               0\n",
              "response_body_len         0\n",
              "ct_srv_src                0\n",
              "ct_state_ttl              0\n",
              "ct_dst_ltm                0\n",
              "ct_src_dport_ltm          0\n",
              "ct_dst_sport_ltm          0\n",
              "ct_dst_src_ltm            0\n",
              "is_ftp_login              0\n",
              "ct_ftp_cmd                0\n",
              "ct_flw_http_mthd          0\n",
              "ct_src_ltm                0\n",
              "ct_srv_dst                0\n",
              "is_sm_ips_ports           0\n",
              "attack_cat                0\n",
              "label                     0\n",
              "dtype: int64"
            ]
          },
          "metadata": {},
          "execution_count": 14
        }
      ]
    },
    {
      "cell_type": "markdown",
      "source": [
        "Dataset shape before removing nan values"
      ],
      "metadata": {
        "id": "S_zwIuWLIGSI"
      }
    },
    {
      "cell_type": "code",
      "source": [
        "combinedData.shape"
      ],
      "metadata": {
        "id": "MaHGkOF0q1Vj",
        "colab": {
          "base_uri": "https://localhost:8080/"
        },
        "outputId": "8bf14c9d-82fa-4021-927b-1b891caee320"
      },
      "execution_count": 15,
      "outputs": [
        {
          "output_type": "execute_result",
          "data": {
            "text/plain": [
              "(257673, 44)"
            ]
          },
          "metadata": {},
          "execution_count": 15
        }
      ]
    },
    {
      "cell_type": "markdown",
      "source": [
        "Removing rows with nan values from dataset"
      ],
      "metadata": {
        "id": "e51a8410H-sF"
      }
    },
    {
      "cell_type": "code",
      "source": [
        "combinedData.dropna(inplace=True)"
      ],
      "metadata": {
        "id": "mByrz54Iq385"
      },
      "execution_count": 16,
      "outputs": []
    },
    {
      "cell_type": "markdown",
      "source": [
        "Dataset shape after removing nan values"
      ],
      "metadata": {
        "id": "qC1ctwKOIJso"
      }
    },
    {
      "cell_type": "code",
      "source": [
        "combinedData.shape"
      ],
      "metadata": {
        "id": "BHn6xSj2q6a6",
        "colab": {
          "base_uri": "https://localhost:8080/"
        },
        "outputId": "aeb8dc9e-3b48-4233-ae2f-6c0a9cba2d32"
      },
      "execution_count": 17,
      "outputs": [
        {
          "output_type": "execute_result",
          "data": {
            "text/plain": [
              "(116352, 44)"
            ]
          },
          "metadata": {},
          "execution_count": 17
        }
      ]
    },
    {
      "cell_type": "code",
      "execution_count": 18,
      "metadata": {
        "hidden": true,
        "scrolled": true,
        "outputId": "c174efb4-9484-429f-b0d1-a02a631775a1",
        "colab": {
          "base_uri": "https://localhost:8080/"
        },
        "id": "676VLqsdg1hG"
      },
      "outputs": [
        {
          "output_type": "execute_result",
          "data": {
            "text/plain": [
              "False"
            ]
          },
          "metadata": {},
          "execution_count": 18
        }
      ],
      "source": [
        "combinedData.isnull().any().any()"
      ]
    },
    {
      "cell_type": "markdown",
      "source": [
        "Dropping 'attack_cat' column in flow based approach as we need label"
      ],
      "metadata": {
        "id": "KL7OjjasIPWR"
      }
    },
    {
      "cell_type": "code",
      "source": [
        "#for packet based approachwe need attack category and  no need of label category, \n",
        "combinedData.drop(['attack_cat'],axis=1,inplace=True)\n",
        "combinedData.shape"
      ],
      "metadata": {
        "id": "RyRB0g5IERRc",
        "colab": {
          "base_uri": "https://localhost:8080/"
        },
        "outputId": "ed09598f-dcf6-4c27-de65-9cee9d71e2f7"
      },
      "execution_count": 19,
      "outputs": [
        {
          "output_type": "execute_result",
          "data": {
            "text/plain": [
              "(116352, 43)"
            ]
          },
          "metadata": {},
          "execution_count": 19
        }
      ]
    },
    {
      "cell_type": "markdown",
      "metadata": {
        "id": "jExFVizROS-C"
      },
      "source": [
        "## **Data Visualization**\n",
        "Our aim here is to check whether an intrusion is detected or not. Here we do not go deeper into the classification of the attacks. Thus, we change column which maps label 'normal' to 0 and any intrusion as 1. We then plot a pie chart to visualize this distribution."
      ]
    },
    {
      "cell_type": "markdown",
      "metadata": {
        "id": "o9UEifPZoKC1"
      },
      "source": [
        "### **Flow Intrsuion Detection**\n",
        "\n"
      ]
    },
    {
      "cell_type": "code",
      "execution_count": 20,
      "metadata": {
        "id": "iDzUyKPRm4x3",
        "colab": {
          "base_uri": "https://localhost:8080/",
          "height": 319
        },
        "outputId": "a9396113-f1b8-4cbf-a4c3-9db1460423cc"
      },
      "outputs": [
        {
          "output_type": "display_data",
          "data": {
            "text/plain": [
              "<Figure size 360x360 with 1 Axes>"
            ],
            "image/png": "[encoded data removed]"
          },
          "metadata": {}
        }
      ],
      "source": [
        "plt.figure(figsize=(5,5))\n",
        "plt.pie(combinedData.label.value_counts(),labels=['normal','abnormal'],autopct='%0.2f%%')\n",
        "plt.title(\"Flow Based distribution of normal and abnormal labels\",fontsize=12)\n",
        "plt.legend()\n",
        "plt.savefig('/content/drive/MyDrive/2117493_PROJECT/NIDS/UNSW-NB15 /Images/Pie_chart_binary.png')\n",
        "plt.show()"
      ]
    },
    {
      "cell_type": "code",
      "metadata": {
        "id": "OeEwNsMzJYSN"
      },
      "source": [
        "# creating a dataframe with binary labels (normal,anomaly)\n",
        "flow_data = combinedData.copy()\n",
        "flow_label = pd.DataFrame(flow_data.label)"
      ],
      "execution_count": 21,
      "outputs": []
    },
    {
      "cell_type": "code",
      "metadata": {
        "id": "b2U716KRVxsG"
      },
      "source": [
        "# pie chart distribution of normal and anomaly labels\n",
        "le1 = preprocessing.LabelEncoder()\n",
        "enc_label = flow_label.apply(le1.fit_transform)\n",
        "flow_data['intrusion'] = enc_label"
      ],
      "execution_count": 22,
      "outputs": []
    },
    {
      "cell_type": "code",
      "metadata": {
        "id": "9rqlHJotuBlF"
      },
      "source": [
        "np.save(\"/content/drive/MyDrive/2117493_PROJECT/NIDS/UNSW-NB15 /Labels\",le1.classes_,allow_pickle=True)"
      ],
      "execution_count": 23,
      "outputs": []
    },
    {
      "cell_type": "markdown",
      "source": [
        "## **Function to encode string features**"
      ],
      "metadata": {
        "id": "KQT-DmoRqvBI"
      }
    },
    {
      "cell_type": "markdown",
      "source": [
        "This section is performing the encoding of string features which is required for nerual network training. As we majority of features in numerical form, we want the string features to have some numerical values so that neural network can train on all features including string features."
      ],
      "metadata": {
        "id": "liqoIHUU0Xep"
      }
    },
    {
      "cell_type": "markdown",
      "source": [
        "Visualizing string features"
      ],
      "metadata": {
        "id": "JOwEhUep01Hk"
      }
    },
    {
      "cell_type": "code",
      "source": [
        "combinedData.head()"
      ],
      "metadata": {
        "colab": {
          "base_uri": "https://localhost:8080/",
          "height": 299
        },
        "id": "zJDe25vJqmBR",
        "outputId": "bc8d6e2c-34a6-499a-d120-a00d2679f71b"
      },
      "execution_count": 24,
      "outputs": [
        {
          "output_type": "execute_result",
          "data": {
            "text/plain": [
              "         dur proto service state  spkts  dpkts  sbytes  dbytes           rate  \\\n",
              "3   1.681642   tcp     ftp   FIN     12     12     628     770      13.677108   \n",
              "11  2.093085   tcp    smtp   FIN     62     28   56329    2212      42.520967   \n",
              "15  0.000002   udp    snmp   INT      2      0     138       0  500000.001300   \n",
              "17  0.393556   tcp    http   FIN     10      8     860    1096      43.195886   \n",
              "21  0.338017   tcp    http   FIN     10      6     998     268      44.376468   \n",
              "\n",
              "    sttl  ...  ct_src_dport_ltm  ct_dst_sport_ltm  ct_dst_src_ltm  \\\n",
              "3     62  ...                 1                 1               3   \n",
              "11    62  ...                 1                 1               2   \n",
              "15   254  ...                 1                 1               4   \n",
              "17    62  ...                 1                 1               2   \n",
              "21   254  ...                 1                 1               1   \n",
              "\n",
              "    is_ftp_login  ct_ftp_cmd  ct_flw_http_mthd  ct_src_ltm  ct_srv_dst  \\\n",
              "3              1           1                 0           2           1   \n",
              "11             0           0                 0           1           1   \n",
              "15             0           0                 0           2           1   \n",
              "17             0           0                 1           1           3   \n",
              "21             0           0                 1           2           3   \n",
              "\n",
              "    is_sm_ips_ports  label  \n",
              "3                 0      0  \n",
              "11                0      0  \n",
              "15                0      0  \n",
              "17                0      0  \n",
              "21                0      0  \n",
              "\n",
              "[5 rows x 43 columns]"
            ],
            "text/html": [
              "\n",
              "  <div id=\"df-ebf60579-183d-44aa-b131-f7d7ffedcb00\">\n",
              "    <div class=\"colab-df-container\">\n",
              "      <div>\n",
              "<style scoped>\n",
              "    .dataframe tbody tr th:only-of-type {\n",
              "        vertical-align: middle;\n",
              "    }\n",
              "\n",
              "    .dataframe tbody tr th {\n",
              "        vertical-align: top;\n",
              "    }\n",
              "\n",
              "    .dataframe thead th {\n",
              "        text-align: right;\n",
              "    }\n",
              "</style>\n",
              "<table border=\"1\" class=\"dataframe\">\n",
              "  <thead>\n",
              "    <tr style=\"text-align: right;\">\n",
              "      <th></th>\n",
              "      <th>dur</th>\n",
              "      <th>proto</th>\n",
              "      <th>service</th>\n",
              "      <th>state</th>\n",
              "      <th>spkts</th>\n",
              "      <th>dpkts</th>\n",
              "      <th>sbytes</th>\n",
              "      <th>dbytes</th>\n",
              "      <th>rate</th>\n",
              "      <th>sttl</th>\n",
              "      <th>...</th>\n",
              "      <th>ct_src_dport_ltm</th>\n",
              "      <th>ct_dst_sport_ltm</th>\n",
              "      <th>ct_dst_src_ltm</th>\n",
              "      <th>is_ftp_login</th>\n",
              "      <th>ct_ftp_cmd</th>\n",
              "      <th>ct_flw_http_mthd</th>\n",
              "      <th>ct_src_ltm</th>\n",
              "      <th>ct_srv_dst</th>\n",
              "      <th>is_sm_ips_ports</th>\n",
              "      <th>label</th>\n",
              "    </tr>\n",
              "  </thead>\n",
              "  <tbody>\n",
              "    <tr>\n",
              "      <th>3</th>\n",
              "      <td>1.681642</td>\n",
              "      <td>tcp</td>\n",
              "      <td>ftp</td>\n",
              "      <td>FIN</td>\n",
              "      <td>12</td>\n",
              "      <td>12</td>\n",
              "      <td>628</td>\n",
              "      <td>770</td>\n",
              "      <td>13.677108</td>\n",
              "      <td>62</td>\n",
              "      <td>...</td>\n",
              "      <td>1</td>\n",
              "      <td>1</td>\n",
              "      <td>3</td>\n",
              "      <td>1</td>\n",
              "      <td>1</td>\n",
              "      <td>0</td>\n",
              "      <td>2</td>\n",
              "      <td>1</td>\n",
              "      <td>0</td>\n",
              "      <td>0</td>\n",
              "    </tr>\n",
              "    <tr>\n",
              "      <th>11</th>\n",
              "      <td>2.093085</td>\n",
              "      <td>tcp</td>\n",
              "      <td>smtp</td>\n",
              "      <td>FIN</td>\n",
              "      <td>62</td>\n",
              "      <td>28</td>\n",
              "      <td>56329</td>\n",
              "      <td>2212</td>\n",
              "      <td>42.520967</td>\n",
              "      <td>62</td>\n",
              "      <td>...</td>\n",
              "      <td>1</td>\n",
              "      <td>1</td>\n",
              "      <td>2</td>\n",
              "      <td>0</td>\n",
              "      <td>0</td>\n",
              "      <td>0</td>\n",
              "      <td>1</td>\n",
              "      <td>1</td>\n",
              "      <td>0</td>\n",
              "      <td>0</td>\n",
              "    </tr>\n",
              "    <tr>\n",
              "      <th>15</th>\n",
              "      <td>0.000002</td>\n",
              "      <td>udp</td>\n",
              "      <td>snmp</td>\n",
              "      <td>INT</td>\n",
              "      <td>2</td>\n",
              "      <td>0</td>\n",
              "      <td>138</td>\n",
              "      <td>0</td>\n",
              "      <td>500000.001300</td>\n",
              "      <td>254</td>\n",
              "      <td>...</td>\n",
              "      <td>1</td>\n",
              "      <td>1</td>\n",
              "      <td>4</td>\n",
              "      <td>0</td>\n",
              "      <td>0</td>\n",
              "      <td>0</td>\n",
              "      <td>2</td>\n",
              "      <td>1</td>\n",
              "      <td>0</td>\n",
              "      <td>0</td>\n",
              "    </tr>\n",
              "    <tr>\n",
              "      <th>17</th>\n",
              "      <td>0.393556</td>\n",
              "      <td>tcp</td>\n",
              "      <td>http</td>\n",
              "      <td>FIN</td>\n",
              "      <td>10</td>\n",
              "      <td>8</td>\n",
              "      <td>860</td>\n",
              "      <td>1096</td>\n",
              "      <td>43.195886</td>\n",
              "      <td>62</td>\n",
              "      <td>...</td>\n",
              "      <td>1</td>\n",
              "      <td>1</td>\n",
              "      <td>2</td>\n",
              "      <td>0</td>\n",
              "      <td>0</td>\n",
              "      <td>1</td>\n",
              "      <td>1</td>\n",
              "      <td>3</td>\n",
              "      <td>0</td>\n",
              "      <td>0</td>\n",
              "    </tr>\n",
              "    <tr>\n",
              "      <th>21</th>\n",
              "      <td>0.338017</td>\n",
              "      <td>tcp</td>\n",
              "      <td>http</td>\n",
              "      <td>FIN</td>\n",
              "      <td>10</td>\n",
              "      <td>6</td>\n",
              "      <td>998</td>\n",
              "      <td>268</td>\n",
              "      <td>44.376468</td>\n",
              "      <td>254</td>\n",
              "      <td>...</td>\n",
              "      <td>1</td>\n",
              "      <td>1</td>\n",
              "      <td>1</td>\n",
              "      <td>0</td>\n",
              "      <td>0</td>\n",
              "      <td>1</td>\n",
              "      <td>2</td>\n",
              "      <td>3</td>\n",
              "      <td>0</td>\n",
              "      <td>0</td>\n",
              "    </tr>\n",
              "  </tbody>\n",
              "</table>\n",
              "<p>5 rows × 43 columns</p>\n",
              "</div>\n",
              "      <button class=\"colab-df-convert\" onclick=\"convertToInteractive('df-ebf60579-183d-44aa-b131-f7d7ffedcb00')\"\n",
              "              title=\"Convert this dataframe to an interactive table.\"\n",
              "              style=\"display:none;\">\n",
              "        \n",
              "  <svg xmlns=\"http://www.w3.org/2000/svg\" height=\"24px\"viewBox=\"0 0 24 24\"\n",
              "       width=\"24px\">\n",
              "    <path d=\"M0 0h24v24H0V0z\" fill=\"none\"/>\n",
              "    <path d=\"M18.56 5.44l.94 2.06.94-2.06 2.06-.94-2.06-.94-.94-2.06-.94 2.06-2.06.94zm-11 1L8.5 8.5l.94-2.06 2.06-.94-2.06-.94L8.5 2.5l-.94 2.06-2.06.94zm10 10l.94 2.06.94-2.06 2.06-.94-2.06-.94-.94-2.06-.94 2.06-2.06.94z\"/><path d=\"M17.41 7.96l-1.37-1.37c-.4-.4-.92-.59-1.43-.59-.52 0-1.04.2-1.43.59L10.3 9.45l-7.72 7.72c-.78.78-.78 2.05 0 2.83L4 21.41c.39.39.9.59 1.41.59.51 0 1.02-.2 1.41-.59l7.78-7.78 2.81-2.81c.8-.78.8-2.07 0-2.86zM5.41 20L4 18.59l7.72-7.72 1.47 1.35L5.41 20z\"/>\n",
              "  </svg>\n",
              "      </button>\n",
              "      \n",
              "  <style>\n",
              "    .colab-df-container {\n",
              "      display:flex;\n",
              "      flex-wrap:wrap;\n",
              "      gap: 12px;\n",
              "    }\n",
              "\n",
              "    .colab-df-convert {\n",
              "      background-color: #E8F0FE;\n",
              "      border: none;\n",
              "      border-radius: 50%;\n",
              "      cursor: pointer;\n",
              "      display: none;\n",
              "      fill: #1967D2;\n",
              "      height: 32px;\n",
              "      padding: 0 0 0 0;\n",
              "      width: 32px;\n",
              "    }\n",
              "\n",
              "    .colab-df-convert:hover {\n",
              "      background-color: #E2EBFA;\n",
              "      box-shadow: 0px 1px 2px rgba(60, 64, 67, 0.3), 0px 1px 3px 1px rgba(60, 64, 67, 0.15);\n",
              "      fill: #174EA6;\n",
              "    }\n",
              "\n",
              "    [theme=dark] .colab-df-convert {\n",
              "      background-color: #3B4455;\n",
              "      fill: #D2E3FC;\n",
              "    }\n",
              "\n",
              "    [theme=dark] .colab-df-convert:hover {\n",
              "      background-color: #434B5C;\n",
              "      box-shadow: 0px 1px 3px 1px rgba(0, 0, 0, 0.15);\n",
              "      filter: drop-shadow(0px 1px 2px rgba(0, 0, 0, 0.3));\n",
              "      fill: #FFFFFF;\n",
              "    }\n",
              "  </style>\n",
              "\n",
              "      <script>\n",
              "        const buttonEl =\n",
              "          document.querySelector('#df-ebf60579-183d-44aa-b131-f7d7ffedcb00 button.colab-df-convert');\n",
              "        buttonEl.style.display =\n",
              "          google.colab.kernel.accessAllowed ? 'block' : 'none';\n",
              "\n",
              "        async function convertToInteractive(key) {\n",
              "          const element = document.querySelector('#df-ebf60579-183d-44aa-b131-f7d7ffedcb00');\n",
              "          const dataTable =\n",
              "            await google.colab.kernel.invokeFunction('convertToInteractive',\n",
              "                                                     [key], {});\n",
              "          if (!dataTable) return;\n",
              "\n",
              "          const docLinkHtml = 'Like what you see? Visit the ' +\n",
              "            '<a target=\"_blank\" href=https://colab.research.google.com/notebooks/data_table.ipynb>data table notebook</a>'\n",
              "            + ' to learn more about interactive tables.';\n",
              "          element.innerHTML = '';\n",
              "          dataTable['output_type'] = 'display_data';\n",
              "          await google.colab.output.renderOutput(dataTable, element);\n",
              "          const docLink = document.createElement('div');\n",
              "          docLink.innerHTML = docLinkHtml;\n",
              "          element.appendChild(docLink);\n",
              "        }\n",
              "      </script>\n",
              "    </div>\n",
              "  </div>\n",
              "  "
            ]
          },
          "metadata": {},
          "execution_count": 24
        }
      ]
    },
    {
      "cell_type": "markdown",
      "source": [
        "Performing encoding of string features"
      ],
      "metadata": {
        "id": "YQMWnrrW0wzn"
      }
    },
    {
      "cell_type": "code",
      "source": [
        "le = LabelEncoder()\n",
        "combinedData['proto'] = le.fit_transform(combinedData['proto'])\n",
        "combinedData['service'] = le.fit_transform(combinedData['service'])\n",
        "combinedData['state'] = le.fit_transform(combinedData['state'])"
      ],
      "metadata": {
        "id": "ipWwwxbzLGrH"
      },
      "execution_count": 25,
      "outputs": []
    },
    {
      "cell_type": "markdown",
      "source": [
        "Separating Features and target for Model training"
      ],
      "metadata": {
        "id": "2dj4uKEn7Obc"
      }
    },
    {
      "cell_type": "code",
      "metadata": {
        "id": "FhvS9DaPXhtf",
        "outputId": "0b3bf07c-03b9-4e2e-92b3-952669cec3ea",
        "colab": {
          "base_uri": "https://localhost:8080/"
        },
        "tags": []
      },
      "source": [
        "XX = combinedData.iloc[:,:-1].values\n",
        "YY = combinedData.iloc[:,-1].values\n",
        "YY = YY.reshape(-1,1)\n",
        "print([XX.shape, YY.shape])\n",
        "YY"
      ],
      "execution_count": 26,
      "outputs": [
        {
          "output_type": "stream",
          "name": "stdout",
          "text": [
            "[(116352, 42), (116352, 1)]\n"
          ]
        },
        {
          "output_type": "execute_result",
          "data": {
            "text/plain": [
              "array([[0],\n",
              "       [0],\n",
              "       [0],\n",
              "       ...,\n",
              "       [0],\n",
              "       [0],\n",
              "       [0]])"
            ]
          },
          "metadata": {},
          "execution_count": 26
        }
      ]
    },
    {
      "cell_type": "code",
      "metadata": {
        "id": "koRKSD7crgv9",
        "outputId": "9d2fab64-ef17-455d-82ad-d0f068ecac54",
        "colab": {
          "base_uri": "https://localhost:8080/"
        }
      },
      "source": [
        "from sklearn.preprocessing import LabelEncoder, OneHotEncoder\n",
        "le = LabelEncoder()\n",
        "ohe = OneHotEncoder()\n",
        "yy = le.fit_transform(YY).reshape(-1,1)\n",
        "YY = ohe.fit_transform(yy).toarray()\n",
        "XX.shape, yy.shape\n",
        "# Y"
      ],
      "execution_count": 27,
      "outputs": [
        {
          "output_type": "execute_result",
          "data": {
            "text/plain": [
              "((116352, 42), (116352, 1))"
            ]
          },
          "metadata": {},
          "execution_count": 27
        }
      ]
    },
    {
      "cell_type": "code",
      "source": [
        "combinedData.columns"
      ],
      "metadata": {
        "id": "YljomNC-tbwA",
        "colab": {
          "base_uri": "https://localhost:8080/"
        },
        "outputId": "cedebccd-8928-4902-ecd3-0c5f59653765"
      },
      "execution_count": 28,
      "outputs": [
        {
          "output_type": "execute_result",
          "data": {
            "text/plain": [
              "Index(['dur', 'proto', 'service', 'state', 'spkts', 'dpkts', 'sbytes',\n",
              "       'dbytes', 'rate', 'sttl', 'dttl', 'sload', 'dload', 'sloss', 'dloss',\n",
              "       'sinpkt', 'dinpkt', 'sjit', 'djit', 'swin', 'stcpb', 'dtcpb', 'dwin',\n",
              "       'tcprtt', 'synack', 'ackdat', 'smean', 'dmean', 'trans_depth',\n",
              "       'response_body_len', 'ct_srv_src', 'ct_state_ttl', 'ct_dst_ltm',\n",
              "       'ct_src_dport_ltm', 'ct_dst_sport_ltm', 'ct_dst_src_ltm',\n",
              "       'is_ftp_login', 'ct_ftp_cmd', 'ct_flw_http_mthd', 'ct_src_ltm',\n",
              "       'ct_srv_dst', 'is_sm_ips_ports', 'label'],\n",
              "      dtype='object')"
            ]
          },
          "metadata": {},
          "execution_count": 28
        }
      ]
    },
    {
      "cell_type": "code",
      "metadata": {
        "id": "dMzYMjnEUX6d"
      },
      "source": [
        "cols_ = ['dur', 'proto', 'service', 'state', 'spkts', 'dpkts', 'sbytes',\n",
        "       'dbytes', 'rate', 'sttl', 'dttl', 'sload', 'dload', 'sloss', 'dloss',\n",
        "       'sinpkt', 'dinpkt', 'sjit', 'djit', 'swin', 'stcpb', 'dtcpb', 'dwin',\n",
        "       'tcprtt', 'synack', 'ackdat', 'smean', 'dmean', 'trans_depth',\n",
        "       'response_body_len', 'ct_srv_src', 'ct_state_ttl', 'ct_dst_ltm',\n",
        "       'ct_src_dport_ltm', 'ct_dst_sport_ltm', 'ct_dst_src_ltm',\n",
        "       'is_ftp_login', 'ct_ftp_cmd', 'ct_flw_http_mthd', 'ct_src_ltm',\n",
        "       'ct_srv_dst', 'is_sm_ips_ports']"
      ],
      "execution_count": 29,
      "outputs": []
    },
    {
      "cell_type": "code",
      "metadata": {
        "id": "YPNZm0CaX38K",
        "outputId": "25b7d184-9dff-40ec-cb9d-6dd1a3be63e9",
        "colab": {
          "base_uri": "https://localhost:8080/",
          "height": 424
        }
      },
      "source": [
        "dataX = pd.DataFrame(XX,columns=cols_)\n",
        "dataY = pd.DataFrame(yy)\n",
        "dataY"
      ],
      "execution_count": 30,
      "outputs": [
        {
          "output_type": "execute_result",
          "data": {
            "text/plain": [
              "        0\n",
              "0       0\n",
              "1       0\n",
              "2       0\n",
              "3       0\n",
              "4       0\n",
              "...    ..\n",
              "116347  0\n",
              "116348  0\n",
              "116349  0\n",
              "116350  0\n",
              "116351  0\n",
              "\n",
              "[116352 rows x 1 columns]"
            ],
            "text/html": [
              "\n",
              "  <div id=\"df-480159df-2e82-4575-ad07-09dfc22ab3c5\">\n",
              "    <div class=\"colab-df-container\">\n",
              "      <div>\n",
              "<style scoped>\n",
              "    .dataframe tbody tr th:only-of-type {\n",
              "        vertical-align: middle;\n",
              "    }\n",
              "\n",
              "    .dataframe tbody tr th {\n",
              "        vertical-align: top;\n",
              "    }\n",
              "\n",
              "    .dataframe thead th {\n",
              "        text-align: right;\n",
              "    }\n",
              "</style>\n",
              "<table border=\"1\" class=\"dataframe\">\n",
              "  <thead>\n",
              "    <tr style=\"text-align: right;\">\n",
              "      <th></th>\n",
              "      <th>0</th>\n",
              "    </tr>\n",
              "  </thead>\n",
              "  <tbody>\n",
              "    <tr>\n",
              "      <th>0</th>\n",
              "      <td>0</td>\n",
              "    </tr>\n",
              "    <tr>\n",
              "      <th>1</th>\n",
              "      <td>0</td>\n",
              "    </tr>\n",
              "    <tr>\n",
              "      <th>2</th>\n",
              "      <td>0</td>\n",
              "    </tr>\n",
              "    <tr>\n",
              "      <th>3</th>\n",
              "      <td>0</td>\n",
              "    </tr>\n",
              "    <tr>\n",
              "      <th>4</th>\n",
              "      <td>0</td>\n",
              "    </tr>\n",
              "    <tr>\n",
              "      <th>...</th>\n",
              "      <td>...</td>\n",
              "    </tr>\n",
              "    <tr>\n",
              "      <th>116347</th>\n",
              "      <td>0</td>\n",
              "    </tr>\n",
              "    <tr>\n",
              "      <th>116348</th>\n",
              "      <td>0</td>\n",
              "    </tr>\n",
              "    <tr>\n",
              "      <th>116349</th>\n",
              "      <td>0</td>\n",
              "    </tr>\n",
              "    <tr>\n",
              "      <th>116350</th>\n",
              "      <td>0</td>\n",
              "    </tr>\n",
              "    <tr>\n",
              "      <th>116351</th>\n",
              "      <td>0</td>\n",
              "    </tr>\n",
              "  </tbody>\n",
              "</table>\n",
              "<p>116352 rows × 1 columns</p>\n",
              "</div>\n",
              "      <button class=\"colab-df-convert\" onclick=\"convertToInteractive('df-480159df-2e82-4575-ad07-09dfc22ab3c5')\"\n",
              "              title=\"Convert this dataframe to an interactive table.\"\n",
              "              style=\"display:none;\">\n",
              "        \n",
              "  <svg xmlns=\"http://www.w3.org/2000/svg\" height=\"24px\"viewBox=\"0 0 24 24\"\n",
              "       width=\"24px\">\n",
              "    <path d=\"M0 0h24v24H0V0z\" fill=\"none\"/>\n",
              "    <path d=\"M18.56 5.44l.94 2.06.94-2.06 2.06-.94-2.06-.94-.94-2.06-.94 2.06-2.06.94zm-11 1L8.5 8.5l.94-2.06 2.06-.94-2.06-.94L8.5 2.5l-.94 2.06-2.06.94zm10 10l.94 2.06.94-2.06 2.06-.94-2.06-.94-.94-2.06-.94 2.06-2.06.94z\"/><path d=\"M17.41 7.96l-1.37-1.37c-.4-.4-.92-.59-1.43-.59-.52 0-1.04.2-1.43.59L10.3 9.45l-7.72 7.72c-.78.78-.78 2.05 0 2.83L4 21.41c.39.39.9.59 1.41.59.51 0 1.02-.2 1.41-.59l7.78-7.78 2.81-2.81c.8-.78.8-2.07 0-2.86zM5.41 20L4 18.59l7.72-7.72 1.47 1.35L5.41 20z\"/>\n",
              "  </svg>\n",
              "      </button>\n",
              "      \n",
              "  <style>\n",
              "    .colab-df-container {\n",
              "      display:flex;\n",
              "      flex-wrap:wrap;\n",
              "      gap: 12px;\n",
              "    }\n",
              "\n",
              "    .colab-df-convert {\n",
              "      background-color: #E8F0FE;\n",
              "      border: none;\n",
              "      border-radius: 50%;\n",
              "      cursor: pointer;\n",
              "      display: none;\n",
              "      fill: #1967D2;\n",
              "      height: 32px;\n",
              "      padding: 0 0 0 0;\n",
              "      width: 32px;\n",
              "    }\n",
              "\n",
              "    .colab-df-convert:hover {\n",
              "      background-color: #E2EBFA;\n",
              "      box-shadow: 0px 1px 2px rgba(60, 64, 67, 0.3), 0px 1px 3px 1px rgba(60, 64, 67, 0.15);\n",
              "      fill: #174EA6;\n",
              "    }\n",
              "\n",
              "    [theme=dark] .colab-df-convert {\n",
              "      background-color: #3B4455;\n",
              "      fill: #D2E3FC;\n",
              "    }\n",
              "\n",
              "    [theme=dark] .colab-df-convert:hover {\n",
              "      background-color: #434B5C;\n",
              "      box-shadow: 0px 1px 3px 1px rgba(0, 0, 0, 0.15);\n",
              "      filter: drop-shadow(0px 1px 2px rgba(0, 0, 0, 0.3));\n",
              "      fill: #FFFFFF;\n",
              "    }\n",
              "  </style>\n",
              "\n",
              "      <script>\n",
              "        const buttonEl =\n",
              "          document.querySelector('#df-480159df-2e82-4575-ad07-09dfc22ab3c5 button.colab-df-convert');\n",
              "        buttonEl.style.display =\n",
              "          google.colab.kernel.accessAllowed ? 'block' : 'none';\n",
              "\n",
              "        async function convertToInteractive(key) {\n",
              "          const element = document.querySelector('#df-480159df-2e82-4575-ad07-09dfc22ab3c5');\n",
              "          const dataTable =\n",
              "            await google.colab.kernel.invokeFunction('convertToInteractive',\n",
              "                                                     [key], {});\n",
              "          if (!dataTable) return;\n",
              "\n",
              "          const docLinkHtml = 'Like what you see? Visit the ' +\n",
              "            '<a target=\"_blank\" href=https://colab.research.google.com/notebooks/data_table.ipynb>data table notebook</a>'\n",
              "            + ' to learn more about interactive tables.';\n",
              "          element.innerHTML = '';\n",
              "          dataTable['output_type'] = 'display_data';\n",
              "          await google.colab.output.renderOutput(dataTable, element);\n",
              "          const docLink = document.createElement('div');\n",
              "          docLink.innerHTML = docLinkHtml;\n",
              "          element.appendChild(docLink);\n",
              "        }\n",
              "      </script>\n",
              "    </div>\n",
              "  </div>\n",
              "  "
            ]
          },
          "metadata": {},
          "execution_count": 30
        }
      ]
    },
    {
      "cell_type": "markdown",
      "source": [
        "Checking for null values in target"
      ],
      "metadata": {
        "id": "d_QAmDBw89Pf"
      }
    },
    {
      "cell_type": "code",
      "execution_count": 31,
      "metadata": {
        "id": "K4d086CJIb8m",
        "outputId": "aca57d86-1d09-4284-d231-bbe6a4a8d4e7",
        "colab": {
          "base_uri": "https://localhost:8080/"
        }
      },
      "outputs": [
        {
          "output_type": "execute_result",
          "data": {
            "text/plain": [
              "False"
            ]
          },
          "metadata": {},
          "execution_count": 31
        }
      ],
      "source": [
        "dataY.isnull().values.any()"
      ]
    },
    {
      "cell_type": "code",
      "execution_count": 32,
      "metadata": {
        "id": "1gnPfcO2Ib8m",
        "outputId": "e2f44d76-f917-47c0-f59c-84ee7ee54491",
        "colab": {
          "base_uri": "https://localhost:8080/"
        }
      },
      "outputs": [
        {
          "output_type": "stream",
          "name": "stdout",
          "text": [
            "Array has non-zero items too\n"
          ]
        }
      ],
      "source": [
        "is_all_zero = np.all((dataY == 0))\n",
        "if is_all_zero:\n",
        "    print('Array contains only 0')\n",
        "else:\n",
        "    print('Array has non-zero items too')\n"
      ]
    },
    {
      "cell_type": "markdown",
      "metadata": {
        "id": "D9RC0jQyTM6d"
      },
      "source": [
        "## **Feature Selection**\n",
        "Since there is such a large number of features, it is possible that some features are redundant. Let us print a correlation matrix"
      ]
    },
    {
      "cell_type": "code",
      "metadata": {
        "outputId": "d2a93d64-713d-46cd-8319-f3faa21f4f11",
        "colab": {
          "base_uri": "https://localhost:8080/"
        },
        "id": "18Wb4wDiKHUs"
      },
      "source": [
        "from sklearn.feature_selection import RFE\n",
        "from sklearn.tree import DecisionTreeClassifier\n",
        "import itertools    \n",
        "\n",
        "model_ = DecisionTreeClassifier()\n",
        "\n",
        "# create RFE model and select 15 attributes\n",
        "rec = RFE(model_, n_features_to_select = 15)\n",
        "rec = rec.fit(dataX, dataY)\n",
        "\n",
        "# summarize the selection of the attributes\n",
        "featuresMap = [(x, n) for x, n in itertools.zip_longest(rec.get_support(), dataX.columns)]\n",
        "selectedFeatures = [n for x, n in featuresMap if x == True]\n",
        "\n",
        "print(selectedFeatures)"
      ],
      "execution_count": 33,
      "outputs": [
        {
          "output_type": "stream",
          "name": "stdout",
          "text": [
            "['sbytes', 'dbytes', 'sttl', 'sload', 'dload', 'dinpkt', 'stcpb', 'dtcpb', 'tcprtt', 'synack', 'smean', 'dmean', 'response_body_len', 'ct_dst_src_ltm', 'ct_srv_dst']\n"
          ]
        }
      ]
    },
    {
      "cell_type": "markdown",
      "source": [
        "Selecting Features"
      ],
      "metadata": {
        "id": "h5Gg76_IKr3G"
      }
    },
    {
      "cell_type": "code",
      "metadata": {
        "outputId": "484d69a8-9622-4116-8bec-b42ccd6cf874",
        "colab": {
          "base_uri": "https://localhost:8080/",
          "height": 241
        },
        "id": "0OQepJAuKHUs"
      },
      "source": [
        "dataX = dataX[selectedFeatures]\n",
        "X = dataX[selectedFeatures]\n",
        "print('15 selected features \\n')\n",
        "X.head()"
      ],
      "execution_count": 34,
      "outputs": [
        {
          "output_type": "stream",
          "name": "stdout",
          "text": [
            "15 selected features \n",
            "\n"
          ]
        },
        {
          "output_type": "execute_result",
          "data": {
            "text/plain": [
              "    sbytes  dbytes   sttl         sload         dload     dinpkt  \\\n",
              "0    628.0   770.0   62.0  2.740179e+03   3358.622070  90.235726   \n",
              "1  56329.0  2212.0   62.0  2.118251e+05   8152.559082  75.092445   \n",
              "2    138.0     0.0  254.0  2.760000e+08      0.000000   0.000000   \n",
              "3    860.0  1096.0   62.0  1.573347e+04  19494.048830  47.669145   \n",
              "4    998.0   268.0  254.0  2.127704e+04   5301.508789  56.579801   \n",
              "\n",
              "          stcpb         dtcpb    tcprtt    synack  smean  dmean  \\\n",
              "0  1.107119e+09  1.047443e+09  0.000000  0.000000   52.0   64.0   \n",
              "1  1.824723e+09  8.607167e+08  0.131140  0.052852  909.0   79.0   \n",
              "2  0.000000e+00  0.000000e+00  0.000000  0.000000   69.0    0.0   \n",
              "3  3.882971e+09  3.084071e+09  0.120313  0.059201   86.0  137.0   \n",
              "4  2.665974e+09  3.521362e+09  0.154433  0.055109  100.0   45.0   \n",
              "\n",
              "   response_body_len  ct_dst_src_ltm  ct_srv_dst  \n",
              "0                0.0             3.0         1.0  \n",
              "1                0.0             2.0         1.0  \n",
              "2                0.0             4.0         1.0  \n",
              "3              103.0             2.0         3.0  \n",
              "4                0.0             1.0         3.0  "
            ],
            "text/html": [
              "\n",
              "  <div id=\"df-d8836089-eeab-43b8-b910-857f506520ac\">\n",
              "    <div class=\"colab-df-container\">\n",
              "      <div>\n",
              "<style scoped>\n",
              "    .dataframe tbody tr th:only-of-type {\n",
              "        vertical-align: middle;\n",
              "    }\n",
              "\n",
              "    .dataframe tbody tr th {\n",
              "        vertical-align: top;\n",
              "    }\n",
              "\n",
              "    .dataframe thead th {\n",
              "        text-align: right;\n",
              "    }\n",
              "</style>\n",
              "<table border=\"1\" class=\"dataframe\">\n",
              "  <thead>\n",
              "    <tr style=\"text-align: right;\">\n",
              "      <th></th>\n",
              "      <th>sbytes</th>\n",
              "      <th>dbytes</th>\n",
              "      <th>sttl</th>\n",
              "      <th>sload</th>\n",
              "      <th>dload</th>\n",
              "      <th>dinpkt</th>\n",
              "      <th>stcpb</th>\n",
              "      <th>dtcpb</th>\n",
              "      <th>tcprtt</th>\n",
              "      <th>synack</th>\n",
              "      <th>smean</th>\n",
              "      <th>dmean</th>\n",
              "      <th>response_body_len</th>\n",
              "      <th>ct_dst_src_ltm</th>\n",
              "      <th>ct_srv_dst</th>\n",
              "    </tr>\n",
              "  </thead>\n",
              "  <tbody>\n",
              "    <tr>\n",
              "      <th>0</th>\n",
              "      <td>628.0</td>\n",
              "      <td>770.0</td>\n",
              "      <td>62.0</td>\n",
              "      <td>2.740179e+03</td>\n",
              "      <td>3358.622070</td>\n",
              "      <td>90.235726</td>\n",
              "      <td>1.107119e+09</td>\n",
              "      <td>1.047443e+09</td>\n",
              "      <td>0.000000</td>\n",
              "      <td>0.000000</td>\n",
              "      <td>52.0</td>\n",
              "      <td>64.0</td>\n",
              "      <td>0.0</td>\n",
              "      <td>3.0</td>\n",
              "      <td>1.0</td>\n",
              "    </tr>\n",
              "    <tr>\n",
              "      <th>1</th>\n",
              "      <td>56329.0</td>\n",
              "      <td>2212.0</td>\n",
              "      <td>62.0</td>\n",
              "      <td>2.118251e+05</td>\n",
              "      <td>8152.559082</td>\n",
              "      <td>75.092445</td>\n",
              "      <td>1.824723e+09</td>\n",
              "      <td>8.607167e+08</td>\n",
              "      <td>0.131140</td>\n",
              "      <td>0.052852</td>\n",
              "      <td>909.0</td>\n",
              "      <td>79.0</td>\n",
              "      <td>0.0</td>\n",
              "      <td>2.0</td>\n",
              "      <td>1.0</td>\n",
              "    </tr>\n",
              "    <tr>\n",
              "      <th>2</th>\n",
              "      <td>138.0</td>\n",
              "      <td>0.0</td>\n",
              "      <td>254.0</td>\n",
              "      <td>2.760000e+08</td>\n",
              "      <td>0.000000</td>\n",
              "      <td>0.000000</td>\n",
              "      <td>0.000000e+00</td>\n",
              "      <td>0.000000e+00</td>\n",
              "      <td>0.000000</td>\n",
              "      <td>0.000000</td>\n",
              "      <td>69.0</td>\n",
              "      <td>0.0</td>\n",
              "      <td>0.0</td>\n",
              "      <td>4.0</td>\n",
              "      <td>1.0</td>\n",
              "    </tr>\n",
              "    <tr>\n",
              "      <th>3</th>\n",
              "      <td>860.0</td>\n",
              "      <td>1096.0</td>\n",
              "      <td>62.0</td>\n",
              "      <td>1.573347e+04</td>\n",
              "      <td>19494.048830</td>\n",
              "      <td>47.669145</td>\n",
              "      <td>3.882971e+09</td>\n",
              "      <td>3.084071e+09</td>\n",
              "      <td>0.120313</td>\n",
              "      <td>0.059201</td>\n",
              "      <td>86.0</td>\n",
              "      <td>137.0</td>\n",
              "      <td>103.0</td>\n",
              "      <td>2.0</td>\n",
              "      <td>3.0</td>\n",
              "    </tr>\n",
              "    <tr>\n",
              "      <th>4</th>\n",
              "      <td>998.0</td>\n",
              "      <td>268.0</td>\n",
              "      <td>254.0</td>\n",
              "      <td>2.127704e+04</td>\n",
              "      <td>5301.508789</td>\n",
              "      <td>56.579801</td>\n",
              "      <td>2.665974e+09</td>\n",
              "      <td>3.521362e+09</td>\n",
              "      <td>0.154433</td>\n",
              "      <td>0.055109</td>\n",
              "      <td>100.0</td>\n",
              "      <td>45.0</td>\n",
              "      <td>0.0</td>\n",
              "      <td>1.0</td>\n",
              "      <td>3.0</td>\n",
              "    </tr>\n",
              "  </tbody>\n",
              "</table>\n",
              "</div>\n",
              "      <button class=\"colab-df-convert\" onclick=\"convertToInteractive('df-d8836089-eeab-43b8-b910-857f506520ac')\"\n",
              "              title=\"Convert this dataframe to an interactive table.\"\n",
              "              style=\"display:none;\">\n",
              "        \n",
              "  <svg xmlns=\"http://www.w3.org/2000/svg\" height=\"24px\"viewBox=\"0 0 24 24\"\n",
              "       width=\"24px\">\n",
              "    <path d=\"M0 0h24v24H0V0z\" fill=\"none\"/>\n",
              "    <path d=\"M18.56 5.44l.94 2.06.94-2.06 2.06-.94-2.06-.94-.94-2.06-.94 2.06-2.06.94zm-11 1L8.5 8.5l.94-2.06 2.06-.94-2.06-.94L8.5 2.5l-.94 2.06-2.06.94zm10 10l.94 2.06.94-2.06 2.06-.94-2.06-.94-.94-2.06-.94 2.06-2.06.94z\"/><path d=\"M17.41 7.96l-1.37-1.37c-.4-.4-.92-.59-1.43-.59-.52 0-1.04.2-1.43.59L10.3 9.45l-7.72 7.72c-.78.78-.78 2.05 0 2.83L4 21.41c.39.39.9.59 1.41.59.51 0 1.02-.2 1.41-.59l7.78-7.78 2.81-2.81c.8-.78.8-2.07 0-2.86zM5.41 20L4 18.59l7.72-7.72 1.47 1.35L5.41 20z\"/>\n",
              "  </svg>\n",
              "      </button>\n",
              "      \n",
              "  <style>\n",
              "    .colab-df-container {\n",
              "      display:flex;\n",
              "      flex-wrap:wrap;\n",
              "      gap: 12px;\n",
              "    }\n",
              "\n",
              "    .colab-df-convert {\n",
              "      background-color: #E8F0FE;\n",
              "      border: none;\n",
              "      border-radius: 50%;\n",
              "      cursor: pointer;\n",
              "      display: none;\n",
              "      fill: #1967D2;\n",
              "      height: 32px;\n",
              "      padding: 0 0 0 0;\n",
              "      width: 32px;\n",
              "    }\n",
              "\n",
              "    .colab-df-convert:hover {\n",
              "      background-color: #E2EBFA;\n",
              "      box-shadow: 0px 1px 2px rgba(60, 64, 67, 0.3), 0px 1px 3px 1px rgba(60, 64, 67, 0.15);\n",
              "      fill: #174EA6;\n",
              "    }\n",
              "\n",
              "    [theme=dark] .colab-df-convert {\n",
              "      background-color: #3B4455;\n",
              "      fill: #D2E3FC;\n",
              "    }\n",
              "\n",
              "    [theme=dark] .colab-df-convert:hover {\n",
              "      background-color: #434B5C;\n",
              "      box-shadow: 0px 1px 3px 1px rgba(0, 0, 0, 0.15);\n",
              "      filter: drop-shadow(0px 1px 2px rgba(0, 0, 0, 0.3));\n",
              "      fill: #FFFFFF;\n",
              "    }\n",
              "  </style>\n",
              "\n",
              "      <script>\n",
              "        const buttonEl =\n",
              "          document.querySelector('#df-d8836089-eeab-43b8-b910-857f506520ac button.colab-df-convert');\n",
              "        buttonEl.style.display =\n",
              "          google.colab.kernel.accessAllowed ? 'block' : 'none';\n",
              "\n",
              "        async function convertToInteractive(key) {\n",
              "          const element = document.querySelector('#df-d8836089-eeab-43b8-b910-857f506520ac');\n",
              "          const dataTable =\n",
              "            await google.colab.kernel.invokeFunction('convertToInteractive',\n",
              "                                                     [key], {});\n",
              "          if (!dataTable) return;\n",
              "\n",
              "          const docLinkHtml = 'Like what you see? Visit the ' +\n",
              "            '<a target=\"_blank\" href=https://colab.research.google.com/notebooks/data_table.ipynb>data table notebook</a>'\n",
              "            + ' to learn more about interactive tables.';\n",
              "          element.innerHTML = '';\n",
              "          dataTable['output_type'] = 'display_data';\n",
              "          await google.colab.output.renderOutput(dataTable, element);\n",
              "          const docLink = document.createElement('div');\n",
              "          docLink.innerHTML = docLinkHtml;\n",
              "          element.appendChild(docLink);\n",
              "        }\n",
              "      </script>\n",
              "    </div>\n",
              "  </div>\n",
              "  "
            ]
          },
          "metadata": {},
          "execution_count": 34
        }
      ]
    },
    {
      "cell_type": "markdown",
      "metadata": {
        "id": "VrYgY8oC_udy"
      },
      "source": [
        "## **Dataset Splitting**\n",
        "The next step is to split training and testing data. For this we will use sklearn function train_test_split(). This step is important so we can have representative data for evaluating our model. Both train and test samples should contain similar data variance."
      ]
    },
    {
      "cell_type": "code",
      "source": [
        "from sklearn.model_selection import train_test_split\n",
        "# The next step is to split training and testing data. For this we will use sklearn function train_test_split().\n",
        "i_train, i_test, j_train, j_test = train_test_split(dataX, dataY, train_size=0.7,test_size=0.3,  random_state = 1, shuffle=True)"
      ],
      "metadata": {
        "id": "dvOlpcwudcvS"
      },
      "execution_count": 36,
      "outputs": []
    },
    {
      "cell_type": "code",
      "source": [
        "i_train.shape, j_train.shape, i_test.shape, j_test.shape    # test is larger... good "
      ],
      "metadata": {
        "id": "VpdDLHfXd-7y",
        "colab": {
          "base_uri": "https://localhost:8080/"
        },
        "outputId": "905faaf8-d986-4403-bfac-32cd793b43bb"
      },
      "execution_count": 38,
      "outputs": [
        {
          "output_type": "execute_result",
          "data": {
            "text/plain": [
              "((81446, 15), (81446, 1), (34906, 15), (34906, 1))"
            ]
          },
          "metadata": {},
          "execution_count": 38
        }
      ]
    },
    {
      "cell_type": "markdown",
      "source": [
        "## **Scaling Numerical Attributes**\n",
        "The next few cells contain the code for scaling the data into the size adequate for the Models."
      ],
      "metadata": {
        "id": "nBSy6K0Y3V4l"
      }
    },
    {
      "cell_type": "code",
      "source": [
        "from sklearn.preprocessing import StandardScaler\n",
        "sc = StandardScaler()\n",
        "i_train = sc.fit_transform(i_train)\n",
        "i_test = sc.transform(i_test)\n",
        "i_train.shape, i_test.shape"
      ],
      "metadata": {
        "id": "Y__daF--RDkO",
        "colab": {
          "base_uri": "https://localhost:8080/"
        },
        "outputId": "5e6d7c81-b3eb-4ef9-996a-a262a12dd8ea"
      },
      "execution_count": 39,
      "outputs": [
        {
          "output_type": "execute_result",
          "data": {
            "text/plain": [
              "((81446, 15), (34906, 15))"
            ]
          },
          "metadata": {},
          "execution_count": 39
        }
      ]
    },
    {
      "cell_type": "markdown",
      "metadata": {
        "id": "55PvMleYZzX0"
      },
      "source": [
        "## **Machine-Learning model training**"
      ]
    },
    {
      "cell_type": "markdown",
      "source": [
        "importing required libraries for ml model"
      ],
      "metadata": {
        "id": "AnzG8Ukhj41u"
      }
    },
    {
      "cell_type": "code",
      "source": [
        "from sklearn.ensemble import RandomForestClassifier,ExtraTreesClassifier\n",
        "import xgboost as xgb\n",
        "from sklearn.metrics import classification_report,confusion_matrix,accuracy_score,precision_recall_fscore_support\n",
        "from sklearn.metrics import f1_score,roc_auc_score\n",
        "from sklearn.metrics import classification_report, confusion_matrix, ConfusionMatrixDisplay\n",
        "from sklearn.metrics import plot_confusion_matrix\n",
        "from sklearn.metrics import (precision_score, recall_score,f1_score, accuracy_score,mean_squared_error,mean_absolute_error,roc_auc_score,cohen_kappa_score)\n",
        "import sklearn.metrics as metrics"
      ],
      "metadata": {
        "id": "3ODwIioD4Myg"
      },
      "execution_count": 40,
      "outputs": []
    },
    {
      "cell_type": "markdown",
      "metadata": {
        "id": "J-M5MpS3ZzX0"
      },
      "source": [
        "### Training four base learners: decision tree, random forest, XGBoost"
      ]
    },
    {
      "cell_type": "markdown",
      "metadata": {
        "id": "_Stk3cifZzX4"
      },
      "source": [
        "#### Apply DT"
      ]
    },
    {
      "cell_type": "markdown",
      "source": [
        "Training Decision Tree"
      ],
      "metadata": {
        "id": "Px795IePkLBA"
      }
    },
    {
      "cell_type": "code",
      "execution_count": 41,
      "metadata": {
        "id": "8NF2W2VOZzX4",
        "outputId": "b88abf73-6784-405a-9c25-f8182efc6871",
        "colab": {
          "base_uri": "https://localhost:8080/",
          "height": 454
        }
      },
      "outputs": [
        {
          "output_type": "stream",
          "name": "stdout",
          "text": [
            "Accuracy of Decision Tree: 0.978828854638171\n",
            "              precision    recall  f1-score   support\n",
            "\n",
            "     anomaly       0.95      0.96      0.96      8745\n",
            "      normal       0.99      0.98      0.99     26161\n",
            "\n",
            "    accuracy                           0.98     34906\n",
            "   macro avg       0.97      0.97      0.97     34906\n",
            "weighted avg       0.98      0.98      0.98     34906\n",
            "\n"
          ]
        },
        {
          "output_type": "display_data",
          "data": {
            "text/plain": [
              "<Figure size 360x288 with 2 Axes>"
            ],
            "image/png": "[encoded data removed]"
          },
          "metadata": {
            "needs_background": "light"
          }
        }
      ],
      "source": [
        "##@title  { vertical-output: true, form-width: \"45%\", display-mode: \"both\" }\n",
        "dt = DecisionTreeClassifier(random_state = 0)\n",
        "dt.fit(i_train, j_train) \n",
        "\n",
        "y_predict=dt.predict(i_test)\n",
        "y_true=j_test\n",
        "\n",
        "dt_score=dt.score(i_test, j_test)\n",
        "print('Accuracy of Decision Tree: '+ str(dt_score))\n",
        "cr = print(metrics.classification_report(y_true, y_predict, target_names = ['anomaly', 'normal']))\n",
        "\n",
        "cm=confusion_matrix(y_true,y_predict)\n",
        "f,ax=plt.subplots(figsize=(5,4))\n",
        "sns.heatmap(cm,annot=True,linewidth=0.1,linecolor=\"k\",fmt=\".0f\",ax=ax, cmap = 'viridis')\n",
        "plt.xlabel(\"y_pred\")\n",
        "plt.ylabel(\"y_true\")\n",
        "plt.show()"
      ]
    },
    {
      "cell_type": "markdown",
      "metadata": {
        "id": "pcS4DUx4ZzX2"
      },
      "source": [
        "#### Apply RF"
      ]
    },
    {
      "cell_type": "markdown",
      "source": [
        "Training Random Forest"
      ],
      "metadata": {
        "id": "Zm0YUVFgkN7s"
      }
    },
    {
      "cell_type": "code",
      "execution_count": 42,
      "metadata": {
        "id": "Q3YU2hGdZzX3",
        "outputId": "4cda859f-7cd7-4d1b-fc0c-501f58d51721",
        "colab": {
          "base_uri": "https://localhost:8080/",
          "height": 454
        }
      },
      "outputs": [
        {
          "output_type": "stream",
          "name": "stdout",
          "text": [
            "Accuracy of Random Forest: 0.9841288030711053\n",
            "              precision    recall  f1-score   support\n",
            "\n",
            "     anomaly       0.97      0.97      0.97      8745\n",
            "      normal       0.99      0.99      0.99     26161\n",
            "\n",
            "    accuracy                           0.98     34906\n",
            "   macro avg       0.98      0.98      0.98     34906\n",
            "weighted avg       0.98      0.98      0.98     34906\n",
            "\n"
          ]
        },
        {
          "output_type": "display_data",
          "data": {
            "text/plain": [
              "<Figure size 360x288 with 2 Axes>"
            ],
            "image/png": "[encoded data removed]"
          },
          "metadata": {
            "needs_background": "light"
          }
        }
      ],
      "source": [
        "##@title  { vertical-output: true, display-mode: \"both\" }\n",
        "rf = RandomForestClassifier(random_state = 0)\n",
        "rf.fit(i_train, j_train) \n",
        "\n",
        "y_predict=rf.predict(i_test)\n",
        "y_true=j_test\n",
        "\n",
        "rf_score=rf.score(i_test, j_test)\n",
        "print('Accuracy of Random Forest: '+ str(rf_score))\n",
        "cr = print(metrics.classification_report(y_true, y_predict, target_names = ['anomaly', 'normal']))\n",
        "\n",
        "cm=confusion_matrix(y_true,y_predict)\n",
        "f,ax=plt.subplots(figsize=(5,4))\n",
        "sns.heatmap(cm,annot=True,linewidth=0.1,linecolor=\"k\",fmt=\".0f\",ax=ax, cmap = 'viridis')\n",
        "plt.xlabel(\"y_pred\")\n",
        "plt.ylabel(\"y_true\")\n",
        "plt.show()"
      ]
    },
    {
      "cell_type": "markdown",
      "metadata": {
        "id": "MG74uQhVZzX0"
      },
      "source": [
        "#### Apply XGBoost"
      ]
    },
    {
      "cell_type": "markdown",
      "source": [
        "Training XGBoost"
      ],
      "metadata": {
        "id": "c-BrcaAxkVkH"
      }
    },
    {
      "cell_type": "code",
      "execution_count": 43,
      "metadata": {
        "id": "CW2naZjoZzX0",
        "outputId": "deb4d0d4-3944-4364-a3f3-c6b4ac834d97",
        "colab": {
          "base_uri": "https://localhost:8080/",
          "height": 454
        }
      },
      "outputs": [
        {
          "output_type": "stream",
          "name": "stdout",
          "text": [
            "Accuracy of Gradient Boosting: 0.9767375236349052\n",
            "              precision    recall  f1-score   support\n",
            "\n",
            "     anomaly       0.97      0.93      0.95      8745\n",
            "      normal       0.98      0.99      0.98     26161\n",
            "\n",
            "    accuracy                           0.98     34906\n",
            "   macro avg       0.98      0.96      0.97     34906\n",
            "weighted avg       0.98      0.98      0.98     34906\n",
            "\n"
          ]
        },
        {
          "output_type": "display_data",
          "data": {
            "text/plain": [
              "<Figure size 360x288 with 2 Axes>"
            ],
            "image/png": "[encoded data removed]"
          },
          "metadata": {
            "needs_background": "light"
          }
        }
      ],
      "source": [
        "##@title  { vertical-output: true, display-mode: \"both\" }\n",
        "xg = xgb.XGBClassifier(n_estimators = 10)\n",
        "xg.fit(i_train,j_train)\n",
        "\n",
        "y_predict=xg.predict(i_test)\n",
        "y_true=j_test\n",
        "\n",
        "xg_score=xg.score(i_test, j_test)\n",
        "print('Accuracy of Gradient Boosting: '+ str(xg_score))\n",
        "cr = print(metrics.classification_report(y_true, y_predict, target_names = ['anomaly', 'normal']))\n",
        "\n",
        "cm=confusion_matrix(y_true,y_predict)\n",
        "f,ax=plt.subplots(figsize=(5,4))\n",
        "sns.heatmap(cm,annot=True,linewidth=0.1,linecolor=\"k\",fmt=\".0f\",ax=ax, cmap = 'viridis')\n",
        "plt.xlabel(\"y_pred\")\n",
        "plt.ylabel(\"y_true\")\n",
        "plt.show()"
      ]
    },
    {
      "cell_type": "markdown",
      "metadata": {
        "id": "Jk3R1A0lzCwa"
      },
      "source": [
        "## **Deep-Learning Model Training**\n",
        "In this stage we go by explaning parts of the network and its hyperparameters."
      ]
    },
    {
      "cell_type": "markdown",
      "source": [
        "### Bi-directional LSTM Model\n"
      ],
      "metadata": {
        "id": "dcpw0_UEghD2"
      }
    },
    {
      "cell_type": "code",
      "execution_count": 44,
      "metadata": {
        "id": "RRlD8kRFlk7C"
      },
      "outputs": [],
      "source": [
        "#importing lobraries\n",
        "import keras\n",
        "from keras.models import Sequential,Model\n",
        "from tensorflow.keras.layers import Input, Dense,Dropout, BatchNormalization, Activation, Bidirectional, LSTM\n",
        "import tensorflow as tf\n",
        "from tensorflow import keras\n",
        "from tensorflow.keras import Model\n",
        "\n",
        "from tensorflow.keras.utils import plot_model\n",
        "from IPython.core.display import Image"
      ]
    },
    {
      "cell_type": "code",
      "source": [
        "from sklearn.model_selection import train_test_split\n",
        "Xtrain, Xtest, Ytrain, Ytest = train_test_split(X, YY,  train_size=0.7, test_size=0.3,  random_state = 1, shuffle=True)\n",
        "print([Xtrain.shape, Xtest.shape, Ytrain.shape, Ytest.shape])"
      ],
      "metadata": {
        "colab": {
          "base_uri": "https://localhost:8080/"
        },
        "id": "0Qru8BxObAHV",
        "outputId": "060cb9d7-0120-414b-9f85-0e0219fd78d2"
      },
      "execution_count": 45,
      "outputs": [
        {
          "output_type": "stream",
          "name": "stdout",
          "text": [
            "[(81446, 15), (34906, 15), (81446, 2), (34906, 2)]\n"
          ]
        }
      ]
    },
    {
      "cell_type": "code",
      "source": [
        "from sklearn.preprocessing import StandardScaler\n",
        "sc = StandardScaler()\n",
        "Xtrain = sc.fit_transform(Xtrain)\n",
        "Xtest = sc.transform(Xtest)\n",
        "Xtrain.shape, Xtest.shape"
      ],
      "metadata": {
        "colab": {
          "base_uri": "https://localhost:8080/"
        },
        "id": "eplVz8MXIR5e",
        "outputId": "94bb8325-32d7-4830-fd44-d94a4b587a59"
      },
      "execution_count": 46,
      "outputs": [
        {
          "output_type": "execute_result",
          "data": {
            "text/plain": [
              "((81446, 15), (34906, 15))"
            ]
          },
          "metadata": {},
          "execution_count": 46
        }
      ]
    },
    {
      "cell_type": "markdown",
      "source": [
        "### Reshaping our data into 3D, which is required format of LSTM input"
      ],
      "metadata": {
        "id": "KzmxuWO4oPux"
      }
    },
    {
      "cell_type": "code",
      "source": [
        "Xtrain = Xtrain.reshape(Xtrain.shape[0],Xtrain.shape[1], 1)\n",
        "Xtest = Xtest.reshape(Xtest.shape[0],Xtest.shape[1], 1)\n",
        "Xtrain.shape, Xtest.shape"
      ],
      "metadata": {
        "id": "yozlfZMtJqq1",
        "colab": {
          "base_uri": "https://localhost:8080/"
        },
        "outputId": "76d8cdc8-4433-4121-de80-91ca1b98f370"
      },
      "execution_count": 47,
      "outputs": [
        {
          "output_type": "execute_result",
          "data": {
            "text/plain": [
              "((81446, 15, 1), (34906, 15, 1))"
            ]
          },
          "metadata": {},
          "execution_count": 47
        }
      ]
    },
    {
      "cell_type": "markdown",
      "source": [
        "### Structure of our BiLSTM"
      ],
      "metadata": {
        "id": "N0k8BJRd4CE3"
      }
    },
    {
      "cell_type": "code",
      "source": [
        "timesteps = 60"
      ],
      "metadata": {
        "id": "5m-kHbDpKpa1"
      },
      "execution_count": 48,
      "outputs": []
    },
    {
      "cell_type": "code",
      "source": [
        "blstm_model = tf.keras.Sequential()\n",
        "blstm_model.add(Bidirectional(LSTM(60, return_sequences=True, activation= 'relu', input_shape=(Xtrain.shape[1], timesteps, 1))))\n",
        "blstm_model.add(Bidirectional(LSTM(60,return_sequences= False, activation= 'relu')))\n",
        "blstm_model.add(tf.keras.layers.Dropout(0.2))\n",
        "blstm_model.add(Dense(2, activation= 'softmax'))\n",
        "blstm_model.compile(optimizer='adam', loss = 'categorical_crossentropy', metrics=['accuracy'])\n",
        "history2 = blstm_model.fit(Xtrain, Ytrain,  epochs=10, validation_split=0.3, batch_size=700).history\n",
        "#model.summary()"
      ],
      "metadata": {
        "colab": {
          "base_uri": "https://localhost:8080/"
        },
        "id": "Y1hIvdu5PloF",
        "outputId": "8da4748e-f525-4c92-a988-6164e72686ae"
      },
      "execution_count": 49,
      "outputs": [
        {
          "output_type": "stream",
          "name": "stdout",
          "text": [
            "Epoch 1/10\n",
            "82/82 [==============================] - 33s 336ms/step - loss: 0.4335 - accuracy: 0.8041 - val_loss: 0.1891 - val_accuracy: 0.9433\n",
            "Epoch 2/10\n",
            "82/82 [==============================] - 27s 329ms/step - loss: 0.2381 - accuracy: 0.9465 - val_loss: 0.1891 - val_accuracy: 0.9325\n",
            "Epoch 3/10\n",
            "82/82 [==============================] - 29s 355ms/step - loss: 0.1302 - accuracy: 0.9550 - val_loss: 0.1110 - val_accuracy: 0.9595\n",
            "Epoch 4/10\n",
            "82/82 [==============================] - 27s 334ms/step - loss: 0.1132 - accuracy: 0.9584 - val_loss: 0.1049 - val_accuracy: 0.9603\n",
            "Epoch 5/10\n",
            "82/82 [==============================] - 27s 335ms/step - loss: 0.1087 - accuracy: 0.9581 - val_loss: 0.0983 - val_accuracy: 0.9605\n",
            "Epoch 6/10\n",
            "82/82 [==============================] - 27s 331ms/step - loss: 0.0961 - accuracy: 0.9611 - val_loss: 0.0920 - val_accuracy: 0.9633\n",
            "Epoch 7/10\n",
            "82/82 [==============================] - 29s 353ms/step - loss: 0.0878 - accuracy: 0.9662 - val_loss: 0.0784 - val_accuracy: 0.9678\n",
            "Epoch 8/10\n",
            "82/82 [==============================] - 27s 331ms/step - loss: 0.0830 - accuracy: 0.9682 - val_loss: 0.0759 - val_accuracy: 0.9700\n",
            "Epoch 9/10\n",
            "82/82 [==============================] - 27s 333ms/step - loss: 0.0838 - accuracy: 0.9687 - val_loss: 0.0833 - val_accuracy: 0.9684\n",
            "Epoch 10/10\n",
            "82/82 [==============================] - 29s 354ms/step - loss: 0.0766 - accuracy: 0.9706 - val_loss: 0.0790 - val_accuracy: 0.9709\n"
          ]
        }
      ]
    },
    {
      "cell_type": "code",
      "source": [
        "plot_model(blstm_model, to_file='model.png', show_shapes=True, show_layer_names=False, rankdir='TB', expand_nested=False, dpi=80)"
      ],
      "metadata": {
        "id": "TfIyOZ9UsHkT",
        "colab": {
          "base_uri": "https://localhost:8080/",
          "height": 447
        },
        "outputId": "e48bae7f-740a-4eaf-d293-e115c7fca6f1"
      },
      "execution_count": 50,
      "outputs": [
        {
          "output_type": "execute_result",
          "data": {
            "text/plain": [
              "<IPython.core.display.Image object>"
            ],
            "image/png": "[encoded data removed]"
          },
          "metadata": {},
          "execution_count": 50
        }
      ]
    },
    {
      "cell_type": "markdown",
      "source": [
        "Evaluating our trained BiLSTM"
      ],
      "metadata": {
        "id": "u-J6ncH1pUMR"
      }
    },
    {
      "cell_type": "code",
      "source": [
        "##@title  { vertical-output: true, form-width: \"45%\", display-mode: \"both\" }\n",
        "#We now predict the output for our test dataset. If the prediction is greater than 0.5 then the output is 1 else the output is 0\n",
        "blstm_score = blstm_model.evaluate(Xtest, Ytest)\n",
        "y_pred=blstm_model.predict(Xtest)\n",
        "b_predict=np.argmax(y_pred, axis=1)\n",
        "b_test=np.argmax(Ytest, axis=1)\n",
        "\n",
        "print('Accuracy of BLSTM: '+ str(blstm_score[1]))\n",
        "print(metrics.classification_report(b_test, np.round(b_predict), target_names = ['anomaly', 'normal']))\n",
        "\n",
        "cm=confusion_matrix(b_test, b_predict)\n",
        "f,ax=plt.subplots(figsize=(5,4))\n",
        "sns.heatmap(cm,annot=True,linewidth=0.5,linecolor=\"k\",fmt=\".0f\",ax=ax, cmap = 'viridis')\n",
        "plt.xlabel(\"y_pred\")\n",
        "plt.ylabel(\"y_true\")\n",
        "plt.show()"
      ],
      "metadata": {
        "id": "WBgG61hTC6dG",
        "colab": {
          "base_uri": "https://localhost:8080/",
          "height": 471
        },
        "outputId": "611a3946-4db2-4390-a496-e80b516db6e7"
      },
      "execution_count": 51,
      "outputs": [
        {
          "output_type": "stream",
          "name": "stdout",
          "text": [
            "1091/1091 [==============================] - 10s 9ms/step - loss: 0.0793 - accuracy: 0.9700\n",
            "Accuracy of BLSTM: 0.9699764847755432\n",
            "              precision    recall  f1-score   support\n",
            "\n",
            "     anomaly       0.97      0.90      0.94      8745\n",
            "      normal       0.97      0.99      0.98     26161\n",
            "\n",
            "    accuracy                           0.97     34906\n",
            "   macro avg       0.97      0.95      0.96     34906\n",
            "weighted avg       0.97      0.97      0.97     34906\n",
            "\n"
          ]
        },
        {
          "output_type": "display_data",
          "data": {
            "text/plain": [
              "<Figure size 360x288 with 2 Axes>"
            ],
            "image/png": "[encoded data removed]"
          },
          "metadata": {
            "needs_background": "light"
          }
        }
      ]
    },
    {
      "cell_type": "markdown",
      "source": [
        "### Accuracy Curve of our trained BiLSTM"
      ],
      "metadata": {
        "id": "94fzYqVApc_K"
      }
    },
    {
      "cell_type": "code",
      "source": [
        "#@title  { vertical-output: true, form-width: \"45%\", display-mode: \"both\" }\n",
        "# Plot of accuracy vs epoch of train and test dataset\n",
        "\n",
        "plt.figure(figsize=(7,4))\n",
        "plt.plot(history2['accuracy'], 'purple')\n",
        "plt.plot(history2['val_accuracy'],'')\n",
        "\n",
        "plt.title('Accuracy Curve of BiLSTM model')\n",
        "\n",
        "plt.ylabel('accuracy')\n",
        "plt.xlabel('epoch')\n",
        "plt.grid(False)\n",
        "plt.legend(['train', 'test'], loc='upper left');"
      ],
      "metadata": {
        "id": "AUjw7UZuZkYQ",
        "colab": {
          "base_uri": "https://localhost:8080/",
          "height": 0
        },
        "outputId": "58eb2f74-da93-4857-a320-fc64890ae31b"
      },
      "execution_count": 52,
      "outputs": [
        {
          "output_type": "display_data",
          "data": {
            "text/plain": [
              "<Figure size 504x288 with 1 Axes>"
            ],
            "image/png": "[encoded data removed]"
          },
          "metadata": {
            "needs_background": "light"
          }
        }
      ]
    },
    {
      "cell_type": "markdown",
      "source": [
        "### Loss Curve of our trained BiLSTM"
      ],
      "metadata": {
        "id": "jEQX7v1SplEX"
      }
    },
    {
      "cell_type": "code",
      "source": [
        "#@title  { vertical-output: true, form-width: \"45%\", display-mode: \"both\" }\n",
        "# Plot of loss vs epoch of train and test dataset\n",
        "\n",
        "plt.figure(figsize=(7,4))\n",
        "plt.plot(history2['loss'], 'violet')\n",
        "plt.plot(history2['val_loss'], 'cyan')\n",
        "\n",
        "plt.title('Loss Curve of BLSTM model')\n",
        "\n",
        "plt.ylabel('loss')\n",
        "plt.xlabel('epoch')\n",
        "plt.grid(False)\n",
        "plt.legend(['train', 'test'], loc='upper right');"
      ],
      "metadata": {
        "id": "3vB-FWf_Z_Xx",
        "colab": {
          "base_uri": "https://localhost:8080/",
          "height": 0
        },
        "outputId": "3ccd963f-947f-4262-f14c-d352cb65fcd6"
      },
      "execution_count": 53,
      "outputs": [
        {
          "output_type": "display_data",
          "data": {
            "text/plain": [
              "<Figure size 504x288 with 1 Axes>"
            ],
            "image/png": "[encoded data removed]"
          },
          "metadata": {
            "needs_background": "light"
          }
        }
      ]
    },
    {
      "cell_type": "markdown",
      "source": [
        "## **Models Comparision**\n",
        "The table below tabulates all the score accuracies from each model for a clear comparision."
      ],
      "metadata": {
        "id": "S2M7eXkDQfk_"
      }
    },
    {
      "cell_type": "code",
      "source": [
        "result = pd.DataFrame({ 'Classifiers': ['DecisionTree Classifier', 'RandomForest Classifier','GradientBoosting Classifier', 'Bidirectional LSTM'],\n",
        "                         'Score': [dt_score, rf_score, xg_score, blstm_score[1]]})\n",
        "\n",
        "result"
      ],
      "metadata": {
        "id": "8fpIvHtQ9PIk",
        "colab": {
          "base_uri": "https://localhost:8080/",
          "height": 175
        },
        "outputId": "548e624f-d96c-47d8-e764-acdc346ddbf6"
      },
      "execution_count": 54,
      "outputs": [
        {
          "output_type": "execute_result",
          "data": {
            "text/plain": [
              "                   Classifiers     Score\n",
              "0      DecisionTree Classifier  0.978829\n",
              "1      RandomForest Classifier  0.984129\n",
              "2  GradientBoosting Classifier  0.976738\n",
              "3           Bidirectional LSTM  0.969976"
            ],
            "text/html": [
              "\n",
              "  <div id=\"df-37e878a2-8bd3-4f04-8a4e-86cb58c01d50\">\n",
              "    <div class=\"colab-df-container\">\n",
              "      <div>\n",
              "<style scoped>\n",
              "    .dataframe tbody tr th:only-of-type {\n",
              "        vertical-align: middle;\n",
              "    }\n",
              "\n",
              "    .dataframe tbody tr th {\n",
              "        vertical-align: top;\n",
              "    }\n",
              "\n",
              "    .dataframe thead th {\n",
              "        text-align: right;\n",
              "    }\n",
              "</style>\n",
              "<table border=\"1\" class=\"dataframe\">\n",
              "  <thead>\n",
              "    <tr style=\"text-align: right;\">\n",
              "      <th></th>\n",
              "      <th>Classifiers</th>\n",
              "      <th>Score</th>\n",
              "    </tr>\n",
              "  </thead>\n",
              "  <tbody>\n",
              "    <tr>\n",
              "      <th>0</th>\n",
              "      <td>DecisionTree Classifier</td>\n",
              "      <td>0.978829</td>\n",
              "    </tr>\n",
              "    <tr>\n",
              "      <th>1</th>\n",
              "      <td>RandomForest Classifier</td>\n",
              "      <td>0.984129</td>\n",
              "    </tr>\n",
              "    <tr>\n",
              "      <th>2</th>\n",
              "      <td>GradientBoosting Classifier</td>\n",
              "      <td>0.976738</td>\n",
              "    </tr>\n",
              "    <tr>\n",
              "      <th>3</th>\n",
              "      <td>Bidirectional LSTM</td>\n",
              "      <td>0.969976</td>\n",
              "    </tr>\n",
              "  </tbody>\n",
              "</table>\n",
              "</div>\n",
              "      <button class=\"colab-df-convert\" onclick=\"convertToInteractive('df-37e878a2-8bd3-4f04-8a4e-86cb58c01d50')\"\n",
              "              title=\"Convert this dataframe to an interactive table.\"\n",
              "              style=\"display:none;\">\n",
              "        \n",
              "  <svg xmlns=\"http://www.w3.org/2000/svg\" height=\"24px\"viewBox=\"0 0 24 24\"\n",
              "       width=\"24px\">\n",
              "    <path d=\"M0 0h24v24H0V0z\" fill=\"none\"/>\n",
              "    <path d=\"M18.56 5.44l.94 2.06.94-2.06 2.06-.94-2.06-.94-.94-2.06-.94 2.06-2.06.94zm-11 1L8.5 8.5l.94-2.06 2.06-.94-2.06-.94L8.5 2.5l-.94 2.06-2.06.94zm10 10l.94 2.06.94-2.06 2.06-.94-2.06-.94-.94-2.06-.94 2.06-2.06.94z\"/><path d=\"M17.41 7.96l-1.37-1.37c-.4-.4-.92-.59-1.43-.59-.52 0-1.04.2-1.43.59L10.3 9.45l-7.72 7.72c-.78.78-.78 2.05 0 2.83L4 21.41c.39.39.9.59 1.41.59.51 0 1.02-.2 1.41-.59l7.78-7.78 2.81-2.81c.8-.78.8-2.07 0-2.86zM5.41 20L4 18.59l7.72-7.72 1.47 1.35L5.41 20z\"/>\n",
              "  </svg>\n",
              "      </button>\n",
              "      \n",
              "  <style>\n",
              "    .colab-df-container {\n",
              "      display:flex;\n",
              "      flex-wrap:wrap;\n",
              "      gap: 12px;\n",
              "    }\n",
              "\n",
              "    .colab-df-convert {\n",
              "      background-color: #E8F0FE;\n",
              "      border: none;\n",
              "      border-radius: 50%;\n",
              "      cursor: pointer;\n",
              "      display: none;\n",
              "      fill: #1967D2;\n",
              "      height: 32px;\n",
              "      padding: 0 0 0 0;\n",
              "      width: 32px;\n",
              "    }\n",
              "\n",
              "    .colab-df-convert:hover {\n",
              "      background-color: #E2EBFA;\n",
              "      box-shadow: 0px 1px 2px rgba(60, 64, 67, 0.3), 0px 1px 3px 1px rgba(60, 64, 67, 0.15);\n",
              "      fill: #174EA6;\n",
              "    }\n",
              "\n",
              "    [theme=dark] .colab-df-convert {\n",
              "      background-color: #3B4455;\n",
              "      fill: #D2E3FC;\n",
              "    }\n",
              "\n",
              "    [theme=dark] .colab-df-convert:hover {\n",
              "      background-color: #434B5C;\n",
              "      box-shadow: 0px 1px 3px 1px rgba(0, 0, 0, 0.15);\n",
              "      filter: drop-shadow(0px 1px 2px rgba(0, 0, 0, 0.3));\n",
              "      fill: #FFFFFF;\n",
              "    }\n",
              "  </style>\n",
              "\n",
              "      <script>\n",
              "        const buttonEl =\n",
              "          document.querySelector('#df-37e878a2-8bd3-4f04-8a4e-86cb58c01d50 button.colab-df-convert');\n",
              "        buttonEl.style.display =\n",
              "          google.colab.kernel.accessAllowed ? 'block' : 'none';\n",
              "\n",
              "        async function convertToInteractive(key) {\n",
              "          const element = document.querySelector('#df-37e878a2-8bd3-4f04-8a4e-86cb58c01d50');\n",
              "          const dataTable =\n",
              "            await google.colab.kernel.invokeFunction('convertToInteractive',\n",
              "                                                     [key], {});\n",
              "          if (!dataTable) return;\n",
              "\n",
              "          const docLinkHtml = 'Like what you see? Visit the ' +\n",
              "            '<a target=\"_blank\" href=https://colab.research.google.com/notebooks/data_table.ipynb>data table notebook</a>'\n",
              "            + ' to learn more about interactive tables.';\n",
              "          element.innerHTML = '';\n",
              "          dataTable['output_type'] = 'display_data';\n",
              "          await google.colab.output.renderOutput(dataTable, element);\n",
              "          const docLink = document.createElement('div');\n",
              "          docLink.innerHTML = docLinkHtml;\n",
              "          element.appendChild(docLink);\n",
              "        }\n",
              "      </script>\n",
              "    </div>\n",
              "  </div>\n",
              "  "
            ]
          },
          "metadata": {},
          "execution_count": 54
        }
      ]
    },
    {
      "cell_type": "code",
      "source": [
        "chart = pd.DataFrame({ 'Classifiers': ['DecisionTree', 'RandomForest','GradientBoosting', 'Bidirectional LSTM'],\n",
        "                         'Score': [dt_score, rf_score, xg_score, blstm_score[1]]})\n",
        "plt.figure(figsize=(8,6))\n",
        "ax=sns.barplot(data = chart, x = 'Classifiers', y = 'Score', palette='Set1')\n",
        "ax.set_xticklabels(ax.get_xticklabels())\n",
        "plt.title('PBID - NSL-KDD \\n ', fontsize=12)\n",
        "#plt.legend([],[], frameon=True)\n",
        "plt.show()"
      ],
      "metadata": {
        "colab": {
          "base_uri": "https://localhost:8080/",
          "height": 419
        },
        "id": "vi77ozCTD-5q",
        "outputId": "6701f439-fc5d-4f43-c2d6-44532f679e8e"
      },
      "execution_count": 55,
      "outputs": [
        {
          "output_type": "display_data",
          "data": {
            "text/plain": [
              "<Figure size 576x432 with 1 Axes>"
            ],
            "image/png": "[encoded data removed]"
          },
          "metadata": {
            "needs_background": "light"
          }
        }
      ]
    },
    {
      "cell_type": "markdown",
      "source": [
        "From these tested models, the results table shows that Random Forest classifier boast a 99% accuracy. \n",
        "The Deep Learning Model IS even not far behind which had 95% around for  BLSTM.\n",
        "\n",
        "In conclusion, the Random Forest classifier performs Very well on comparing with all the models in detecting intrusion on the network. DecisionTree classifier are a close second in detecting intrusions and giving reliable predictions.\n",
        "\n",
        "Finally To evaluate more about these models, the ROC curve and Calibration plots for multi-class classification need to be implemented thats done in second stage of this study."
      ],
      "metadata": {
        "id": "-folaOMH8U-_"
      }
    }
  ],
  "metadata": {
    "colab": {
      "collapsed_sections": [],
      "name": "FlowBased_UNSWNB15.ipynb",
      "provenance": []
    },
    "kernelspec": {
      "display_name": "Python 3",
      "name": "python3"
    }
  },
  "nbformat": 4,
  "nbformat_minor": 0
}